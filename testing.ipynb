{
 "cells": [
  {
   "cell_type": "code",
   "execution_count": 69,
   "metadata": {},
   "outputs": [
    {
     "name": "stdout",
     "output_type": "stream",
     "text": [
      "The autoreload extension is already loaded. To reload it, use:\n",
      "  %reload_ext autoreload\n"
     ]
    }
   ],
   "source": [
    "import uproot\n",
    "import pandas as pd\n",
    "from variables import *\n",
    "from config.test import *\n",
    "import matplotlib.pyplot as plt\n",
    "from Loader import Loader\n",
    "\n",
    "%load_ext autoreload\n",
    "%autoreload 2"
   ]
  },
  {
   "cell_type": "code",
   "execution_count": 70,
   "metadata": {},
   "outputs": [
    {
     "data": {
      "text/plain": [
       "['run',\n",
       " 'sub',\n",
       " 'evt',\n",
       " 'beam_trig',\n",
       " 'time_trig',\n",
       " 'npmt',\n",
       " 'promptPE',\n",
       " 'prelimPE',\n",
       " 'ch_prelimPE',\n",
       " 'ch_promptPE',\n",
       " 'ch_AboveThreshold',\n",
       " 'ch_ID']"
      ]
     },
     "execution_count": 70,
     "metadata": {},
     "output_type": "execute_result"
    }
   ],
   "source": [
    "tree = uproot.open(f'/sbnd/data/users/brindenc/PAD/test_fcl/v1/hitdumper_tree.root:hitdumper;1/hitdumpertree;1')\n",
    "ishan = uproot.open(f'/sbnd/data/users/ipatel/NC_trigger/test_fcl/v1/test_hist.root:pmtSoftwareTrigger/software_metrics_tree;1')\n",
    "ishan.keys()"
   ]
  },
  {
   "cell_type": "code",
   "execution_count": null,
   "metadata": {},
   "outputs": [],
   "source": [
    "tree = "
   ]
  },
  {
   "cell_type": "code",
   "execution_count": 71,
   "metadata": {},
   "outputs": [],
   "source": [
    "ch_keys = [key for key in ishan.keys() if 'ch_' in key]\n",
    "arr = ishan.arrays(ch_keys,library='np')"
   ]
  },
  {
   "cell_type": "code",
   "execution_count": 77,
   "metadata": {},
   "outputs": [
    {
     "data": {
      "text/plain": [
       "(array([0], dtype=int32), array([120]))"
      ]
     },
     "execution_count": 77,
     "metadata": {},
     "output_type": "execute_result"
    }
   ],
   "source": [
    "np.unique(arr['ch_AboveThreshold'][0][0],return_counts=True)"
   ]
  },
  {
   "cell_type": "code",
   "execution_count": 35,
   "metadata": {},
   "outputs": [],
   "source": [
    "muon_keys = [key for key in tree.keys() if 'muon' in key]\n",
    "hdr_keys = ['run','subrun','event']\n",
    "muon_df = tree.arrays(hdr_keys+muon_keys,library='pd')"
   ]
  },
  {
   "cell_type": "code",
   "execution_count": 41,
   "metadata": {},
   "outputs": [],
   "source": [
    "hit_keys = [key for key in tree.keys() if 'hit' in key]\n",
    "hdr_keys = ['run','subrun','event']\n",
    "hit_df = tree.arrays(hdr_keys+hit_keys,library='pd')[0]"
   ]
  },
  {
   "cell_type": "code",
   "execution_count": 47,
   "metadata": {},
   "outputs": [],
   "source": [
    "hit_evt_tpc0 = hit_df.query('run == 1 and subrun == 0 and event == 1 and hit_tpc == 1')"
   ]
  },
  {
   "cell_type": "code",
   "execution_count": 48,
   "metadata": {},
   "outputs": [
    {
     "data": {
      "text/plain": [
       "<matplotlib.collections.PathCollection at 0x7f0a268ddf10>"
      ]
     },
     "execution_count": 48,
     "metadata": {},
     "output_type": "execute_result"
    },
    {
     "data": {
      "image/png": "[encoded data removed]",
      "text/plain": [
       "<Figure size 432x288 with 1 Axes>"
      ]
     },
     "metadata": {
      "needs_background": "light"
     },
     "output_type": "display_data"
    }
   ],
   "source": [
    "x = hit_evt_tpc0.hit_peakT.values\n",
    "y = hit_evt_tpc0.hit_wire.values\n",
    "plt.scatter(x,y,s=2)"
   ]
  },
  {
   "cell_type": "code",
   "execution_count": 36,
   "metadata": {},
   "outputs": [
    {
     "data": {
      "text/html": [
       "<div>\n",
       "<style scoped>\n",
       "    .dataframe tbody tr th:only-of-type {\n",
       "        vertical-align: middle;\n",
       "    }\n",
       "\n",
       "    .dataframe tbody tr th {\n",
       "        vertical-align: top;\n",
       "    }\n",
       "\n",
       "    .dataframe thead th {\n",
       "        text-align: right;\n",
       "    }\n",
       "</style>\n",
       "<table border=\"1\" class=\"dataframe\">\n",
       "  <thead>\n",
       "    <tr style=\"text-align: right;\">\n",
       "      <th></th>\n",
       "      <th></th>\n",
       "      <th>run</th>\n",
       "      <th>subrun</th>\n",
       "      <th>event</th>\n",
       "      <th>nmuontrks</th>\n",
       "      <th>muontrk_t0</th>\n",
       "      <th>muontrk_x1</th>\n",
       "      <th>muontrk_y1</th>\n",
       "      <th>muontrk_z1</th>\n",
       "      <th>muontrk_x2</th>\n",
       "      <th>muontrk_y2</th>\n",
       "      <th>muontrk_z2</th>\n",
       "      <th>muontrk_theta_xz</th>\n",
       "      <th>muontrk_theta_yz</th>\n",
       "      <th>muontrk_tpc</th>\n",
       "      <th>muontrk_type</th>\n",
       "    </tr>\n",
       "    <tr>\n",
       "      <th>entry</th>\n",
       "      <th>subentry</th>\n",
       "      <th></th>\n",
       "      <th></th>\n",
       "      <th></th>\n",
       "      <th></th>\n",
       "      <th></th>\n",
       "      <th></th>\n",
       "      <th></th>\n",
       "      <th></th>\n",
       "      <th></th>\n",
       "      <th></th>\n",
       "      <th></th>\n",
       "      <th></th>\n",
       "      <th></th>\n",
       "      <th></th>\n",
       "      <th></th>\n",
       "    </tr>\n",
       "  </thead>\n",
       "  <tbody>\n",
       "  </tbody>\n",
       "</table>\n",
       "</div>"
      ],
      "text/plain": [
       "Empty DataFrame\n",
       "Columns: [run, subrun, event, nmuontrks, muontrk_t0, muontrk_x1, muontrk_y1, muontrk_z1, muontrk_x2, muontrk_y2, muontrk_z2, muontrk_theta_xz, muontrk_theta_yz, muontrk_tpc, muontrk_type]\n",
       "Index: []"
      ]
     },
     "execution_count": 36,
     "metadata": {},
     "output_type": "execute_result"
    }
   ],
   "source": [
    "muon_df"
   ]
  },
  {
   "cell_type": "code",
   "execution_count": 32,
   "metadata": {},
   "outputs": [],
   "source": [
    "crt_keys = [key for key in tree.keys() if 'crt' in key]\n",
    "hdr_keys = ['run','subrun','event']\n",
    "crt_df = tree.arrays(hdr_keys+crt_keys,library='pd')"
   ]
  },
  {
   "cell_type": "code",
   "execution_count": 33,
   "metadata": {},
   "outputs": [
    {
     "data": {
      "text/html": [
       "<div>\n",
       "<style scoped>\n",
       "    .dataframe tbody tr th:only-of-type {\n",
       "        vertical-align: middle;\n",
       "    }\n",
       "\n",
       "    .dataframe tbody tr th {\n",
       "        vertical-align: top;\n",
       "    }\n",
       "\n",
       "    .dataframe thead th {\n",
       "        text-align: right;\n",
       "    }\n",
       "</style>\n",
       "<table border=\"1\" class=\"dataframe\">\n",
       "  <thead>\n",
       "    <tr style=\"text-align: right;\">\n",
       "      <th></th>\n",
       "      <th></th>\n",
       "      <th>run</th>\n",
       "      <th>subrun</th>\n",
       "      <th>event</th>\n",
       "      <th>crt_plane</th>\n",
       "      <th>crt_module</th>\n",
       "      <th>crt_strip</th>\n",
       "      <th>crt_orient</th>\n",
       "      <th>crt_time</th>\n",
       "      <th>crt_adc</th>\n",
       "      <th>crt_pos_x</th>\n",
       "      <th>crt_pos_y</th>\n",
       "      <th>crt_pos_z</th>\n",
       "      <th>crtSoftTrigger_hitsperplane[0]</th>\n",
       "      <th>crtSoftTrigger_hitsperplane[1]</th>\n",
       "      <th>crtSoftTrigger_hitsperplane[2]</th>\n",
       "      <th>crtSoftTrigger_hitsperplane[3]</th>\n",
       "      <th>crtSoftTrigger_hitsperplane[4]</th>\n",
       "      <th>crtSoftTrigger_hitsperplane[5]</th>\n",
       "      <th>crtSoftTrigger_hitsperplane[6]</th>\n",
       "    </tr>\n",
       "    <tr>\n",
       "      <th>entry</th>\n",
       "      <th>subentry</th>\n",
       "      <th></th>\n",
       "      <th></th>\n",
       "      <th></th>\n",
       "      <th></th>\n",
       "      <th></th>\n",
       "      <th></th>\n",
       "      <th></th>\n",
       "      <th></th>\n",
       "      <th></th>\n",
       "      <th></th>\n",
       "      <th></th>\n",
       "      <th></th>\n",
       "      <th></th>\n",
       "      <th></th>\n",
       "      <th></th>\n",
       "      <th></th>\n",
       "      <th></th>\n",
       "      <th></th>\n",
       "      <th></th>\n",
       "    </tr>\n",
       "  </thead>\n",
       "  <tbody>\n",
       "  </tbody>\n",
       "</table>\n",
       "</div>"
      ],
      "text/plain": [
       "Empty DataFrame\n",
       "Columns: [run, subrun, event, crt_plane, crt_module, crt_strip, crt_orient, crt_time, crt_adc, crt_pos_x, crt_pos_y, crt_pos_z, crtSoftTrigger_hitsperplane[0], crtSoftTrigger_hitsperplane[1], crtSoftTrigger_hitsperplane[2], crtSoftTrigger_hitsperplane[3], crtSoftTrigger_hitsperplane[4], crtSoftTrigger_hitsperplane[5], crtSoftTrigger_hitsperplane[6]]\n",
       "Index: []"
      ]
     },
     "execution_count": 33,
     "metadata": {},
     "output_type": "execute_result"
    }
   ],
   "source": [
    "crt_df"
   ]
  },
  {
   "cell_type": "code",
   "execution_count": 2,
   "metadata": {},
   "outputs": [
    {
     "name": "stdout",
     "output_type": "stream",
     "text": [
      "************************************************************************************************************************\n",
      "Load PMT/XA channel info : 0.01 s\n",
      "Load commissioning tree : 6.34 s\n",
      "Load waveforms : 0.00 s\n",
      "************************************************************************************************************************\n"
     ]
    }
   ],
   "source": [
    "l = Loader(DATA_DIR,PAD_DIR,HDUMP_NAME,WFM_NAME)"
   ]
  },
  {
   "cell_type": "code",
   "execution_count": 19,
   "metadata": {},
   "outputs": [
    {
     "name": "stdout",
     "output_type": "stream",
     "text": [
      "Got run 1 subrun 445 event 9\n"
     ]
    },
    {
     "data": {
      "text/plain": [
       "array([[  1, 445,   9],\n",
       "       [  1, 445,  14],\n",
       "       [  1, 445,  19],\n",
       "       [  1, 445,  20],\n",
       "       [  1, 445,  25],\n",
       "       [  1, 445,  28],\n",
       "       [  1, 445,  31],\n",
       "       [  1, 445,  37],\n",
       "       [  1, 445,  41],\n",
       "       [  1, 445,  43],\n",
       "       [  1, 445,  44],\n",
       "       [  1, 445,  50],\n",
       "       [  1, 445,  52],\n",
       "       [  1, 445,  55],\n",
       "       [  1, 445,  59],\n",
       "       [  1, 445,  62],\n",
       "       [  1, 445,  68],\n",
       "       [  1, 445,  77],\n",
       "       [  1, 445,  78],\n",
       "       [  1, 445,  80],\n",
       "       [  1, 445, 107],\n",
       "       [  1, 445, 113],\n",
       "       [  1, 445, 115],\n",
       "       [  1, 445, 117],\n",
       "       [  1, 445, 118],\n",
       "       [  1, 445, 119],\n",
       "       [  1, 445, 123],\n",
       "       [  1, 445, 127],\n",
       "       [  1, 445, 128],\n",
       "       [  1, 445, 129],\n",
       "       [  1, 445, 131],\n",
       "       [  1, 445, 134],\n",
       "       [  1, 445, 142],\n",
       "       [  1, 445, 143],\n",
       "       [  1, 445, 144],\n",
       "       [  1, 445, 147],\n",
       "       [  1, 445, 148],\n",
       "       [  1, 445, 156],\n",
       "       [  1, 445, 157],\n",
       "       [  1, 445, 158],\n",
       "       [  1, 445, 160],\n",
       "       [  1, 445, 163],\n",
       "       [  1, 445, 166],\n",
       "       [  1, 445, 171],\n",
       "       [  1, 445, 172],\n",
       "       [  1, 445, 176],\n",
       "       [  1, 445, 186],\n",
       "       [  1, 445, 187],\n",
       "       [  1, 445, 195],\n",
       "       [  1, 445, 201],\n",
       "       [  1, 445, 204],\n",
       "       [  1, 445, 207],\n",
       "       [  1, 445, 216],\n",
       "       [  1, 445, 217],\n",
       "       [  1, 445, 220],\n",
       "       [  1, 445, 233],\n",
       "       [  1, 445, 234],\n",
       "       [  1, 445, 241],\n",
       "       [  1, 445, 242],\n",
       "       [  1, 445, 243],\n",
       "       [  1, 445, 244],\n",
       "       [  1, 445, 247],\n",
       "       [  1, 445, 254],\n",
       "       [  1, 445, 258],\n",
       "       [  1, 445, 277],\n",
       "       [  1, 445, 283],\n",
       "       [  1, 445, 284],\n",
       "       [  1, 445, 285],\n",
       "       [  1, 445, 296],\n",
       "       [  1, 445, 300],\n",
       "       [  1, 445, 305],\n",
       "       [  1, 445, 307],\n",
       "       [  1, 445, 308],\n",
       "       [  1, 445, 309],\n",
       "       [  1, 445, 315],\n",
       "       [  1, 445, 317],\n",
       "       [  1, 445, 321],\n",
       "       [  1, 445, 322],\n",
       "       [  1, 445, 324],\n",
       "       [  1, 445, 328],\n",
       "       [  1, 445, 332],\n",
       "       [  1, 445, 336],\n",
       "       [  1, 445, 344],\n",
       "       [  1, 445, 349],\n",
       "       [  1, 445, 356],\n",
       "       [  1, 445, 365],\n",
       "       [  1, 445, 366],\n",
       "       [  1, 445, 372],\n",
       "       [  1, 445, 374],\n",
       "       [  1, 445, 376],\n",
       "       [  1, 445, 377],\n",
       "       [  1, 445, 380],\n",
       "       [  1, 445, 383],\n",
       "       [  1, 445, 384],\n",
       "       [  1, 445, 388],\n",
       "       [  1, 445, 393],\n",
       "       [  1, 445, 407],\n",
       "       [  1, 445, 418],\n",
       "       [  1, 445, 422],\n",
       "       [  1, 445, 423],\n",
       "       [  1, 445, 424],\n",
       "       [  1, 445, 429],\n",
       "       [  1, 445, 430],\n",
       "       [  1, 445, 441],\n",
       "       [  1, 445, 445],\n",
       "       [  1, 445, 453],\n",
       "       [  1, 445, 460],\n",
       "       [  1, 445, 462],\n",
       "       [  1, 445, 464],\n",
       "       [  1, 445, 467],\n",
       "       [  1, 445, 479],\n",
       "       [  1, 445, 481],\n",
       "       [  1, 445, 483],\n",
       "       [  1, 445, 485],\n",
       "       [  1, 445, 486],\n",
       "       [  1, 445, 487],\n",
       "       [  1, 445, 491],\n",
       "       [  1, 445, 495],\n",
       "       [  1, 445, 496],\n",
       "       [  1, 445, 498],\n",
       "       [  1, 445, 499],\n",
       "       [  1, 445, 501],\n",
       "       [  1, 445, 505],\n",
       "       [  1, 445, 514],\n",
       "       [  1, 445, 515],\n",
       "       [  1, 445, 520],\n",
       "       [  1, 445, 531],\n",
       "       [  1, 445, 533],\n",
       "       [  1, 445, 538],\n",
       "       [  1, 445, 543],\n",
       "       [  1, 445, 550],\n",
       "       [  1, 445, 554],\n",
       "       [  1, 445, 562],\n",
       "       [  1, 445, 569],\n",
       "       [  1, 445, 582],\n",
       "       [  1, 445, 585],\n",
       "       [  1, 445, 588],\n",
       "       [  1, 445, 589],\n",
       "       [  1, 445, 592],\n",
       "       [  1, 445, 593],\n",
       "       [  1, 445, 595],\n",
       "       [  1, 445, 599]], dtype=int32)"
      ]
     },
     "execution_count": 19,
     "metadata": {},
     "output_type": "execute_result"
    }
   ],
   "source": [
    "#Select event\n",
    "run,subrun,event = l.run_list[0]\n",
    "l.get_event(run,subrun,event)\n",
    "l.run_list"
   ]
  },
  {
   "cell_type": "code",
   "execution_count": 4,
   "metadata": {},
   "outputs": [
    {
     "name": "stdout",
     "output_type": "stream",
     "text": [
      "Get PDS objs : 5.80 s\n"
     ]
    }
   ],
   "source": [
    "pmts = l.get_pmt_list(tpc=0)"
   ]
  },
  {
   "cell_type": "code",
   "execution_count": 30,
   "metadata": {},
   "outputs": [
    {
     "data": {
      "text/plain": [
       "2072.7120209302498"
      ]
     },
     "execution_count": 30,
     "metadata": {},
     "output_type": "execute_result"
    }
   ],
   "source": [
    "import numpy as np\n",
    "np.max([pmt.op_pe.op_pe.sum() for pmt in pmts])\n",
    "#pmts[-1].id"
   ]
  },
  {
   "cell_type": "code",
   "execution_count": 77,
   "metadata": {},
   "outputs": [
    {
     "name": "stdout",
     "output_type": "stream",
     "text": [
      "Get PDS objs : 2.75 s\n"
     ]
    }
   ],
   "source": [
    "l.get_event(run,subrun,event)\n",
    "l.op_evt\n",
    "pds_objs = l.get_pmt_list(tpc=0)"
   ]
  },
  {
   "cell_type": "code",
   "execution_count": 78,
   "metadata": {},
   "outputs": [
    {
     "name": "stdout",
     "output_type": "stream",
     "text": [
      "60 0 2.0\n",
      "61 2 2.0\n",
      "62 4 2.0\n",
      "63 18 3.0\n",
      "64 20 3.0\n",
      "65 22 3.0\n",
      "66 24 2.0\n",
      "67 26 2.0\n",
      "68 28 2.0\n",
      "69 30 2.0\n",
      "70 32 2.0\n",
      "71 34 2.0\n",
      "72 42 3.0\n",
      "73 44 3.0\n",
      "74 46 3.0\n",
      "75 48 3.0\n",
      "76 50 3.0\n",
      "77 52 3.0\n",
      "78 54 2.0\n",
      "79 58 2.0\n",
      "80 72 3.0\n",
      "81 74 3.0\n",
      "82 76 3.0\n",
      "83 78 2.0\n",
      "84 80 2.0\n",
      "85 96 3.0\n",
      "86 98 3.0\n",
      "87 100 3.0\n",
      "88 102 2.0\n",
      "89 104 2.0\n",
      "90 106 2.0\n",
      "91 108 2.0\n",
      "92 110 2.0\n",
      "93 112 2.0\n",
      "94 120 3.0\n",
      "95 122 3.0\n",
      "96 124 3.0\n",
      "97 126 3.0\n",
      "98 128 3.0\n",
      "99 130 3.0\n",
      "100 132 2.0\n",
      "101 136 2.0\n",
      "102 174 3.0\n",
      "103 178 3.0\n",
      "104 180 2.0\n",
      "105 182 2.0\n",
      "106 184 2.0\n",
      "107 186 2.0\n",
      "108 188 2.0\n",
      "109 190 2.0\n",
      "110 198 3.0\n",
      "111 200 3.0\n",
      "112 202 3.0\n",
      "113 204 3.0\n",
      "114 206 3.0\n",
      "115 208 3.0\n",
      "116 210 2.0\n",
      "117 212 2.0\n",
      "118 214 2.0\n",
      "119 228 3.0\n",
      "120 230 3.0\n",
      "121 232 3.0\n",
      "122 234 2.0\n",
      "123 236 2.0\n",
      "124 238 2.0\n",
      "125 252 3.0\n",
      "126 254 3.0\n",
      "127 256 3.0\n",
      "128 260 2.0\n",
      "129 262 2.0\n",
      "130 264 2.0\n",
      "131 266 2.0\n",
      "132 268 2.0\n",
      "133 276 3.0\n",
      "134 278 3.0\n",
      "135 280 3.0\n",
      "136 282 3.0\n",
      "137 284 3.0\n",
      "138 286 3.0\n",
      "139 288 2.0\n",
      "140 290 2.0\n",
      "141 292 2.0\n",
      "142 306 3.0\n",
      "143 308 3.0\n",
      "144 310 3.0\n",
      "145 56 2.0\n",
      "146 82 2.0\n",
      "147 258 2.0\n"
     ]
    },
    {
     "data": {
      "text/plain": [
       "[None,\n",
       " None,\n",
       " None,\n",
       " None,\n",
       " None,\n",
       " None,\n",
       " None,\n",
       " None,\n",
       " None,\n",
       " None,\n",
       " None,\n",
       " None,\n",
       " None,\n",
       " None,\n",
       " None,\n",
       " None,\n",
       " None,\n",
       " None,\n",
       " None,\n",
       " None,\n",
       " None,\n",
       " None,\n",
       " None,\n",
       " None,\n",
       " None,\n",
       " None,\n",
       " None,\n",
       " None,\n",
       " None,\n",
       " None,\n",
       " None,\n",
       " None,\n",
       " None,\n",
       " None,\n",
       " None,\n",
       " None,\n",
       " None,\n",
       " None,\n",
       " None,\n",
       " None,\n",
       " None,\n",
       " None,\n",
       " None,\n",
       " None,\n",
       " None,\n",
       " None,\n",
       " None,\n",
       " None,\n",
       " None,\n",
       " None,\n",
       " None,\n",
       " None,\n",
       " None,\n",
       " None,\n",
       " None,\n",
       " None,\n",
       " None,\n",
       " None,\n",
       " None,\n",
       " None,\n",
       " None,\n",
       " None,\n",
       " None,\n",
       " None,\n",
       " None,\n",
       " None,\n",
       " None,\n",
       " None,\n",
       " None,\n",
       " None,\n",
       " None,\n",
       " None,\n",
       " None,\n",
       " None,\n",
       " None,\n",
       " None,\n",
       " None,\n",
       " None,\n",
       " None,\n",
       " None,\n",
       " None,\n",
       " None,\n",
       " None,\n",
       " None,\n",
       " None,\n",
       " None,\n",
       " None,\n",
       " None]"
      ]
     },
     "execution_count": 78,
     "metadata": {},
     "output_type": "execute_result"
    }
   ],
   "source": [
    "#[print(i,pds.id) for i,pds in enumerate(pds_objs) if (pds.coating in [0,1] and pds.waveform is None)]\n",
    "[print(i,pds.id,pds.coating) for i,pds in enumerate(pds_objs) if (pds.waveform is None)]"
   ]
  },
  {
   "cell_type": "code",
   "execution_count": 79,
   "metadata": {},
   "outputs": [
    {
     "data": {
      "text/plain": [
       "1"
      ]
     },
     "execution_count": 79,
     "metadata": {},
     "output_type": "execute_result"
    }
   ],
   "source": [
    "l.op_evt.ophit_peakT.max()\n",
    "5%2"
   ]
  },
  {
   "cell_type": "code",
   "execution_count": 85,
   "metadata": {},
   "outputs": [
    {
     "data": {
      "text/plain": [
       "entry  subentry\n",
       "0      0            True\n",
       "       1            True\n",
       "       2            True\n",
       "       3            True\n",
       "       4            True\n",
       "                   ...  \n",
       "       4701        False\n",
       "       4702        False\n",
       "       4703        False\n",
       "       4704        False\n",
       "       4705        False\n",
       "Name: ophit_opch, Length: 4706, dtype: bool"
      ]
     },
     "execution_count": 85,
     "metadata": {},
     "output_type": "execute_result"
    }
   ],
   "source": [
    "l.op_evt.ophit_opch == 6"
   ]
  },
  {
   "cell_type": "code",
   "execution_count": 82,
   "metadata": {},
   "outputs": [
    {
     "data": {
      "text/plain": [
       "(             time_bin         op_pe\n",
       " 0       (-0.001, 2.0]  33903.768607\n",
       " 1          (2.0, 4.0]  12861.137012\n",
       " 2          (4.0, 6.0]   7378.579423\n",
       " 3          (6.0, 8.0]   1722.672139\n",
       " 4         (8.0, 10.0]    324.774833\n",
       " ..                ...           ...\n",
       " 795  (1590.0, 1592.0]      0.000000\n",
       " 796  (1592.0, 1594.0]      0.000000\n",
       " 797  (1594.0, 1596.0]      0.000000\n",
       " 798  (1596.0, 1598.0]      0.000000\n",
       " 799  (1598.0, 1600.0]      0.000000\n",
       " \n",
       " [800 rows x 2 columns],\n",
       "              time_bin         op_pe\n",
       " 0       (-0.001, 2.0]  33903.768607\n",
       " 1          (2.0, 4.0]  12861.137012\n",
       " 2          (4.0, 6.0]   7378.579423\n",
       " 3          (6.0, 8.0]   1722.672139\n",
       " 4         (8.0, 10.0]    324.774833\n",
       " ..                ...           ...\n",
       " 795  (1590.0, 1592.0]      0.000000\n",
       " 796  (1592.0, 1594.0]      0.000000\n",
       " 797  (1594.0, 1596.0]      0.000000\n",
       " 798  (1596.0, 1598.0]      0.000000\n",
       " 799  (1598.0, 1600.0]      0.000000\n",
       " \n",
       " [800 rows x 2 columns])"
      ]
     },
     "execution_count": 82,
     "metadata": {},
     "output_type": "execute_result"
    }
   ],
   "source": [
    "pds_objs[0].op_pe,pds_objs[1].op_pe,"
   ]
  },
  {
   "cell_type": "code",
   "execution_count": 70,
   "metadata": {},
   "outputs": [
    {
     "name": "stdout",
     "output_type": "stream",
     "text": [
      "-- start :  0\n",
      "-- end :  5\n",
      "-- start int :  (-0.001, 2.0]\n",
      "-- end int :  (4, 6]\n"
     ]
    },
    {
     "data": {
      "application/vnd.plotly.v1+json": {
       "config": {
        "plotlyServerURL": "https://plot.ly"
       },
       "data": [
        {
         "customdata": [
          250
         ],
         "hoverinfo": "text+name",
         "marker": {
          "cmax": 100000,
          "cmin": 0,
          "color": "#1f9a8a",
          "colorscale": [
           [
            0,
            "#440154"
           ],
           [
            0.1111111111111111,
            "#482878"
           ],
           [
            0.2222222222222222,
            "#3e4989"
           ],
           [
            0.3333333333333333,
            "#31688e"
           ],
           [
            0.4444444444444444,
            "#26828e"
           ],
           [
            0.5555555555555556,
            "#1f9e89"
           ],
           [
            0.6666666666666666,
            "#35b779"
           ],
           [
            0.7777777777777778,
            "#6ece58"
           ],
           [
            0.8888888888888888,
            "#b5de2b"
           ],
           [
            1,
            "#fde725"
           ]
          ],
          "size": 18
         },
         "mode": "markers",
         "name": "PMT 250",
         "text": "ID : 250<br>Coating : 0.00<br>Cum. PE : 54143.49",
         "type": "scatter",
         "x": [
          421.52577500000007
         ],
         "y": [
          175
         ]
        }
       ],
       "layout": {
        "template": {
         "data": {
          "bar": [
           {
            "error_x": {
             "color": "#2a3f5f"
            },
            "error_y": {
             "color": "#2a3f5f"
            },
            "marker": {
             "line": {
              "color": "#E5ECF6",
              "width": 0.5
             },
             "pattern": {
              "fillmode": "overlay",
              "size": 10,
              "solidity": 0.2
             }
            },
            "type": "bar"
           }
          ],
          "barpolar": [
           {
            "marker": {
             "line": {
              "color": "#E5ECF6",
              "width": 0.5
             },
             "pattern": {
              "fillmode": "overlay",
              "size": 10,
              "solidity": 0.2
             }
            },
            "type": "barpolar"
           }
          ],
          "carpet": [
           {
            "aaxis": {
             "endlinecolor": "#2a3f5f",
             "gridcolor": "white",
             "linecolor": "white",
             "minorgridcolor": "white",
             "startlinecolor": "#2a3f5f"
            },
            "baxis": {
             "endlinecolor": "#2a3f5f",
             "gridcolor": "white",
             "linecolor": "white",
             "minorgridcolor": "white",
             "startlinecolor": "#2a3f5f"
            },
            "type": "carpet"
           }
          ],
          "choropleth": [
           {
            "colorbar": {
             "outlinewidth": 0,
             "ticks": ""
            },
            "type": "choropleth"
           }
          ],
          "contour": [
           {
            "colorbar": {
             "outlinewidth": 0,
             "ticks": ""
            },
            "colorscale": [
             [
              0,
              "#0d0887"
             ],
             [
              0.1111111111111111,
              "#46039f"
             ],
             [
              0.2222222222222222,
              "#7201a8"
             ],
             [
              0.3333333333333333,
              "#9c179e"
             ],
             [
              0.4444444444444444,
              "#bd3786"
             ],
             [
              0.5555555555555556,
              "#d8576b"
             ],
             [
              0.6666666666666666,
              "#ed7953"
             ],
             [
              0.7777777777777778,
              "#fb9f3a"
             ],
             [
              0.8888888888888888,
              "#fdca26"
             ],
             [
              1,
              "#f0f921"
             ]
            ],
            "type": "contour"
           }
          ],
          "contourcarpet": [
           {
            "colorbar": {
             "outlinewidth": 0,
             "ticks": ""
            },
            "type": "contourcarpet"
           }
          ],
          "heatmap": [
           {
            "colorbar": {
             "outlinewidth": 0,
             "ticks": ""
            },
            "colorscale": [
             [
              0,
              "#0d0887"
             ],
             [
              0.1111111111111111,
              "#46039f"
             ],
             [
              0.2222222222222222,
              "#7201a8"
             ],
             [
              0.3333333333333333,
              "#9c179e"
             ],
             [
              0.4444444444444444,
              "#bd3786"
             ],
             [
              0.5555555555555556,
              "#d8576b"
             ],
             [
              0.6666666666666666,
              "#ed7953"
             ],
             [
              0.7777777777777778,
              "#fb9f3a"
             ],
             [
              0.8888888888888888,
              "#fdca26"
             ],
             [
              1,
              "#f0f921"
             ]
            ],
            "type": "heatmap"
           }
          ],
          "heatmapgl": [
           {
            "colorbar": {
             "outlinewidth": 0,
             "ticks": ""
            },
            "colorscale": [
             [
              0,
              "#0d0887"
             ],
             [
              0.1111111111111111,
              "#46039f"
             ],
             [
              0.2222222222222222,
              "#7201a8"
             ],
             [
              0.3333333333333333,
              "#9c179e"
             ],
             [
              0.4444444444444444,
              "#bd3786"
             ],
             [
              0.5555555555555556,
              "#d8576b"
             ],
             [
              0.6666666666666666,
              "#ed7953"
             ],
             [
              0.7777777777777778,
              "#fb9f3a"
             ],
             [
              0.8888888888888888,
              "#fdca26"
             ],
             [
              1,
              "#f0f921"
             ]
            ],
            "type": "heatmapgl"
           }
          ],
          "histogram": [
           {
            "marker": {
             "pattern": {
              "fillmode": "overlay",
              "size": 10,
              "solidity": 0.2
             }
            },
            "type": "histogram"
           }
          ],
          "histogram2d": [
           {
            "colorbar": {
             "outlinewidth": 0,
             "ticks": ""
            },
            "colorscale": [
             [
              0,
              "#0d0887"
             ],
             [
              0.1111111111111111,
              "#46039f"
             ],
             [
              0.2222222222222222,
              "#7201a8"
             ],
             [
              0.3333333333333333,
              "#9c179e"
             ],
             [
              0.4444444444444444,
              "#bd3786"
             ],
             [
              0.5555555555555556,
              "#d8576b"
             ],
             [
              0.6666666666666666,
              "#ed7953"
             ],
             [
              0.7777777777777778,
              "#fb9f3a"
             ],
             [
              0.8888888888888888,
              "#fdca26"
             ],
             [
              1,
              "#f0f921"
             ]
            ],
            "type": "histogram2d"
           }
          ],
          "histogram2dcontour": [
           {
            "colorbar": {
             "outlinewidth": 0,
             "ticks": ""
            },
            "colorscale": [
             [
              0,
              "#0d0887"
             ],
             [
              0.1111111111111111,
              "#46039f"
             ],
             [
              0.2222222222222222,
              "#7201a8"
             ],
             [
              0.3333333333333333,
              "#9c179e"
             ],
             [
              0.4444444444444444,
              "#bd3786"
             ],
             [
              0.5555555555555556,
              "#d8576b"
             ],
             [
              0.6666666666666666,
              "#ed7953"
             ],
             [
              0.7777777777777778,
              "#fb9f3a"
             ],
             [
              0.8888888888888888,
              "#fdca26"
             ],
             [
              1,
              "#f0f921"
             ]
            ],
            "type": "histogram2dcontour"
           }
          ],
          "mesh3d": [
           {
            "colorbar": {
             "outlinewidth": 0,
             "ticks": ""
            },
            "type": "mesh3d"
           }
          ],
          "parcoords": [
           {
            "line": {
             "colorbar": {
              "outlinewidth": 0,
              "ticks": ""
             }
            },
            "type": "parcoords"
           }
          ],
          "pie": [
           {
            "automargin": true,
            "type": "pie"
           }
          ],
          "scatter": [
           {
            "fillpattern": {
             "fillmode": "overlay",
             "size": 10,
             "solidity": 0.2
            },
            "type": "scatter"
           }
          ],
          "scatter3d": [
           {
            "line": {
             "colorbar": {
              "outlinewidth": 0,
              "ticks": ""
             }
            },
            "marker": {
             "colorbar": {
              "outlinewidth": 0,
              "ticks": ""
             }
            },
            "type": "scatter3d"
           }
          ],
          "scattercarpet": [
           {
            "marker": {
             "colorbar": {
              "outlinewidth": 0,
              "ticks": ""
             }
            },
            "type": "scattercarpet"
           }
          ],
          "scattergeo": [
           {
            "marker": {
             "colorbar": {
              "outlinewidth": 0,
              "ticks": ""
             }
            },
            "type": "scattergeo"
           }
          ],
          "scattergl": [
           {
            "marker": {
             "colorbar": {
              "outlinewidth": 0,
              "ticks": ""
             }
            },
            "type": "scattergl"
           }
          ],
          "scattermapbox": [
           {
            "marker": {
             "colorbar": {
              "outlinewidth": 0,
              "ticks": ""
             }
            },
            "type": "scattermapbox"
           }
          ],
          "scatterpolar": [
           {
            "marker": {
             "colorbar": {
              "outlinewidth": 0,
              "ticks": ""
             }
            },
            "type": "scatterpolar"
           }
          ],
          "scatterpolargl": [
           {
            "marker": {
             "colorbar": {
              "outlinewidth": 0,
              "ticks": ""
             }
            },
            "type": "scatterpolargl"
           }
          ],
          "scatterternary": [
           {
            "marker": {
             "colorbar": {
              "outlinewidth": 0,
              "ticks": ""
             }
            },
            "type": "scatterternary"
           }
          ],
          "surface": [
           {
            "colorbar": {
             "outlinewidth": 0,
             "ticks": ""
            },
            "colorscale": [
             [
              0,
              "#0d0887"
             ],
             [
              0.1111111111111111,
              "#46039f"
             ],
             [
              0.2222222222222222,
              "#7201a8"
             ],
             [
              0.3333333333333333,
              "#9c179e"
             ],
             [
              0.4444444444444444,
              "#bd3786"
             ],
             [
              0.5555555555555556,
              "#d8576b"
             ],
             [
              0.6666666666666666,
              "#ed7953"
             ],
             [
              0.7777777777777778,
              "#fb9f3a"
             ],
             [
              0.8888888888888888,
              "#fdca26"
             ],
             [
              1,
              "#f0f921"
             ]
            ],
            "type": "surface"
           }
          ],
          "table": [
           {
            "cells": {
             "fill": {
              "color": "#EBF0F8"
             },
             "line": {
              "color": "white"
             }
            },
            "header": {
             "fill": {
              "color": "#C8D4E3"
             },
             "line": {
              "color": "white"
             }
            },
            "type": "table"
           }
          ]
         },
         "layout": {
          "annotationdefaults": {
           "arrowcolor": "#2a3f5f",
           "arrowhead": 0,
           "arrowwidth": 1
          },
          "autotypenumbers": "strict",
          "coloraxis": {
           "colorbar": {
            "outlinewidth": 0,
            "ticks": ""
           }
          },
          "colorscale": {
           "diverging": [
            [
             0,
             "#8e0152"
            ],
            [
             0.1,
             "#c51b7d"
            ],
            [
             0.2,
             "#de77ae"
            ],
            [
             0.3,
             "#f1b6da"
            ],
            [
             0.4,
             "#fde0ef"
            ],
            [
             0.5,
             "#f7f7f7"
            ],
            [
             0.6,
             "#e6f5d0"
            ],
            [
             0.7,
             "#b8e186"
            ],
            [
             0.8,
             "#7fbc41"
            ],
            [
             0.9,
             "#4d9221"
            ],
            [
             1,
             "#276419"
            ]
           ],
           "sequential": [
            [
             0,
             "#0d0887"
            ],
            [
             0.1111111111111111,
             "#46039f"
            ],
            [
             0.2222222222222222,
             "#7201a8"
            ],
            [
             0.3333333333333333,
             "#9c179e"
            ],
            [
             0.4444444444444444,
             "#bd3786"
            ],
            [
             0.5555555555555556,
             "#d8576b"
            ],
            [
             0.6666666666666666,
             "#ed7953"
            ],
            [
             0.7777777777777778,
             "#fb9f3a"
            ],
            [
             0.8888888888888888,
             "#fdca26"
            ],
            [
             1,
             "#f0f921"
            ]
           ],
           "sequentialminus": [
            [
             0,
             "#0d0887"
            ],
            [
             0.1111111111111111,
             "#46039f"
            ],
            [
             0.2222222222222222,
             "#7201a8"
            ],
            [
             0.3333333333333333,
             "#9c179e"
            ],
            [
             0.4444444444444444,
             "#bd3786"
            ],
            [
             0.5555555555555556,
             "#d8576b"
            ],
            [
             0.6666666666666666,
             "#ed7953"
            ],
            [
             0.7777777777777778,
             "#fb9f3a"
            ],
            [
             0.8888888888888888,
             "#fdca26"
            ],
            [
             1,
             "#f0f921"
            ]
           ]
          },
          "colorway": [
           "#636efa",
           "#EF553B",
           "#00cc96",
           "#ab63fa",
           "#FFA15A",
           "#19d3f3",
           "#FF6692",
           "#B6E880",
           "#FF97FF",
           "#FECB52"
          ],
          "font": {
           "color": "#2a3f5f"
          },
          "geo": {
           "bgcolor": "white",
           "lakecolor": "white",
           "landcolor": "#E5ECF6",
           "showlakes": true,
           "showland": true,
           "subunitcolor": "white"
          },
          "hoverlabel": {
           "align": "left"
          },
          "hovermode": "closest",
          "mapbox": {
           "style": "light"
          },
          "paper_bgcolor": "white",
          "plot_bgcolor": "#E5ECF6",
          "polar": {
           "angularaxis": {
            "gridcolor": "white",
            "linecolor": "white",
            "ticks": ""
           },
           "bgcolor": "#E5ECF6",
           "radialaxis": {
            "gridcolor": "white",
            "linecolor": "white",
            "ticks": ""
           }
          },
          "scene": {
           "xaxis": {
            "backgroundcolor": "#E5ECF6",
            "gridcolor": "white",
            "gridwidth": 2,
            "linecolor": "white",
            "showbackground": true,
            "ticks": "",
            "zerolinecolor": "white"
           },
           "yaxis": {
            "backgroundcolor": "#E5ECF6",
            "gridcolor": "white",
            "gridwidth": 2,
            "linecolor": "white",
            "showbackground": true,
            "ticks": "",
            "zerolinecolor": "white"
           },
           "zaxis": {
            "backgroundcolor": "#E5ECF6",
            "gridcolor": "white",
            "gridwidth": 2,
            "linecolor": "white",
            "showbackground": true,
            "ticks": "",
            "zerolinecolor": "white"
           }
          },
          "shapedefaults": {
           "line": {
            "color": "#2a3f5f"
           }
          },
          "ternary": {
           "aaxis": {
            "gridcolor": "white",
            "linecolor": "white",
            "ticks": ""
           },
           "baxis": {
            "gridcolor": "white",
            "linecolor": "white",
            "ticks": ""
           },
           "bgcolor": "#E5ECF6",
           "caxis": {
            "gridcolor": "white",
            "linecolor": "white",
            "ticks": ""
           }
          },
          "title": {
           "x": 0.05
          },
          "xaxis": {
           "automargin": true,
           "gridcolor": "white",
           "linecolor": "white",
           "ticks": "",
           "title": {
            "standoff": 15
           },
           "zerolinecolor": "white",
           "zerolinewidth": 2
          },
          "yaxis": {
           "automargin": true,
           "gridcolor": "white",
           "linecolor": "white",
           "ticks": "",
           "title": {
            "standoff": 15
           },
           "zerolinecolor": "white",
           "zerolinewidth": 2
          }
         }
        }
       }
      },
      "text/html": [
       "<div>                            <div id=\"cb49a828-2eaa-494e-a9be-21512fbf8657\" class=\"plotly-graph-div\" style=\"height:525px; width:100%;\"></div>            <script type=\"text/javascript\">                require([\"plotly\"], function(Plotly) {                    window.PLOTLYENV=window.PLOTLYENV || {};                                    if (document.getElementById(\"cb49a828-2eaa-494e-a9be-21512fbf8657\")) {                    Plotly.newPlot(                        \"cb49a828-2eaa-494e-a9be-21512fbf8657\",                        [{\"customdata\":[250],\"hoverinfo\":\"text+name\",\"marker\":{\"cmax\":100000,\"cmin\":0,\"color\":\"#1f9a8a\",\"colorscale\":[[0.0,\"#440154\"],[0.1111111111111111,\"#482878\"],[0.2222222222222222,\"#3e4989\"],[0.3333333333333333,\"#31688e\"],[0.4444444444444444,\"#26828e\"],[0.5555555555555556,\"#1f9e89\"],[0.6666666666666666,\"#35b779\"],[0.7777777777777778,\"#6ece58\"],[0.8888888888888888,\"#b5de2b\"],[1.0,\"#fde725\"]],\"size\":18},\"mode\":\"markers\",\"name\":\"PMT 250\",\"text\":\"ID : 250<br>Coating : 0.00<br>Cum. PE : 54143.49\",\"x\":[421.52577500000007],\"y\":[175.0],\"type\":\"scatter\"}],                        {\"template\":{\"data\":{\"histogram2dcontour\":[{\"type\":\"histogram2dcontour\",\"colorbar\":{\"outlinewidth\":0,\"ticks\":\"\"},\"colorscale\":[[0.0,\"#0d0887\"],[0.1111111111111111,\"#46039f\"],[0.2222222222222222,\"#7201a8\"],[0.3333333333333333,\"#9c179e\"],[0.4444444444444444,\"#bd3786\"],[0.5555555555555556,\"#d8576b\"],[0.6666666666666666,\"#ed7953\"],[0.7777777777777778,\"#fb9f3a\"],[0.8888888888888888,\"#fdca26\"],[1.0,\"#f0f921\"]]}],\"choropleth\":[{\"type\":\"choropleth\",\"colorbar\":{\"outlinewidth\":0,\"ticks\":\"\"}}],\"histogram2d\":[{\"type\":\"histogram2d\",\"colorbar\":{\"outlinewidth\":0,\"ticks\":\"\"},\"colorscale\":[[0.0,\"#0d0887\"],[0.1111111111111111,\"#46039f\"],[0.2222222222222222,\"#7201a8\"],[0.3333333333333333,\"#9c179e\"],[0.4444444444444444,\"#bd3786\"],[0.5555555555555556,\"#d8576b\"],[0.6666666666666666,\"#ed7953\"],[0.7777777777777778,\"#fb9f3a\"],[0.8888888888888888,\"#fdca26\"],[1.0,\"#f0f921\"]]}],\"heatmap\":[{\"type\":\"heatmap\",\"colorbar\":{\"outlinewidth\":0,\"ticks\":\"\"},\"colorscale\":[[0.0,\"#0d0887\"],[0.1111111111111111,\"#46039f\"],[0.2222222222222222,\"#7201a8\"],[0.3333333333333333,\"#9c179e\"],[0.4444444444444444,\"#bd3786\"],[0.5555555555555556,\"#d8576b\"],[0.6666666666666666,\"#ed7953\"],[0.7777777777777778,\"#fb9f3a\"],[0.8888888888888888,\"#fdca26\"],[1.0,\"#f0f921\"]]}],\"heatmapgl\":[{\"type\":\"heatmapgl\",\"colorbar\":{\"outlinewidth\":0,\"ticks\":\"\"},\"colorscale\":[[0.0,\"#0d0887\"],[0.1111111111111111,\"#46039f\"],[0.2222222222222222,\"#7201a8\"],[0.3333333333333333,\"#9c179e\"],[0.4444444444444444,\"#bd3786\"],[0.5555555555555556,\"#d8576b\"],[0.6666666666666666,\"#ed7953\"],[0.7777777777777778,\"#fb9f3a\"],[0.8888888888888888,\"#fdca26\"],[1.0,\"#f0f921\"]]}],\"contourcarpet\":[{\"type\":\"contourcarpet\",\"colorbar\":{\"outlinewidth\":0,\"ticks\":\"\"}}],\"contour\":[{\"type\":\"contour\",\"colorbar\":{\"outlinewidth\":0,\"ticks\":\"\"},\"colorscale\":[[0.0,\"#0d0887\"],[0.1111111111111111,\"#46039f\"],[0.2222222222222222,\"#7201a8\"],[0.3333333333333333,\"#9c179e\"],[0.4444444444444444,\"#bd3786\"],[0.5555555555555556,\"#d8576b\"],[0.6666666666666666,\"#ed7953\"],[0.7777777777777778,\"#fb9f3a\"],[0.8888888888888888,\"#fdca26\"],[1.0,\"#f0f921\"]]}],\"surface\":[{\"type\":\"surface\",\"colorbar\":{\"outlinewidth\":0,\"ticks\":\"\"},\"colorscale\":[[0.0,\"#0d0887\"],[0.1111111111111111,\"#46039f\"],[0.2222222222222222,\"#7201a8\"],[0.3333333333333333,\"#9c179e\"],[0.4444444444444444,\"#bd3786\"],[0.5555555555555556,\"#d8576b\"],[0.6666666666666666,\"#ed7953\"],[0.7777777777777778,\"#fb9f3a\"],[0.8888888888888888,\"#fdca26\"],[1.0,\"#f0f921\"]]}],\"mesh3d\":[{\"type\":\"mesh3d\",\"colorbar\":{\"outlinewidth\":0,\"ticks\":\"\"}}],\"scatter\":[{\"fillpattern\":{\"fillmode\":\"overlay\",\"size\":10,\"solidity\":0.2},\"type\":\"scatter\"}],\"parcoords\":[{\"type\":\"parcoords\",\"line\":{\"colorbar\":{\"outlinewidth\":0,\"ticks\":\"\"}}}],\"scatterpolargl\":[{\"type\":\"scatterpolargl\",\"marker\":{\"colorbar\":{\"outlinewidth\":0,\"ticks\":\"\"}}}],\"bar\":[{\"error_x\":{\"color\":\"#2a3f5f\"},\"error_y\":{\"color\":\"#2a3f5f\"},\"marker\":{\"line\":{\"color\":\"#E5ECF6\",\"width\":0.5},\"pattern\":{\"fillmode\":\"overlay\",\"size\":10,\"solidity\":0.2}},\"type\":\"bar\"}],\"scattergeo\":[{\"type\":\"scattergeo\",\"marker\":{\"colorbar\":{\"outlinewidth\":0,\"ticks\":\"\"}}}],\"scatterpolar\":[{\"type\":\"scatterpolar\",\"marker\":{\"colorbar\":{\"outlinewidth\":0,\"ticks\":\"\"}}}],\"histogram\":[{\"marker\":{\"pattern\":{\"fillmode\":\"overlay\",\"size\":10,\"solidity\":0.2}},\"type\":\"histogram\"}],\"scattergl\":[{\"type\":\"scattergl\",\"marker\":{\"colorbar\":{\"outlinewidth\":0,\"ticks\":\"\"}}}],\"scatter3d\":[{\"type\":\"scatter3d\",\"line\":{\"colorbar\":{\"outlinewidth\":0,\"ticks\":\"\"}},\"marker\":{\"colorbar\":{\"outlinewidth\":0,\"ticks\":\"\"}}}],\"scattermapbox\":[{\"type\":\"scattermapbox\",\"marker\":{\"colorbar\":{\"outlinewidth\":0,\"ticks\":\"\"}}}],\"scatterternary\":[{\"type\":\"scatterternary\",\"marker\":{\"colorbar\":{\"outlinewidth\":0,\"ticks\":\"\"}}}],\"scattercarpet\":[{\"type\":\"scattercarpet\",\"marker\":{\"colorbar\":{\"outlinewidth\":0,\"ticks\":\"\"}}}],\"carpet\":[{\"aaxis\":{\"endlinecolor\":\"#2a3f5f\",\"gridcolor\":\"white\",\"linecolor\":\"white\",\"minorgridcolor\":\"white\",\"startlinecolor\":\"#2a3f5f\"},\"baxis\":{\"endlinecolor\":\"#2a3f5f\",\"gridcolor\":\"white\",\"linecolor\":\"white\",\"minorgridcolor\":\"white\",\"startlinecolor\":\"#2a3f5f\"},\"type\":\"carpet\"}],\"table\":[{\"cells\":{\"fill\":{\"color\":\"#EBF0F8\"},\"line\":{\"color\":\"white\"}},\"header\":{\"fill\":{\"color\":\"#C8D4E3\"},\"line\":{\"color\":\"white\"}},\"type\":\"table\"}],\"barpolar\":[{\"marker\":{\"line\":{\"color\":\"#E5ECF6\",\"width\":0.5},\"pattern\":{\"fillmode\":\"overlay\",\"size\":10,\"solidity\":0.2}},\"type\":\"barpolar\"}],\"pie\":[{\"automargin\":true,\"type\":\"pie\"}]},\"layout\":{\"autotypenumbers\":\"strict\",\"colorway\":[\"#636efa\",\"#EF553B\",\"#00cc96\",\"#ab63fa\",\"#FFA15A\",\"#19d3f3\",\"#FF6692\",\"#B6E880\",\"#FF97FF\",\"#FECB52\"],\"font\":{\"color\":\"#2a3f5f\"},\"hovermode\":\"closest\",\"hoverlabel\":{\"align\":\"left\"},\"paper_bgcolor\":\"white\",\"plot_bgcolor\":\"#E5ECF6\",\"polar\":{\"bgcolor\":\"#E5ECF6\",\"angularaxis\":{\"gridcolor\":\"white\",\"linecolor\":\"white\",\"ticks\":\"\"},\"radialaxis\":{\"gridcolor\":\"white\",\"linecolor\":\"white\",\"ticks\":\"\"}},\"ternary\":{\"bgcolor\":\"#E5ECF6\",\"aaxis\":{\"gridcolor\":\"white\",\"linecolor\":\"white\",\"ticks\":\"\"},\"baxis\":{\"gridcolor\":\"white\",\"linecolor\":\"white\",\"ticks\":\"\"},\"caxis\":{\"gridcolor\":\"white\",\"linecolor\":\"white\",\"ticks\":\"\"}},\"coloraxis\":{\"colorbar\":{\"outlinewidth\":0,\"ticks\":\"\"}},\"colorscale\":{\"sequential\":[[0.0,\"#0d0887\"],[0.1111111111111111,\"#46039f\"],[0.2222222222222222,\"#7201a8\"],[0.3333333333333333,\"#9c179e\"],[0.4444444444444444,\"#bd3786\"],[0.5555555555555556,\"#d8576b\"],[0.6666666666666666,\"#ed7953\"],[0.7777777777777778,\"#fb9f3a\"],[0.8888888888888888,\"#fdca26\"],[1.0,\"#f0f921\"]],\"sequentialminus\":[[0.0,\"#0d0887\"],[0.1111111111111111,\"#46039f\"],[0.2222222222222222,\"#7201a8\"],[0.3333333333333333,\"#9c179e\"],[0.4444444444444444,\"#bd3786\"],[0.5555555555555556,\"#d8576b\"],[0.6666666666666666,\"#ed7953\"],[0.7777777777777778,\"#fb9f3a\"],[0.8888888888888888,\"#fdca26\"],[1.0,\"#f0f921\"]],\"diverging\":[[0,\"#8e0152\"],[0.1,\"#c51b7d\"],[0.2,\"#de77ae\"],[0.3,\"#f1b6da\"],[0.4,\"#fde0ef\"],[0.5,\"#f7f7f7\"],[0.6,\"#e6f5d0\"],[0.7,\"#b8e186\"],[0.8,\"#7fbc41\"],[0.9,\"#4d9221\"],[1,\"#276419\"]]},\"xaxis\":{\"gridcolor\":\"white\",\"linecolor\":\"white\",\"ticks\":\"\",\"title\":{\"standoff\":15},\"zerolinecolor\":\"white\",\"automargin\":true,\"zerolinewidth\":2},\"yaxis\":{\"gridcolor\":\"white\",\"linecolor\":\"white\",\"ticks\":\"\",\"title\":{\"standoff\":15},\"zerolinecolor\":\"white\",\"automargin\":true,\"zerolinewidth\":2},\"scene\":{\"xaxis\":{\"backgroundcolor\":\"#E5ECF6\",\"gridcolor\":\"white\",\"linecolor\":\"white\",\"showbackground\":true,\"ticks\":\"\",\"zerolinecolor\":\"white\",\"gridwidth\":2},\"yaxis\":{\"backgroundcolor\":\"#E5ECF6\",\"gridcolor\":\"white\",\"linecolor\":\"white\",\"showbackground\":true,\"ticks\":\"\",\"zerolinecolor\":\"white\",\"gridwidth\":2},\"zaxis\":{\"backgroundcolor\":\"#E5ECF6\",\"gridcolor\":\"white\",\"linecolor\":\"white\",\"showbackground\":true,\"ticks\":\"\",\"zerolinecolor\":\"white\",\"gridwidth\":2}},\"shapedefaults\":{\"line\":{\"color\":\"#2a3f5f\"}},\"annotationdefaults\":{\"arrowcolor\":\"#2a3f5f\",\"arrowhead\":0,\"arrowwidth\":1},\"geo\":{\"bgcolor\":\"white\",\"landcolor\":\"#E5ECF6\",\"subunitcolor\":\"white\",\"showland\":true,\"showlakes\":true,\"lakecolor\":\"white\"},\"title\":{\"x\":0.05},\"mapbox\":{\"style\":\"light\"}}}},                        {\"responsive\": true}                    ).then(function(){\n",
       "                            \n",
       "var gd = document.getElementById('cb49a828-2eaa-494e-a9be-21512fbf8657');\n",
       "var x = new MutationObserver(function (mutations, observer) {{\n",
       "        var display = window.getComputedStyle(gd).display;\n",
       "        if (!display || display === 'none') {{\n",
       "            console.log([gd, 'removed!']);\n",
       "            Plotly.purge(gd);\n",
       "            observer.disconnect();\n",
       "        }}\n",
       "}});\n",
       "\n",
       "// Listen for the removal of the full notebook cells\n",
       "var notebookContainer = gd.closest('#notebook-container');\n",
       "if (notebookContainer) {{\n",
       "    x.observe(notebookContainer, {childList: true});\n",
       "}}\n",
       "\n",
       "// Listen for the clearing of the current output cell\n",
       "var outputEl = gd.closest('.output');\n",
       "if (outputEl) {{\n",
       "    x.observe(outputEl, {childList: true});\n",
       "}}\n",
       "\n",
       "                        })                };                });            </script>        </div>"
      ]
     },
     "metadata": {},
     "output_type": "display_data"
    },
    {
     "name": "stdout",
     "output_type": "stream",
     "text": [
      "250\n"
     ]
    }
   ],
   "source": [
    "import plotly.graph_objects as go\n",
    "idx=50\n",
    "sc = pds_objs[idx].plot_coordinates(0,5)\n",
    "fig = go.Figure(data=sc)\n",
    "fig.show()\n",
    "print(pds_objs[idx].id)"
   ]
  },
  {
   "cell_type": "code",
   "execution_count": 2,
   "metadata": {},
   "outputs": [],
   "source": [
    "tree = uproot.open(f'{DATA_DIR}/hitdumper_waveforms.root:hitdumper;1/hitdumpertree;1')"
   ]
  },
  {
   "cell_type": "code",
   "execution_count": 4,
   "metadata": {},
   "outputs": [
    {
     "data": {
      "text/plain": [
       "array([[  1, 445,   9],\n",
       "       [  1, 445,  14],\n",
       "       [  1, 445,  19],\n",
       "       [  1, 445,  20],\n",
       "       [  1, 445,  25],\n",
       "       [  1, 445,  28],\n",
       "       [  1, 445,  31],\n",
       "       [  1, 445,  37],\n",
       "       [  1, 445,  41],\n",
       "       [  1, 445,  43],\n",
       "       [  1, 445,  44],\n",
       "       [  1, 445,  50],\n",
       "       [  1, 445,  52],\n",
       "       [  1, 445,  55],\n",
       "       [  1, 445,  59],\n",
       "       [  1, 445,  62],\n",
       "       [  1, 445,  68],\n",
       "       [  1, 445,  77],\n",
       "       [  1, 445,  78],\n",
       "       [  1, 445,  80],\n",
       "       [  1, 445, 107],\n",
       "       [  1, 445, 113],\n",
       "       [  1, 445, 115],\n",
       "       [  1, 445, 117],\n",
       "       [  1, 445, 118],\n",
       "       [  1, 445, 119],\n",
       "       [  1, 445, 123],\n",
       "       [  1, 445, 127],\n",
       "       [  1, 445, 128],\n",
       "       [  1, 445, 129],\n",
       "       [  1, 445, 131],\n",
       "       [  1, 445, 134],\n",
       "       [  1, 445, 142],\n",
       "       [  1, 445, 143],\n",
       "       [  1, 445, 144],\n",
       "       [  1, 445, 147],\n",
       "       [  1, 445, 148],\n",
       "       [  1, 445, 156],\n",
       "       [  1, 445, 157],\n",
       "       [  1, 445, 158],\n",
       "       [  1, 445, 160],\n",
       "       [  1, 445, 163],\n",
       "       [  1, 445, 166],\n",
       "       [  1, 445, 171],\n",
       "       [  1, 445, 172],\n",
       "       [  1, 445, 176],\n",
       "       [  1, 445, 186],\n",
       "       [  1, 445, 187],\n",
       "       [  1, 445, 195],\n",
       "       [  1, 445, 201],\n",
       "       [  1, 445, 204],\n",
       "       [  1, 445, 207],\n",
       "       [  1, 445, 216],\n",
       "       [  1, 445, 217],\n",
       "       [  1, 445, 220],\n",
       "       [  1, 445, 233],\n",
       "       [  1, 445, 234],\n",
       "       [  1, 445, 241],\n",
       "       [  1, 445, 242],\n",
       "       [  1, 445, 243],\n",
       "       [  1, 445, 244],\n",
       "       [  1, 445, 247],\n",
       "       [  1, 445, 254],\n",
       "       [  1, 445, 258],\n",
       "       [  1, 445, 277],\n",
       "       [  1, 445, 283],\n",
       "       [  1, 445, 284],\n",
       "       [  1, 445, 285],\n",
       "       [  1, 445, 296],\n",
       "       [  1, 445, 300],\n",
       "       [  1, 445, 305],\n",
       "       [  1, 445, 307],\n",
       "       [  1, 445, 308],\n",
       "       [  1, 445, 309],\n",
       "       [  1, 445, 315],\n",
       "       [  1, 445, 317],\n",
       "       [  1, 445, 321],\n",
       "       [  1, 445, 322],\n",
       "       [  1, 445, 324],\n",
       "       [  1, 445, 328],\n",
       "       [  1, 445, 332],\n",
       "       [  1, 445, 336],\n",
       "       [  1, 445, 344],\n",
       "       [  1, 445, 349],\n",
       "       [  1, 445, 356],\n",
       "       [  1, 445, 365],\n",
       "       [  1, 445, 366],\n",
       "       [  1, 445, 372],\n",
       "       [  1, 445, 374],\n",
       "       [  1, 445, 376],\n",
       "       [  1, 445, 377],\n",
       "       [  1, 445, 380],\n",
       "       [  1, 445, 383],\n",
       "       [  1, 445, 384],\n",
       "       [  1, 445, 388],\n",
       "       [  1, 445, 393],\n",
       "       [  1, 445, 407],\n",
       "       [  1, 445, 418],\n",
       "       [  1, 445, 422],\n",
       "       [  1, 445, 423],\n",
       "       [  1, 445, 424],\n",
       "       [  1, 445, 429],\n",
       "       [  1, 445, 430],\n",
       "       [  1, 445, 441],\n",
       "       [  1, 445, 445],\n",
       "       [  1, 445, 453],\n",
       "       [  1, 445, 460],\n",
       "       [  1, 445, 462],\n",
       "       [  1, 445, 464],\n",
       "       [  1, 445, 467],\n",
       "       [  1, 445, 479],\n",
       "       [  1, 445, 481],\n",
       "       [  1, 445, 483],\n",
       "       [  1, 445, 485],\n",
       "       [  1, 445, 486],\n",
       "       [  1, 445, 487],\n",
       "       [  1, 445, 491],\n",
       "       [  1, 445, 495],\n",
       "       [  1, 445, 496],\n",
       "       [  1, 445, 498],\n",
       "       [  1, 445, 499],\n",
       "       [  1, 445, 501],\n",
       "       [  1, 445, 505],\n",
       "       [  1, 445, 514],\n",
       "       [  1, 445, 515],\n",
       "       [  1, 445, 520],\n",
       "       [  1, 445, 531],\n",
       "       [  1, 445, 533],\n",
       "       [  1, 445, 538],\n",
       "       [  1, 445, 543],\n",
       "       [  1, 445, 550],\n",
       "       [  1, 445, 554],\n",
       "       [  1, 445, 562],\n",
       "       [  1, 445, 569],\n",
       "       [  1, 445, 582],\n",
       "       [  1, 445, 585],\n",
       "       [  1, 445, 588],\n",
       "       [  1, 445, 589],\n",
       "       [  1, 445, 592],\n",
       "       [  1, 445, 593],\n",
       "       [  1, 445, 595],\n",
       "       [  1, 445, 599]], dtype=int32)"
      ]
     },
     "execution_count": 4,
     "metadata": {},
     "output_type": "execute_result"
    }
   ],
   "source": [
    "runs = tree.arrays(['run','subrun','event'],library='pd')\n",
    "runs.values"
   ]
  },
  {
   "cell_type": "code",
   "execution_count": 5,
   "metadata": {},
   "outputs": [
    {
     "ename": "ValueError",
     "evalue": "The truth value of a DataFrame is ambiguous. Use a.empty, a.bool(), a.item(), a.any() or a.all().",
     "output_type": "error",
     "traceback": [
      "\u001b[0;31m---------------------------------------------------------------------------\u001b[0m",
      "\u001b[0;31mValueError\u001b[0m                                Traceback (most recent call last)",
      "\u001b[1;32m/sbnd/app/users/brindenc/PAD/testing.ipynb Cell 4\u001b[0m in \u001b[0;36m<cell line: 1>\u001b[0;34m()\u001b[0m\n\u001b[0;32m----> <a href='vscode-notebook-cell://ssh-remote%2Bsbnd_gpvm_3/sbnd/app/users/brindenc/PAD/testing.ipynb#X16sdnNjb2RlLXJlbW90ZQ%3D%3D?line=0'>1</a>\u001b[0m \u001b[39mif\u001b[39;00m runs:\n\u001b[1;32m      <a href='vscode-notebook-cell://ssh-remote%2Bsbnd_gpvm_3/sbnd/app/users/brindenc/PAD/testing.ipynb#X16sdnNjb2RlLXJlbW90ZQ%3D%3D?line=1'>2</a>\u001b[0m   \u001b[39mprint\u001b[39m(\u001b[39m'\u001b[39m\u001b[39mq\u001b[39m\u001b[39m'\u001b[39m)\n",
      "File \u001b[0;32m/sbnd/data/users/brindenc/.local/lib/python3.9/site-packages/pandas/core/generic.py:1537\u001b[0m, in \u001b[0;36mNDFrame.__nonzero__\u001b[0;34m(self)\u001b[0m\n\u001b[1;32m   1535\u001b[0m \u001b[39m@final\u001b[39m\n\u001b[1;32m   1536\u001b[0m \u001b[39mdef\u001b[39;00m \u001b[39m__nonzero__\u001b[39m(\u001b[39mself\u001b[39m):\n\u001b[0;32m-> 1537\u001b[0m     \u001b[39mraise\u001b[39;00m \u001b[39mValueError\u001b[39;00m(\n\u001b[1;32m   1538\u001b[0m         \u001b[39mf\u001b[39m\u001b[39m\"\u001b[39m\u001b[39mThe truth value of a \u001b[39m\u001b[39m{\u001b[39;00m\u001b[39mtype\u001b[39m(\u001b[39mself\u001b[39m)\u001b[39m.\u001b[39m\u001b[39m__name__\u001b[39m\u001b[39m}\u001b[39;00m\u001b[39m is ambiguous. \u001b[39m\u001b[39m\"\u001b[39m\n\u001b[1;32m   1539\u001b[0m         \u001b[39m\"\u001b[39m\u001b[39mUse a.empty, a.bool(), a.item(), a.any() or a.all().\u001b[39m\u001b[39m\"\u001b[39m\n\u001b[1;32m   1540\u001b[0m     )\n",
      "\u001b[0;31mValueError\u001b[0m: The truth value of a DataFrame is ambiguous. Use a.empty, a.bool(), a.item(), a.any() or a.all()."
     ]
    }
   ],
   "source": [
    "if runs:\n",
    "  print('q')"
   ]
  },
  {
   "cell_type": "code",
   "execution_count": 12,
   "metadata": {},
   "outputs": [
    {
     "data": {
      "text/html": [
       "<div>\n",
       "<style scoped>\n",
       "    .dataframe tbody tr th:only-of-type {\n",
       "        vertical-align: middle;\n",
       "    }\n",
       "\n",
       "    .dataframe tbody tr th {\n",
       "        vertical-align: top;\n",
       "    }\n",
       "\n",
       "    .dataframe thead th {\n",
       "        text-align: right;\n",
       "    }\n",
       "</style>\n",
       "<table border=\"1\" class=\"dataframe\">\n",
       "  <thead>\n",
       "    <tr style=\"text-align: right;\">\n",
       "      <th></th>\n",
       "      <th>ophit_opdet_x</th>\n",
       "      <th>ophit_opdet_y</th>\n",
       "      <th>ophit_opdet_z</th>\n",
       "      <th>ophit_opdet_type</th>\n",
       "      <th>opdet_tpc</th>\n",
       "      <th>ophit_opdet</th>\n",
       "    </tr>\n",
       "    <tr>\n",
       "      <th>ophit_opch</th>\n",
       "      <th></th>\n",
       "      <th></th>\n",
       "      <th></th>\n",
       "      <th></th>\n",
       "      <th></th>\n",
       "      <th></th>\n",
       "    </tr>\n",
       "  </thead>\n",
       "  <tbody>\n",
       "    <tr>\n",
       "      <th>6</th>\n",
       "      <td>-213.40</td>\n",
       "      <td>-175.0</td>\n",
       "      <td>27.874225</td>\n",
       "      <td>0</td>\n",
       "      <td>0</td>\n",
       "      <td>6</td>\n",
       "    </tr>\n",
       "    <tr>\n",
       "      <th>7</th>\n",
       "      <td>213.40</td>\n",
       "      <td>-175.0</td>\n",
       "      <td>27.874225</td>\n",
       "      <td>0</td>\n",
       "      <td>1</td>\n",
       "      <td>7</td>\n",
       "    </tr>\n",
       "    <tr>\n",
       "      <th>8</th>\n",
       "      <td>-213.40</td>\n",
       "      <td>-95.0</td>\n",
       "      <td>27.874225</td>\n",
       "      <td>0</td>\n",
       "      <td>0</td>\n",
       "      <td>8</td>\n",
       "    </tr>\n",
       "    <tr>\n",
       "      <th>9</th>\n",
       "      <td>213.40</td>\n",
       "      <td>-95.0</td>\n",
       "      <td>27.874225</td>\n",
       "      <td>0</td>\n",
       "      <td>1</td>\n",
       "      <td>9</td>\n",
       "    </tr>\n",
       "    <tr>\n",
       "      <th>10</th>\n",
       "      <td>-213.40</td>\n",
       "      <td>-40.0</td>\n",
       "      <td>27.874225</td>\n",
       "      <td>0</td>\n",
       "      <td>0</td>\n",
       "      <td>10</td>\n",
       "    </tr>\n",
       "    <tr>\n",
       "      <th>...</th>\n",
       "      <td>...</td>\n",
       "      <td>...</td>\n",
       "      <td>...</td>\n",
       "      <td>...</td>\n",
       "      <td>...</td>\n",
       "      <td>...</td>\n",
       "    </tr>\n",
       "    <tr>\n",
       "      <th>310</th>\n",
       "      <td>-213.75</td>\n",
       "      <td>135.0</td>\n",
       "      <td>489.145775</td>\n",
       "      <td>3</td>\n",
       "      <td>0</td>\n",
       "      <td>310</td>\n",
       "    </tr>\n",
       "    <tr>\n",
       "      <th>311</th>\n",
       "      <td>213.75</td>\n",
       "      <td>135.0</td>\n",
       "      <td>489.145775</td>\n",
       "      <td>3</td>\n",
       "      <td>1</td>\n",
       "      <td>311</td>\n",
       "    </tr>\n",
       "    <tr>\n",
       "      <th>56</th>\n",
       "      <td>-213.75</td>\n",
       "      <td>0.0</td>\n",
       "      <td>80.254225</td>\n",
       "      <td>2</td>\n",
       "      <td>0</td>\n",
       "      <td>56</td>\n",
       "    </tr>\n",
       "    <tr>\n",
       "      <th>82</th>\n",
       "      <td>-213.75</td>\n",
       "      <td>135.0</td>\n",
       "      <td>153.538075</td>\n",
       "      <td>2</td>\n",
       "      <td>0</td>\n",
       "      <td>82</td>\n",
       "    </tr>\n",
       "    <tr>\n",
       "      <th>258</th>\n",
       "      <td>-213.75</td>\n",
       "      <td>-175.0</td>\n",
       "      <td>443.905775</td>\n",
       "      <td>2</td>\n",
       "      <td>0</td>\n",
       "      <td>258</td>\n",
       "    </tr>\n",
       "  </tbody>\n",
       "</table>\n",
       "<p>296 rows × 6 columns</p>\n",
       "</div>"
      ],
      "text/plain": [
       "            ophit_opdet_x  ophit_opdet_y  ophit_opdet_z  ophit_opdet_type  \\\n",
       "ophit_opch                                                                  \n",
       "6                 -213.40         -175.0      27.874225                 0   \n",
       "7                  213.40         -175.0      27.874225                 0   \n",
       "8                 -213.40          -95.0      27.874225                 0   \n",
       "9                  213.40          -95.0      27.874225                 0   \n",
       "10                -213.40          -40.0      27.874225                 0   \n",
       "...                   ...            ...            ...               ...   \n",
       "310               -213.75          135.0     489.145775                 3   \n",
       "311                213.75          135.0     489.145775                 3   \n",
       "56                -213.75            0.0      80.254225                 2   \n",
       "82                -213.75          135.0     153.538075                 2   \n",
       "258               -213.75         -175.0     443.905775                 2   \n",
       "\n",
       "            opdet_tpc  ophit_opdet  \n",
       "ophit_opch                          \n",
       "6                   0            6  \n",
       "7                   1            7  \n",
       "8                   0            8  \n",
       "9                   1            9  \n",
       "10                  0           10  \n",
       "...               ...          ...  \n",
       "310                 0          310  \n",
       "311                 1          311  \n",
       "56                  0           56  \n",
       "82                  0           82  \n",
       "258                 0          258  \n",
       "\n",
       "[296 rows x 6 columns]"
      ]
     },
     "execution_count": 12,
     "metadata": {},
     "output_type": "execute_result"
    }
   ],
   "source": [
    "pmt_arapuca_info = pd.read_pickle(f'{DATA_DIR}/PMT_ARAPUCA_info.pkl')\n",
    "pmt_arapuca_info"
   ]
  },
  {
   "cell_type": "code",
   "execution_count": 13,
   "metadata": {},
   "outputs": [],
   "source": [
    "def convert_edges_to_centers(edges):\n",
    "  \"\"\"_summary_\n",
    "\n",
    "  Args:\n",
    "      edges (_type_): _description_\n",
    "\n",
    "  Returns:\n",
    "      _type_: _description_\n",
    "  \"\"\"\n",
    "  de = edges[1]-edges[0]\n",
    "  return [e+de/2 for e in edges[:-1]]"
   ]
  },
  {
   "cell_type": "code",
   "execution_count": 14,
   "metadata": {},
   "outputs": [
    {
     "data": {
      "text/plain": [
       "[<matplotlib.lines.Line2D at 0x7f61857a4670>]"
      ]
     },
     "execution_count": 14,
     "metadata": {},
     "output_type": "execute_result"
    },
    {
     "data": {
      "image/png": "[encoded data removed]",
      "text/plain": [
       "<Figure size 432x288 with 1 Axes>"
      ]
     },
     "metadata": {
      "needs_background": "light"
     },
     "output_type": "display_data"
    }
   ],
   "source": [
    "run,subrun,event = 1,445,9\n",
    "pmt_id = 6\n",
    "wtree = uproot.open(f'{DATA_DIR}/waveforms.root')\n",
    "hist_name = f'pmtSoftwareTrigger/run_{run}subrun_{subrun}event_{event}_pmtnum_{pmt_id};1'\n",
    "hist = wtree[hist_name]\n",
    "#help(hist.axis())\n",
    "times = convert_edges_to_centers(hist.to_numpy()[1])\n",
    "voltages = hist.to_numpy()[0]\n",
    "plt.plot(times,voltages)\n",
    "#wtree.keys()\n",
    "#hist.to_numpy()[1][:][-1]\n"
   ]
  },
  {
   "cell_type": "code",
   "execution_count": 15,
   "metadata": {},
   "outputs": [],
   "source": [
    "hdrkeys = ['run','subrun','event']\n",
    "opkeys = [key for key in tree.keys() if 'op' == key[:2]]\n",
    "pmtsoftkeys = [key for key in tree.keys() if 'pmtSoftTrigger' in key]\n",
    "df = tree.arrays(hdrkeys+opkeys,library='pd')\n",
    "#df\n",
    "#opkeys"
   ]
  },
  {
   "cell_type": "code",
   "execution_count": 16,
   "metadata": {},
   "outputs": [],
   "source": [
    "op_evt = df.query(f'run == {run} and subrun == {subrun} and event == {event}')"
   ]
  },
  {
   "cell_type": "code",
   "execution_count": 17,
   "metadata": {},
   "outputs": [
    {
     "data": {
      "text/plain": [
       "Index(['run', 'subrun', 'event', 'ophit_opch', 'ophit_opdet', 'ophit_peakT',\n",
       "       'ophit_width', 'ophit_area', 'ophit_amplitude', 'ophit_pe',\n",
       "       'ophit_opdet_x', 'ophit_opdet_y', 'ophit_opdet_z', 'ophit_opdet_type'],\n",
       "      dtype='object')"
      ]
     },
     "execution_count": 17,
     "metadata": {},
     "output_type": "execute_result"
    }
   ],
   "source": [
    "op_evt.keys()"
   ]
  },
  {
   "cell_type": "code",
   "execution_count": 18,
   "metadata": {},
   "outputs": [],
   "source": [
    "pmt_ids = list(pmt_arapuca_info.query('ophit_opdet_type == 0 or ophit_opdet_type == 1').index)\n",
    "xa_ids = list(pmt_arapuca_info.query('ophit_opdet_type == 2 or ophit_opdet_type == 3').index)\n",
    "pds_ids = list(pmt_arapuca_info.index)"
   ]
  },
  {
   "cell_type": "code",
   "execution_count": 19,
   "metadata": {},
   "outputs": [
    {
     "data": {
      "text/plain": [
       "ophit_opdet_x      -213.400000\n",
       "ophit_opdet_y      -175.000000\n",
       "ophit_opdet_z        27.874225\n",
       "ophit_opdet_type      0.000000\n",
       "opdet_tpc             0.000000\n",
       "ophit_opdet           6.000000\n",
       "Name: 6, dtype: float64"
      ]
     },
     "execution_count": 19,
     "metadata": {},
     "output_type": "execute_result"
    }
   ],
   "source": [
    "pmt_arapuca_info.loc[6]"
   ]
  },
  {
   "cell_type": "code",
   "execution_count": 22,
   "metadata": {},
   "outputs": [
    {
     "name": "stdout",
     "output_type": "stream",
     "text": [
      "pds :  6\n",
      "pds :  7\n",
      "pds :  8\n",
      "pds :  9\n",
      "pds :  10\n",
      "pds :  11\n",
      "pds :  12\n",
      "pds :  13\n",
      "pds :  14\n",
      "pds :  15\n",
      "pds :  16\n",
      "pds :  17\n",
      "pds :  36\n",
      "pds :  37\n",
      "pds :  38\n",
      "pds :  39\n",
      "pds :  40\n",
      "pds :  41\n",
      "pds :  60\n",
      "pds :  61\n",
      "pds :  62\n",
      "pds :  63\n",
      "pds :  64\n",
      "pds :  65\n",
      "pds :  66\n",
      "pds :  67\n",
      "pds :  68\n",
      "pds :  69\n",
      "pds :  70\n",
      "pds :  71\n",
      "pds :  84\n",
      "pds :  85\n",
      "pds :  86\n",
      "pds :  87\n",
      "pds :  88\n",
      "pds :  89\n",
      "pds :  90\n",
      "pds :  91\n",
      "pds :  92\n",
      "pds :  93\n",
      "pds :  94\n",
      "pds :  95\n",
      "pds :  114\n",
      "pds :  115\n",
      "pds :  116\n",
      "pds :  117\n",
      "pds :  118\n",
      "pds :  119\n",
      "pds :  138\n",
      "pds :  139\n",
      "pds :  140\n",
      "pds :  141\n",
      "pds :  142\n",
      "pds :  143\n",
      "pds :  144\n",
      "pds :  145\n",
      "pds :  146\n",
      "pds :  147\n",
      "pds :  148\n",
      "pds :  149\n",
      "pds :  162\n",
      "pds :  163\n",
      "pds :  164\n",
      "pds :  165\n",
      "pds :  166\n",
      "pds :  167\n",
      "pds :  168\n",
      "pds :  169\n",
      "pds :  170\n",
      "pds :  171\n",
      "pds :  172\n",
      "pds :  173\n",
      "pds :  192\n",
      "pds :  193\n",
      "pds :  194\n",
      "pds :  195\n",
      "pds :  196\n",
      "pds :  197\n",
      "pds :  216\n",
      "pds :  217\n",
      "pds :  218\n",
      "pds :  219\n",
      "pds :  220\n",
      "pds :  221\n",
      "pds :  222\n",
      "pds :  223\n",
      "pds :  224\n",
      "pds :  225\n",
      "pds :  226\n",
      "pds :  227\n",
      "pds :  240\n",
      "pds :  241\n",
      "pds :  242\n",
      "pds :  243\n",
      "pds :  244\n",
      "pds :  245\n",
      "pds :  246\n",
      "pds :  247\n",
      "pds :  248\n",
      "pds :  249\n",
      "pds :  250\n",
      "pds :  251\n",
      "pds :  270\n",
      "pds :  271\n",
      "pds :  272\n",
      "pds :  273\n",
      "pds :  274\n",
      "pds :  275\n",
      "pds :  294\n",
      "pds :  295\n",
      "pds :  296\n",
      "pds :  297\n",
      "pds :  298\n",
      "pds :  299\n",
      "pds :  300\n",
      "pds :  301\n",
      "pds :  302\n",
      "pds :  303\n",
      "pds :  304\n",
      "pds :  305\n",
      "pds :  0\n",
      "pds :  1\n",
      "pds :  2\n",
      "pds :  3\n",
      "pds :  4\n",
      "pds :  5\n",
      "pds :  18\n",
      "pds :  19\n",
      "pds :  20\n",
      "pds :  21\n",
      "pds :  22\n",
      "pds :  23\n",
      "pds :  24\n",
      "pds :  25\n",
      "pds :  26\n",
      "pds :  27\n",
      "pds :  28\n",
      "pds :  29\n",
      "pds :  30\n",
      "pds :  31\n",
      "pds :  32\n",
      "pds :  33\n",
      "pds :  34\n",
      "pds :  35\n",
      "pds :  42\n",
      "pds :  43\n",
      "pds :  44\n",
      "pds :  45\n",
      "pds :  46\n",
      "pds :  47\n",
      "pds :  48\n",
      "pds :  49\n",
      "pds :  50\n",
      "pds :  51\n",
      "pds :  52\n",
      "pds :  53\n",
      "pds :  54\n",
      "pds :  55\n",
      "pds :  57\n",
      "pds :  58\n",
      "pds :  59\n",
      "pds :  72\n",
      "pds :  73\n",
      "pds :  74\n",
      "pds :  75\n",
      "pds :  76\n",
      "pds :  77\n",
      "pds :  78\n",
      "pds :  79\n",
      "pds :  80\n",
      "pds :  81\n",
      "pds :  83\n",
      "pds :  96\n",
      "pds :  97\n",
      "pds :  98\n",
      "pds :  99\n",
      "pds :  100\n",
      "pds :  101\n",
      "pds :  102\n",
      "pds :  103\n",
      "pds :  104\n",
      "pds :  105\n",
      "pds :  106\n",
      "pds :  107\n",
      "pds :  108\n",
      "pds :  109\n",
      "pds :  110\n",
      "pds :  111\n",
      "pds :  112\n",
      "pds :  113\n",
      "pds :  120\n",
      "pds :  121\n",
      "pds :  122\n",
      "pds :  123\n",
      "pds :  124\n",
      "pds :  125\n",
      "pds :  126\n",
      "pds :  127\n",
      "pds :  128\n",
      "pds :  129\n",
      "pds :  130\n",
      "pds :  131\n",
      "pds :  132\n",
      "pds :  133\n",
      "pds :  136\n",
      "pds :  137\n",
      "pds :  174\n",
      "pds :  175\n",
      "pds :  178\n",
      "pds :  179\n",
      "pds :  180\n",
      "pds :  181\n",
      "pds :  182\n",
      "pds :  183\n",
      "pds :  184\n",
      "pds :  185\n",
      "pds :  186\n",
      "pds :  187\n",
      "pds :  188\n",
      "pds :  189\n",
      "pds :  190\n",
      "pds :  191\n",
      "pds :  198\n",
      "pds :  199\n",
      "pds :  200\n",
      "pds :  201\n",
      "pds :  202\n",
      "pds :  203\n",
      "pds :  204\n",
      "pds :  205\n",
      "pds :  206\n",
      "pds :  207\n",
      "pds :  208\n",
      "pds :  209\n",
      "pds :  210\n",
      "pds :  211\n",
      "pds :  212\n",
      "pds :  213\n",
      "pds :  214\n",
      "pds :  215\n",
      "pds :  228\n",
      "pds :  229\n",
      "pds :  230\n",
      "pds :  231\n",
      "pds :  232\n",
      "pds :  233\n",
      "pds :  234\n",
      "pds :  235\n",
      "pds :  236\n",
      "pds :  237\n",
      "pds :  238\n",
      "pds :  239\n",
      "pds :  252\n",
      "pds :  253\n",
      "pds :  254\n",
      "pds :  255\n",
      "pds :  256\n",
      "pds :  257\n",
      "pds :  259\n",
      "pds :  260\n",
      "pds :  261\n",
      "pds :  262\n",
      "pds :  263\n",
      "pds :  264\n",
      "pds :  265\n",
      "pds :  266\n",
      "pds :  267\n",
      "pds :  268\n",
      "pds :  269\n",
      "pds :  276\n",
      "pds :  277\n",
      "pds :  278\n",
      "pds :  279\n",
      "pds :  280\n",
      "pds :  281\n",
      "pds :  282\n",
      "pds :  283\n",
      "pds :  284\n",
      "pds :  285\n",
      "pds :  286\n",
      "pds :  287\n",
      "pds :  288\n",
      "pds :  289\n",
      "pds :  290\n",
      "pds :  291\n",
      "pds :  292\n",
      "pds :  293\n",
      "pds :  306\n",
      "pds :  307\n",
      "pds :  308\n",
      "pds :  309\n",
      "pds :  310\n",
      "pds :  311\n",
      "pds :  56\n",
      "pds :  82\n",
      "pds :  258\n"
     ]
    }
   ],
   "source": [
    "from PMT import PMT\n",
    "import numpy as np\n",
    "pmts = [PMT] * (120+192) #120 pmts, 192 X-ARAPUCAs\n",
    "wtree = uproot.open(f'{DATA_DIR}/waveforms.root')\n",
    "\n",
    "for ind,i in enumerate(pds_ids):\n",
    "    print('pds : ',i)\n",
    "    #Meta data\n",
    "    meta = pmt_arapuca_info.loc[i]\n",
    "    pds_location = np.array([meta.ophit_opdet_x,\n",
    "                             meta.ophit_opdet_y,\n",
    "                             meta.ophit_opdet_z])\n",
    "    pds_coating = meta.ophit_opdet_type\n",
    "    pds_tpc = meta.opdet_tpc\n",
    "    \n",
    "    #Get op info\n",
    "    op_df = op_evt[op_evt.ophit_opch == i]\n",
    "    op_times = op_df.ophit_peakT.values\n",
    "    op_pes = op_df.ophit_pe.values\n",
    "    pds_op_pe = {'op_time': op_times, 'op_pe': op_pes}\n",
    "    pds_location\n",
    "    \n",
    "    if i in pmt_ids:\n",
    "        #Get waveform info\n",
    "        hist_name = f'pmtSoftwareTrigger/run_{run}subrun_{subrun}event_{event}_pmtnum_{pmt_id};1'\n",
    "        hist = wtree[hist_name]\n",
    "        times = convert_edges_to_centers(hist.to_numpy()[1])\n",
    "        voltages = hist.to_numpy()[0]\n",
    "        pmt_waveform = {'time': times, 'voltage': voltages}\n",
    "    else:\n",
    "        pmt_waveform = None\n",
    "    \n",
    "    pmts[ind] = PMT(i, pds_coating, pds_tpc, pds_location, pmt_waveform, pds_op_pe)"
   ]
  },
  {
   "cell_type": "code",
   "execution_count": null,
   "metadata": {},
   "outputs": [],
   "source": []
  }
 ],
 "metadata": {
  "kernelspec": {
   "display_name": "Python 3",
   "language": "python",
   "name": "python3"
  },
  "language_info": {
   "codemirror_mode": {
    "name": "ipython",
    "version": 3
   },
   "file_extension": ".py",
   "mimetype": "text/x-python",
   "name": "python",
   "nbconvert_exporter": "python",
   "pygments_lexer": "ipython3",
   "version": "3.9.10"
  },
  "orig_nbformat": 4
 },
 "nbformat": 4,
 "nbformat_minor": 2
}
