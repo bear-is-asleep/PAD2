{
 "cells": [
  {
   "cell_type": "code",
   "execution_count": 1,
   "metadata": {},
   "outputs": [],
   "source": [
    "import uproot\n",
    "import pandas as pd\n",
    "from variables import *\n",
    "from config.software_pe import *\n",
    "import matplotlib.pyplot as plt\n",
    "from Loader import Loader\n",
    "import numpy as np\n",
    "\n",
    "%load_ext autoreload\n",
    "%autoreload 2"
   ]
  },
  {
   "cell_type": "code",
   "execution_count": 2,
   "metadata": {},
   "outputs": [
    {
     "data": {
      "text/plain": [
       "'/sbnd/app/users/brindenc/PAD'"
      ]
     },
     "execution_count": 2,
     "metadata": {},
     "output_type": "execute_result"
    }
   ],
   "source": [
    "import os\n",
    "\n",
    "os.getcwd()"
   ]
  },
  {
   "cell_type": "code",
   "execution_count": 69,
   "metadata": {},
   "outputs": [
    {
     "name": "stdout",
     "output_type": "stream",
     "text": [
      "************************************************************\n",
      "Load PMT/XA channel info : 0.01 s\n",
      "Load commissioning tree : 0.01 s\n",
      "Load op info : 0.14 s\n",
      "Load waveforms : 0.00 s\n",
      "************************************************************\n"
     ]
    },
    {
     "data": {
      "text/plain": [
       "array([[  1, 445,   9]], dtype=int32)"
      ]
     },
     "execution_count": 69,
     "metadata": {},
     "output_type": "execute_result"
    }
   ],
   "source": [
    "l = Loader(DATA_DIR,PAD_DIR,HDUMP_NAME,SM_NAME,WFM_NAME,mode='prompt')\n",
    "l.run_list"
   ]
  },
  {
   "cell_type": "code",
   "execution_count": 70,
   "metadata": {},
   "outputs": [],
   "source": [
    "l.get_event(1,445,9)"
   ]
  },
  {
   "cell_type": "code",
   "execution_count": 71,
   "metadata": {},
   "outputs": [
    {
     "data": {
      "text/html": [
       "<div>\n",
       "<style scoped>\n",
       "    .dataframe tbody tr th:only-of-type {\n",
       "        vertical-align: middle;\n",
       "    }\n",
       "\n",
       "    .dataframe tbody tr th {\n",
       "        vertical-align: top;\n",
       "    }\n",
       "\n",
       "    .dataframe thead th {\n",
       "        text-align: right;\n",
       "    }\n",
       "</style>\n",
       "<table border=\"1\" class=\"dataframe\">\n",
       "  <thead>\n",
       "    <tr style=\"text-align: right;\">\n",
       "      <th></th>\n",
       "      <th>run</th>\n",
       "      <th>sub</th>\n",
       "      <th>evt</th>\n",
       "      <th>ch_prelimPE</th>\n",
       "      <th>ch_promptPE</th>\n",
       "      <th>ch_AboveThreshold</th>\n",
       "      <th>ch_ID</th>\n",
       "    </tr>\n",
       "  </thead>\n",
       "  <tbody>\n",
       "    <tr>\n",
       "      <th>0</th>\n",
       "      <td>1</td>\n",
       "      <td>445</td>\n",
       "      <td>9</td>\n",
       "      <td>0.25</td>\n",
       "      <td>64.0</td>\n",
       "      <td>0</td>\n",
       "      <td>6</td>\n",
       "    </tr>\n",
       "    <tr>\n",
       "      <th>0</th>\n",
       "      <td>1</td>\n",
       "      <td>445</td>\n",
       "      <td>9</td>\n",
       "      <td>0.375</td>\n",
       "      <td>0.25</td>\n",
       "      <td>0</td>\n",
       "      <td>7</td>\n",
       "    </tr>\n",
       "    <tr>\n",
       "      <th>0</th>\n",
       "      <td>1</td>\n",
       "      <td>445</td>\n",
       "      <td>9</td>\n",
       "      <td>0.75</td>\n",
       "      <td>82.125</td>\n",
       "      <td>0</td>\n",
       "      <td>8</td>\n",
       "    </tr>\n",
       "    <tr>\n",
       "      <th>0</th>\n",
       "      <td>1</td>\n",
       "      <td>445</td>\n",
       "      <td>9</td>\n",
       "      <td>0.375</td>\n",
       "      <td>0.25</td>\n",
       "      <td>0</td>\n",
       "      <td>9</td>\n",
       "    </tr>\n",
       "    <tr>\n",
       "      <th>0</th>\n",
       "      <td>1</td>\n",
       "      <td>445</td>\n",
       "      <td>9</td>\n",
       "      <td>0.375</td>\n",
       "      <td>114.75</td>\n",
       "      <td>0</td>\n",
       "      <td>10</td>\n",
       "    </tr>\n",
       "    <tr>\n",
       "      <th>...</th>\n",
       "      <td>...</td>\n",
       "      <td>...</td>\n",
       "      <td>...</td>\n",
       "      <td>...</td>\n",
       "      <td>...</td>\n",
       "      <td>...</td>\n",
       "      <td>...</td>\n",
       "    </tr>\n",
       "    <tr>\n",
       "      <th>0</th>\n",
       "      <td>1</td>\n",
       "      <td>445</td>\n",
       "      <td>9</td>\n",
       "      <td>0.375</td>\n",
       "      <td>0.375</td>\n",
       "      <td>0</td>\n",
       "      <td>301</td>\n",
       "    </tr>\n",
       "    <tr>\n",
       "      <th>0</th>\n",
       "      <td>1</td>\n",
       "      <td>445</td>\n",
       "      <td>9</td>\n",
       "      <td>0.25</td>\n",
       "      <td>112.875</td>\n",
       "      <td>0</td>\n",
       "      <td>302</td>\n",
       "    </tr>\n",
       "    <tr>\n",
       "      <th>0</th>\n",
       "      <td>1</td>\n",
       "      <td>445</td>\n",
       "      <td>9</td>\n",
       "      <td>0.25</td>\n",
       "      <td>2.75</td>\n",
       "      <td>0</td>\n",
       "      <td>303</td>\n",
       "    </tr>\n",
       "    <tr>\n",
       "      <th>0</th>\n",
       "      <td>1</td>\n",
       "      <td>445</td>\n",
       "      <td>9</td>\n",
       "      <td>0.375</td>\n",
       "      <td>67.375</td>\n",
       "      <td>0</td>\n",
       "      <td>304</td>\n",
       "    </tr>\n",
       "    <tr>\n",
       "      <th>0</th>\n",
       "      <td>1</td>\n",
       "      <td>445</td>\n",
       "      <td>9</td>\n",
       "      <td>0.25</td>\n",
       "      <td>0.25</td>\n",
       "      <td>0</td>\n",
       "      <td>305</td>\n",
       "    </tr>\n",
       "  </tbody>\n",
       "</table>\n",
       "<p>120 rows × 7 columns</p>\n",
       "</div>"
      ],
      "text/plain": [
       "    run  sub  evt ch_prelimPE ch_promptPE ch_AboveThreshold ch_ID\n",
       "0     1  445    9        0.25        64.0                 0     6\n",
       "0     1  445    9       0.375        0.25                 0     7\n",
       "0     1  445    9        0.75      82.125                 0     8\n",
       "0     1  445    9       0.375        0.25                 0     9\n",
       "0     1  445    9       0.375      114.75                 0    10\n",
       "..  ...  ...  ...         ...         ...               ...   ...\n",
       "0     1  445    9       0.375       0.375                 0   301\n",
       "0     1  445    9        0.25     112.875                 0   302\n",
       "0     1  445    9        0.25        2.75                 0   303\n",
       "0     1  445    9       0.375      67.375                 0   304\n",
       "0     1  445    9        0.25        0.25                 0   305\n",
       "\n",
       "[120 rows x 7 columns]"
      ]
     },
     "execution_count": 71,
     "metadata": {},
     "output_type": "execute_result"
    }
   ],
   "source": [
    "l.op_df"
   ]
  },
  {
   "cell_type": "code",
   "execution_count": 76,
   "metadata": {},
   "outputs": [
    {
     "name": "stdout",
     "output_type": "stream",
     "text": [
      "pds_id :  6\n",
      "[64.0]\n",
      "pds_id :  7\n",
      "[0.25]\n",
      "pds_id :  8\n",
      "[82.125]\n",
      "pds_id :  9\n",
      "[0.25]\n",
      "pds_id :  10\n",
      "[114.75]\n",
      "pds_id :  11\n",
      "[0.25]\n",
      "pds_id :  12\n",
      "[105.25]\n",
      "pds_id :  13\n",
      "[0.25]\n",
      "pds_id :  14\n",
      "[78.125]\n",
      "pds_id :  15\n",
      "[0.375]\n",
      "pds_id :  16\n",
      "[69.5]\n",
      "pds_id :  17\n",
      "[0.25]\n",
      "pds_id :  60\n",
      "[103.0]\n",
      "pds_id :  61\n",
      "[0.25]\n",
      "pds_id :  62\n",
      "[158.125]\n",
      "pds_id :  63\n",
      "[0.25]\n",
      "pds_id :  64\n",
      "[138.0]\n",
      "pds_id :  65\n",
      "[0.375]\n",
      "pds_id :  66\n",
      "[265.375]\n",
      "pds_id :  67\n",
      "[0.25]\n",
      "pds_id :  68\n",
      "[196.5]\n",
      "pds_id :  69\n",
      "[0.25]\n",
      "pds_id :  70\n",
      "[80.125]\n",
      "pds_id :  71\n",
      "[0.25]\n",
      "pds_id :  84\n",
      "[107.875]\n",
      "pds_id :  85\n",
      "[0.375]\n",
      "pds_id :  86\n",
      "[317.375]\n",
      "pds_id :  87\n",
      "[3.875]\n",
      "pds_id :  88\n",
      "[348.125]\n",
      "pds_id :  89\n",
      "[0.25]\n",
      "pds_id :  90\n",
      "[435.75]\n",
      "pds_id :  91\n",
      "[0.25]\n",
      "pds_id :  92\n",
      "[282.875]\n",
      "pds_id :  93\n",
      "[0.25]\n",
      "pds_id :  94\n",
      "[186.375]\n",
      "pds_id :  95\n",
      "[0.375]\n",
      "pds_id :  138\n",
      "[170.75]\n",
      "pds_id :  139\n",
      "[0.25]\n",
      "pds_id :  140\n",
      "[336.875]\n",
      "pds_id :  141\n",
      "[0.375]\n",
      "pds_id :  142\n",
      "[547.5]\n",
      "pds_id :  143\n",
      "[0.375]\n",
      "pds_id :  144\n",
      "[869.5]\n",
      "pds_id :  145\n",
      "[0.375]\n",
      "pds_id :  146\n",
      "[506.625]\n",
      "pds_id :  147\n",
      "[0.375]\n",
      "pds_id :  148\n",
      "[231.25]\n",
      "pds_id :  149\n",
      "[0.375]\n",
      "pds_id :  162\n",
      "[189.25]\n",
      "pds_id :  163\n",
      "[6.625]\n",
      "pds_id :  164\n",
      "[363.125]\n",
      "pds_id :  165\n",
      "[0.25]\n",
      "pds_id :  166\n",
      "[562.5]\n",
      "pds_id :  167\n",
      "[3.5]\n",
      "pds_id :  168\n",
      "[705.625]\n",
      "pds_id :  169\n",
      "[0.25]\n",
      "pds_id :  170\n",
      "[488.875]\n",
      "pds_id :  171\n",
      "[0.375]\n",
      "pds_id :  172\n",
      "[165.125]\n",
      "pds_id :  173\n",
      "[0.375]\n",
      "pds_id :  216\n",
      "[169.625]\n",
      "pds_id :  217\n",
      "[0.25]\n",
      "pds_id :  218\n",
      "[341.5]\n",
      "pds_id :  219\n",
      "[0.375]\n",
      "pds_id :  220\n",
      "[621.375]\n",
      "pds_id :  221\n",
      "[0.375]\n",
      "pds_id :  222\n",
      "[517.625]\n",
      "pds_id :  223\n",
      "[0.375]\n",
      "pds_id :  224\n",
      "[287.0]\n",
      "pds_id :  225\n",
      "[0.375]\n",
      "pds_id :  226\n",
      "[210.0]\n",
      "pds_id :  227\n",
      "[0.375]\n",
      "pds_id :  240\n",
      "[115.5]\n",
      "pds_id :  241\n",
      "[0.25]\n",
      "pds_id :  242\n",
      "[287.25]\n",
      "pds_id :  243\n",
      "[2.375]\n",
      "pds_id :  244\n",
      "[221.875]\n",
      "pds_id :  245\n",
      "[0.25]\n",
      "pds_id :  246\n",
      "[320.5]\n",
      "pds_id :  247\n",
      "[0.25]\n",
      "pds_id :  248\n",
      "[177.0]\n",
      "pds_id :  249\n",
      "[0.25]\n",
      "pds_id :  250\n",
      "[127.0]\n",
      "pds_id :  251\n",
      "[0.25]\n",
      "pds_id :  294\n",
      "[95.25]\n",
      "pds_id :  295\n",
      "[0.25]\n",
      "pds_id :  296\n",
      "[127.625]\n",
      "pds_id :  297\n",
      "[0.25]\n",
      "pds_id :  298\n",
      "[195.125]\n",
      "pds_id :  299\n",
      "[3.25]\n",
      "pds_id :  300\n",
      "[197.125]\n",
      "pds_id :  301\n",
      "[0.375]\n",
      "pds_id :  302\n",
      "[112.875]\n",
      "pds_id :  303\n",
      "[2.75]\n",
      "pds_id :  304\n",
      "[67.375]\n",
      "pds_id :  305\n",
      "[0.25]\n",
      "pds_id :  270\n",
      "[90.375]\n",
      "pds_id :  271\n",
      "[0.375]\n",
      "pds_id :  272\n",
      "[87.0]\n",
      "pds_id :  273\n",
      "[0.375]\n",
      "pds_id :  274\n",
      "[53.875]\n",
      "pds_id :  275\n",
      "[6.5]\n",
      "pds_id :  36\n",
      "[47.125]\n",
      "pds_id :  37\n",
      "[0.25]\n",
      "pds_id :  38\n",
      "[72.0]\n",
      "pds_id :  39\n",
      "[0.25]\n",
      "pds_id :  40\n",
      "[84.5]\n",
      "pds_id :  41\n",
      "[0.25]\n",
      "pds_id :  192\n",
      "[78.875]\n",
      "pds_id :  193\n",
      "[0.375]\n",
      "pds_id :  194\n",
      "[138.5]\n",
      "pds_id :  195\n",
      "[0.25]\n",
      "pds_id :  196\n",
      "[129.375]\n",
      "pds_id :  197\n",
      "[0.25]\n",
      "pds_id :  114\n",
      "[102.75]\n",
      "pds_id :  115\n",
      "[0.375]\n",
      "pds_id :  116\n",
      "[84.0]\n",
      "pds_id :  117\n",
      "[6.5]\n",
      "pds_id :  118\n",
      "[65.375]\n",
      "pds_id :  119\n",
      "[0.25]\n",
      "Get PDS objs : 4.58 s\n"
     ]
    },
    {
     "data": {
      "text/plain": [
       "[<PMT.PMT at 0x7fc7635a50d0>,\n",
       " <PMT.PMT at 0x7fc762c22ac0>,\n",
       " <PMT.PMT at 0x7fc762c22dc0>,\n",
       " <PMT.PMT at 0x7fc763eff3a0>,\n",
       " <PMT.PMT at 0x7fc7635b6700>,\n",
       " <PMT.PMT at 0x7fc763bdf6a0>,\n",
       " <PMT.PMT at 0x7fc763fe6f10>,\n",
       " <PMT.PMT at 0x7fc763c15910>,\n",
       " <PMT.PMT at 0x7fc763bdf220>,\n",
       " <PMT.PMT at 0x7fc763a3ed90>,\n",
       " <PMT.PMT at 0x7fc76333aaf0>,\n",
       " <PMT.PMT at 0x7fc76333af40>,\n",
       " <PMT.PMT at 0x7fc762f11850>,\n",
       " <PMT.PMT at 0x7fc762df4ca0>,\n",
       " <PMT.PMT at 0x7fc76318e040>,\n",
       " <PMT.PMT at 0x7fc762c88d30>,\n",
       " <PMT.PMT at 0x7fc762d78d90>,\n",
       " <PMT.PMT at 0x7fc762bba8b0>,\n",
       " <PMT.PMT at 0x7fc762bba2b0>,\n",
       " <PMT.PMT at 0x7fc7605626a0>,\n",
       " <PMT.PMT at 0x7fc7605d3fa0>,\n",
       " <PMT.PMT at 0x7fc762bb8880>,\n",
       " <PMT.PMT at 0x7fc760586d30>,\n",
       " <PMT.PMT at 0x7fc760586a60>,\n",
       " <PMT.PMT at 0x7fc7604b0b80>,\n",
       " <PMT.PMT at 0x7fc7604945e0>,\n",
       " <PMT.PMT at 0x7fc7603e86a0>,\n",
       " <PMT.PMT at 0x7fc760453b50>,\n",
       " <PMT.PMT at 0x7fc7604539d0>,\n",
       " <PMT.PMT at 0x7fc7603d3d30>,\n",
       " <PMT.PMT at 0x7fc760369d90>,\n",
       " <PMT.PMT at 0x7fc76030c2b0>,\n",
       " <PMT.PMT at 0x7fc76030c8b0>,\n",
       " <PMT.PMT at 0x7fc7602176a0>,\n",
       " <PMT.PMT at 0x7fc760294fd0>,\n",
       " <PMT.PMT at 0x7fc760352bb0>,\n",
       " <PMT.PMT at 0x7fc7601f6e50>,\n",
       " <PMT.PMT at 0x7fc7601f6f40>,\n",
       " <PMT.PMT at 0x7fc760196c40>,\n",
       " <PMT.PMT at 0x7fc7601545e0>,\n",
       " <PMT.PMT at 0x7fc7600af6a0>,\n",
       " <PMT.PMT at 0x7fc7600bef70>,\n",
       " <PMT.PMT at 0x7fc760112b50>,\n",
       " <PMT.PMT at 0x7fc76008fcd0>,\n",
       " <PMT.PMT at 0x7fc76008a970>,\n",
       " <PMT.PMT at 0x7fc760008af0>,\n",
       " <PMT.PMT at 0x7fc75ffd58b0>,\n",
       " <PMT.PMT at 0x7fc75fedf6a0>,\n",
       " <PMT.PMT at 0x7fc75ff36f40>,\n",
       " <PMT.PMT at 0x7fc75feed970>,\n",
       " <PMT.PMT at 0x7fc75ff83ca0>,\n",
       " <PMT.PMT at 0x7fc75fecad90>,\n",
       " <PMT.PMT at 0x7fc75fe52af0>,\n",
       " <PMT.PMT at 0x7fc75fe0c8b0>,\n",
       " <PMT.PMT at 0x7fc75fd6f6a0>,\n",
       " <PMT.PMT at 0x7fc75fd85d60>,\n",
       " <PMT.PMT at 0x7fc75fd85700>,\n",
       " <PMT.PMT at 0x7fc75fdcdfa0>,\n",
       " <PMT.PMT at 0x7fc75fd50d90>,\n",
       " <PMT.PMT at 0x7fc75fcbaaf0>,\n",
       " <PMT.PMT at 0x7fc75fcbaf40>,\n",
       " <PMT.PMT at 0x7fc75fc71850>,\n",
       " <PMT.PMT at 0x7fc75fc55ca0>,\n",
       " <PMT.PMT at 0x7fc75fb9c040>,\n",
       " <PMT.PMT at 0x7fc75fbd4d30>,\n",
       " <PMT.PMT at 0x7fc75fb78d90>,\n",
       " <PMT.PMT at 0x7fc75fb78f40>,\n",
       " <PMT.PMT at 0x7fc75fc559a0>,\n",
       " <PMT.PMT at 0x7fc75fa1e6a0>,\n",
       " <PMT.PMT at 0x7fc75fb09f40>,\n",
       " <PMT.PMT at 0x7fc75fac51c0>,\n",
       " <PMT.PMT at 0x7fc75fa3ad30>,\n",
       " <PMT.PMT at 0x7fc75f9f8ee0>,\n",
       " <PMT.PMT at 0x7fc75f985b80>,\n",
       " <PMT.PMT at 0x7fc75f9524f0>,\n",
       " <PMT.PMT at 0x7fc75f8b36a0>,\n",
       " <PMT.PMT at 0x7fc75f915b50>,\n",
       " <PMT.PMT at 0x7fc75f9159d0>,\n",
       " <PMT.PMT at 0x7fc75f88dd30>,\n",
       " <PMT.PMT at 0x7fc75f896d90>,\n",
       " <PMT.PMT at 0x7fc75f7d62b0>,\n",
       " <PMT.PMT at 0x7fc75f7d68b0>,\n",
       " <PMT.PMT at 0x7fc75f6dd6a0>,\n",
       " <PMT.PMT at 0x7fc75f738fd0>,\n",
       " <PMT.PMT at 0x7fc75f807bb0>,\n",
       " <PMT.PMT at 0x7fc75f6c8e50>,\n",
       " <PMT.PMT at 0x7fc75f6c8f40>,\n",
       " <PMT.PMT at 0x7fc75f63ac40>,\n",
       " <PMT.PMT at 0x7fc75f60e5e0>,\n",
       " <PMT.PMT at 0x7fc75f5776a0>,\n",
       " <PMT.PMT at 0x7fc75f5d2f70>,\n",
       " <PMT.PMT at 0x7fc75f5cfb50>,\n",
       " <PMT.PMT at 0x7fc75f552cd0>,\n",
       " <PMT.PMT at 0x7fc75f589970>,\n",
       " <PMT.PMT at 0x7fc75f4c0af0>,\n",
       " <PMT.PMT at 0x7fc75f4798b0>,\n",
       " <PMT.PMT at 0x7fc75f39d6a0>,\n",
       " <PMT.PMT at 0x7fc75f407f40>,\n",
       " <PMT.PMT at 0x7fc75f3d4970>,\n",
       " <PMT.PMT at 0x7fc75f434ca0>,\n",
       " <PMT.PMT at 0x7fc75f381d90>,\n",
       " <PMT.PMT at 0x7fc75f30caf0>,\n",
       " <PMT.PMT at 0x7fc75f30cf40>,\n",
       " <PMT.PMT at 0x7fc75f221310>,\n",
       " <PMT.PMT at 0x7fc75f295f40>,\n",
       " <PMT.PMT at 0x7fc75f246790>,\n",
       " <PMT.PMT at 0x7fc75f2cfcd0>,\n",
       " <PMT.PMT at 0x7fc75f210ee0>,\n",
       " <PMT.PMT at 0x7fc75f195d30>,\n",
       " <PMT.PMT at 0x7fc75f195bb0>,\n",
       " <PMT.PMT at 0x7fc75f0ae6d0>,\n",
       " <PMT.PMT at 0x7fc75f116b80>,\n",
       " <PMT.PMT at 0x7fc75f08f940>,\n",
       " <PMT.PMT at 0x7fc75f0bafd0>,\n",
       " <PMT.PMT at 0x7fc75f116ee0>,\n",
       " <PMT.PMT at 0x7fc75f00cd90>,\n",
       " <PMT.PMT at 0x7fc75f00cd30>,\n",
       " <PMT.PMT at 0x7fc75ef50fa0>,\n",
       " <PMT.PMT at 0x7fc75ef65e80>,\n",
       " <PMT.PMT at 0x7fc7604b0bb0>]"
      ]
     },
     "execution_count": 76,
     "metadata": {},
     "output_type": "execute_result"
    }
   ],
   "source": [
    "pmts = l.get_pmt_list(coatings=[1,2])"
   ]
  },
  {
   "cell_type": "code",
   "execution_count": 29,
   "metadata": {},
   "outputs": [
    {
     "data": {
      "text/plain": [
       "['run',\n",
       " 'sub',\n",
       " 'evt',\n",
       " 'beam_trig',\n",
       " 'time_trig',\n",
       " 'npmt',\n",
       " 'promptPE',\n",
       " 'prelimPE',\n",
       " 'ch_prelimPE',\n",
       " 'ch_promptPE',\n",
       " 'ch_AboveThreshold',\n",
       " 'ch_ID']"
      ]
     },
     "execution_count": 29,
     "metadata": {},
     "output_type": "execute_result"
    }
   ],
   "source": [
    "tree = uproot.open(f'/sbnd/data/users/brindenc/analyze_sbnd/PDS/pgun1/hitdumper_tree.root:hitdumper;1/hitdumpertree;1')\n",
    "ishan = uproot.open(f'/sbnd/data/users/ipatel/NC_trigger/test_fcl/v1/test_hist.root:pmtSoftwareTrigger/software_metrics_tree;1')\n",
    "ishan.keys()"
   ]
  },
  {
   "cell_type": "code",
   "execution_count": 66,
   "metadata": {},
   "outputs": [
    {
     "data": {
      "text/html": [
       "<div>\n",
       "<style scoped>\n",
       "    .dataframe tbody tr th:only-of-type {\n",
       "        vertical-align: middle;\n",
       "    }\n",
       "\n",
       "    .dataframe tbody tr th {\n",
       "        vertical-align: top;\n",
       "    }\n",
       "\n",
       "    .dataframe thead th {\n",
       "        text-align: right;\n",
       "    }\n",
       "</style>\n",
       "<table border=\"1\" class=\"dataframe\">\n",
       "  <thead>\n",
       "    <tr style=\"text-align: right;\">\n",
       "      <th></th>\n",
       "      <th>run</th>\n",
       "      <th>sub</th>\n",
       "      <th>evt</th>\n",
       "      <th>ch_prelimPE</th>\n",
       "      <th>ch_promptPE</th>\n",
       "      <th>ch_AboveThreshold</th>\n",
       "      <th>ch_ID</th>\n",
       "    </tr>\n",
       "  </thead>\n",
       "  <tbody>\n",
       "    <tr>\n",
       "      <th>0</th>\n",
       "      <td>1</td>\n",
       "      <td>445</td>\n",
       "      <td>9</td>\n",
       "      <td>0.25</td>\n",
       "      <td>64.0</td>\n",
       "      <td>0</td>\n",
       "      <td>6</td>\n",
       "    </tr>\n",
       "    <tr>\n",
       "      <th>0</th>\n",
       "      <td>1</td>\n",
       "      <td>445</td>\n",
       "      <td>9</td>\n",
       "      <td>0.375</td>\n",
       "      <td>0.25</td>\n",
       "      <td>0</td>\n",
       "      <td>7</td>\n",
       "    </tr>\n",
       "    <tr>\n",
       "      <th>0</th>\n",
       "      <td>1</td>\n",
       "      <td>445</td>\n",
       "      <td>9</td>\n",
       "      <td>0.75</td>\n",
       "      <td>82.125</td>\n",
       "      <td>0</td>\n",
       "      <td>8</td>\n",
       "    </tr>\n",
       "    <tr>\n",
       "      <th>0</th>\n",
       "      <td>1</td>\n",
       "      <td>445</td>\n",
       "      <td>9</td>\n",
       "      <td>0.375</td>\n",
       "      <td>0.25</td>\n",
       "      <td>0</td>\n",
       "      <td>9</td>\n",
       "    </tr>\n",
       "    <tr>\n",
       "      <th>0</th>\n",
       "      <td>1</td>\n",
       "      <td>445</td>\n",
       "      <td>9</td>\n",
       "      <td>0.375</td>\n",
       "      <td>114.75</td>\n",
       "      <td>0</td>\n",
       "      <td>10</td>\n",
       "    </tr>\n",
       "    <tr>\n",
       "      <th>...</th>\n",
       "      <td>...</td>\n",
       "      <td>...</td>\n",
       "      <td>...</td>\n",
       "      <td>...</td>\n",
       "      <td>...</td>\n",
       "      <td>...</td>\n",
       "      <td>...</td>\n",
       "    </tr>\n",
       "    <tr>\n",
       "      <th>0</th>\n",
       "      <td>1</td>\n",
       "      <td>445</td>\n",
       "      <td>9</td>\n",
       "      <td>0.375</td>\n",
       "      <td>0.375</td>\n",
       "      <td>0</td>\n",
       "      <td>301</td>\n",
       "    </tr>\n",
       "    <tr>\n",
       "      <th>0</th>\n",
       "      <td>1</td>\n",
       "      <td>445</td>\n",
       "      <td>9</td>\n",
       "      <td>0.25</td>\n",
       "      <td>112.875</td>\n",
       "      <td>0</td>\n",
       "      <td>302</td>\n",
       "    </tr>\n",
       "    <tr>\n",
       "      <th>0</th>\n",
       "      <td>1</td>\n",
       "      <td>445</td>\n",
       "      <td>9</td>\n",
       "      <td>0.25</td>\n",
       "      <td>2.75</td>\n",
       "      <td>0</td>\n",
       "      <td>303</td>\n",
       "    </tr>\n",
       "    <tr>\n",
       "      <th>0</th>\n",
       "      <td>1</td>\n",
       "      <td>445</td>\n",
       "      <td>9</td>\n",
       "      <td>0.375</td>\n",
       "      <td>67.375</td>\n",
       "      <td>0</td>\n",
       "      <td>304</td>\n",
       "    </tr>\n",
       "    <tr>\n",
       "      <th>0</th>\n",
       "      <td>1</td>\n",
       "      <td>445</td>\n",
       "      <td>9</td>\n",
       "      <td>0.25</td>\n",
       "      <td>0.25</td>\n",
       "      <td>0</td>\n",
       "      <td>305</td>\n",
       "    </tr>\n",
       "  </tbody>\n",
       "</table>\n",
       "<p>120 rows × 7 columns</p>\n",
       "</div>"
      ],
      "text/plain": [
       "    run  sub  evt ch_prelimPE ch_promptPE ch_AboveThreshold ch_ID\n",
       "0     1  445    9        0.25        64.0                 0     6\n",
       "0     1  445    9       0.375        0.25                 0     7\n",
       "0     1  445    9        0.75      82.125                 0     8\n",
       "0     1  445    9       0.375        0.25                 0     9\n",
       "0     1  445    9       0.375      114.75                 0    10\n",
       "..  ...  ...  ...         ...         ...               ...   ...\n",
       "0     1  445    9       0.375       0.375                 0   301\n",
       "0     1  445    9        0.25     112.875                 0   302\n",
       "0     1  445    9        0.25        2.75                 0   303\n",
       "0     1  445    9       0.375      67.375                 0   304\n",
       "0     1  445    9        0.25        0.25                 0   305\n",
       "\n",
       "[120 rows x 7 columns]"
      ]
     },
     "execution_count": 66,
     "metadata": {},
     "output_type": "execute_result"
    }
   ],
   "source": [
    "pmtsoftkeys = [key for key in ishan.keys() if 'ch_' in key]\n",
    "df = ishan.arrays(HDRKEYS+pmtsoftkeys,library='pd')\n",
    "exploded_columns = []\n",
    "for column in df.columns:\n",
    "    if 'ch_' in column:\n",
    "        df[column] = df[column][0]\n",
    "        exploded_columns.append(column)\n",
    "df.explode(exploded_columns)"
   ]
  },
  {
   "cell_type": "code",
   "execution_count": 67,
   "metadata": {},
   "outputs": [
    {
     "data": {
      "text/html": [
       "<div>\n",
       "<style scoped>\n",
       "    .dataframe tbody tr th:only-of-type {\n",
       "        vertical-align: middle;\n",
       "    }\n",
       "\n",
       "    .dataframe tbody tr th {\n",
       "        vertical-align: top;\n",
       "    }\n",
       "\n",
       "    .dataframe thead th {\n",
       "        text-align: right;\n",
       "    }\n",
       "</style>\n",
       "<table border=\"1\" class=\"dataframe\">\n",
       "  <thead>\n",
       "    <tr style=\"text-align: right;\">\n",
       "      <th></th>\n",
       "      <th>run</th>\n",
       "      <th>sub</th>\n",
       "      <th>evt</th>\n",
       "      <th>ch_prelimPE</th>\n",
       "      <th>ch_promptPE</th>\n",
       "      <th>ch_AboveThreshold</th>\n",
       "      <th>ch_ID</th>\n",
       "    </tr>\n",
       "  </thead>\n",
       "  <tbody>\n",
       "    <tr>\n",
       "      <th>0</th>\n",
       "      <td>1</td>\n",
       "      <td>445</td>\n",
       "      <td>9</td>\n",
       "      <td>(0.25, 0.375, 0.75, 0.375, 0.375, 0.25, 0.375,...</td>\n",
       "      <td>(64.0, 0.25, 82.125, 0.25, 114.75, 0.25, 105.2...</td>\n",
       "      <td>(0, 0, 0, 0, 0, 0, 0, 0, 0, 0, 0, 0, 0, 0, 0, ...</td>\n",
       "      <td>(6, 7, 8, 9, 10, 11, 12, 13, 14, 15, 16, 17, 3...</td>\n",
       "    </tr>\n",
       "  </tbody>\n",
       "</table>\n",
       "</div>"
      ],
      "text/plain": [
       "   run  sub  evt                                        ch_prelimPE  \\\n",
       "0    1  445    9  (0.25, 0.375, 0.75, 0.375, 0.375, 0.25, 0.375,...   \n",
       "\n",
       "                                         ch_promptPE  \\\n",
       "0  (64.0, 0.25, 82.125, 0.25, 114.75, 0.25, 105.2...   \n",
       "\n",
       "                                   ch_AboveThreshold  \\\n",
       "0  (0, 0, 0, 0, 0, 0, 0, 0, 0, 0, 0, 0, 0, 0, 0, ...   \n",
       "\n",
       "                                               ch_ID  \n",
       "0  (6, 7, 8, 9, 10, 11, 12, 13, 14, 15, 16, 17, 3...  "
      ]
     },
     "execution_count": 67,
     "metadata": {},
     "output_type": "execute_result"
    }
   ],
   "source": [
    "df"
   ]
  },
  {
   "cell_type": "code",
   "execution_count": 122,
   "metadata": {},
   "outputs": [
    {
     "data": {
      "text/plain": [
       "'2.9.3'"
      ]
     },
     "execution_count": 122,
     "metadata": {},
     "output_type": "execute_result"
    }
   ],
   "source": [
    "import dash\n",
    "dash.__version__"
   ]
  },
  {
   "cell_type": "code",
   "execution_count": 114,
   "metadata": {},
   "outputs": [
    {
     "name": "stdout",
     "output_type": "stream",
     "text": [
      "************************************************************\n",
      "Load PMT/XA channel info : 0.02 s\n",
      "Load commissioning tree : 0.14 s\n",
      "Load op info : 2.77 s\n",
      "Load muon tracks : 0.02 s\n",
      "************************************************************\n"
     ]
    }
   ],
   "source": [
    "muon_dir = '/sbnd/data/users/brindenc/analyze_sbnd/PDS/pgun2/'\n",
    "l = Loader(DATA_DIR,PAD_DIR,'hitdumper_tree.root',load_muon=True)"
   ]
  },
  {
   "cell_type": "code",
   "execution_count": 118,
   "metadata": {},
   "outputs": [
    {
     "data": {
      "text/plain": [
       "'1.3.3'"
      ]
     },
     "execution_count": 118,
     "metadata": {},
     "output_type": "execute_result"
    }
   ],
   "source": [
    "l.get_event(1,0,1)\n",
    "l.muon_evt\n",
    "pd.__version__\n",
    "#pmts = l.get_pmt_list(0)"
   ]
  },
  {
   "cell_type": "code",
   "execution_count": 120,
   "metadata": {},
   "outputs": [
    {
     "data": {
      "text/plain": [
       "'4.1.3'"
      ]
     },
     "execution_count": 120,
     "metadata": {},
     "output_type": "execute_result"
    }
   ],
   "source": [
    "uproot.__version__"
   ]
  },
  {
   "cell_type": "code",
   "execution_count": 111,
   "metadata": {},
   "outputs": [
    {
     "data": {
      "text/html": [
       "<div>\n",
       "<style scoped>\n",
       "    .dataframe tbody tr th:only-of-type {\n",
       "        vertical-align: middle;\n",
       "    }\n",
       "\n",
       "    .dataframe tbody tr th {\n",
       "        vertical-align: top;\n",
       "    }\n",
       "\n",
       "    .dataframe thead th {\n",
       "        text-align: right;\n",
       "    }\n",
       "</style>\n",
       "<table border=\"1\" class=\"dataframe\">\n",
       "  <thead>\n",
       "    <tr style=\"text-align: right;\">\n",
       "      <th></th>\n",
       "      <th></th>\n",
       "      <th>run</th>\n",
       "      <th>subrun</th>\n",
       "      <th>event</th>\n",
       "      <th>nmuontrks</th>\n",
       "      <th>muontrk_t0</th>\n",
       "      <th>muontrk_x1</th>\n",
       "      <th>muontrk_y1</th>\n",
       "      <th>muontrk_z1</th>\n",
       "      <th>muontrk_x2</th>\n",
       "      <th>muontrk_y2</th>\n",
       "      <th>muontrk_z2</th>\n",
       "      <th>muontrk_theta_xz</th>\n",
       "      <th>muontrk_theta_yz</th>\n",
       "      <th>muontrk_tpc</th>\n",
       "      <th>muontrk_type</th>\n",
       "    </tr>\n",
       "    <tr>\n",
       "      <th>entry</th>\n",
       "      <th>subentry</th>\n",
       "      <th></th>\n",
       "      <th></th>\n",
       "      <th></th>\n",
       "      <th></th>\n",
       "      <th></th>\n",
       "      <th></th>\n",
       "      <th></th>\n",
       "      <th></th>\n",
       "      <th></th>\n",
       "      <th></th>\n",
       "      <th></th>\n",
       "      <th></th>\n",
       "      <th></th>\n",
       "      <th></th>\n",
       "      <th></th>\n",
       "    </tr>\n",
       "  </thead>\n",
       "  <tbody>\n",
       "    <tr>\n",
       "      <th>2</th>\n",
       "      <th>0</th>\n",
       "      <td>1</td>\n",
       "      <td>0</td>\n",
       "      <td>3</td>\n",
       "      <td>1</td>\n",
       "      <td>-999.0</td>\n",
       "      <td>-202.050003</td>\n",
       "      <td>199.792053</td>\n",
       "      <td>388.049988</td>\n",
       "      <td>-202.050003</td>\n",
       "      <td>57.937099</td>\n",
       "      <td>504.149994</td>\n",
       "      <td>38.659805</td>\n",
       "      <td>-50.701675</td>\n",
       "      <td>0</td>\n",
       "      <td>5</td>\n",
       "    </tr>\n",
       "  </tbody>\n",
       "</table>\n",
       "</div>"
      ],
      "text/plain": [
       "                run  subrun  event  nmuontrks  muontrk_t0  muontrk_x1  \\\n",
       "entry subentry                                                          \n",
       "2     0           1       0      3          1      -999.0 -202.050003   \n",
       "\n",
       "                muontrk_y1  muontrk_z1  muontrk_x2  muontrk_y2  muontrk_z2  \\\n",
       "entry subentry                                                               \n",
       "2     0         199.792053  388.049988 -202.050003   57.937099  504.149994   \n",
       "\n",
       "                muontrk_theta_xz  muontrk_theta_yz  muontrk_tpc  muontrk_type  \n",
       "entry subentry                                                                 \n",
       "2     0                38.659805        -50.701675            0             5  "
      ]
     },
     "execution_count": 111,
     "metadata": {},
     "output_type": "execute_result"
    }
   ],
   "source": [
    "l.muon_evt"
   ]
  },
  {
   "cell_type": "code",
   "execution_count": 110,
   "metadata": {},
   "outputs": [
    {
     "data": {
      "application/vnd.plotly.v1+json": {
       "config": {
        "plotlyServerURL": "https://plot.ly"
       },
       "data": [
        {
         "hoverinfo": "text+name",
         "line": {
          "color": "#ff0000"
         },
         "mode": "lines",
         "name": "Muon 0",
         "text": "Type : 5<br>x1 : -202.05<br>y1 : 199.79<br>z1 : 388.05<br>x2 : -202.05<br>y2 : 57.94<br>z2 : 504.15<br>theta_xz : 38.66<br>theta_yz : -50.70<br>",
         "type": "scatter",
         "x": [
          388.04998779296875,
          388.16620401529457,
          388.28242023762044,
          388.39863645994626,
          388.51485268227214,
          388.63106890459795,
          388.74728512692377,
          388.86350134924965,
          388.97971757157546,
          389.09593379390134,
          389.21215001622716,
          389.32836623855303,
          389.44458246087885,
          389.56079868320467,
          389.67701490553054,
          389.79323112785636,
          389.90944735018223,
          390.02566357250805,
          390.14187979483387,
          390.25809601715974,
          390.37431223948556,
          390.49052846181144,
          390.60674468413725,
          390.72296090646313,
          390.83917712878895,
          390.95539335111476,
          391.07160957344064,
          391.18782579576646,
          391.30404201809233,
          391.42025824041815,
          391.53647446274397,
          391.65269068506984,
          391.76890690739566,
          391.88512312972153,
          392.00133935204735,
          392.1175555743732,
          392.23377179669905,
          392.34998801902486,
          392.46620424135074,
          392.58242046367656,
          392.69863668600243,
          392.81485290832825,
          392.93106913065407,
          393.04728535297994,
          393.16350157530576,
          393.27971779763163,
          393.39593401995745,
          393.5121502422833,
          393.62836646460914,
          393.74458268693496,
          393.86079890926084,
          393.97701513158665,
          394.09323135391253,
          394.20944757623835,
          394.32566379856416,
          394.44188002089004,
          394.55809624321586,
          394.67431246554173,
          394.79052868786755,
          394.9067449101934,
          395.02296113251924,
          395.13917735484506,
          395.25539357717093,
          395.37160979949675,
          395.4878260218226,
          395.60404224414845,
          395.72025846647426,
          395.83647468880014,
          395.95269091112596,
          396.06890713345183,
          396.18512335577765,
          396.30133957810347,
          396.41755580042934,
          396.53377202275516,
          396.64998824508103,
          396.76620446740685,
          396.8824206897327,
          396.99863691205854,
          397.11485313438436,
          397.23106935671024,
          397.34728557903605,
          397.46350180136193,
          397.57971802368775,
          397.6959342460136,
          397.81215046833944,
          397.92836669066526,
          398.04458291299113,
          398.16079913531695,
          398.2770153576428,
          398.39323157996864,
          398.50944780229446,
          398.62566402462033,
          398.74188024694615,
          398.858096469272,
          398.97431269159785,
          399.09052891392366,
          399.20674513624954,
          399.32296135857536,
          399.43917758090123,
          399.55539380322705,
          399.6716100255529,
          399.78782624787874,
          399.90404247020456,
          400.02025869253043,
          400.13647491485625,
          400.2526911371821,
          400.36890735950794,
          400.48512358183376,
          400.60133980415964,
          400.71755602648545,
          400.83377224881133,
          400.94998847113715,
          401.066204693463,
          401.18242091578884,
          401.29863713811466,
          401.41485336044053,
          401.53106958276635,
          401.6472858050922,
          401.76350202741804,
          401.87971824974386,
          401.99593447206973,
          402.11215069439555,
          402.2283669167214,
          402.34458313904724,
          402.4607993613731,
          402.57701558369894,
          402.69323180602476,
          402.80944802835063,
          402.92566425067645,
          403.0418804730023,
          403.15809669532814,
          403.27431291765396,
          403.39052913997983,
          403.50674536230565,
          403.6229615846315,
          403.73917780695734,
          403.85539402928316,
          403.97161025160904,
          404.08782647393485,
          404.20404269626073,
          404.32025891858655,
          404.4364751409124,
          404.55269136323824,
          404.66890758556406,
          404.78512380788993,
          404.90134003021575,
          405.0175562525416,
          405.13377247486744,
          405.2499886971933,
          405.36620491951913,
          405.48242114184495,
          405.5986373641708,
          405.71485358649664,
          405.8310698088225,
          405.94728603114834,
          406.06350225347416,
          406.17971847580003,
          406.29593469812585,
          406.4121509204517,
          406.52836714277754,
          406.64458336510336,
          406.76079958742923,
          406.87701580975505,
          406.9932320320809,
          407.10944825440674,
          407.2256644767326,
          407.34188069905844,
          407.45809692138425,
          407.5743131437101,
          407.69052936603595,
          407.8067455883618,
          407.92296181068764,
          408.0391780330135,
          408.15539425533933,
          408.27161047766515,
          408.387826699991,
          408.50404292231684,
          408.6202591446427,
          408.73647536696853,
          408.85269158929435,
          408.9689078116202,
          409.08512403394604,
          409.2013402562719,
          409.31755647859774,
          409.43377270092356,
          409.54998892324943,
          409.66620514557525,
          409.7824213679011,
          409.89863759022694,
          410.0148538125528,
          410.13107003487863,
          410.24728625720445,
          410.3635024795303,
          410.47971870185614,
          410.595934924182,
          410.71215114650784,
          410.82836736883365,
          410.9445835911595,
          411.06079981348535,
          411.1770160358112,
          411.29323225813704,
          411.40944848046286,
          411.52566470278873,
          411.64188092511455,
          411.7580971474404,
          411.87431336976624,
          411.9905295920921,
          412.10674581441793,
          412.22296203674375,
          412.3391782590696,
          412.45539448139544,
          412.5716107037213,
          412.68782692604714,
          412.804043148373,
          412.92025937069883,
          413.03647559302465,
          413.1526918153505,
          413.26890803767634,
          413.3851242600022,
          413.50134048232803,
          413.61755670465385,
          413.7337729269797,
          413.84998914930554,
          413.9662053716314,
          414.08242159395724,
          414.19863781628305,
          414.3148540386089,
          414.43107026093475,
          414.5472864832606,
          414.66350270558644,
          414.7797189279123,
          414.89593515023813,
          415.01215137256395,
          415.1283675948898,
          415.24458381721564,
          415.3608000395415,
          415.47701626186733,
          415.5932324841932,
          415.709448706519,
          415.82566492884484,
          415.9418811511707,
          416.05809737349654,
          416.1743135958224,
          416.29052981814823,
          416.40674604047405,
          416.5229622627999,
          416.63917848512574,
          416.7553947074516,
          416.87161092977743,
          416.98782715210325,
          417.1040433744291,
          417.22025959675494,
          417.3364758190808,
          417.45269204140664,
          417.5689082637325,
          417.6851244860583,
          417.80134070838415,
          417.91755693071,
          418.03377315303584,
          418.1499893753617,
          418.26620559768753,
          418.38242182001335,
          418.4986380423392,
          418.61485426466504,
          418.7310704869909,
          418.84728670931673,
          418.96350293164255,
          419.0797191539684,
          419.19593537629424,
          419.3121515986201,
          419.42836782094594,
          419.5445840432718,
          419.66080026559763,
          419.77701648792345,
          419.8932327102493,
          420.00944893257514,
          420.125665154901,
          420.24188137722683,
          420.3580975995527,
          420.4743138218785,
          420.59053004420434,
          420.7067462665302,
          420.82296248885604,
          420.9391787111819,
          421.0553949335077,
          421.17161115583355,
          421.2878273781594,
          421.40404360048524,
          421.5202598228111,
          421.63647604513693,
          421.75269226746275,
          421.8689084897886,
          421.98512471211444,
          422.1013409344403,
          422.21755715676613,
          422.333773379092,
          422.4499896014178,
          422.56620582374364,
          422.6824220460695,
          422.79863826839534,
          422.9148544907212,
          423.03107071304703,
          423.1472869353729,
          423.2635031576987,
          423.37971938002454,
          423.4959356023504,
          423.61215182467623,
          423.7283680470021,
          423.8445842693279,
          423.96080049165374,
          424.0770167139796,
          424.19323293630544,
          424.3094491586313,
          424.4256653809571,
          424.54188160328295,
          424.6580978256088,
          424.77431404793464,
          424.8905302702605,
          425.00674649258633,
          425.1229627149122,
          425.239178937238,
          425.35539515956384,
          425.4716113818897,
          425.58782760421553,
          425.7040438265414,
          425.8202600488672,
          425.9364762711931,
          426.0526924935189,
          426.16890871584474,
          426.2851249381706,
          426.40134116049643,
          426.51755738282225,
          426.6337736051481,
          426.74998982747394,
          426.8662060497998,
          426.98242227212563,
          427.0986384944515,
          427.2148547167773,
          427.33107093910314,
          427.447287161429,
          427.56350338375483,
          427.6797196060807,
          427.7959358284065,
          427.9121520507324,
          428.0283682730582,
          428.14458449538404,
          428.2608007177099,
          428.37701694003573,
          428.4932331623616,
          428.6094493846874,
          428.72566560701324,
          428.8418818293391,
          428.95809805166493,
          429.0743142739908,
          429.1905304963166,
          429.30674671864244,
          429.4229629409683,
          429.53917916329414,
          429.65539538562,
          429.77161160794583,
          429.8878278302717,
          430.0040440525975,
          430.12026027492334,
          430.2364764972492,
          430.35269271957503,
          430.4689089419009,
          430.5851251642267,
          430.7013413865526,
          430.8175576088784,
          430.93377383120423,
          431.0499900535301,
          431.1662062758559,
          431.2824224981818,
          431.3986387205076,
          431.51485494283344,
          431.6310711651593,
          431.74728738748513,
          431.863503609811,
          431.9797198321368,
          432.09593605446264,
          432.2121522767885,
          432.32836849911433,
          432.4445847214402,
          432.560800943766,
          432.6770171660919,
          432.7932333884177,
          432.90944961074354,
          433.0256658330694,
          433.14188205539523,
          433.2580982777211,
          433.3743145000469,
          433.4905307223728,
          433.6067469446986,
          433.72296316702443,
          433.8391793893503,
          433.9553956116761,
          434.07161183400194,
          434.1878280563278,
          434.30404427865363,
          434.4202605009795,
          434.5364767233053,
          434.6526929456312,
          434.768909167957,
          434.88512539028284,
          435.0013416126087,
          435.11755783493453,
          435.2337740572604,
          435.3499902795862,
          435.4662065019121,
          435.5824227242379,
          435.69863894656373,
          435.8148551688896,
          435.9310713912154,
          436.0472876135413,
          436.1635038358671,
          436.279720058193,
          436.3959362805188,
          436.51215250284463,
          436.6283687251705,
          436.7445849474963,
          436.86080116982214,
          436.977017392148,
          437.09323361447383,
          437.2094498367997,
          437.3256660591255,
          437.4418822814514,
          437.5580985037772,
          437.67431472610303,
          437.7905309484289,
          437.9067471707547,
          438.0229633930806,
          438.1391796154064,
          438.2553958377323,
          438.3716120600581,
          438.48782828238393,
          438.6040445047098,
          438.7202607270356,
          438.8364769493615,
          438.9526931716873,
          439.06890939401313,
          439.185125616339,
          439.3013418386648,
          439.4175580609907,
          439.5337742833165,
          439.64999050564234,
          439.7662067279682,
          439.882422950294,
          439.9986391726199,
          440.1148553949457,
          440.2310716172716,
          440.3472878395974,
          440.46350406192323,
          440.5797202842491,
          440.6959365065749,
          440.8121527289008,
          440.9283689512266,
          441.0445851735525,
          441.1608013958783,
          441.2770176182041,
          441.39323384053,
          441.5094500628558,
          441.62566628518164,
          441.7418825075075,
          441.85809872983333,
          441.9743149521592,
          442.090531174485,
          442.2067473968109,
          442.3229636191367,
          442.43917984146253,
          442.5553960637884,
          442.6716122861142,
          442.7878285084401,
          442.9040447307659,
          443.0202609530918,
          443.1364771754176,
          443.2526933977434,
          443.3689096200693,
          443.4851258423951,
          443.601342064721,
          443.7175582870468,
          443.8337745093727,
          443.9499907316985,
          444.0662069540243,
          444.1824231763502,
          444.298639398676,
          444.41485562100183,
          444.5310718433277,
          444.6472880656535,
          444.7635042879794,
          444.8797205103052,
          444.9959367326311,
          445.1121529549569,
          445.22836917728273,
          445.3445853996086,
          445.4608016219344,
          445.5770178442603,
          445.6932340665861,
          445.809450288912,
          445.9256665112378,
          446.0418827335636,
          446.1580989558895,
          446.2743151782153,
          446.3905314005412,
          446.506747622867,
          446.6229638451928,
          446.7391800675187,
          446.8553962898445,
          446.9716125121704,
          447.0878287344962,
          447.20404495682203,
          447.3202611791479,
          447.4364774014737,
          447.5526936237996,
          447.6689098461254,
          447.7851260684513,
          447.9013422907771,
          448.0175585131029,
          448.1337747354288,
          448.2499909577546,
          448.3662071800805,
          448.4824234024063,
          448.5986396247322,
          448.714855847058,
          448.8310720693838,
          448.9472882917097,
          449.0635045140355,
          449.1797207363614,
          449.2959369586872,
          449.412153181013,
          449.5283694033389,
          449.6445856256647,
          449.7608018479906,
          449.8770180703164,
          449.9932342926422,
          450.1094505149681,
          450.2256667372939,
          450.3418829596198,
          450.4580991819456,
          450.5743154042715,
          450.6905316265973,
          450.8067478489231,
          450.922964071249,
          451.0391802935748,
          451.1553965159007,
          451.2716127382265,
          451.3878289605524,
          451.5040451828782,
          451.620261405204,
          451.7364776275299,
          451.8526938498557,
          451.96891007218153,
          452.0851262945074,
          452.2013425168332,
          452.3175587391591,
          452.4337749614849,
          452.5499911838108,
          452.6662074061366,
          452.7824236284624,
          452.8986398507883,
          453.0148560731141,
          453.13107229544,
          453.2472885177658,
          453.3635047400917,
          453.4797209624175,
          453.5959371847433,
          453.7121534070692,
          453.828369629395,
          453.94458585172083,
          454.0608020740467,
          454.1770182963726,
          454.2932345186984,
          454.4094507410242,
          454.5256669633501,
          454.6418831856759,
          454.7580994080017,
          454.8743156303276,
          454.9905318526534,
          455.1067480749793,
          455.2229642973051,
          455.339180519631,
          455.4553967419568,
          455.5716129642826,
          455.6878291866085,
          455.8040454089343,
          455.9202616312602,
          456.036477853586,
          456.1526940759119,
          456.2689102982377,
          456.3851265205635,
          456.5013427428894,
          456.6175589652152,
          456.733775187541,
          456.8499914098669,
          456.9662076321928,
          457.0824238545186,
          457.1986400768444,
          457.3148562991703,
          457.4310725214961,
          457.5472887438219,
          457.6635049661478,
          457.7797211884736,
          457.8959374107995,
          458.0121536331253,
          458.1283698554512,
          458.244586077777,
          458.3608023001028,
          458.4770185224287,
          458.5932347447545,
          458.7094509670804,
          458.8256671894062,
          458.9418834117321,
          459.0580996340579,
          459.1743158563837,
          459.2905320787096,
          459.4067483010354,
          459.5229645233612,
          459.6391807456871,
          459.755396968013,
          459.8716131903388,
          459.9878294126646,
          460.1040456349905,
          460.2202618573163,
          460.3364780796421,
          460.452694301968,
          460.5689105242938,
          460.6851267466197,
          460.8013429689455,
          460.9175591912714,
          461.0337754135972,
          461.149991635923,
          461.2662078582489,
          461.3824240805747,
          461.4986403029005,
          461.6148565252264,
          461.7310727475523,
          461.8472889698781,
          461.9635051922039,
          462.0797214145298,
          462.1959376368556,
          462.3121538591814,
          462.4283700815073,
          462.5445863038331,
          462.660802526159,
          462.7770187484848,
          462.8932349708107,
          463.0094511931365,
          463.1256674154623,
          463.2418836377882,
          463.358099860114,
          463.4743160824399,
          463.5905323047657,
          463.7067485270916,
          463.8229647494174,
          463.9391809717432,
          464.0553971940691,
          464.1716134163949,
          464.2878296387207,
          464.4040458610466,
          464.5202620833725,
          464.6364783056983,
          464.7526945280241,
          464.86891075035,
          464.9851269726758,
          465.1013431950016,
          465.2175594173275,
          465.3337756396533,
          465.4499918619792,
          465.566208084305,
          465.6824243066309,
          465.7986405289567,
          465.9148567512825,
          466.0310729736084,
          466.1472891959342,
          466.2635054182601,
          466.3797216405859,
          466.4959378629118,
          466.6121540852376,
          466.7283703075634,
          466.8445865298893,
          466.9608027522151,
          467.0770189745409,
          467.1932351968668,
          467.30945141919267,
          467.4256676415185,
          467.5418838638443,
          467.6581000861702,
          467.774316308496,
          467.8905325308218,
          468.0067487531477,
          468.1229649754735,
          468.2391811977994,
          468.3553974201252,
          468.4716136424511,
          468.5878298647769,
          468.7040460871027,
          468.8202623094286,
          468.9364785317544,
          469.0526947540802,
          469.1689109764061,
          469.28512719873197,
          469.4013434210578,
          469.5175596433836,
          469.6337758657095,
          469.7499920880353,
          469.8662083103611,
          469.982424532687,
          470.0986407550128,
          470.2148569773387,
          470.3310731996645,
          470.4472894219904,
          470.5635056443162,
          470.679721866642,
          470.7959380889679,
          470.9121543112937,
          471.0283705336196,
          471.1445867559454,
          471.2608029782713,
          471.3770192005971,
          471.4932354229229,
          471.6094516452488,
          471.7256678675746,
          471.8418840899004,
          471.9581003122263,
          472.07431653455217,
          472.190532756878,
          472.3067489792038,
          472.4229652015297,
          472.5391814238555,
          472.6553976461813,
          472.7716138685072,
          472.887830090833,
          473.0040463131589,
          473.1202625354847,
          473.2364787578106,
          473.3526949801364,
          473.4689112024622,
          473.5851274247881,
          473.7013436471139,
          473.8175598694398,
          473.9337760917656,
          474.04999231409147,
          474.1662085364173,
          474.2824247587431,
          474.398640981069,
          474.5148572033948,
          474.6310734257206,
          474.7472896480465,
          474.86350587037236,
          474.9797220926982,
          475.095938315024,
          475.2121545373499,
          475.3283707596757,
          475.4445869820015,
          475.5608032043274,
          475.6770194266532,
          475.7932356489791,
          475.9094518713049,
          476.02566809363077,
          476.1418843159566,
          476.2581005382824,
          476.3743167606083,
          476.4905329829341,
          476.60674920526,
          476.7229654275858,
          476.83918164991167,
          476.9553978722375,
          477.0716140945633,
          477.1878303168892,
          477.304046539215,
          477.4202627615408,
          477.5364789838667,
          477.6526952061925,
          477.7689114285184,
          477.8851276508442,
          478.0013438731701,
          478.1175600954959,
          478.2337763178217,
          478.3499925401476,
          478.4662087624734,
          478.5824249847993,
          478.6986412071251,
          478.81485742945097,
          478.9310736517768,
          479.0472898741026,
          479.1635060964285,
          479.2797223187543,
          479.3959385410801,
          479.512154763406,
          479.62837098573186,
          479.7445872080577,
          479.8608034303835,
          479.9770196527094,
          480.0932358750352,
          480.209452097361,
          480.3256683196869,
          480.4418845420127,
          480.5581007643386,
          480.6743169866644,
          480.79053320899027,
          480.9067494313161,
          481.0229656536419,
          481.1391818759678,
          481.2553980982936,
          481.37161432061947,
          481.4878305429453,
          481.60404676527116,
          481.720262987597,
          481.8364792099228,
          481.9526954322487,
          482.0689116545745,
          482.1851278769003,
          482.3013440992262,
          482.41756032155206,
          482.5337765438779,
          482.6499927662037,
          482.76620898852957,
          482.8824252108554,
          482.9986414331812,
          483.1148576555071,
          483.2310738778329,
          483.3472901001588,
          483.4635063224846,
          483.57972254481047,
          483.6959387671363,
          483.8121549894621,
          483.928371211788,
          484.0445874341138,
          484.16080365643967,
          484.2770198787655,
          484.39323610109136,
          484.5094523234172,
          484.625668545743,
          484.74188476806887,
          484.8581009903947,
          484.9743172127205,
          485.0905334350464,
          485.20674965737226,
          485.3229658796981,
          485.4391821020239,
          485.55539832434977,
          485.6716145466756,
          485.7878307690014,
          485.9040469913273,
          486.0202632136531,
          486.13647943597897,
          486.2526956583048,
          486.36891188063066,
          486.4851281029565,
          486.6013443252823,
          486.7175605476082,
          486.833776769934,
          486.9499929922598,
          487.0662092145857,
          487.18242543691156,
          487.2986416592374,
          487.4148578815632,
          487.53107410388907,
          487.6472903262149,
          487.7635065485407,
          487.8797227708666,
          487.9959389931924,
          488.11215521551827,
          488.2283714378441,
          488.34458766016996,
          488.4608038824958,
          488.5770201048216,
          488.6932363271475,
          488.8094525494733,
          488.92566877179917,
          489.041884994125,
          489.15810121645086,
          489.2743174387767,
          489.3905336611025,
          489.50674988342837,
          489.6229661057542,
          489.73918232808,
          489.8553985504059,
          489.97161477273175,
          490.0878309950576,
          490.2040472173834,
          490.32026343970927,
          490.4364796620351,
          490.5526958843609,
          490.6689121066868,
          490.7851283290126,
          490.90134455133847,
          491.0175607736643,
          491.13377699599016,
          491.249993218316,
          491.3662094406418,
          491.48242566296767,
          491.5986418852935,
          491.71485810761936,
          491.8310743299452,
          491.94729055227106,
          492.0635067745969,
          492.1797229969227,
          492.29593921924857,
          492.4121554415744,
          492.5283716639002,
          492.6445878862261,
          492.76080410855195,
          492.87702033087777,
          492.9932365532036,
          493.10945277552946,
          493.2256689978553,
          493.3418852201811,
          493.458101442507,
          493.5743176648328,
          493.69053388715867,
          493.8067501094845,
          493.92296633181036,
          494.0391825541362,
          494.155398776462,
          494.27161499878787,
          494.3878312211137,
          494.5040474434395,
          494.6202636657654,
          494.73647988809125,
          494.85269611041707,
          494.9689123327429,
          495.08512855506876,
          495.2013447773946,
          495.3175609997204,
          495.4337772220463,
          495.5499934443721,
          495.66620966669797,
          495.7824258890238,
          495.89864211134966,
          496.0148583336755,
          496.1310745560013,
          496.24729077832717,
          496.363507000653,
          496.47972322297886,
          496.5959394453047,
          496.71215566763055,
          496.8283718899564,
          496.9445881122822,
          497.06080433460806,
          497.1770205569339,
          497.2932367792597,
          497.4094530015856,
          497.52566922391145,
          497.64188544623727,
          497.7581016685631,
          497.87431789088896,
          497.9905341132148,
          498.1067503355406,
          498.22296655786647,
          498.3391827801923,
          498.45539900251816,
          498.571615224844,
          498.68783144716986,
          498.8040476694957,
          498.9202638918215,
          499.03648011414737,
          499.1526963364732,
          499.26891255879906,
          499.3851287811249,
          499.50134500345075,
          499.61756122577657,
          499.7337774481024,
          499.84999367042826,
          499.9662098927541,
          500.0824261150799,
          500.1986423374058,
          500.31485855973165,
          500.43107478205746,
          500.5472910043833,
          500.66350722670916,
          500.779723449035,
          500.8959396713608,
          501.01215589368667,
          501.1283721160125,
          501.24458833833836,
          501.3608045606642,
          501.47702078299005,
          501.59323700531587,
          501.7094532276417,
          501.82566944996756,
          501.9418856722934,
          502.05810189461926,
          502.1743181169451,
          502.29053433927095,
          502.40675056159677,
          502.5229667839226,
          502.63918300624846,
          502.7553992285743,
          502.8716154509001,
          502.98783167322597,
          503.1040478955518,
          503.22026411787766,
          503.3364803402035,
          503.45269656252935,
          503.5689127848552,
          503.685129007181,
          503.80134522950686,
          503.9175614518327,
          504.03377767415856,
          504.1499938964844
         ],
         "y": [
          199.79205322265625,
          199.65005627193966,
          199.50805932122307,
          199.36606237050648,
          199.2240654197899,
          199.08206846907333,
          198.94007151835675,
          198.79807456764016,
          198.65607761692357,
          198.51408066620698,
          198.3720837154904,
          198.2300867647738,
          198.0880898140572,
          197.94609286334062,
          197.80409591262406,
          197.66209896190747,
          197.5201020111909,
          197.3781050604743,
          197.2361081097577,
          197.09411115904112,
          196.95211420832453,
          196.81011725760794,
          196.66812030689135,
          196.52612335617476,
          196.3841264054582,
          196.24212945474162,
          196.10013250402503,
          195.95813555330844,
          195.81613860259185,
          195.67414165187526,
          195.53214470115867,
          195.39014775044208,
          195.2481507997255,
          195.10615384900893,
          194.96415689829234,
          194.82215994757576,
          194.68016299685917,
          194.53816604614258,
          194.396169095426,
          194.2541721447094,
          194.1121751939928,
          193.97017824327622,
          193.82818129255966,
          193.68618434184307,
          193.54418739112648,
          193.4021904404099,
          193.2601934896933,
          193.11819653897672,
          192.97619958826013,
          192.83420263754354,
          192.69220568682695,
          192.5502087361104,
          192.4082117853938,
          192.2662148346772,
          192.12421788396063,
          191.98222093324404,
          191.84022398252745,
          191.69822703181086,
          191.55623008109427,
          191.41423313037768,
          191.2722361796611,
          191.13023922894453,
          190.98824227822794,
          190.84624532751135,
          190.70424837679477,
          190.56225142607818,
          190.4202544753616,
          190.278257524645,
          190.1362605739284,
          189.99426362321185,
          189.85226667249526,
          189.71026972177867,
          189.56827277106208,
          189.4262758203455,
          189.2842788696289,
          189.14228191891232,
          189.00028496819573,
          188.85828801747914,
          188.71629106676255,
          188.574294116046,
          188.4322971653294,
          188.2903002146128,
          188.14830326389622,
          188.00630631317964,
          187.86430936246305,
          187.72231241174646,
          187.58031546102987,
          187.43831851031328,
          187.29632155959672,
          187.15432460888013,
          187.01232765816354,
          186.87033070744695,
          186.72833375673036,
          186.58633680601378,
          186.4443398552972,
          186.3023429045806,
          186.160345953864,
          186.01834900314742,
          185.87635205243086,
          185.73435510171427,
          185.59235815099768,
          185.4503612002811,
          185.3083642495645,
          185.16636729884792,
          185.02437034813133,
          184.88237339741474,
          184.74037644669818,
          184.5983794959816,
          184.456382545265,
          184.3143855945484,
          184.17238864383182,
          184.03039169311523,
          183.88839474239865,
          183.74639779168206,
          183.60440084096547,
          183.46240389024888,
          183.32040693953232,
          183.17840998881573,
          183.03641303809914,
          182.89441608738255,
          182.75241913666596,
          182.61042218594937,
          182.4684252352328,
          182.3264282845162,
          182.18443133379964,
          182.04243438308305,
          181.90043743236646,
          181.75844048164987,
          181.61644353093328,
          181.4744465802167,
          181.3324496295001,
          181.19045267878352,
          181.04845572806693,
          180.90645877735034,
          180.76446182663375,
          180.6224648759172,
          180.4804679252006,
          180.338470974484,
          180.19647402376742,
          180.05447707305083,
          179.91248012233424,
          179.77048317161766,
          179.62848622090107,
          179.4864892701845,
          179.34449231946792,
          179.20249536875133,
          179.06049841803474,
          178.91850146731815,
          178.77650451660156,
          178.63450756588497,
          178.49251061516838,
          178.3505136644518,
          178.2085167137352,
          178.06651976301865,
          177.92452281230206,
          177.78252586158547,
          177.64052891086888,
          177.4985319601523,
          177.3565350094357,
          177.2145380587191,
          177.07254110800253,
          176.93054415728596,
          176.78854720656938,
          176.6465502558528,
          176.5045533051362,
          176.3625563544196,
          176.22055940370302,
          176.07856245298643,
          175.93656550226984,
          175.79456855155325,
          175.65257160083667,
          175.51057465012008,
          175.36857769940352,
          175.22658074868693,
          175.08458379797034,
          174.94258684725375,
          174.80058989653716,
          174.65859294582057,
          174.51659599510398,
          174.3745990443874,
          174.23260209367083,
          174.09060514295425,
          173.94860819223766,
          173.80661124152107,
          173.66461429080448,
          173.5226173400879,
          173.3806203893713,
          173.2386234386547,
          173.09662648793812,
          172.95462953722154,
          172.81263258650498,
          172.6706356357884,
          172.5286386850718,
          172.3866417343552,
          172.24464478363862,
          172.10264783292203,
          171.96065088220544,
          171.81865393148885,
          171.6766569807723,
          171.5346600300557,
          171.39266307933912,
          171.25066612862253,
          171.10866917790594,
          170.96667222718935,
          170.82467527647276,
          170.68267832575617,
          170.54068137503958,
          170.398684424323,
          170.2566874736064,
          170.11469052288984,
          169.97269357217326,
          169.83069662145667,
          169.68869967074008,
          169.5467027200235,
          169.4047057693069,
          169.2627088185903,
          169.12071186787372,
          168.97871491715716,
          168.83671796644057,
          168.69472101572399,
          168.5527240650074,
          168.4107271142908,
          168.26873016357422,
          168.12673321285763,
          167.98473626214104,
          167.84273931142445,
          167.70074236070786,
          167.55874540999127,
          167.41674845927471,
          167.27475150855813,
          167.13275455784154,
          166.99075760712495,
          166.84876065640836,
          166.70676370569177,
          166.56476675497518,
          166.42276980425862,
          166.28077285354203,
          166.13877590282544,
          165.99677895210885,
          165.85478200139227,
          165.71278505067568,
          165.5707880999591,
          165.4287911492425,
          165.2867941985259,
          165.14479724780932,
          165.00280029709273,
          164.86080334637617,
          164.71880639565958,
          164.576809444943,
          164.4348124942264,
          164.29281554350982,
          164.15081859279323,
          164.00882164207664,
          163.86682469136008,
          163.7248277406435,
          163.5828307899269,
          163.4408338392103,
          163.29883688849372,
          163.15683993777714,
          163.01484298706055,
          162.87284603634396,
          162.73084908562737,
          162.58885213491078,
          162.4468551841942,
          162.3048582334776,
          162.16286128276104,
          162.02086433204445,
          161.87886738132786,
          161.73687043061128,
          161.5948734798947,
          161.4528765291781,
          161.31087957846154,
          161.16888262774495,
          161.02688567702836,
          160.88488872631177,
          160.74289177559518,
          160.6008948248786,
          160.458897874162,
          160.31690092344542,
          160.17490397272883,
          160.03290702201224,
          159.89091007129565,
          159.74891312057906,
          159.6069161698625,
          159.4649192191459,
          159.32292226842932,
          159.18092531771273,
          159.03892836699615,
          158.89693141627956,
          158.75493446556297,
          158.6129375148464,
          158.47094056412982,
          158.32894361341323,
          158.18694666269664,
          158.04494971198005,
          157.90295276126346,
          157.76095581054688,
          157.6189588598303,
          157.4769619091137,
          157.3349649583971,
          157.19296800768052,
          157.05097105696396,
          156.90897410624737,
          156.76697715553078,
          156.6249802048142,
          156.4829832540976,
          156.34098630338102,
          156.19898935266443,
          156.05699240194787,
          155.91499545123128,
          155.7729985005147,
          155.6310015497981,
          155.4890045990815,
          155.34700764836492,
          155.20501069764833,
          155.06301374693174,
          154.92101679621516,
          154.77901984549857,
          154.63702289478198,
          154.4950259440654,
          154.35302899334883,
          154.21103204263224,
          154.06903509191565,
          153.92703814119906,
          153.78504119048247,
          153.64304423976589,
          153.5010472890493,
          153.35905033833274,
          153.21705338761615,
          153.07505643689956,
          152.93305948618297,
          152.79106253546638,
          152.6490655847498,
          152.5070686340332,
          152.36507168331661,
          152.22307473260003,
          152.08107778188344,
          151.93908083116685,
          151.7970838804503,
          151.6550869297337,
          151.5130899790171,
          151.37109302830052,
          151.22909607758393,
          151.08709912686734,
          150.94510217615075,
          150.8031052254342,
          150.6611082747176,
          150.51911132400102,
          150.37711437328443,
          150.23511742256784,
          150.09312047185125,
          149.95112352113466,
          149.80912657041807,
          149.66712961970148,
          149.5251326689849,
          149.3831357182683,
          149.24113876755172,
          149.09914181683516,
          148.95714486611857,
          148.81514791540198,
          148.6731509646854,
          148.5311540139688,
          148.3891570632522,
          148.24716011253562,
          148.10516316181906,
          147.96316621110248,
          147.8211692603859,
          147.6791723096693,
          147.5371753589527,
          147.39517840823612,
          147.25318145751953,
          147.11118450680294,
          146.96918755608635,
          146.82719060536976,
          146.68519365465318,
          146.54319670393662,
          146.40119975322003,
          146.25920280250344,
          146.11720585178685,
          145.97520890107026,
          145.83321195035367,
          145.69121499963708,
          145.54921804892052,
          145.40722109820393,
          145.26522414748734,
          145.12322719677076,
          144.98123024605417,
          144.83923329533758,
          144.697236344621,
          144.5552393939044,
          144.4132424431878,
          144.27124549247122,
          144.12924854175463,
          143.98725159103805,
          143.84525464032149,
          143.7032576896049,
          143.5612607388883,
          143.41926378817172,
          143.27726683745513,
          143.13526988673854,
          142.99327293602195,
          142.8512759853054,
          142.7092790345888,
          142.56728208387221,
          142.42528513315563,
          142.28328818243904,
          142.14129123172245,
          141.99929428100586,
          141.85729733028927,
          141.71530037957268,
          141.5733034288561,
          141.4313064781395,
          141.28930952742294,
          141.14731257670636,
          141.00531562598977,
          140.86331867527318,
          140.7213217245566,
          140.57932477384,
          140.4373278231234,
          140.29533087240685,
          140.15333392169026,
          140.01133697097367,
          139.86934002025708,
          139.7273430695405,
          139.5853461188239,
          139.44334916810732,
          139.30135221739073,
          139.15935526667414,
          139.01735831595755,
          138.87536136524096,
          138.73336441452437,
          138.5913674638078,
          138.44937051309122,
          138.30737356237464,
          138.16537661165805,
          138.02337966094146,
          137.88138271022487,
          137.73938575950828,
          137.59738880879172,
          137.45539185807513,
          137.31339490735854,
          137.17139795664195,
          137.02940100592537,
          136.88740405520878,
          136.7454071044922,
          136.6034101537756,
          136.461413203059,
          136.31941625234242,
          136.17741930162583,
          136.03542235090927,
          135.89342540019268,
          135.7514284494761,
          135.6094314987595,
          135.46743454804292,
          135.32543759732633,
          135.18344064660977,
          135.04144369589318,
          134.8994467451766,
          134.75744979446,
          134.6154528437434,
          134.47345589302682,
          134.33145894231023,
          134.18946199159365,
          134.04746504087706,
          133.90546809016047,
          133.76347113944388,
          133.6214741887273,
          133.4794772380107,
          133.3374802872941,
          133.19548333657755,
          133.05348638586096,
          132.91148943514438,
          132.7694924844278,
          132.62749553371123,
          132.48549858299464,
          132.34350163227805,
          132.20150468156146,
          132.05950773084487,
          131.91751078012828,
          131.7755138294117,
          131.6335168786951,
          131.49151992797852,
          131.34952297726193,
          131.20752602654534,
          131.06552907582875,
          130.92353212511216,
          130.78153517439557,
          130.639538223679,
          130.49754127296242,
          130.35554432224583,
          130.21354737152924,
          130.07155042081266,
          129.9295534700961,
          129.7875565193795,
          129.64555956866292,
          129.50356261794633,
          129.36156566722974,
          129.21956871651315,
          129.07757176579656,
          128.93557481507997,
          128.79357786436339,
          128.6515809136468,
          128.5095839629302,
          128.36758701221362,
          128.22559006149703,
          128.08359311078044,
          127.94159616006388,
          127.79959920934729,
          127.6576022586307,
          127.51560530791411,
          127.37360835719754,
          127.23161140648095,
          127.08961445576436,
          126.94761750504777,
          126.80562055433118,
          126.66362360361461,
          126.52162665289802,
          126.37962970218143,
          126.23763275146484,
          126.09563580074827,
          125.95363885003168,
          125.81164189931509,
          125.6696449485985,
          125.52764799788191,
          125.38565104716534,
          125.24365409644875,
          125.10165714573216,
          124.95966019501557,
          124.81766324429898,
          124.67566629358241,
          124.53366934286582,
          124.39167239214923,
          124.24967544143264,
          124.10767849071607,
          123.96568153999948,
          123.82368458928289,
          123.6816876385663,
          123.53969068784971,
          123.39769373713314,
          123.25569678641655,
          123.11369983569996,
          122.97170288498337,
          122.8297059342668,
          122.68770898355021,
          122.54571203283362,
          122.40371508211703,
          122.26171813140044,
          122.11972118068387,
          121.97772422996728,
          121.83572727925069,
          121.6937303285341,
          121.55173337781751,
          121.40973642710094,
          121.26773947638435,
          121.12574252566776,
          120.98374557495117,
          120.8417486242346,
          120.69975167351801,
          120.55775472280142,
          120.41575777208483,
          120.27376082136824,
          120.13176387065167,
          119.98976691993508,
          119.84776996921849,
          119.7057730185019,
          119.56377606778531,
          119.42177911706874,
          119.27978216635215,
          119.13778521563556,
          118.99578826491897,
          118.8537913142024,
          118.71179436348581,
          118.56979741276922,
          118.42780046205263,
          118.28580351133604,
          118.14380656061947,
          118.00180960990288,
          117.85981265918629,
          117.7178157084697,
          117.57581875775313,
          117.43382180703654,
          117.29182485631995,
          117.14982790560336,
          117.00783095488677,
          116.8658340041702,
          116.72383705345361,
          116.58184010273702,
          116.43984315202043,
          116.29784620130384,
          116.15584925058727,
          116.01385229987068,
          115.87185534915409,
          115.7298583984375,
          115.58786144772093,
          115.44586449700434,
          115.30386754628775,
          115.16187059557116,
          115.01987364485457,
          114.877876694138,
          114.7358797434214,
          114.59388279270482,
          114.45188584198823,
          114.30988889127165,
          114.16789194055507,
          114.02589498983848,
          113.88389803912189,
          113.7419010884053,
          113.59990413768872,
          113.45790718697214,
          113.31591023625555,
          113.17391328553896,
          113.03191633482237,
          112.8899193841058,
          112.7479224333892,
          112.60592548267262,
          112.46392853195603,
          112.32193158123945,
          112.17993463052287,
          112.03793767980628,
          111.89594072908969,
          111.7539437783731,
          111.61194682765652,
          111.46994987693994,
          111.32795292622335,
          111.18595597550676,
          111.04395902479017,
          110.9019620740736,
          110.759965123357,
          110.61796817264042,
          110.47597122192383,
          110.33397427120725,
          110.19197732049066,
          110.04998036977408,
          109.90798341905749,
          109.7659864683409,
          109.62398951762432,
          109.48199256690773,
          109.33999561619115,
          109.19799866547456,
          109.05600171475798,
          108.9140047640414,
          108.7720078133248,
          108.63001086260822,
          108.48801391189163,
          108.34601696117505,
          108.20402001045846,
          108.06202305974188,
          107.92002610902529,
          107.7780291583087,
          107.63603220759212,
          107.49403525687553,
          107.35203830615895,
          107.21004135544236,
          107.06804440472578,
          106.9260474540092,
          106.7840505032926,
          106.64205355257602,
          106.50005660185943,
          106.35805965114285,
          106.21606270042626,
          106.07406574970967,
          105.93206879899309,
          105.79007184827651,
          105.64807489755992,
          105.50607794684333,
          105.36408099612675,
          105.22208404541016,
          105.08008709469358,
          104.93809014397699,
          104.7960931932604,
          104.65409624254382,
          104.51209929182723,
          104.37010234111065,
          104.22810539039406,
          104.08610843967747,
          103.94411148896089,
          103.80211453824431,
          103.66011758752772,
          103.51812063681113,
          103.37612368609454,
          103.23412673537796,
          103.09212978466138,
          102.95013283394479,
          102.8081358832282,
          102.66613893251161,
          102.52414198179504,
          102.38214503107845,
          102.24014808036186,
          102.09815112964527,
          101.95615417892868,
          101.81415722821211,
          101.67216027749552,
          101.53016332677893,
          101.38816637606234,
          101.24616942534576,
          101.10417247462918,
          100.96217552391259,
          100.820178573196,
          100.67818162247941,
          100.53618467176284,
          100.39418772104625,
          100.25219077032966,
          100.11019381961307,
          99.96819686889648,
          99.82619991817991,
          99.68420296746332,
          99.54220601674673,
          99.40020906603014,
          99.25821211531355,
          99.11621516459698,
          98.97421821388039,
          98.8322212631638,
          98.69022431244721,
          98.54822736173064,
          98.40623041101405,
          98.26423346029746,
          98.12223650958087,
          97.98023955886428,
          97.83824260814771,
          97.69624565743112,
          97.55424870671453,
          97.41225175599794,
          97.27025480528137,
          97.12825785456478,
          96.98626090384819,
          96.8442639531316,
          96.70226700241501,
          96.56027005169844,
          96.41827310098185,
          96.27627615026526,
          96.13427919954867,
          95.99228224883208,
          95.85028529811551,
          95.70828834739892,
          95.56629139668233,
          95.42429444596574,
          95.28229749524917,
          95.14030054453258,
          94.99830359381599,
          94.8563066430994,
          94.71430969238281,
          94.57231274166624,
          94.43031579094965,
          94.28831884023306,
          94.14632188951647,
          94.0043249387999,
          93.86232798808331,
          93.72033103736672,
          93.57833408665013,
          93.43633713593354,
          93.29434018521697,
          93.15234323450038,
          93.01034628378379,
          92.8683493330672,
          92.72635238235061,
          92.58435543163404,
          92.44235848091745,
          92.30036153020086,
          92.15836457948427,
          92.0163676287677,
          91.87437067805111,
          91.73237372733452,
          91.59037677661793,
          91.44837982590134,
          91.30638287518477,
          91.16438592446818,
          91.02238897375159,
          90.880392023035,
          90.73839507231841,
          90.59639812160184,
          90.45440117088525,
          90.31240422016866,
          90.17040726945207,
          90.0284103187355,
          89.8864133680189,
          89.74441641730232,
          89.60241946658573,
          89.46042251586914,
          89.31842556515257,
          89.17642861443598,
          89.03443166371939,
          88.8924347130028,
          88.75043776228623,
          88.60844081156964,
          88.46644386085305,
          88.32444691013646,
          88.18244995941987,
          88.0404530087033,
          87.8984560579867,
          87.75645910727012,
          87.61446215655353,
          87.47246520583694,
          87.33046825512037,
          87.18847130440378,
          87.04647435368719,
          86.9044774029706,
          86.76248045225402,
          86.62048350153744,
          86.47848655082085,
          86.33648960010426,
          86.19449264938767,
          86.0524956986711,
          85.9104987479545,
          85.76850179723792,
          85.62650484652133,
          85.48450789580475,
          85.34251094508816,
          85.20051399437158,
          85.05851704365499,
          84.9165200929384,
          84.77452314222182,
          84.63252619150524,
          84.49052924078865,
          84.34853229007206,
          84.20653533935547,
          84.0645383886389,
          83.9225414379223,
          83.78054448720572,
          83.63854753648913,
          83.49655058577255,
          83.35455363505596,
          83.21255668433938,
          83.07055973362279,
          82.9285627829062,
          82.78656583218962,
          82.64456888147303,
          82.50257193075645,
          82.36057498003986,
          82.21857802932328,
          82.0765810786067,
          81.9345841278901,
          81.79258717717352,
          81.65059022645693,
          81.50859327574035,
          81.36659632502376,
          81.22459937430718,
          81.08260242359059,
          80.940605472874,
          80.79860852215742,
          80.65661157144083,
          80.51461462072425,
          80.37261767000766,
          80.23062071929108,
          80.0886237685745,
          79.9466268178579,
          79.80462986714132,
          79.66263291642473,
          79.52063596570815,
          79.37863901499156,
          79.23664206427497,
          79.09464511355839,
          78.9526481628418,
          78.81065121212522,
          78.66865426140863,
          78.52665731069204,
          78.38466035997546,
          78.24266340925888,
          78.10066645854229,
          77.9586695078257,
          77.81667255710911,
          77.67467560639253,
          77.53267865567595,
          77.39068170495936,
          77.24868475424277,
          77.10668780352619,
          76.96469085280961,
          76.82269390209302,
          76.68069695137643,
          76.53870000065984,
          76.39670304994326,
          76.25470609922668,
          76.11270914851009,
          75.9707121977935,
          75.82871524707691,
          75.68671829636033,
          75.54472134564375,
          75.40272439492716,
          75.26072744421057,
          75.11873049349398,
          74.97673354277741,
          74.83473659206082,
          74.69273964134423,
          74.55074269062764,
          74.40874573991105,
          74.26674878919448,
          74.12475183847789,
          73.9827548877613,
          73.84075793704471,
          73.69876098632814,
          73.55676403561155,
          73.41476708489496,
          73.27277013417837,
          73.13077318346178,
          72.98877623274521,
          72.84677928202862,
          72.70478233131203,
          72.56278538059544,
          72.42078842987885,
          72.27879147916228,
          72.13679452844569,
          71.9947975777291,
          71.85280062701251,
          71.71080367629594,
          71.56880672557935,
          71.42680977486276,
          71.28481282414617,
          71.14281587342958,
          71.000818922713,
          70.8588219719964,
          70.71682502127985,
          70.57482807056326,
          70.43283111984667,
          70.29083416913008,
          70.14883721841349,
          70.0068402676969,
          69.86484331698031,
          69.72284636626372,
          69.58084941554714,
          69.43885246483057,
          69.29685551411399,
          69.1548585633974,
          69.01286161268081,
          68.87086466196422,
          68.72886771124763,
          68.58687076053104,
          68.44487380981445,
          68.30287685909786,
          68.16087990838128,
          68.01888295766472,
          67.87688600694813,
          67.73488905623154,
          67.59289210551495,
          67.45089515479836,
          67.30889820408177,
          67.16690125336518,
          67.0249043026486,
          66.882907351932,
          66.74091040121544,
          66.59891345049886,
          66.45691649978227,
          66.31491954906568,
          66.17292259834909,
          66.0309256476325,
          65.88892869691591,
          65.74693174619932,
          65.60493479548273,
          65.46293784476617,
          65.32094089404958,
          65.178943943333,
          65.03694699261641,
          64.89495004189982,
          64.75295309118323,
          64.61095614046664,
          64.46895918975005,
          64.32696223903346,
          64.1849652883169,
          64.04296833760031,
          63.900971386883725,
          63.758974436167136,
          63.61697748545055,
          63.47498053473396,
          63.33298358401737,
          63.19098663330078,
          63.04898968258419,
          62.906992731867604,
          62.76499578115104,
          62.622998830434454,
          62.481001879717866,
          62.33900492900128,
          62.19700797828469,
          62.0550110275681,
          61.91301407685151,
          61.77101712613492,
          61.62902017541833,
          61.48702322470177,
          61.345026273985184,
          61.203029323268595,
          61.061032372552006,
          60.91903542183542,
          60.77703847111883,
          60.63504152040224,
          60.49304456968565,
          60.35104761896906,
          60.2090506682525,
          60.06705371753591,
          59.925056766819324,
          59.783059816102735,
          59.64106286538615,
          59.49906591466956,
          59.35706896395297,
          59.21507201323638,
          59.07307506251979,
          58.93107811180323,
          58.78908116108664,
          58.64708421037005,
          58.505087259653465,
          58.363090308936876,
          58.22109335822029,
          58.0790964075037,
          57.93709945678711
         ]
        }
       ],
       "layout": {
        "template": {
         "data": {
          "bar": [
           {
            "error_x": {
             "color": "#2a3f5f"
            },
            "error_y": {
             "color": "#2a3f5f"
            },
            "marker": {
             "line": {
              "color": "#E5ECF6",
              "width": 0.5
             },
             "pattern": {
              "fillmode": "overlay",
              "size": 10,
              "solidity": 0.2
             }
            },
            "type": "bar"
           }
          ],
          "barpolar": [
           {
            "marker": {
             "line": {
              "color": "#E5ECF6",
              "width": 0.5
             },
             "pattern": {
              "fillmode": "overlay",
              "size": 10,
              "solidity": 0.2
             }
            },
            "type": "barpolar"
           }
          ],
          "carpet": [
           {
            "aaxis": {
             "endlinecolor": "#2a3f5f",
             "gridcolor": "white",
             "linecolor": "white",
             "minorgridcolor": "white",
             "startlinecolor": "#2a3f5f"
            },
            "baxis": {
             "endlinecolor": "#2a3f5f",
             "gridcolor": "white",
             "linecolor": "white",
             "minorgridcolor": "white",
             "startlinecolor": "#2a3f5f"
            },
            "type": "carpet"
           }
          ],
          "choropleth": [
           {
            "colorbar": {
             "outlinewidth": 0,
             "ticks": ""
            },
            "type": "choropleth"
           }
          ],
          "contour": [
           {
            "colorbar": {
             "outlinewidth": 0,
             "ticks": ""
            },
            "colorscale": [
             [
              0,
              "#0d0887"
             ],
             [
              0.1111111111111111,
              "#46039f"
             ],
             [
              0.2222222222222222,
              "#7201a8"
             ],
             [
              0.3333333333333333,
              "#9c179e"
             ],
             [
              0.4444444444444444,
              "#bd3786"
             ],
             [
              0.5555555555555556,
              "#d8576b"
             ],
             [
              0.6666666666666666,
              "#ed7953"
             ],
             [
              0.7777777777777778,
              "#fb9f3a"
             ],
             [
              0.8888888888888888,
              "#fdca26"
             ],
             [
              1,
              "#f0f921"
             ]
            ],
            "type": "contour"
           }
          ],
          "contourcarpet": [
           {
            "colorbar": {
             "outlinewidth": 0,
             "ticks": ""
            },
            "type": "contourcarpet"
           }
          ],
          "heatmap": [
           {
            "colorbar": {
             "outlinewidth": 0,
             "ticks": ""
            },
            "colorscale": [
             [
              0,
              "#0d0887"
             ],
             [
              0.1111111111111111,
              "#46039f"
             ],
             [
              0.2222222222222222,
              "#7201a8"
             ],
             [
              0.3333333333333333,
              "#9c179e"
             ],
             [
              0.4444444444444444,
              "#bd3786"
             ],
             [
              0.5555555555555556,
              "#d8576b"
             ],
             [
              0.6666666666666666,
              "#ed7953"
             ],
             [
              0.7777777777777778,
              "#fb9f3a"
             ],
             [
              0.8888888888888888,
              "#fdca26"
             ],
             [
              1,
              "#f0f921"
             ]
            ],
            "type": "heatmap"
           }
          ],
          "heatmapgl": [
           {
            "colorbar": {
             "outlinewidth": 0,
             "ticks": ""
            },
            "colorscale": [
             [
              0,
              "#0d0887"
             ],
             [
              0.1111111111111111,
              "#46039f"
             ],
             [
              0.2222222222222222,
              "#7201a8"
             ],
             [
              0.3333333333333333,
              "#9c179e"
             ],
             [
              0.4444444444444444,
              "#bd3786"
             ],
             [
              0.5555555555555556,
              "#d8576b"
             ],
             [
              0.6666666666666666,
              "#ed7953"
             ],
             [
              0.7777777777777778,
              "#fb9f3a"
             ],
             [
              0.8888888888888888,
              "#fdca26"
             ],
             [
              1,
              "#f0f921"
             ]
            ],
            "type": "heatmapgl"
           }
          ],
          "histogram": [
           {
            "marker": {
             "pattern": {
              "fillmode": "overlay",
              "size": 10,
              "solidity": 0.2
             }
            },
            "type": "histogram"
           }
          ],
          "histogram2d": [
           {
            "colorbar": {
             "outlinewidth": 0,
             "ticks": ""
            },
            "colorscale": [
             [
              0,
              "#0d0887"
             ],
             [
              0.1111111111111111,
              "#46039f"
             ],
             [
              0.2222222222222222,
              "#7201a8"
             ],
             [
              0.3333333333333333,
              "#9c179e"
             ],
             [
              0.4444444444444444,
              "#bd3786"
             ],
             [
              0.5555555555555556,
              "#d8576b"
             ],
             [
              0.6666666666666666,
              "#ed7953"
             ],
             [
              0.7777777777777778,
              "#fb9f3a"
             ],
             [
              0.8888888888888888,
              "#fdca26"
             ],
             [
              1,
              "#f0f921"
             ]
            ],
            "type": "histogram2d"
           }
          ],
          "histogram2dcontour": [
           {
            "colorbar": {
             "outlinewidth": 0,
             "ticks": ""
            },
            "colorscale": [
             [
              0,
              "#0d0887"
             ],
             [
              0.1111111111111111,
              "#46039f"
             ],
             [
              0.2222222222222222,
              "#7201a8"
             ],
             [
              0.3333333333333333,
              "#9c179e"
             ],
             [
              0.4444444444444444,
              "#bd3786"
             ],
             [
              0.5555555555555556,
              "#d8576b"
             ],
             [
              0.6666666666666666,
              "#ed7953"
             ],
             [
              0.7777777777777778,
              "#fb9f3a"
             ],
             [
              0.8888888888888888,
              "#fdca26"
             ],
             [
              1,
              "#f0f921"
             ]
            ],
            "type": "histogram2dcontour"
           }
          ],
          "mesh3d": [
           {
            "colorbar": {
             "outlinewidth": 0,
             "ticks": ""
            },
            "type": "mesh3d"
           }
          ],
          "parcoords": [
           {
            "line": {
             "colorbar": {
              "outlinewidth": 0,
              "ticks": ""
             }
            },
            "type": "parcoords"
           }
          ],
          "pie": [
           {
            "automargin": true,
            "type": "pie"
           }
          ],
          "scatter": [
           {
            "fillpattern": {
             "fillmode": "overlay",
             "size": 10,
             "solidity": 0.2
            },
            "type": "scatter"
           }
          ],
          "scatter3d": [
           {
            "line": {
             "colorbar": {
              "outlinewidth": 0,
              "ticks": ""
             }
            },
            "marker": {
             "colorbar": {
              "outlinewidth": 0,
              "ticks": ""
             }
            },
            "type": "scatter3d"
           }
          ],
          "scattercarpet": [
           {
            "marker": {
             "colorbar": {
              "outlinewidth": 0,
              "ticks": ""
             }
            },
            "type": "scattercarpet"
           }
          ],
          "scattergeo": [
           {
            "marker": {
             "colorbar": {
              "outlinewidth": 0,
              "ticks": ""
             }
            },
            "type": "scattergeo"
           }
          ],
          "scattergl": [
           {
            "marker": {
             "colorbar": {
              "outlinewidth": 0,
              "ticks": ""
             }
            },
            "type": "scattergl"
           }
          ],
          "scattermapbox": [
           {
            "marker": {
             "colorbar": {
              "outlinewidth": 0,
              "ticks": ""
             }
            },
            "type": "scattermapbox"
           }
          ],
          "scatterpolar": [
           {
            "marker": {
             "colorbar": {
              "outlinewidth": 0,
              "ticks": ""
             }
            },
            "type": "scatterpolar"
           }
          ],
          "scatterpolargl": [
           {
            "marker": {
             "colorbar": {
              "outlinewidth": 0,
              "ticks": ""
             }
            },
            "type": "scatterpolargl"
           }
          ],
          "scatterternary": [
           {
            "marker": {
             "colorbar": {
              "outlinewidth": 0,
              "ticks": ""
             }
            },
            "type": "scatterternary"
           }
          ],
          "surface": [
           {
            "colorbar": {
             "outlinewidth": 0,
             "ticks": ""
            },
            "colorscale": [
             [
              0,
              "#0d0887"
             ],
             [
              0.1111111111111111,
              "#46039f"
             ],
             [
              0.2222222222222222,
              "#7201a8"
             ],
             [
              0.3333333333333333,
              "#9c179e"
             ],
             [
              0.4444444444444444,
              "#bd3786"
             ],
             [
              0.5555555555555556,
              "#d8576b"
             ],
             [
              0.6666666666666666,
              "#ed7953"
             ],
             [
              0.7777777777777778,
              "#fb9f3a"
             ],
             [
              0.8888888888888888,
              "#fdca26"
             ],
             [
              1,
              "#f0f921"
             ]
            ],
            "type": "surface"
           }
          ],
          "table": [
           {
            "cells": {
             "fill": {
              "color": "#EBF0F8"
             },
             "line": {
              "color": "white"
             }
            },
            "header": {
             "fill": {
              "color": "#C8D4E3"
             },
             "line": {
              "color": "white"
             }
            },
            "type": "table"
           }
          ]
         },
         "layout": {
          "annotationdefaults": {
           "arrowcolor": "#2a3f5f",
           "arrowhead": 0,
           "arrowwidth": 1
          },
          "autotypenumbers": "strict",
          "coloraxis": {
           "colorbar": {
            "outlinewidth": 0,
            "ticks": ""
           }
          },
          "colorscale": {
           "diverging": [
            [
             0,
             "#8e0152"
            ],
            [
             0.1,
             "#c51b7d"
            ],
            [
             0.2,
             "#de77ae"
            ],
            [
             0.3,
             "#f1b6da"
            ],
            [
             0.4,
             "#fde0ef"
            ],
            [
             0.5,
             "#f7f7f7"
            ],
            [
             0.6,
             "#e6f5d0"
            ],
            [
             0.7,
             "#b8e186"
            ],
            [
             0.8,
             "#7fbc41"
            ],
            [
             0.9,
             "#4d9221"
            ],
            [
             1,
             "#276419"
            ]
           ],
           "sequential": [
            [
             0,
             "#0d0887"
            ],
            [
             0.1111111111111111,
             "#46039f"
            ],
            [
             0.2222222222222222,
             "#7201a8"
            ],
            [
             0.3333333333333333,
             "#9c179e"
            ],
            [
             0.4444444444444444,
             "#bd3786"
            ],
            [
             0.5555555555555556,
             "#d8576b"
            ],
            [
             0.6666666666666666,
             "#ed7953"
            ],
            [
             0.7777777777777778,
             "#fb9f3a"
            ],
            [
             0.8888888888888888,
             "#fdca26"
            ],
            [
             1,
             "#f0f921"
            ]
           ],
           "sequentialminus": [
            [
             0,
             "#0d0887"
            ],
            [
             0.1111111111111111,
             "#46039f"
            ],
            [
             0.2222222222222222,
             "#7201a8"
            ],
            [
             0.3333333333333333,
             "#9c179e"
            ],
            [
             0.4444444444444444,
             "#bd3786"
            ],
            [
             0.5555555555555556,
             "#d8576b"
            ],
            [
             0.6666666666666666,
             "#ed7953"
            ],
            [
             0.7777777777777778,
             "#fb9f3a"
            ],
            [
             0.8888888888888888,
             "#fdca26"
            ],
            [
             1,
             "#f0f921"
            ]
           ]
          },
          "colorway": [
           "#636efa",
           "#EF553B",
           "#00cc96",
           "#ab63fa",
           "#FFA15A",
           "#19d3f3",
           "#FF6692",
           "#B6E880",
           "#FF97FF",
           "#FECB52"
          ],
          "font": {
           "color": "#2a3f5f"
          },
          "geo": {
           "bgcolor": "white",
           "lakecolor": "white",
           "landcolor": "#E5ECF6",
           "showlakes": true,
           "showland": true,
           "subunitcolor": "white"
          },
          "hoverlabel": {
           "align": "left"
          },
          "hovermode": "closest",
          "mapbox": {
           "style": "light"
          },
          "paper_bgcolor": "white",
          "plot_bgcolor": "#E5ECF6",
          "polar": {
           "angularaxis": {
            "gridcolor": "white",
            "linecolor": "white",
            "ticks": ""
           },
           "bgcolor": "#E5ECF6",
           "radialaxis": {
            "gridcolor": "white",
            "linecolor": "white",
            "ticks": ""
           }
          },
          "scene": {
           "xaxis": {
            "backgroundcolor": "#E5ECF6",
            "gridcolor": "white",
            "gridwidth": 2,
            "linecolor": "white",
            "showbackground": true,
            "ticks": "",
            "zerolinecolor": "white"
           },
           "yaxis": {
            "backgroundcolor": "#E5ECF6",
            "gridcolor": "white",
            "gridwidth": 2,
            "linecolor": "white",
            "showbackground": true,
            "ticks": "",
            "zerolinecolor": "white"
           },
           "zaxis": {
            "backgroundcolor": "#E5ECF6",
            "gridcolor": "white",
            "gridwidth": 2,
            "linecolor": "white",
            "showbackground": true,
            "ticks": "",
            "zerolinecolor": "white"
           }
          },
          "shapedefaults": {
           "line": {
            "color": "#2a3f5f"
           }
          },
          "ternary": {
           "aaxis": {
            "gridcolor": "white",
            "linecolor": "white",
            "ticks": ""
           },
           "baxis": {
            "gridcolor": "white",
            "linecolor": "white",
            "ticks": ""
           },
           "bgcolor": "#E5ECF6",
           "caxis": {
            "gridcolor": "white",
            "linecolor": "white",
            "ticks": ""
           }
          },
          "title": {
           "x": 0.05
          },
          "xaxis": {
           "automargin": true,
           "gridcolor": "white",
           "linecolor": "white",
           "ticks": "",
           "title": {
            "standoff": 15
           },
           "zerolinecolor": "white",
           "zerolinewidth": 2
          },
          "yaxis": {
           "automargin": true,
           "gridcolor": "white",
           "linecolor": "white",
           "ticks": "",
           "title": {
            "standoff": 15
           },
           "zerolinecolor": "white",
           "zerolinewidth": 2
          }
         }
        }
       }
      },
      "text/html": [
       "<div>                            <div id=\"bed830ea-7add-4400-af71-3b458ec9b5db\" class=\"plotly-graph-div\" style=\"height:525px; width:100%;\"></div>            <script type=\"text/javascript\">                require([\"plotly\"], function(Plotly) {                    window.PLOTLYENV=window.PLOTLYENV || {};                                    if (document.getElementById(\"bed830ea-7add-4400-af71-3b458ec9b5db\")) {                    Plotly.newPlot(                        \"bed830ea-7add-4400-af71-3b458ec9b5db\",                        [{\"hoverinfo\":\"text+name\",\"line\":{\"color\":\"#ff0000\"},\"mode\":\"lines\",\"name\":\"Muon 0\",\"text\":\"Type : 5<br>x1 : -202.05<br>y1 : 199.79<br>z1 : 388.05<br>x2 : -202.05<br>y2 : 57.94<br>z2 : 504.15<br>theta_xz : 38.66<br>theta_yz : -50.70<br>\",\"x\":[388.04998779296875,388.16620401529457,388.28242023762044,388.39863645994626,388.51485268227214,388.63106890459795,388.74728512692377,388.86350134924965,388.97971757157546,389.09593379390134,389.21215001622716,389.32836623855303,389.44458246087885,389.56079868320467,389.67701490553054,389.79323112785636,389.90944735018223,390.02566357250805,390.14187979483387,390.25809601715974,390.37431223948556,390.49052846181144,390.60674468413725,390.72296090646313,390.83917712878895,390.95539335111476,391.07160957344064,391.18782579576646,391.30404201809233,391.42025824041815,391.53647446274397,391.65269068506984,391.76890690739566,391.88512312972153,392.00133935204735,392.1175555743732,392.23377179669905,392.34998801902486,392.46620424135074,392.58242046367656,392.69863668600243,392.81485290832825,392.93106913065407,393.04728535297994,393.16350157530576,393.27971779763163,393.39593401995745,393.5121502422833,393.62836646460914,393.74458268693496,393.86079890926084,393.97701513158665,394.09323135391253,394.20944757623835,394.32566379856416,394.44188002089004,394.55809624321586,394.67431246554173,394.79052868786755,394.9067449101934,395.02296113251924,395.13917735484506,395.25539357717093,395.37160979949675,395.4878260218226,395.60404224414845,395.72025846647426,395.83647468880014,395.95269091112596,396.06890713345183,396.18512335577765,396.30133957810347,396.41755580042934,396.53377202275516,396.64998824508103,396.76620446740685,396.8824206897327,396.99863691205854,397.11485313438436,397.23106935671024,397.34728557903605,397.46350180136193,397.57971802368775,397.6959342460136,397.81215046833944,397.92836669066526,398.04458291299113,398.16079913531695,398.2770153576428,398.39323157996864,398.50944780229446,398.62566402462033,398.74188024694615,398.858096469272,398.97431269159785,399.09052891392366,399.20674513624954,399.32296135857536,399.43917758090123,399.55539380322705,399.6716100255529,399.78782624787874,399.90404247020456,400.02025869253043,400.13647491485625,400.2526911371821,400.36890735950794,400.48512358183376,400.60133980415964,400.71755602648545,400.83377224881133,400.94998847113715,401.066204693463,401.18242091578884,401.29863713811466,401.41485336044053,401.53106958276635,401.6472858050922,401.76350202741804,401.87971824974386,401.99593447206973,402.11215069439555,402.2283669167214,402.34458313904724,402.4607993613731,402.57701558369894,402.69323180602476,402.80944802835063,402.92566425067645,403.0418804730023,403.15809669532814,403.27431291765396,403.39052913997983,403.50674536230565,403.6229615846315,403.73917780695734,403.85539402928316,403.97161025160904,404.08782647393485,404.20404269626073,404.32025891858655,404.4364751409124,404.55269136323824,404.66890758556406,404.78512380788993,404.90134003021575,405.0175562525416,405.13377247486744,405.2499886971933,405.36620491951913,405.48242114184495,405.5986373641708,405.71485358649664,405.8310698088225,405.94728603114834,406.06350225347416,406.17971847580003,406.29593469812585,406.4121509204517,406.52836714277754,406.64458336510336,406.76079958742923,406.87701580975505,406.9932320320809,407.10944825440674,407.2256644767326,407.34188069905844,407.45809692138425,407.5743131437101,407.69052936603595,407.8067455883618,407.92296181068764,408.0391780330135,408.15539425533933,408.27161047766515,408.387826699991,408.50404292231684,408.6202591446427,408.73647536696853,408.85269158929435,408.9689078116202,409.08512403394604,409.2013402562719,409.31755647859774,409.43377270092356,409.54998892324943,409.66620514557525,409.7824213679011,409.89863759022694,410.0148538125528,410.13107003487863,410.24728625720445,410.3635024795303,410.47971870185614,410.595934924182,410.71215114650784,410.82836736883365,410.9445835911595,411.06079981348535,411.1770160358112,411.29323225813704,411.40944848046286,411.52566470278873,411.64188092511455,411.7580971474404,411.87431336976624,411.9905295920921,412.10674581441793,412.22296203674375,412.3391782590696,412.45539448139544,412.5716107037213,412.68782692604714,412.804043148373,412.92025937069883,413.03647559302465,413.1526918153505,413.26890803767634,413.3851242600022,413.50134048232803,413.61755670465385,413.7337729269797,413.84998914930554,413.9662053716314,414.08242159395724,414.19863781628305,414.3148540386089,414.43107026093475,414.5472864832606,414.66350270558644,414.7797189279123,414.89593515023813,415.01215137256395,415.1283675948898,415.24458381721564,415.3608000395415,415.47701626186733,415.5932324841932,415.709448706519,415.82566492884484,415.9418811511707,416.05809737349654,416.1743135958224,416.29052981814823,416.40674604047405,416.5229622627999,416.63917848512574,416.7553947074516,416.87161092977743,416.98782715210325,417.1040433744291,417.22025959675494,417.3364758190808,417.45269204140664,417.5689082637325,417.6851244860583,417.80134070838415,417.91755693071,418.03377315303584,418.1499893753617,418.26620559768753,418.38242182001335,418.4986380423392,418.61485426466504,418.7310704869909,418.84728670931673,418.96350293164255,419.0797191539684,419.19593537629424,419.3121515986201,419.42836782094594,419.5445840432718,419.66080026559763,419.77701648792345,419.8932327102493,420.00944893257514,420.125665154901,420.24188137722683,420.3580975995527,420.4743138218785,420.59053004420434,420.7067462665302,420.82296248885604,420.9391787111819,421.0553949335077,421.17161115583355,421.2878273781594,421.40404360048524,421.5202598228111,421.63647604513693,421.75269226746275,421.8689084897886,421.98512471211444,422.1013409344403,422.21755715676613,422.333773379092,422.4499896014178,422.56620582374364,422.6824220460695,422.79863826839534,422.9148544907212,423.03107071304703,423.1472869353729,423.2635031576987,423.37971938002454,423.4959356023504,423.61215182467623,423.7283680470021,423.8445842693279,423.96080049165374,424.0770167139796,424.19323293630544,424.3094491586313,424.4256653809571,424.54188160328295,424.6580978256088,424.77431404793464,424.8905302702605,425.00674649258633,425.1229627149122,425.239178937238,425.35539515956384,425.4716113818897,425.58782760421553,425.7040438265414,425.8202600488672,425.9364762711931,426.0526924935189,426.16890871584474,426.2851249381706,426.40134116049643,426.51755738282225,426.6337736051481,426.74998982747394,426.8662060497998,426.98242227212563,427.0986384944515,427.2148547167773,427.33107093910314,427.447287161429,427.56350338375483,427.6797196060807,427.7959358284065,427.9121520507324,428.0283682730582,428.14458449538404,428.2608007177099,428.37701694003573,428.4932331623616,428.6094493846874,428.72566560701324,428.8418818293391,428.95809805166493,429.0743142739908,429.1905304963166,429.30674671864244,429.4229629409683,429.53917916329414,429.65539538562,429.77161160794583,429.8878278302717,430.0040440525975,430.12026027492334,430.2364764972492,430.35269271957503,430.4689089419009,430.5851251642267,430.7013413865526,430.8175576088784,430.93377383120423,431.0499900535301,431.1662062758559,431.2824224981818,431.3986387205076,431.51485494283344,431.6310711651593,431.74728738748513,431.863503609811,431.9797198321368,432.09593605446264,432.2121522767885,432.32836849911433,432.4445847214402,432.560800943766,432.6770171660919,432.7932333884177,432.90944961074354,433.0256658330694,433.14188205539523,433.2580982777211,433.3743145000469,433.4905307223728,433.6067469446986,433.72296316702443,433.8391793893503,433.9553956116761,434.07161183400194,434.1878280563278,434.30404427865363,434.4202605009795,434.5364767233053,434.6526929456312,434.768909167957,434.88512539028284,435.0013416126087,435.11755783493453,435.2337740572604,435.3499902795862,435.4662065019121,435.5824227242379,435.69863894656373,435.8148551688896,435.9310713912154,436.0472876135413,436.1635038358671,436.279720058193,436.3959362805188,436.51215250284463,436.6283687251705,436.7445849474963,436.86080116982214,436.977017392148,437.09323361447383,437.2094498367997,437.3256660591255,437.4418822814514,437.5580985037772,437.67431472610303,437.7905309484289,437.9067471707547,438.0229633930806,438.1391796154064,438.2553958377323,438.3716120600581,438.48782828238393,438.6040445047098,438.7202607270356,438.8364769493615,438.9526931716873,439.06890939401313,439.185125616339,439.3013418386648,439.4175580609907,439.5337742833165,439.64999050564234,439.7662067279682,439.882422950294,439.9986391726199,440.1148553949457,440.2310716172716,440.3472878395974,440.46350406192323,440.5797202842491,440.6959365065749,440.8121527289008,440.9283689512266,441.0445851735525,441.1608013958783,441.2770176182041,441.39323384053,441.5094500628558,441.62566628518164,441.7418825075075,441.85809872983333,441.9743149521592,442.090531174485,442.2067473968109,442.3229636191367,442.43917984146253,442.5553960637884,442.6716122861142,442.7878285084401,442.9040447307659,443.0202609530918,443.1364771754176,443.2526933977434,443.3689096200693,443.4851258423951,443.601342064721,443.7175582870468,443.8337745093727,443.9499907316985,444.0662069540243,444.1824231763502,444.298639398676,444.41485562100183,444.5310718433277,444.6472880656535,444.7635042879794,444.8797205103052,444.9959367326311,445.1121529549569,445.22836917728273,445.3445853996086,445.4608016219344,445.5770178442603,445.6932340665861,445.809450288912,445.9256665112378,446.0418827335636,446.1580989558895,446.2743151782153,446.3905314005412,446.506747622867,446.6229638451928,446.7391800675187,446.8553962898445,446.9716125121704,447.0878287344962,447.20404495682203,447.3202611791479,447.4364774014737,447.5526936237996,447.6689098461254,447.7851260684513,447.9013422907771,448.0175585131029,448.1337747354288,448.2499909577546,448.3662071800805,448.4824234024063,448.5986396247322,448.714855847058,448.8310720693838,448.9472882917097,449.0635045140355,449.1797207363614,449.2959369586872,449.412153181013,449.5283694033389,449.6445856256647,449.7608018479906,449.8770180703164,449.9932342926422,450.1094505149681,450.2256667372939,450.3418829596198,450.4580991819456,450.5743154042715,450.6905316265973,450.8067478489231,450.922964071249,451.0391802935748,451.1553965159007,451.2716127382265,451.3878289605524,451.5040451828782,451.620261405204,451.7364776275299,451.8526938498557,451.96891007218153,452.0851262945074,452.2013425168332,452.3175587391591,452.4337749614849,452.5499911838108,452.6662074061366,452.7824236284624,452.8986398507883,453.0148560731141,453.13107229544,453.2472885177658,453.3635047400917,453.4797209624175,453.5959371847433,453.7121534070692,453.828369629395,453.94458585172083,454.0608020740467,454.1770182963726,454.2932345186984,454.4094507410242,454.5256669633501,454.6418831856759,454.7580994080017,454.8743156303276,454.9905318526534,455.1067480749793,455.2229642973051,455.339180519631,455.4553967419568,455.5716129642826,455.6878291866085,455.8040454089343,455.9202616312602,456.036477853586,456.1526940759119,456.2689102982377,456.3851265205635,456.5013427428894,456.6175589652152,456.733775187541,456.8499914098669,456.9662076321928,457.0824238545186,457.1986400768444,457.3148562991703,457.4310725214961,457.5472887438219,457.6635049661478,457.7797211884736,457.8959374107995,458.0121536331253,458.1283698554512,458.244586077777,458.3608023001028,458.4770185224287,458.5932347447545,458.7094509670804,458.8256671894062,458.9418834117321,459.0580996340579,459.1743158563837,459.2905320787096,459.4067483010354,459.5229645233612,459.6391807456871,459.755396968013,459.8716131903388,459.9878294126646,460.1040456349905,460.2202618573163,460.3364780796421,460.452694301968,460.5689105242938,460.6851267466197,460.8013429689455,460.9175591912714,461.0337754135972,461.149991635923,461.2662078582489,461.3824240805747,461.4986403029005,461.6148565252264,461.7310727475523,461.8472889698781,461.9635051922039,462.0797214145298,462.1959376368556,462.3121538591814,462.4283700815073,462.5445863038331,462.660802526159,462.7770187484848,462.8932349708107,463.0094511931365,463.1256674154623,463.2418836377882,463.358099860114,463.4743160824399,463.5905323047657,463.7067485270916,463.8229647494174,463.9391809717432,464.0553971940691,464.1716134163949,464.2878296387207,464.4040458610466,464.5202620833725,464.6364783056983,464.7526945280241,464.86891075035,464.9851269726758,465.1013431950016,465.2175594173275,465.3337756396533,465.4499918619792,465.566208084305,465.6824243066309,465.7986405289567,465.9148567512825,466.0310729736084,466.1472891959342,466.2635054182601,466.3797216405859,466.4959378629118,466.6121540852376,466.7283703075634,466.8445865298893,466.9608027522151,467.0770189745409,467.1932351968668,467.30945141919267,467.4256676415185,467.5418838638443,467.6581000861702,467.774316308496,467.8905325308218,468.0067487531477,468.1229649754735,468.2391811977994,468.3553974201252,468.4716136424511,468.5878298647769,468.7040460871027,468.8202623094286,468.9364785317544,469.0526947540802,469.1689109764061,469.28512719873197,469.4013434210578,469.5175596433836,469.6337758657095,469.7499920880353,469.8662083103611,469.982424532687,470.0986407550128,470.2148569773387,470.3310731996645,470.4472894219904,470.5635056443162,470.679721866642,470.7959380889679,470.9121543112937,471.0283705336196,471.1445867559454,471.2608029782713,471.3770192005971,471.4932354229229,471.6094516452488,471.7256678675746,471.8418840899004,471.9581003122263,472.07431653455217,472.190532756878,472.3067489792038,472.4229652015297,472.5391814238555,472.6553976461813,472.7716138685072,472.887830090833,473.0040463131589,473.1202625354847,473.2364787578106,473.3526949801364,473.4689112024622,473.5851274247881,473.7013436471139,473.8175598694398,473.9337760917656,474.04999231409147,474.1662085364173,474.2824247587431,474.398640981069,474.5148572033948,474.6310734257206,474.7472896480465,474.86350587037236,474.9797220926982,475.095938315024,475.2121545373499,475.3283707596757,475.4445869820015,475.5608032043274,475.6770194266532,475.7932356489791,475.9094518713049,476.02566809363077,476.1418843159566,476.2581005382824,476.3743167606083,476.4905329829341,476.60674920526,476.7229654275858,476.83918164991167,476.9553978722375,477.0716140945633,477.1878303168892,477.304046539215,477.4202627615408,477.5364789838667,477.6526952061925,477.7689114285184,477.8851276508442,478.0013438731701,478.1175600954959,478.2337763178217,478.3499925401476,478.4662087624734,478.5824249847993,478.6986412071251,478.81485742945097,478.9310736517768,479.0472898741026,479.1635060964285,479.2797223187543,479.3959385410801,479.512154763406,479.62837098573186,479.7445872080577,479.8608034303835,479.9770196527094,480.0932358750352,480.209452097361,480.3256683196869,480.4418845420127,480.5581007643386,480.6743169866644,480.79053320899027,480.9067494313161,481.0229656536419,481.1391818759678,481.2553980982936,481.37161432061947,481.4878305429453,481.60404676527116,481.720262987597,481.8364792099228,481.9526954322487,482.0689116545745,482.1851278769003,482.3013440992262,482.41756032155206,482.5337765438779,482.6499927662037,482.76620898852957,482.8824252108554,482.9986414331812,483.1148576555071,483.2310738778329,483.3472901001588,483.4635063224846,483.57972254481047,483.6959387671363,483.8121549894621,483.928371211788,484.0445874341138,484.16080365643967,484.2770198787655,484.39323610109136,484.5094523234172,484.625668545743,484.74188476806887,484.8581009903947,484.9743172127205,485.0905334350464,485.20674965737226,485.3229658796981,485.4391821020239,485.55539832434977,485.6716145466756,485.7878307690014,485.9040469913273,486.0202632136531,486.13647943597897,486.2526956583048,486.36891188063066,486.4851281029565,486.6013443252823,486.7175605476082,486.833776769934,486.9499929922598,487.0662092145857,487.18242543691156,487.2986416592374,487.4148578815632,487.53107410388907,487.6472903262149,487.7635065485407,487.8797227708666,487.9959389931924,488.11215521551827,488.2283714378441,488.34458766016996,488.4608038824958,488.5770201048216,488.6932363271475,488.8094525494733,488.92566877179917,489.041884994125,489.15810121645086,489.2743174387767,489.3905336611025,489.50674988342837,489.6229661057542,489.73918232808,489.8553985504059,489.97161477273175,490.0878309950576,490.2040472173834,490.32026343970927,490.4364796620351,490.5526958843609,490.6689121066868,490.7851283290126,490.90134455133847,491.0175607736643,491.13377699599016,491.249993218316,491.3662094406418,491.48242566296767,491.5986418852935,491.71485810761936,491.8310743299452,491.94729055227106,492.0635067745969,492.1797229969227,492.29593921924857,492.4121554415744,492.5283716639002,492.6445878862261,492.76080410855195,492.87702033087777,492.9932365532036,493.10945277552946,493.2256689978553,493.3418852201811,493.458101442507,493.5743176648328,493.69053388715867,493.8067501094845,493.92296633181036,494.0391825541362,494.155398776462,494.27161499878787,494.3878312211137,494.5040474434395,494.6202636657654,494.73647988809125,494.85269611041707,494.9689123327429,495.08512855506876,495.2013447773946,495.3175609997204,495.4337772220463,495.5499934443721,495.66620966669797,495.7824258890238,495.89864211134966,496.0148583336755,496.1310745560013,496.24729077832717,496.363507000653,496.47972322297886,496.5959394453047,496.71215566763055,496.8283718899564,496.9445881122822,497.06080433460806,497.1770205569339,497.2932367792597,497.4094530015856,497.52566922391145,497.64188544623727,497.7581016685631,497.87431789088896,497.9905341132148,498.1067503355406,498.22296655786647,498.3391827801923,498.45539900251816,498.571615224844,498.68783144716986,498.8040476694957,498.9202638918215,499.03648011414737,499.1526963364732,499.26891255879906,499.3851287811249,499.50134500345075,499.61756122577657,499.7337774481024,499.84999367042826,499.9662098927541,500.0824261150799,500.1986423374058,500.31485855973165,500.43107478205746,500.5472910043833,500.66350722670916,500.779723449035,500.8959396713608,501.01215589368667,501.1283721160125,501.24458833833836,501.3608045606642,501.47702078299005,501.59323700531587,501.7094532276417,501.82566944996756,501.9418856722934,502.05810189461926,502.1743181169451,502.29053433927095,502.40675056159677,502.5229667839226,502.63918300624846,502.7553992285743,502.8716154509001,502.98783167322597,503.1040478955518,503.22026411787766,503.3364803402035,503.45269656252935,503.5689127848552,503.685129007181,503.80134522950686,503.9175614518327,504.03377767415856,504.1499938964844],\"y\":[199.79205322265625,199.65005627193966,199.50805932122307,199.36606237050648,199.2240654197899,199.08206846907333,198.94007151835675,198.79807456764016,198.65607761692357,198.51408066620698,198.3720837154904,198.2300867647738,198.0880898140572,197.94609286334062,197.80409591262406,197.66209896190747,197.5201020111909,197.3781050604743,197.2361081097577,197.09411115904112,196.95211420832453,196.81011725760794,196.66812030689135,196.52612335617476,196.3841264054582,196.24212945474162,196.10013250402503,195.95813555330844,195.81613860259185,195.67414165187526,195.53214470115867,195.39014775044208,195.2481507997255,195.10615384900893,194.96415689829234,194.82215994757576,194.68016299685917,194.53816604614258,194.396169095426,194.2541721447094,194.1121751939928,193.97017824327622,193.82818129255966,193.68618434184307,193.54418739112648,193.4021904404099,193.2601934896933,193.11819653897672,192.97619958826013,192.83420263754354,192.69220568682695,192.5502087361104,192.4082117853938,192.2662148346772,192.12421788396063,191.98222093324404,191.84022398252745,191.69822703181086,191.55623008109427,191.41423313037768,191.2722361796611,191.13023922894453,190.98824227822794,190.84624532751135,190.70424837679477,190.56225142607818,190.4202544753616,190.278257524645,190.1362605739284,189.99426362321185,189.85226667249526,189.71026972177867,189.56827277106208,189.4262758203455,189.2842788696289,189.14228191891232,189.00028496819573,188.85828801747914,188.71629106676255,188.574294116046,188.4322971653294,188.2903002146128,188.14830326389622,188.00630631317964,187.86430936246305,187.72231241174646,187.58031546102987,187.43831851031328,187.29632155959672,187.15432460888013,187.01232765816354,186.87033070744695,186.72833375673036,186.58633680601378,186.4443398552972,186.3023429045806,186.160345953864,186.01834900314742,185.87635205243086,185.73435510171427,185.59235815099768,185.4503612002811,185.3083642495645,185.16636729884792,185.02437034813133,184.88237339741474,184.74037644669818,184.5983794959816,184.456382545265,184.3143855945484,184.17238864383182,184.03039169311523,183.88839474239865,183.74639779168206,183.60440084096547,183.46240389024888,183.32040693953232,183.17840998881573,183.03641303809914,182.89441608738255,182.75241913666596,182.61042218594937,182.4684252352328,182.3264282845162,182.18443133379964,182.04243438308305,181.90043743236646,181.75844048164987,181.61644353093328,181.4744465802167,181.3324496295001,181.19045267878352,181.04845572806693,180.90645877735034,180.76446182663375,180.6224648759172,180.4804679252006,180.338470974484,180.19647402376742,180.05447707305083,179.91248012233424,179.77048317161766,179.62848622090107,179.4864892701845,179.34449231946792,179.20249536875133,179.06049841803474,178.91850146731815,178.77650451660156,178.63450756588497,178.49251061516838,178.3505136644518,178.2085167137352,178.06651976301865,177.92452281230206,177.78252586158547,177.64052891086888,177.4985319601523,177.3565350094357,177.2145380587191,177.07254110800253,176.93054415728596,176.78854720656938,176.6465502558528,176.5045533051362,176.3625563544196,176.22055940370302,176.07856245298643,175.93656550226984,175.79456855155325,175.65257160083667,175.51057465012008,175.36857769940352,175.22658074868693,175.08458379797034,174.94258684725375,174.80058989653716,174.65859294582057,174.51659599510398,174.3745990443874,174.23260209367083,174.09060514295425,173.94860819223766,173.80661124152107,173.66461429080448,173.5226173400879,173.3806203893713,173.2386234386547,173.09662648793812,172.95462953722154,172.81263258650498,172.6706356357884,172.5286386850718,172.3866417343552,172.24464478363862,172.10264783292203,171.96065088220544,171.81865393148885,171.6766569807723,171.5346600300557,171.39266307933912,171.25066612862253,171.10866917790594,170.96667222718935,170.82467527647276,170.68267832575617,170.54068137503958,170.398684424323,170.2566874736064,170.11469052288984,169.97269357217326,169.83069662145667,169.68869967074008,169.5467027200235,169.4047057693069,169.2627088185903,169.12071186787372,168.97871491715716,168.83671796644057,168.69472101572399,168.5527240650074,168.4107271142908,168.26873016357422,168.12673321285763,167.98473626214104,167.84273931142445,167.70074236070786,167.55874540999127,167.41674845927471,167.27475150855813,167.13275455784154,166.99075760712495,166.84876065640836,166.70676370569177,166.56476675497518,166.42276980425862,166.28077285354203,166.13877590282544,165.99677895210885,165.85478200139227,165.71278505067568,165.5707880999591,165.4287911492425,165.2867941985259,165.14479724780932,165.00280029709273,164.86080334637617,164.71880639565958,164.576809444943,164.4348124942264,164.29281554350982,164.15081859279323,164.00882164207664,163.86682469136008,163.7248277406435,163.5828307899269,163.4408338392103,163.29883688849372,163.15683993777714,163.01484298706055,162.87284603634396,162.73084908562737,162.58885213491078,162.4468551841942,162.3048582334776,162.16286128276104,162.02086433204445,161.87886738132786,161.73687043061128,161.5948734798947,161.4528765291781,161.31087957846154,161.16888262774495,161.02688567702836,160.88488872631177,160.74289177559518,160.6008948248786,160.458897874162,160.31690092344542,160.17490397272883,160.03290702201224,159.89091007129565,159.74891312057906,159.6069161698625,159.4649192191459,159.32292226842932,159.18092531771273,159.03892836699615,158.89693141627956,158.75493446556297,158.6129375148464,158.47094056412982,158.32894361341323,158.18694666269664,158.04494971198005,157.90295276126346,157.76095581054688,157.6189588598303,157.4769619091137,157.3349649583971,157.19296800768052,157.05097105696396,156.90897410624737,156.76697715553078,156.6249802048142,156.4829832540976,156.34098630338102,156.19898935266443,156.05699240194787,155.91499545123128,155.7729985005147,155.6310015497981,155.4890045990815,155.34700764836492,155.20501069764833,155.06301374693174,154.92101679621516,154.77901984549857,154.63702289478198,154.4950259440654,154.35302899334883,154.21103204263224,154.06903509191565,153.92703814119906,153.78504119048247,153.64304423976589,153.5010472890493,153.35905033833274,153.21705338761615,153.07505643689956,152.93305948618297,152.79106253546638,152.6490655847498,152.5070686340332,152.36507168331661,152.22307473260003,152.08107778188344,151.93908083116685,151.7970838804503,151.6550869297337,151.5130899790171,151.37109302830052,151.22909607758393,151.08709912686734,150.94510217615075,150.8031052254342,150.6611082747176,150.51911132400102,150.37711437328443,150.23511742256784,150.09312047185125,149.95112352113466,149.80912657041807,149.66712961970148,149.5251326689849,149.3831357182683,149.24113876755172,149.09914181683516,148.95714486611857,148.81514791540198,148.6731509646854,148.5311540139688,148.3891570632522,148.24716011253562,148.10516316181906,147.96316621110248,147.8211692603859,147.6791723096693,147.5371753589527,147.39517840823612,147.25318145751953,147.11118450680294,146.96918755608635,146.82719060536976,146.68519365465318,146.54319670393662,146.40119975322003,146.25920280250344,146.11720585178685,145.97520890107026,145.83321195035367,145.69121499963708,145.54921804892052,145.40722109820393,145.26522414748734,145.12322719677076,144.98123024605417,144.83923329533758,144.697236344621,144.5552393939044,144.4132424431878,144.27124549247122,144.12924854175463,143.98725159103805,143.84525464032149,143.7032576896049,143.5612607388883,143.41926378817172,143.27726683745513,143.13526988673854,142.99327293602195,142.8512759853054,142.7092790345888,142.56728208387221,142.42528513315563,142.28328818243904,142.14129123172245,141.99929428100586,141.85729733028927,141.71530037957268,141.5733034288561,141.4313064781395,141.28930952742294,141.14731257670636,141.00531562598977,140.86331867527318,140.7213217245566,140.57932477384,140.4373278231234,140.29533087240685,140.15333392169026,140.01133697097367,139.86934002025708,139.7273430695405,139.5853461188239,139.44334916810732,139.30135221739073,139.15935526667414,139.01735831595755,138.87536136524096,138.73336441452437,138.5913674638078,138.44937051309122,138.30737356237464,138.16537661165805,138.02337966094146,137.88138271022487,137.73938575950828,137.59738880879172,137.45539185807513,137.31339490735854,137.17139795664195,137.02940100592537,136.88740405520878,136.7454071044922,136.6034101537756,136.461413203059,136.31941625234242,136.17741930162583,136.03542235090927,135.89342540019268,135.7514284494761,135.6094314987595,135.46743454804292,135.32543759732633,135.18344064660977,135.04144369589318,134.8994467451766,134.75744979446,134.6154528437434,134.47345589302682,134.33145894231023,134.18946199159365,134.04746504087706,133.90546809016047,133.76347113944388,133.6214741887273,133.4794772380107,133.3374802872941,133.19548333657755,133.05348638586096,132.91148943514438,132.7694924844278,132.62749553371123,132.48549858299464,132.34350163227805,132.20150468156146,132.05950773084487,131.91751078012828,131.7755138294117,131.6335168786951,131.49151992797852,131.34952297726193,131.20752602654534,131.06552907582875,130.92353212511216,130.78153517439557,130.639538223679,130.49754127296242,130.35554432224583,130.21354737152924,130.07155042081266,129.9295534700961,129.7875565193795,129.64555956866292,129.50356261794633,129.36156566722974,129.21956871651315,129.07757176579656,128.93557481507997,128.79357786436339,128.6515809136468,128.5095839629302,128.36758701221362,128.22559006149703,128.08359311078044,127.94159616006388,127.79959920934729,127.6576022586307,127.51560530791411,127.37360835719754,127.23161140648095,127.08961445576436,126.94761750504777,126.80562055433118,126.66362360361461,126.52162665289802,126.37962970218143,126.23763275146484,126.09563580074827,125.95363885003168,125.81164189931509,125.6696449485985,125.52764799788191,125.38565104716534,125.24365409644875,125.10165714573216,124.95966019501557,124.81766324429898,124.67566629358241,124.53366934286582,124.39167239214923,124.24967544143264,124.10767849071607,123.96568153999948,123.82368458928289,123.6816876385663,123.53969068784971,123.39769373713314,123.25569678641655,123.11369983569996,122.97170288498337,122.8297059342668,122.68770898355021,122.54571203283362,122.40371508211703,122.26171813140044,122.11972118068387,121.97772422996728,121.83572727925069,121.6937303285341,121.55173337781751,121.40973642710094,121.26773947638435,121.12574252566776,120.98374557495117,120.8417486242346,120.69975167351801,120.55775472280142,120.41575777208483,120.27376082136824,120.13176387065167,119.98976691993508,119.84776996921849,119.7057730185019,119.56377606778531,119.42177911706874,119.27978216635215,119.13778521563556,118.99578826491897,118.8537913142024,118.71179436348581,118.56979741276922,118.42780046205263,118.28580351133604,118.14380656061947,118.00180960990288,117.85981265918629,117.7178157084697,117.57581875775313,117.43382180703654,117.29182485631995,117.14982790560336,117.00783095488677,116.8658340041702,116.72383705345361,116.58184010273702,116.43984315202043,116.29784620130384,116.15584925058727,116.01385229987068,115.87185534915409,115.7298583984375,115.58786144772093,115.44586449700434,115.30386754628775,115.16187059557116,115.01987364485457,114.877876694138,114.7358797434214,114.59388279270482,114.45188584198823,114.30988889127165,114.16789194055507,114.02589498983848,113.88389803912189,113.7419010884053,113.59990413768872,113.45790718697214,113.31591023625555,113.17391328553896,113.03191633482237,112.8899193841058,112.7479224333892,112.60592548267262,112.46392853195603,112.32193158123945,112.17993463052287,112.03793767980628,111.89594072908969,111.7539437783731,111.61194682765652,111.46994987693994,111.32795292622335,111.18595597550676,111.04395902479017,110.9019620740736,110.759965123357,110.61796817264042,110.47597122192383,110.33397427120725,110.19197732049066,110.04998036977408,109.90798341905749,109.7659864683409,109.62398951762432,109.48199256690773,109.33999561619115,109.19799866547456,109.05600171475798,108.9140047640414,108.7720078133248,108.63001086260822,108.48801391189163,108.34601696117505,108.20402001045846,108.06202305974188,107.92002610902529,107.7780291583087,107.63603220759212,107.49403525687553,107.35203830615895,107.21004135544236,107.06804440472578,106.9260474540092,106.7840505032926,106.64205355257602,106.50005660185943,106.35805965114285,106.21606270042626,106.07406574970967,105.93206879899309,105.79007184827651,105.64807489755992,105.50607794684333,105.36408099612675,105.22208404541016,105.08008709469358,104.93809014397699,104.7960931932604,104.65409624254382,104.51209929182723,104.37010234111065,104.22810539039406,104.08610843967747,103.94411148896089,103.80211453824431,103.66011758752772,103.51812063681113,103.37612368609454,103.23412673537796,103.09212978466138,102.95013283394479,102.8081358832282,102.66613893251161,102.52414198179504,102.38214503107845,102.24014808036186,102.09815112964527,101.95615417892868,101.81415722821211,101.67216027749552,101.53016332677893,101.38816637606234,101.24616942534576,101.10417247462918,100.96217552391259,100.820178573196,100.67818162247941,100.53618467176284,100.39418772104625,100.25219077032966,100.11019381961307,99.96819686889648,99.82619991817991,99.68420296746332,99.54220601674673,99.40020906603014,99.25821211531355,99.11621516459698,98.97421821388039,98.8322212631638,98.69022431244721,98.54822736173064,98.40623041101405,98.26423346029746,98.12223650958087,97.98023955886428,97.83824260814771,97.69624565743112,97.55424870671453,97.41225175599794,97.27025480528137,97.12825785456478,96.98626090384819,96.8442639531316,96.70226700241501,96.56027005169844,96.41827310098185,96.27627615026526,96.13427919954867,95.99228224883208,95.85028529811551,95.70828834739892,95.56629139668233,95.42429444596574,95.28229749524917,95.14030054453258,94.99830359381599,94.8563066430994,94.71430969238281,94.57231274166624,94.43031579094965,94.28831884023306,94.14632188951647,94.0043249387999,93.86232798808331,93.72033103736672,93.57833408665013,93.43633713593354,93.29434018521697,93.15234323450038,93.01034628378379,92.8683493330672,92.72635238235061,92.58435543163404,92.44235848091745,92.30036153020086,92.15836457948427,92.0163676287677,91.87437067805111,91.73237372733452,91.59037677661793,91.44837982590134,91.30638287518477,91.16438592446818,91.02238897375159,90.880392023035,90.73839507231841,90.59639812160184,90.45440117088525,90.31240422016866,90.17040726945207,90.0284103187355,89.8864133680189,89.74441641730232,89.60241946658573,89.46042251586914,89.31842556515257,89.17642861443598,89.03443166371939,88.8924347130028,88.75043776228623,88.60844081156964,88.46644386085305,88.32444691013646,88.18244995941987,88.0404530087033,87.8984560579867,87.75645910727012,87.61446215655353,87.47246520583694,87.33046825512037,87.18847130440378,87.04647435368719,86.9044774029706,86.76248045225402,86.62048350153744,86.47848655082085,86.33648960010426,86.19449264938767,86.0524956986711,85.9104987479545,85.76850179723792,85.62650484652133,85.48450789580475,85.34251094508816,85.20051399437158,85.05851704365499,84.9165200929384,84.77452314222182,84.63252619150524,84.49052924078865,84.34853229007206,84.20653533935547,84.0645383886389,83.9225414379223,83.78054448720572,83.63854753648913,83.49655058577255,83.35455363505596,83.21255668433938,83.07055973362279,82.9285627829062,82.78656583218962,82.64456888147303,82.50257193075645,82.36057498003986,82.21857802932328,82.0765810786067,81.9345841278901,81.79258717717352,81.65059022645693,81.50859327574035,81.36659632502376,81.22459937430718,81.08260242359059,80.940605472874,80.79860852215742,80.65661157144083,80.51461462072425,80.37261767000766,80.23062071929108,80.0886237685745,79.9466268178579,79.80462986714132,79.66263291642473,79.52063596570815,79.37863901499156,79.23664206427497,79.09464511355839,78.9526481628418,78.81065121212522,78.66865426140863,78.52665731069204,78.38466035997546,78.24266340925888,78.10066645854229,77.9586695078257,77.81667255710911,77.67467560639253,77.53267865567595,77.39068170495936,77.24868475424277,77.10668780352619,76.96469085280961,76.82269390209302,76.68069695137643,76.53870000065984,76.39670304994326,76.25470609922668,76.11270914851009,75.9707121977935,75.82871524707691,75.68671829636033,75.54472134564375,75.40272439492716,75.26072744421057,75.11873049349398,74.97673354277741,74.83473659206082,74.69273964134423,74.55074269062764,74.40874573991105,74.26674878919448,74.12475183847789,73.9827548877613,73.84075793704471,73.69876098632814,73.55676403561155,73.41476708489496,73.27277013417837,73.13077318346178,72.98877623274521,72.84677928202862,72.70478233131203,72.56278538059544,72.42078842987885,72.27879147916228,72.13679452844569,71.9947975777291,71.85280062701251,71.71080367629594,71.56880672557935,71.42680977486276,71.28481282414617,71.14281587342958,71.000818922713,70.8588219719964,70.71682502127985,70.57482807056326,70.43283111984667,70.29083416913008,70.14883721841349,70.0068402676969,69.86484331698031,69.72284636626372,69.58084941554714,69.43885246483057,69.29685551411399,69.1548585633974,69.01286161268081,68.87086466196422,68.72886771124763,68.58687076053104,68.44487380981445,68.30287685909786,68.16087990838128,68.01888295766472,67.87688600694813,67.73488905623154,67.59289210551495,67.45089515479836,67.30889820408177,67.16690125336518,67.0249043026486,66.882907351932,66.74091040121544,66.59891345049886,66.45691649978227,66.31491954906568,66.17292259834909,66.0309256476325,65.88892869691591,65.74693174619932,65.60493479548273,65.46293784476617,65.32094089404958,65.178943943333,65.03694699261641,64.89495004189982,64.75295309118323,64.61095614046664,64.46895918975005,64.32696223903346,64.1849652883169,64.04296833760031,63.900971386883725,63.758974436167136,63.61697748545055,63.47498053473396,63.33298358401737,63.19098663330078,63.04898968258419,62.906992731867604,62.76499578115104,62.622998830434454,62.481001879717866,62.33900492900128,62.19700797828469,62.0550110275681,61.91301407685151,61.77101712613492,61.62902017541833,61.48702322470177,61.345026273985184,61.203029323268595,61.061032372552006,60.91903542183542,60.77703847111883,60.63504152040224,60.49304456968565,60.35104761896906,60.2090506682525,60.06705371753591,59.925056766819324,59.783059816102735,59.64106286538615,59.49906591466956,59.35706896395297,59.21507201323638,59.07307506251979,58.93107811180323,58.78908116108664,58.64708421037005,58.505087259653465,58.363090308936876,58.22109335822029,58.0790964075037,57.93709945678711],\"type\":\"scatter\"}],                        {\"template\":{\"data\":{\"histogram2dcontour\":[{\"type\":\"histogram2dcontour\",\"colorbar\":{\"outlinewidth\":0,\"ticks\":\"\"},\"colorscale\":[[0.0,\"#0d0887\"],[0.1111111111111111,\"#46039f\"],[0.2222222222222222,\"#7201a8\"],[0.3333333333333333,\"#9c179e\"],[0.4444444444444444,\"#bd3786\"],[0.5555555555555556,\"#d8576b\"],[0.6666666666666666,\"#ed7953\"],[0.7777777777777778,\"#fb9f3a\"],[0.8888888888888888,\"#fdca26\"],[1.0,\"#f0f921\"]]}],\"choropleth\":[{\"type\":\"choropleth\",\"colorbar\":{\"outlinewidth\":0,\"ticks\":\"\"}}],\"histogram2d\":[{\"type\":\"histogram2d\",\"colorbar\":{\"outlinewidth\":0,\"ticks\":\"\"},\"colorscale\":[[0.0,\"#0d0887\"],[0.1111111111111111,\"#46039f\"],[0.2222222222222222,\"#7201a8\"],[0.3333333333333333,\"#9c179e\"],[0.4444444444444444,\"#bd3786\"],[0.5555555555555556,\"#d8576b\"],[0.6666666666666666,\"#ed7953\"],[0.7777777777777778,\"#fb9f3a\"],[0.8888888888888888,\"#fdca26\"],[1.0,\"#f0f921\"]]}],\"heatmap\":[{\"type\":\"heatmap\",\"colorbar\":{\"outlinewidth\":0,\"ticks\":\"\"},\"colorscale\":[[0.0,\"#0d0887\"],[0.1111111111111111,\"#46039f\"],[0.2222222222222222,\"#7201a8\"],[0.3333333333333333,\"#9c179e\"],[0.4444444444444444,\"#bd3786\"],[0.5555555555555556,\"#d8576b\"],[0.6666666666666666,\"#ed7953\"],[0.7777777777777778,\"#fb9f3a\"],[0.8888888888888888,\"#fdca26\"],[1.0,\"#f0f921\"]]}],\"heatmapgl\":[{\"type\":\"heatmapgl\",\"colorbar\":{\"outlinewidth\":0,\"ticks\":\"\"},\"colorscale\":[[0.0,\"#0d0887\"],[0.1111111111111111,\"#46039f\"],[0.2222222222222222,\"#7201a8\"],[0.3333333333333333,\"#9c179e\"],[0.4444444444444444,\"#bd3786\"],[0.5555555555555556,\"#d8576b\"],[0.6666666666666666,\"#ed7953\"],[0.7777777777777778,\"#fb9f3a\"],[0.8888888888888888,\"#fdca26\"],[1.0,\"#f0f921\"]]}],\"contourcarpet\":[{\"type\":\"contourcarpet\",\"colorbar\":{\"outlinewidth\":0,\"ticks\":\"\"}}],\"contour\":[{\"type\":\"contour\",\"colorbar\":{\"outlinewidth\":0,\"ticks\":\"\"},\"colorscale\":[[0.0,\"#0d0887\"],[0.1111111111111111,\"#46039f\"],[0.2222222222222222,\"#7201a8\"],[0.3333333333333333,\"#9c179e\"],[0.4444444444444444,\"#bd3786\"],[0.5555555555555556,\"#d8576b\"],[0.6666666666666666,\"#ed7953\"],[0.7777777777777778,\"#fb9f3a\"],[0.8888888888888888,\"#fdca26\"],[1.0,\"#f0f921\"]]}],\"surface\":[{\"type\":\"surface\",\"colorbar\":{\"outlinewidth\":0,\"ticks\":\"\"},\"colorscale\":[[0.0,\"#0d0887\"],[0.1111111111111111,\"#46039f\"],[0.2222222222222222,\"#7201a8\"],[0.3333333333333333,\"#9c179e\"],[0.4444444444444444,\"#bd3786\"],[0.5555555555555556,\"#d8576b\"],[0.6666666666666666,\"#ed7953\"],[0.7777777777777778,\"#fb9f3a\"],[0.8888888888888888,\"#fdca26\"],[1.0,\"#f0f921\"]]}],\"mesh3d\":[{\"type\":\"mesh3d\",\"colorbar\":{\"outlinewidth\":0,\"ticks\":\"\"}}],\"scatter\":[{\"fillpattern\":{\"fillmode\":\"overlay\",\"size\":10,\"solidity\":0.2},\"type\":\"scatter\"}],\"parcoords\":[{\"type\":\"parcoords\",\"line\":{\"colorbar\":{\"outlinewidth\":0,\"ticks\":\"\"}}}],\"scatterpolargl\":[{\"type\":\"scatterpolargl\",\"marker\":{\"colorbar\":{\"outlinewidth\":0,\"ticks\":\"\"}}}],\"bar\":[{\"error_x\":{\"color\":\"#2a3f5f\"},\"error_y\":{\"color\":\"#2a3f5f\"},\"marker\":{\"line\":{\"color\":\"#E5ECF6\",\"width\":0.5},\"pattern\":{\"fillmode\":\"overlay\",\"size\":10,\"solidity\":0.2}},\"type\":\"bar\"}],\"scattergeo\":[{\"type\":\"scattergeo\",\"marker\":{\"colorbar\":{\"outlinewidth\":0,\"ticks\":\"\"}}}],\"scatterpolar\":[{\"type\":\"scatterpolar\",\"marker\":{\"colorbar\":{\"outlinewidth\":0,\"ticks\":\"\"}}}],\"histogram\":[{\"marker\":{\"pattern\":{\"fillmode\":\"overlay\",\"size\":10,\"solidity\":0.2}},\"type\":\"histogram\"}],\"scattergl\":[{\"type\":\"scattergl\",\"marker\":{\"colorbar\":{\"outlinewidth\":0,\"ticks\":\"\"}}}],\"scatter3d\":[{\"type\":\"scatter3d\",\"line\":{\"colorbar\":{\"outlinewidth\":0,\"ticks\":\"\"}},\"marker\":{\"colorbar\":{\"outlinewidth\":0,\"ticks\":\"\"}}}],\"scattermapbox\":[{\"type\":\"scattermapbox\",\"marker\":{\"colorbar\":{\"outlinewidth\":0,\"ticks\":\"\"}}}],\"scatterternary\":[{\"type\":\"scatterternary\",\"marker\":{\"colorbar\":{\"outlinewidth\":0,\"ticks\":\"\"}}}],\"scattercarpet\":[{\"type\":\"scattercarpet\",\"marker\":{\"colorbar\":{\"outlinewidth\":0,\"ticks\":\"\"}}}],\"carpet\":[{\"aaxis\":{\"endlinecolor\":\"#2a3f5f\",\"gridcolor\":\"white\",\"linecolor\":\"white\",\"minorgridcolor\":\"white\",\"startlinecolor\":\"#2a3f5f\"},\"baxis\":{\"endlinecolor\":\"#2a3f5f\",\"gridcolor\":\"white\",\"linecolor\":\"white\",\"minorgridcolor\":\"white\",\"startlinecolor\":\"#2a3f5f\"},\"type\":\"carpet\"}],\"table\":[{\"cells\":{\"fill\":{\"color\":\"#EBF0F8\"},\"line\":{\"color\":\"white\"}},\"header\":{\"fill\":{\"color\":\"#C8D4E3\"},\"line\":{\"color\":\"white\"}},\"type\":\"table\"}],\"barpolar\":[{\"marker\":{\"line\":{\"color\":\"#E5ECF6\",\"width\":0.5},\"pattern\":{\"fillmode\":\"overlay\",\"size\":10,\"solidity\":0.2}},\"type\":\"barpolar\"}],\"pie\":[{\"automargin\":true,\"type\":\"pie\"}]},\"layout\":{\"autotypenumbers\":\"strict\",\"colorway\":[\"#636efa\",\"#EF553B\",\"#00cc96\",\"#ab63fa\",\"#FFA15A\",\"#19d3f3\",\"#FF6692\",\"#B6E880\",\"#FF97FF\",\"#FECB52\"],\"font\":{\"color\":\"#2a3f5f\"},\"hovermode\":\"closest\",\"hoverlabel\":{\"align\":\"left\"},\"paper_bgcolor\":\"white\",\"plot_bgcolor\":\"#E5ECF6\",\"polar\":{\"bgcolor\":\"#E5ECF6\",\"angularaxis\":{\"gridcolor\":\"white\",\"linecolor\":\"white\",\"ticks\":\"\"},\"radialaxis\":{\"gridcolor\":\"white\",\"linecolor\":\"white\",\"ticks\":\"\"}},\"ternary\":{\"bgcolor\":\"#E5ECF6\",\"aaxis\":{\"gridcolor\":\"white\",\"linecolor\":\"white\",\"ticks\":\"\"},\"baxis\":{\"gridcolor\":\"white\",\"linecolor\":\"white\",\"ticks\":\"\"},\"caxis\":{\"gridcolor\":\"white\",\"linecolor\":\"white\",\"ticks\":\"\"}},\"coloraxis\":{\"colorbar\":{\"outlinewidth\":0,\"ticks\":\"\"}},\"colorscale\":{\"sequential\":[[0.0,\"#0d0887\"],[0.1111111111111111,\"#46039f\"],[0.2222222222222222,\"#7201a8\"],[0.3333333333333333,\"#9c179e\"],[0.4444444444444444,\"#bd3786\"],[0.5555555555555556,\"#d8576b\"],[0.6666666666666666,\"#ed7953\"],[0.7777777777777778,\"#fb9f3a\"],[0.8888888888888888,\"#fdca26\"],[1.0,\"#f0f921\"]],\"sequentialminus\":[[0.0,\"#0d0887\"],[0.1111111111111111,\"#46039f\"],[0.2222222222222222,\"#7201a8\"],[0.3333333333333333,\"#9c179e\"],[0.4444444444444444,\"#bd3786\"],[0.5555555555555556,\"#d8576b\"],[0.6666666666666666,\"#ed7953\"],[0.7777777777777778,\"#fb9f3a\"],[0.8888888888888888,\"#fdca26\"],[1.0,\"#f0f921\"]],\"diverging\":[[0,\"#8e0152\"],[0.1,\"#c51b7d\"],[0.2,\"#de77ae\"],[0.3,\"#f1b6da\"],[0.4,\"#fde0ef\"],[0.5,\"#f7f7f7\"],[0.6,\"#e6f5d0\"],[0.7,\"#b8e186\"],[0.8,\"#7fbc41\"],[0.9,\"#4d9221\"],[1,\"#276419\"]]},\"xaxis\":{\"gridcolor\":\"white\",\"linecolor\":\"white\",\"ticks\":\"\",\"title\":{\"standoff\":15},\"zerolinecolor\":\"white\",\"automargin\":true,\"zerolinewidth\":2},\"yaxis\":{\"gridcolor\":\"white\",\"linecolor\":\"white\",\"ticks\":\"\",\"title\":{\"standoff\":15},\"zerolinecolor\":\"white\",\"automargin\":true,\"zerolinewidth\":2},\"scene\":{\"xaxis\":{\"backgroundcolor\":\"#E5ECF6\",\"gridcolor\":\"white\",\"linecolor\":\"white\",\"showbackground\":true,\"ticks\":\"\",\"zerolinecolor\":\"white\",\"gridwidth\":2},\"yaxis\":{\"backgroundcolor\":\"#E5ECF6\",\"gridcolor\":\"white\",\"linecolor\":\"white\",\"showbackground\":true,\"ticks\":\"\",\"zerolinecolor\":\"white\",\"gridwidth\":2},\"zaxis\":{\"backgroundcolor\":\"#E5ECF6\",\"gridcolor\":\"white\",\"linecolor\":\"white\",\"showbackground\":true,\"ticks\":\"\",\"zerolinecolor\":\"white\",\"gridwidth\":2}},\"shapedefaults\":{\"line\":{\"color\":\"#2a3f5f\"}},\"annotationdefaults\":{\"arrowcolor\":\"#2a3f5f\",\"arrowhead\":0,\"arrowwidth\":1},\"geo\":{\"bgcolor\":\"white\",\"landcolor\":\"#E5ECF6\",\"subunitcolor\":\"white\",\"showland\":true,\"showlakes\":true,\"lakecolor\":\"white\"},\"title\":{\"x\":0.05},\"mapbox\":{\"style\":\"light\"}}}},                        {\"responsive\": true}                    ).then(function(){\n",
       "                            \n",
       "var gd = document.getElementById('bed830ea-7add-4400-af71-3b458ec9b5db');\n",
       "var x = new MutationObserver(function (mutations, observer) {{\n",
       "        var display = window.getComputedStyle(gd).display;\n",
       "        if (!display || display === 'none') {{\n",
       "            console.log([gd, 'removed!']);\n",
       "            Plotly.purge(gd);\n",
       "            observer.disconnect();\n",
       "        }}\n",
       "}});\n",
       "\n",
       "// Listen for the removal of the full notebook cells\n",
       "var notebookContainer = gd.closest('#notebook-container');\n",
       "if (notebookContainer) {{\n",
       "    x.observe(notebookContainer, {childList: true});\n",
       "}}\n",
       "\n",
       "// Listen for the clearing of the current output cell\n",
       "var outputEl = gd.closest('.output');\n",
       "if (outputEl) {{\n",
       "    x.observe(outputEl, {childList: true});\n",
       "}}\n",
       "\n",
       "                        })                };                });            </script>        </div>"
      ]
     },
     "metadata": {},
     "output_type": "display_data"
    }
   ],
   "source": [
    "#for i,muon in enumerate(l.muon_evt):\n",
    "#print(i,muon)\n",
    "#type(l.muon_evt),\n",
    "#l.muon_evt.muontrk_x1.values\n",
    "l.get_event(1,0,3)\n",
    "muons_tpc0 = l.get_muon_list(0)\n",
    "scs = [muons_tpc0[i].plot_line(i,0) for i in range(len(muons_tpc0))]\n",
    "fig = go.Figure(data=scs)\n",
    "fig.show()"
   ]
  },
  {
   "cell_type": "code",
   "execution_count": null,
   "metadata": {},
   "outputs": [
    {
     "name": "stdout",
     "output_type": "stream",
     "text": [
      "['run', 'subrun', 'event', 'evttime', 't0', 'nhits', 'hit_cryostat', 'hit_tpc', 'hit_plane', 'hit_wire', 'hit_channel', 'hit_peakT', 'hit_charge', 'hit_ph', 'hit_width', 'hit_full_integral', 'nstrips', 'crt_plane', 'crt_module', 'crt_strip', 'crt_orient', 'crt_time', 'crt_adc', 'crt_pos_x', 'crt_pos_y', 'crt_pos_z', 'nctrks', 'ctrk_x1', 'ctrk_y1', 'ctrk_z1', 'ctrk_t1', 'ctrk_adc1', 'ctrk_mod1x', 'ctrk_x2', 'ctrk_y2', 'ctrk_z2', 'ctrk_t2', 'ctrk_adc2', 'ctrk_mod2x', 'nophits', 'ophit_opch', 'ophit_opdet', 'ophit_peakT', 'ophit_width', 'ophit_area', 'ophit_amplitude', 'ophit_pe', 'ophit_opdet_x', 'ophit_opdet_y', 'ophit_opdet_z', 'ophit_opdet_type', 'pmtTrigger_npmtshigh', 'pmtTrigger_maxpassed', 'pmtSoftTrigger_foundBeamTrigger', 'pmtSoftTrigger_tts', 'pmtSoftTrigger_promptPE', 'pmtSoftTrigger_prelimPE', 'pmtSoftTrigger_nAboveThreshold', 'crtSoftTrigger_hitsperplane', 'mcevts_truth', 'nuScatterCode_truth', 'nuID_truth', 'nuPDG_truth', 'ccnc_truth', 'mode_truth', 'enu_truth', 'Q2_truth', 'W_truth', 'hitnuc_truth', 'nuvtxx_truth', 'nuvtxy_truth', 'nuvtxz_truth', 'nu_dcosx_truth', 'nu_dcosy_truth', 'nu_dcosz_truth', 'lep_mom_truth', 'lep_dcosx_truth', 'lep_dcosy_truth', 'lep_dcosz_truth', 'tpx_flux', 'tpy_flux', 'tpz_flux', 'tptype_flux', 'genie_no_primaries', 'genie_primaries_pdg', 'genie_Eng', 'genie_Px', 'genie_Py', 'genie_Pz', 'genie_P', 'genie_status_code', 'genie_mass', 'genie_trackID', 'genie_ND', 'genie_mother']\n"
     ]
    }
   ],
   "source": [
    "tree = uproot.open(f'{DATA_DIR}/{HDUMP_NAME}:hitdumper;1/hitdumpertree;1')\n",
    "l = tree.keys()\n",
    "#print(l)"
   ]
  },
  {
   "cell_type": "code",
   "execution_count": 85,
   "metadata": {},
   "outputs": [
    {
     "data": {
      "text/html": [
       "<div>\n",
       "<style scoped>\n",
       "    .dataframe tbody tr th:only-of-type {\n",
       "        vertical-align: middle;\n",
       "    }\n",
       "\n",
       "    .dataframe tbody tr th {\n",
       "        vertical-align: top;\n",
       "    }\n",
       "\n",
       "    .dataframe thead th {\n",
       "        text-align: right;\n",
       "    }\n",
       "</style>\n",
       "<table border=\"1\" class=\"dataframe\">\n",
       "  <thead>\n",
       "    <tr style=\"text-align: right;\">\n",
       "      <th></th>\n",
       "      <th></th>\n",
       "      <th>run</th>\n",
       "      <th>subrun</th>\n",
       "      <th>event</th>\n",
       "      <th>genie_no_primaries</th>\n",
       "      <th>genie_primaries_pdg</th>\n",
       "      <th>genie_Eng</th>\n",
       "      <th>genie_Px</th>\n",
       "      <th>genie_Py</th>\n",
       "      <th>genie_Pz</th>\n",
       "      <th>genie_P</th>\n",
       "      <th>genie_status_code</th>\n",
       "      <th>genie_mass</th>\n",
       "      <th>genie_trackID</th>\n",
       "      <th>genie_ND</th>\n",
       "      <th>genie_mother</th>\n",
       "    </tr>\n",
       "    <tr>\n",
       "      <th>entry</th>\n",
       "      <th>subentry</th>\n",
       "      <th></th>\n",
       "      <th></th>\n",
       "      <th></th>\n",
       "      <th></th>\n",
       "      <th></th>\n",
       "      <th></th>\n",
       "      <th></th>\n",
       "      <th></th>\n",
       "      <th></th>\n",
       "      <th></th>\n",
       "      <th></th>\n",
       "      <th></th>\n",
       "      <th></th>\n",
       "      <th></th>\n",
       "      <th></th>\n",
       "    </tr>\n",
       "  </thead>\n",
       "  <tbody>\n",
       "    <tr>\n",
       "      <th rowspan=\"5\" valign=\"top\">0</th>\n",
       "      <th>0</th>\n",
       "      <td>1</td>\n",
       "      <td>445</td>\n",
       "      <td>9</td>\n",
       "      <td>25</td>\n",
       "      <td>14</td>\n",
       "      <td>1.480434</td>\n",
       "      <td>-0.008622</td>\n",
       "      <td>0.001454</td>\n",
       "      <td>1.480408</td>\n",
       "      <td>1.480434</td>\n",
       "      <td>0</td>\n",
       "      <td>0.000000</td>\n",
       "      <td>0</td>\n",
       "      <td>0</td>\n",
       "      <td>-1</td>\n",
       "    </tr>\n",
       "    <tr>\n",
       "      <th>1</th>\n",
       "      <td>1</td>\n",
       "      <td>445</td>\n",
       "      <td>9</td>\n",
       "      <td>25</td>\n",
       "      <td>1000180400</td>\n",
       "      <td>37.215527</td>\n",
       "      <td>0.000000</td>\n",
       "      <td>0.000000</td>\n",
       "      <td>0.000000</td>\n",
       "      <td>0.000000</td>\n",
       "      <td>0</td>\n",
       "      <td>37.215527</td>\n",
       "      <td>1</td>\n",
       "      <td>0</td>\n",
       "      <td>-1</td>\n",
       "    </tr>\n",
       "    <tr>\n",
       "      <th>2</th>\n",
       "      <td>1</td>\n",
       "      <td>445</td>\n",
       "      <td>9</td>\n",
       "      <td>25</td>\n",
       "      <td>2212</td>\n",
       "      <td>0.925958</td>\n",
       "      <td>-0.020904</td>\n",
       "      <td>0.065395</td>\n",
       "      <td>-0.028538</td>\n",
       "      <td>NaN</td>\n",
       "      <td>11</td>\n",
       "      <td>0.938272</td>\n",
       "      <td>2</td>\n",
       "      <td>0</td>\n",
       "      <td>1</td>\n",
       "    </tr>\n",
       "    <tr>\n",
       "      <th>3</th>\n",
       "      <td>1</td>\n",
       "      <td>445</td>\n",
       "      <td>9</td>\n",
       "      <td>25</td>\n",
       "      <td>1000170390</td>\n",
       "      <td>36.289570</td>\n",
       "      <td>0.020904</td>\n",
       "      <td>-0.065395</td>\n",
       "      <td>0.028538</td>\n",
       "      <td>NaN</td>\n",
       "      <td>2</td>\n",
       "      <td>36.289783</td>\n",
       "      <td>3</td>\n",
       "      <td>0</td>\n",
       "      <td>1</td>\n",
       "    </tr>\n",
       "    <tr>\n",
       "      <th>4</th>\n",
       "      <td>1</td>\n",
       "      <td>445</td>\n",
       "      <td>9</td>\n",
       "      <td>25</td>\n",
       "      <td>14</td>\n",
       "      <td>0.142005</td>\n",
       "      <td>-0.021005</td>\n",
       "      <td>0.107882</td>\n",
       "      <td>0.089921</td>\n",
       "      <td>0.142005</td>\n",
       "      <td>1</td>\n",
       "      <td>0.000000</td>\n",
       "      <td>4</td>\n",
       "      <td>0</td>\n",
       "      <td>0</td>\n",
       "    </tr>\n",
       "    <tr>\n",
       "      <th>...</th>\n",
       "      <th>...</th>\n",
       "      <td>...</td>\n",
       "      <td>...</td>\n",
       "      <td>...</td>\n",
       "      <td>...</td>\n",
       "      <td>...</td>\n",
       "      <td>...</td>\n",
       "      <td>...</td>\n",
       "      <td>...</td>\n",
       "      <td>...</td>\n",
       "      <td>...</td>\n",
       "      <td>...</td>\n",
       "      <td>...</td>\n",
       "      <td>...</td>\n",
       "      <td>...</td>\n",
       "      <td>...</td>\n",
       "    </tr>\n",
       "    <tr>\n",
       "      <th rowspan=\"5\" valign=\"top\">141</th>\n",
       "      <th>5</th>\n",
       "      <td>1</td>\n",
       "      <td>445</td>\n",
       "      <td>599</td>\n",
       "      <td>10</td>\n",
       "      <td>14</td>\n",
       "      <td>0.917410</td>\n",
       "      <td>0.333465</td>\n",
       "      <td>0.130226</td>\n",
       "      <td>0.844679</td>\n",
       "      <td>0.917410</td>\n",
       "      <td>1</td>\n",
       "      <td>0.000000</td>\n",
       "      <td>5</td>\n",
       "      <td>0</td>\n",
       "      <td>0</td>\n",
       "    </tr>\n",
       "    <tr>\n",
       "      <th>6</th>\n",
       "      <td>1</td>\n",
       "      <td>445</td>\n",
       "      <td>599</td>\n",
       "      <td>10</td>\n",
       "      <td>2112</td>\n",
       "      <td>0.989021</td>\n",
       "      <td>-0.218033</td>\n",
       "      <td>-0.214167</td>\n",
       "      <td>-0.044412</td>\n",
       "      <td>0.308834</td>\n",
       "      <td>14</td>\n",
       "      <td>0.939565</td>\n",
       "      <td>6</td>\n",
       "      <td>0</td>\n",
       "      <td>2</td>\n",
       "    </tr>\n",
       "    <tr>\n",
       "      <th>7</th>\n",
       "      <td>1</td>\n",
       "      <td>445</td>\n",
       "      <td>599</td>\n",
       "      <td>10</td>\n",
       "      <td>2112</td>\n",
       "      <td>0.985968</td>\n",
       "      <td>-0.211030</td>\n",
       "      <td>-0.207288</td>\n",
       "      <td>-0.042986</td>\n",
       "      <td>0.298914</td>\n",
       "      <td>1</td>\n",
       "      <td>0.939565</td>\n",
       "      <td>7</td>\n",
       "      <td>0</td>\n",
       "      <td>6</td>\n",
       "    </tr>\n",
       "    <tr>\n",
       "      <th>8</th>\n",
       "      <td>1</td>\n",
       "      <td>445</td>\n",
       "      <td>599</td>\n",
       "      <td>10</td>\n",
       "      <td>2000000002</td>\n",
       "      <td>36.275276</td>\n",
       "      <td>-0.085898</td>\n",
       "      <td>0.086752</td>\n",
       "      <td>0.168141</td>\n",
       "      <td>36.275276</td>\n",
       "      <td>15</td>\n",
       "      <td>0.000000</td>\n",
       "      <td>8</td>\n",
       "      <td>0</td>\n",
       "      <td>3</td>\n",
       "    </tr>\n",
       "    <tr>\n",
       "      <th>9</th>\n",
       "      <td>1</td>\n",
       "      <td>445</td>\n",
       "      <td>599</td>\n",
       "      <td>10</td>\n",
       "      <td>2000000101</td>\n",
       "      <td>0.003052</td>\n",
       "      <td>-0.007003</td>\n",
       "      <td>-0.006879</td>\n",
       "      <td>-0.001427</td>\n",
       "      <td>0.003052</td>\n",
       "      <td>1</td>\n",
       "      <td>0.000000</td>\n",
       "      <td>9</td>\n",
       "      <td>0</td>\n",
       "      <td>-1</td>\n",
       "    </tr>\n",
       "  </tbody>\n",
       "</table>\n",
       "<p>1890 rows × 15 columns</p>\n",
       "</div>"
      ],
      "text/plain": [
       "                run  subrun  event  genie_no_primaries  genie_primaries_pdg  \\\n",
       "entry subentry                                                                \n",
       "0     0           1     445      9                  25                   14   \n",
       "      1           1     445      9                  25           1000180400   \n",
       "      2           1     445      9                  25                 2212   \n",
       "      3           1     445      9                  25           1000170390   \n",
       "      4           1     445      9                  25                   14   \n",
       "...             ...     ...    ...                 ...                  ...   \n",
       "141   5           1     445    599                  10                   14   \n",
       "      6           1     445    599                  10                 2112   \n",
       "      7           1     445    599                  10                 2112   \n",
       "      8           1     445    599                  10           2000000002   \n",
       "      9           1     445    599                  10           2000000101   \n",
       "\n",
       "                genie_Eng  genie_Px  genie_Py  genie_Pz    genie_P  \\\n",
       "entry subentry                                                       \n",
       "0     0          1.480434 -0.008622  0.001454  1.480408   1.480434   \n",
       "      1         37.215527  0.000000  0.000000  0.000000   0.000000   \n",
       "      2          0.925958 -0.020904  0.065395 -0.028538        NaN   \n",
       "      3         36.289570  0.020904 -0.065395  0.028538        NaN   \n",
       "      4          0.142005 -0.021005  0.107882  0.089921   0.142005   \n",
       "...                   ...       ...       ...       ...        ...   \n",
       "141   5          0.917410  0.333465  0.130226  0.844679   0.917410   \n",
       "      6          0.989021 -0.218033 -0.214167 -0.044412   0.308834   \n",
       "      7          0.985968 -0.211030 -0.207288 -0.042986   0.298914   \n",
       "      8         36.275276 -0.085898  0.086752  0.168141  36.275276   \n",
       "      9          0.003052 -0.007003 -0.006879 -0.001427   0.003052   \n",
       "\n",
       "                genie_status_code  genie_mass  genie_trackID  genie_ND  \\\n",
       "entry subentry                                                           \n",
       "0     0                         0    0.000000              0         0   \n",
       "      1                         0   37.215527              1         0   \n",
       "      2                        11    0.938272              2         0   \n",
       "      3                         2   36.289783              3         0   \n",
       "      4                         1    0.000000              4         0   \n",
       "...                           ...         ...            ...       ...   \n",
       "141   5                         1    0.000000              5         0   \n",
       "      6                        14    0.939565              6         0   \n",
       "      7                         1    0.939565              7         0   \n",
       "      8                        15    0.000000              8         0   \n",
       "      9                         1    0.000000              9         0   \n",
       "\n",
       "                genie_mother  \n",
       "entry subentry                \n",
       "0     0                   -1  \n",
       "      1                   -1  \n",
       "      2                    1  \n",
       "      3                    1  \n",
       "      4                    0  \n",
       "...                      ...  \n",
       "141   5                    0  \n",
       "      6                    2  \n",
       "      7                    6  \n",
       "      8                    3  \n",
       "      9                   -1  \n",
       "\n",
       "[1890 rows x 15 columns]"
      ]
     },
     "execution_count": 85,
     "metadata": {},
     "output_type": "execute_result"
    }
   ],
   "source": [
    "gen_keys = [key for key in tree.keys() if 'genie' in key or 'nu' in key]\n",
    "gen_df = tree.arrays(hdr_keys+gen_keys,library='pd')\n",
    "gen_df[1]"
   ]
  },
  {
   "cell_type": "code",
   "execution_count": 38,
   "metadata": {},
   "outputs": [
    {
     "data": {
      "text/plain": [
       "['ch_prelimPE', 'ch_promptPE', 'ch_AboveThreshold', 'ch_ID']"
      ]
     },
     "execution_count": 38,
     "metadata": {},
     "output_type": "execute_result"
    }
   ],
   "source": [
    "ch_keys = [key for key in ishan.keys() if 'ch_' in key]\n",
    "arr = ishan.arrays(ch_keys,library='np')\n",
    "ch_keys"
   ]
  },
  {
   "cell_type": "code",
   "execution_count": 41,
   "metadata": {},
   "outputs": [
    {
     "data": {
      "text/plain": [
       "array([2.50000e-01, 3.75000e-01, 7.50000e-01, 3.75000e-01, 3.75000e-01,\n",
       "       2.50000e-01, 3.75000e-01, 3.75000e-01, 5.00000e-01, 2.50000e-01,\n",
       "       3.75000e-01, 3.75000e-01, 3.75000e-01, 3.75000e-01, 3.75000e-01,\n",
       "       3.75000e-01, 3.75000e-01, 2.50000e-01, 3.75000e-01, 2.50000e-01,\n",
       "       3.75000e-01, 2.50000e-01, 1.25000e+01, 2.50000e-01, 8.00000e+00,\n",
       "       2.50000e-01, 7.12500e+00, 2.50000e-01, 3.75000e-01, 3.75000e-01,\n",
       "       3.75000e-01, 2.50000e-01, 7.37500e+00, 3.75000e-01, 6.76250e+01,\n",
       "       2.50000e-01, 1.52500e+02, 2.50000e-01, 3.66250e+01, 3.75000e-01,\n",
       "       1.00000e+00, 3.75000e-01, 3.75000e-01, 3.75000e-01, 2.50000e-01,\n",
       "       3.75000e-01, 3.75000e-01, 3.75000e-01, 7.50000e-01, 2.50000e-01,\n",
       "       2.05000e+01, 3.75000e-01, 1.49625e+02, 3.75000e-01, 4.09500e+02,\n",
       "       2.50000e-01, 1.61250e+02, 2.50000e-01, 3.50000e+00, 2.50000e-01,\n",
       "       7.50000e-01, 2.50000e-01, 1.36250e+01, 3.75000e-01, 8.95000e+01,\n",
       "       3.75000e-01, 2.20625e+02, 2.50000e-01, 8.88750e+01, 2.50000e-01,\n",
       "       1.62500e+00, 3.75000e-01, 3.75000e-01, 3.75000e-01, 3.75000e-01,\n",
       "       5.00000e-01, 3.75000e-01, 2.50000e-01, 1.00000e+00, 2.50000e-01,\n",
       "       6.25000e+00, 2.50000e-01, 3.51250e+01, 2.50000e-01, 4.01250e+01,\n",
       "       3.75000e-01, 1.25000e+01, 3.75000e-01, 1.00000e+00, 3.75000e-01,\n",
       "       5.00000e-01, 2.50000e-01, 2.00000e+00, 2.50000e-01, 6.37500e+00,\n",
       "       2.50000e-01, 3.50000e+00, 3.75000e-01, 2.00000e+00, 2.50000e-01,\n",
       "       3.75000e-01, 3.75000e-01, 2.50000e-01, 3.75000e-01, 3.75000e-01,\n",
       "       3.75000e-01, 2.50000e-01, 3.75000e-01, 2.50000e-01, 3.75000e-01,\n",
       "       3.75000e-01, 2.50000e-01, 8.75000e-01, 3.75000e-01, 5.00000e-01,\n",
       "       3.75000e-01, 2.50000e-01, 2.50000e-01, 3.75000e-01, 2.50000e-01])"
      ]
     },
     "execution_count": 41,
     "metadata": {},
     "output_type": "execute_result"
    }
   ],
   "source": [
    "np.unique(arr['ch_prelimPE'][0][0],return_counts=True)\n",
    "np.array(arr['ch_prelimPE'][0][0])"
   ]
  },
  {
   "cell_type": "code",
   "execution_count": 4,
   "metadata": {},
   "outputs": [],
   "source": [
    "muon_keys = [key for key in tree.keys() if 'muon' in key]\n",
    "hdr_keys = ['run','subrun','event']\n",
    "muon_df = tree.arrays(hdr_keys+muon_keys,library='pd')"
   ]
  },
  {
   "cell_type": "code",
   "execution_count": 15,
   "metadata": {},
   "outputs": [
    {
     "data": {
      "text/plain": [
       "0.0"
      ]
     },
     "execution_count": 15,
     "metadata": {},
     "output_type": "execute_result"
    }
   ],
   "source": [
    "muon_evt = muon_df.query('run == 1 and subrun == 0 and event == 2')\n",
    "s = muon_evt.iloc[0]\n",
    "trk_type, tpc, x1, y1, z1, x2, y2, z2, theta_xz, theta_yz = s.muontrk_type, s.muontrk_tpc, s.muontrk_x1, s.muontrk_y1, s.muontrk_z1, s.muontrk_x2, s.muontrk_y2, s.muontrk_z2, s.muontrk_theta_xz, s.muontrk_theta_yz\n",
    "tpc"
   ]
  },
  {
   "cell_type": "code",
   "execution_count": 29,
   "metadata": {},
   "outputs": [
    {
     "data": {
      "application/vnd.plotly.v1+json": {
       "config": {
        "plotlyServerURL": "https://plot.ly"
       },
       "data": [
        {
         "hoverinfo": "text+name",
         "mode": "lines",
         "name": "Muon 0",
         "text": "Type : 0.0<br>x1 : -202.05<br>y1 : 199.79<br>z1 : 278.85<br>x2 : 0.00<br>y2 : -61.40<br>z2 : 371.25<br>theta_xz : 65.68<br>theta_yz : -70.52<br>",
         "type": "scatter",
         "x": [
          278.8500061035156,
          278.9424985898985,
          279.03499107628136,
          279.1274835626642,
          279.2199760490471,
          279.31246853542996,
          279.4049610218128,
          279.4974535081957,
          279.58994599457856,
          279.6824384809614,
          279.7749309673443,
          279.86742345372716,
          279.95991594011,
          280.0524084264929,
          280.14490091287576,
          280.2373933992586,
          280.3298858856415,
          280.42237837202435,
          280.5148708584072,
          280.6073633447901,
          280.69985583117295,
          280.7923483175558,
          280.8848408039387,
          280.97733329032155,
          281.0698257767044,
          281.1623182630873,
          281.25481074947015,
          281.347303235853,
          281.4397957222359,
          281.53228820861875,
          281.6247806950016,
          281.7172731813845,
          281.80976566776735,
          281.9022581541502,
          281.9947506405331,
          282.08724312691595,
          282.1797356132988,
          282.27222809968174,
          282.3647205860646,
          282.4572130724475,
          282.54970555883034,
          282.6421980452132,
          282.7346905315961,
          282.82718301797894,
          282.9196755043618,
          283.0121679907447,
          283.10466047712754,
          283.1971529635104,
          283.28964544989327,
          283.38213793627614,
          283.474630422659,
          283.56712290904187,
          283.65961539542474,
          283.7521078818076,
          283.84460036819047,
          283.93709285457334,
          284.0295853409562,
          284.12207782733907,
          284.21457031372194,
          284.3070628001048,
          284.39955528648767,
          284.49204777287054,
          284.5845402592534,
          284.67703274563627,
          284.76952523201913,
          284.862017718402,
          284.95451020478487,
          285.04700269116773,
          285.1394951775506,
          285.23198766393347,
          285.32448015031633,
          285.4169726366992,
          285.50946512308207,
          285.60195760946493,
          285.6944500958478,
          285.78694258223067,
          285.87943506861353,
          285.9719275549964,
          286.06442004137926,
          286.15691252776213,
          286.249405014145,
          286.34189750052786,
          286.43438998691073,
          286.5268824732936,
          286.61937495967646,
          286.71186744605933,
          286.8043599324422,
          286.89685241882506,
          286.98934490520793,
          287.0818373915908,
          287.17432987797366,
          287.2668223643565,
          287.3593148507394,
          287.45180733712226,
          287.5442998235051,
          287.636792309888,
          287.72928479627086,
          287.8217772826537,
          287.9142697690366,
          288.00676225541946,
          288.0992547418023,
          288.1917472281852,
          288.28423971456806,
          288.3767322009509,
          288.4692246873338,
          288.56171717371666,
          288.6542096600995,
          288.74670214648245,
          288.8391946328653,
          288.9316871192482,
          289.02417960563105,
          289.1166720920139,
          289.2091645783968,
          289.30165706477965,
          289.3941495511625,
          289.4866420375454,
          289.57913452392825,
          289.6716270103111,
          289.764119496694,
          289.85661198307685,
          289.9491044694597,
          290.0415969558426,
          290.13408944222545,
          290.2265819286083,
          290.3190744149912,
          290.41156690137404,
          290.5040593877569,
          290.5965518741398,
          290.68904436052264,
          290.7815368469055,
          290.8740293332884,
          290.96652181967124,
          291.0590143060541,
          291.151506792437,
          291.24399927881984,
          291.3364917652027,
          291.4289842515856,
          291.52147673796844,
          291.6139692243513,
          291.7064617107342,
          291.79895419711704,
          291.8914466834999,
          291.9839391698828,
          292.07643165626564,
          292.1689241426485,
          292.2614166290314,
          292.35390911541424,
          292.4464016017971,
          292.53889408818,
          292.63138657456284,
          292.7238790609457,
          292.8163715473286,
          292.90886403371144,
          293.0013565200943,
          293.09384900647717,
          293.18634149286004,
          293.2788339792429,
          293.37132646562577,
          293.46381895200864,
          293.5563114383915,
          293.64880392477437,
          293.74129641115724,
          293.8337888975401,
          293.92628138392297,
          294.01877387030584,
          294.1112663566887,
          294.20375884307157,
          294.29625132945444,
          294.3887438158373,
          294.48123630222017,
          294.57372878860303,
          294.6662212749859,
          294.75871376136877,
          294.85120624775163,
          294.9436987341345,
          295.03619122051737,
          295.12868370690023,
          295.2211761932831,
          295.31366867966597,
          295.40616116604883,
          295.4986536524317,
          295.59114613881457,
          295.6836386251975,
          295.77613111158036,
          295.8686235979632,
          295.9611160843461,
          296.05360857072895,
          296.1461010571118,
          296.2385935434947,
          296.33108602987755,
          296.4235785162604,
          296.5160710026433,
          296.60856348902615,
          296.701055975409,
          296.7935484617919,
          296.88604094817475,
          296.9785334345576,
          297.0710259209405,
          297.16351840732335,
          297.2560108937062,
          297.3485033800891,
          297.44099586647195,
          297.5334883528548,
          297.6259808392377,
          297.71847332562055,
          297.8109658120034,
          297.9034582983863,
          297.99595078476915,
          298.088443271152,
          298.1809357575349,
          298.27342824391775,
          298.3659207303006,
          298.4584132166835,
          298.55090570306635,
          298.6433981894492,
          298.7358906758321,
          298.82838316221495,
          298.9208756485978,
          299.0133681349807,
          299.10586062136355,
          299.1983531077464,
          299.2908455941293,
          299.38333808051215,
          299.475830566895,
          299.5683230532779,
          299.66081553966075,
          299.7533080260436,
          299.8458005124265,
          299.93829299880935,
          300.0307854851922,
          300.1232779715751,
          300.21577045795794,
          300.3082629443408,
          300.4007554307237,
          300.49324791710654,
          300.5857404034894,
          300.6782328898723,
          300.77072537625514,
          300.863217862638,
          300.9557103490209,
          301.04820283540374,
          301.1406953217866,
          301.2331878081695,
          301.32568029455234,
          301.4181727809352,
          301.5106652673181,
          301.60315775370094,
          301.6956502400838,
          301.7881427264667,
          301.88063521284954,
          301.97312769923246,
          302.06562018561533,
          302.1581126719982,
          302.25060515838106,
          302.34309764476393,
          302.4355901311468,
          302.52808261752966,
          302.62057510391253,
          302.7130675902954,
          302.80556007667826,
          302.8980525630611,
          302.990545049444,
          303.08303753582686,
          303.1755300222097,
          303.2680225085926,
          303.36051499497546,
          303.4530074813583,
          303.5454999677412,
          303.63799245412406,
          303.7304849405069,
          303.8229774268898,
          303.91546991327266,
          304.0079623996555,
          304.1004548860384,
          304.19294737242126,
          304.2854398588041,
          304.377932345187,
          304.47042483156986,
          304.5629173179527,
          304.6554098043356,
          304.74790229071846,
          304.8403947771013,
          304.9328872634842,
          305.02537974986706,
          305.1178722362499,
          305.2103647226328,
          305.30285720901566,
          305.3953496953985,
          305.4878421817814,
          305.58033466816426,
          305.6728271545471,
          305.76531964093,
          305.85781212731285,
          305.9503046136957,
          306.0427971000786,
          306.13528958646145,
          306.2277820728443,
          306.3202745592272,
          306.41276704561005,
          306.5052595319929,
          306.5977520183758,
          306.69024450475865,
          306.7827369911415,
          306.8752294775244,
          306.96772196390725,
          307.0602144502901,
          307.152706936673,
          307.24519942305585,
          307.3376919094387,
          307.4301843958216,
          307.52267688220445,
          307.6151693685873,
          307.7076618549702,
          307.80015434135305,
          307.8926468277359,
          307.9851393141188,
          308.07763180050165,
          308.1701242868845,
          308.2626167732674,
          308.35510925965025,
          308.4476017460331,
          308.540094232416,
          308.63258671879885,
          308.7250792051817,
          308.8175716915646,
          308.91006417794745,
          309.00255666433037,
          309.09504915071324,
          309.1875416370961,
          309.28003412347897,
          309.37252660986184,
          309.4650190962447,
          309.55751158262757,
          309.65000406901044,
          309.7424965553933,
          309.83498904177617,
          309.92748152815903,
          310.0199740145419,
          310.11246650092477,
          310.20495898730763,
          310.2974514736905,
          310.38994396007337,
          310.48243644645623,
          310.5749289328391,
          310.66742141922197,
          310.75991390560483,
          310.8524063919877,
          310.94489887837057,
          311.03739136475343,
          311.1298838511363,
          311.22237633751917,
          311.31486882390203,
          311.4073613102849,
          311.49985379666776,
          311.59234628305063,
          311.6848387694335,
          311.77733125581636,
          311.86982374219923,
          311.9623162285821,
          312.05480871496496,
          312.14730120134783,
          312.2397936877307,
          312.33228617411356,
          312.42477866049643,
          312.5172711468793,
          312.60976363326216,
          312.702256119645,
          312.7947486060279,
          312.88724109241076,
          312.9797335787936,
          313.0722260651765,
          313.16471855155936,
          313.2572110379422,
          313.3497035243251,
          313.44219601070796,
          313.5346884970908,
          313.6271809834737,
          313.71967346985656,
          313.8121659562394,
          313.9046584426223,
          313.99715092900516,
          314.089643415388,
          314.1821359017709,
          314.27462838815376,
          314.3671208745366,
          314.4596133609195,
          314.55210584730236,
          314.6445983336852,
          314.7370908200681,
          314.82958330645096,
          314.9220757928338,
          315.01456827921675,
          315.1070607655996,
          315.1995532519825,
          315.29204573836535,
          315.3845382247482,
          315.4770307111311,
          315.56952319751394,
          315.6620156838968,
          315.7545081702797,
          315.84700065666254,
          315.9394931430454,
          316.0319856294283,
          316.12447811581114,
          316.216970602194,
          316.3094630885769,
          316.40195557495974,
          316.4944480613426,
          316.5869405477255,
          316.67943303410834,
          316.7719255204912,
          316.8644180068741,
          316.95691049325694,
          317.0494029796398,
          317.1418954660227,
          317.23438795240554,
          317.3268804387884,
          317.4193729251713,
          317.51186541155414,
          317.604357897937,
          317.6968503843199,
          317.78934287070274,
          317.8818353570856,
          317.9743278434685,
          318.06682032985134,
          318.1593128162342,
          318.2518053026171,
          318.34429778899994,
          318.4367902753828,
          318.52928276176567,
          318.62177524814854,
          318.7142677345314,
          318.80676022091427,
          318.89925270729714,
          318.99174519368,
          319.08423768006287,
          319.17673016644574,
          319.2692226528286,
          319.36171513921147,
          319.45420762559434,
          319.5467001119772,
          319.63919259836007,
          319.73168508474294,
          319.8241775711258,
          319.91667005750867,
          320.00916254389153,
          320.1016550302744,
          320.19414751665727,
          320.28664000304013,
          320.379132489423,
          320.47162497580587,
          320.56411746218873,
          320.6566099485716,
          320.74910243495447,
          320.84159492133733,
          320.9340874077202,
          321.02657989410307,
          321.11907238048593,
          321.2115648668688,
          321.30405735325166,
          321.39654983963453,
          321.4890423260174,
          321.58153481240026,
          321.67402729878313,
          321.766519785166,
          321.85901227154886,
          321.95150475793173,
          322.0439972443146,
          322.13648973069746,
          322.22898221708033,
          322.3214747034632,
          322.41396718984606,
          322.506459676229,
          322.59895216261185,
          322.6914446489947,
          322.7839371353776,
          322.87642962176045,
          322.9689221081433,
          323.0614145945262,
          323.15390708090905,
          323.2463995672919,
          323.3388920536748,
          323.43138454005765,
          323.5238770264405,
          323.6163695128234,
          323.70886199920625,
          323.8013544855891,
          323.893846971972,
          323.98633945835485,
          324.0788319447377,
          324.1713244311206,
          324.26381691750345,
          324.3563094038863,
          324.4488018902692,
          324.54129437665205,
          324.6337868630349,
          324.7262793494178,
          324.81877183580065,
          324.9112643221835,
          325.0037568085664,
          325.09624929494925,
          325.1887417813321,
          325.281234267715,
          325.37372675409785,
          325.4662192404807,
          325.5587117268636,
          325.65120421324644,
          325.7436966996293,
          325.8361891860122,
          325.92868167239504,
          326.0211741587779,
          326.1136666451608,
          326.20615913154364,
          326.2986516179265,
          326.3911441043094,
          326.48363659069224,
          326.5761290770751,
          326.668621563458,
          326.76111404984084,
          326.8536065362237,
          326.9460990226066,
          327.03859150898944,
          327.1310839953723,
          327.2235764817552,
          327.31606896813804,
          327.4085614545209,
          327.5010539409038,
          327.59354642728664,
          327.6860389136695,
          327.7785314000524,
          327.87102388643524,
          327.9635163728181,
          328.056008859201,
          328.14850134558384,
          328.2409938319667,
          328.3334863183496,
          328.4259788047325,
          328.51847129111536,
          328.6109637774982,
          328.7034562638811,
          328.79594875026396,
          328.8884412366468,
          328.9809337230297,
          329.07342620941256,
          329.1659186957954,
          329.2584111821783,
          329.35090366856116,
          329.443396154944,
          329.5358886413269,
          329.62838112770976,
          329.7208736140926,
          329.8133661004755,
          329.90585858685836,
          329.9983510732412,
          330.0908435596241,
          330.18333604600696,
          330.2758285323898,
          330.3683210187727,
          330.46081350515556,
          330.5533059915384,
          330.6457984779213,
          330.73829096430416,
          330.830783450687,
          330.9232759370699,
          331.01576842345276,
          331.1082609098356,
          331.2007533962185,
          331.29324588260135,
          331.3857383689842,
          331.4782308553671,
          331.57072334174995,
          331.6632158281328,
          331.7557083145157,
          331.84820080089855,
          331.9406932872814,
          332.0331857736643,
          332.12567826004715,
          332.21817074643,
          332.3106632328129,
          332.40315571919575,
          332.4956482055786,
          332.5881406919615,
          332.68063317834435,
          332.7731256647272,
          332.8656181511101,
          332.95811063749295,
          333.0506031238758,
          333.1430956102587,
          333.23558809664155,
          333.3280805830244,
          333.4205730694073,
          333.51306555579015,
          333.605558042173,
          333.6980505285559,
          333.79054301493875,
          333.8830355013216,
          333.9755279877045,
          334.06802047408735,
          334.1605129604702,
          334.2530054468531,
          334.34549793323595,
          334.4379904196188,
          334.5304829060017,
          334.62297539238455,
          334.7154678787674,
          334.8079603651503,
          334.90045285153315,
          334.992945337916,
          335.0854378242989,
          335.17793031068175,
          335.2704227970646,
          335.3629152834475,
          335.45540776983034,
          335.5479002562132,
          335.6403927425961,
          335.73288522897894,
          335.82537771536187,
          335.91787020174473,
          336.0103626881276,
          336.10285517451047,
          336.19534766089333,
          336.2878401472762,
          336.38033263365907,
          336.47282512004193,
          336.5653176064248,
          336.65781009280767,
          336.75030257919053,
          336.8427950655734,
          336.93528755195626,
          337.02778003833913,
          337.120272524722,
          337.21276501110486,
          337.30525749748773,
          337.3977499838706,
          337.49024247025346,
          337.58273495663633,
          337.6752274430192,
          337.76771992940206,
          337.86021241578493,
          337.9527049021678,
          338.04519738855066,
          338.1376898749335,
          338.2301823613164,
          338.32267484769926,
          338.4151673340821,
          338.507659820465,
          338.60015230684786,
          338.6926447932307,
          338.7851372796136,
          338.87762976599646,
          338.9701222523793,
          339.0626147387622,
          339.15510722514506,
          339.2475997115279,
          339.3400921979108,
          339.43258468429366,
          339.5250771706765,
          339.6175696570594,
          339.71006214344226,
          339.8025546298251,
          339.895047116208,
          339.98753960259086,
          340.0800320889737,
          340.1725245753566,
          340.26501706173946,
          340.3575095481223,
          340.4500020345052,
          340.54249452088806,
          340.6349870072709,
          340.7274794936538,
          340.81997198003666,
          340.9124644664195,
          341.0049569528024,
          341.09744943918525,
          341.1899419255681,
          341.282434411951,
          341.37492689833385,
          341.4674193847167,
          341.5599118710996,
          341.6524043574825,
          341.7448968438654,
          341.83738933024824,
          341.9298818166311,
          342.022374303014,
          342.11486678939684,
          342.2073592757797,
          342.2998517621626,
          342.39234424854544,
          342.4848367349283,
          342.5773292213112,
          342.66982170769404,
          342.7623141940769,
          342.8548066804598,
          342.94729916684264,
          343.0397916532255,
          343.1322841396084,
          343.22477662599124,
          343.3172691123741,
          343.409761598757,
          343.50225408513984,
          343.5947465715227,
          343.6872390579056,
          343.77973154428844,
          343.8722240306713,
          343.96471651705417,
          344.05720900343704,
          344.1497014898199,
          344.24219397620277,
          344.33468646258564,
          344.4271789489685,
          344.51967143535137,
          344.61216392173424,
          344.7046564081171,
          344.79714889449997,
          344.88964138088284,
          344.9821338672657,
          345.07462635364857,
          345.16711884003143,
          345.2596113264143,
          345.35210381279717,
          345.44459629918003,
          345.5370887855629,
          345.62958127194577,
          345.72207375832863,
          345.8145662447115,
          345.90705873109437,
          345.99955121747723,
          346.0920437038601,
          346.18453619024297,
          346.27702867662583,
          346.3695211630087,
          346.46201364939157,
          346.55450613577443,
          346.6469986221573,
          346.73949110854016,
          346.83198359492303,
          346.9244760813059,
          347.01696856768876,
          347.10946105407163,
          347.2019535404545,
          347.29444602683736,
          347.38693851322023,
          347.4794309996031,
          347.57192348598596,
          347.66441597236883,
          347.7569084587517,
          347.84940094513456,
          347.9418934315174,
          348.0343859179003,
          348.12687840428316,
          348.219370890666,
          348.3118633770489,
          348.40435586343176,
          348.4968483498146,
          348.5893408361975,
          348.68183332258036,
          348.7743258089632,
          348.8668182953461,
          348.95931078172896,
          349.0518032681118,
          349.1442957544947,
          349.23678824087756,
          349.3292807272604,
          349.4217732136433,
          349.5142657000262,
          349.6067581864091,
          349.69925067279195,
          349.7917431591748,
          349.8842356455577,
          349.97672813194055,
          350.0692206183234,
          350.1617131047063,
          350.25420559108915,
          350.346698077472,
          350.4391905638549,
          350.53168305023775,
          350.6241755366206,
          350.7166680230035,
          350.80916050938634,
          350.9016529957692,
          350.9941454821521,
          351.08663796853494,
          351.1791304549178,
          351.2716229413007,
          351.36411542768354,
          351.4566079140664,
          351.5491004004493,
          351.64159288683214,
          351.734085373215,
          351.8265778595979,
          351.91907034598074,
          352.0115628323636,
          352.1040553187465,
          352.19654780512934,
          352.2890402915122,
          352.3815327778951,
          352.47402526427794,
          352.5665177506608,
          352.6590102370437,
          352.75150272342654,
          352.8439952098094,
          352.9364876961923,
          353.02898018257514,
          353.121472668958,
          353.2139651553409,
          353.30645764172374,
          353.3989501281066,
          353.4914426144895,
          353.58393510087234,
          353.6764275872552,
          353.76892007363807,
          353.86141256002094,
          353.9539050464038,
          354.04639753278667,
          354.13889001916954,
          354.2313825055524,
          354.32387499193527,
          354.41636747831814,
          354.50885996470106,
          354.6013524510839,
          354.6938449374668,
          354.78633742384966,
          354.8788299102325,
          354.9713223966154,
          355.06381488299826,
          355.1563073693811,
          355.248799855764,
          355.34129234214686,
          355.4337848285297,
          355.5262773149126,
          355.61876980129546,
          355.7112622876783,
          355.8037547740612,
          355.89624726044406,
          355.9887397468269,
          356.0812322332098,
          356.17372471959266,
          356.2662172059755,
          356.3587096923584,
          356.45120217874126,
          356.5436946651241,
          356.636187151507,
          356.72867963788985,
          356.8211721242727,
          356.9136646106556,
          357.00615709703845,
          357.0986495834213,
          357.1911420698042,
          357.28363455618705,
          357.3761270425699,
          357.4686195289528,
          357.56111201533565,
          357.6536045017185,
          357.7460969881014,
          357.83858947448425,
          357.9310819608671,
          358.02357444725,
          358.11606693363285,
          358.2085594200157,
          358.3010519063986,
          358.39354439278145,
          358.4860368791643,
          358.5785293655472,
          358.67102185193005,
          358.7635143383129,
          358.8560068246958,
          358.94849931107865,
          359.0409917974615,
          359.1334842838444,
          359.22597677022725,
          359.3184692566101,
          359.410961742993,
          359.50345422937585,
          359.5959467157587,
          359.6884392021416,
          359.78093168852445,
          359.8734241749073,
          359.9659166612902,
          360.05840914767305,
          360.1509016340559,
          360.2433941204388,
          360.33588660682165,
          360.4283790932045,
          360.5208715795874,
          360.61336406597025,
          360.7058565523531,
          360.798349038736,
          360.89084152511884,
          360.9833340115017,
          361.0758264978846,
          361.16831898426744,
          361.2608114706503,
          361.3533039570332,
          361.44579644341604,
          361.5382889297989,
          361.6307814161818,
          361.72327390256464,
          361.8157663889475,
          361.9082588753304,
          362.00075136171324,
          362.0932438480961,
          362.185736334479,
          362.27822882086184,
          362.3707213072447,
          362.4632137936276,
          362.55570628001044,
          362.6481987663933,
          362.7406912527762,
          362.8331837391591,
          362.92567622554196,
          363.01816871192483,
          363.1106611983077,
          363.20315368469056,
          363.29564617107343,
          363.3881386574563,
          363.48063114383916,
          363.573123630222,
          363.6656161166049,
          363.75810860298776,
          363.8506010893706,
          363.9430935757535,
          364.03558606213636,
          364.1280785485192,
          364.2205710349021,
          364.31306352128496,
          364.4055560076678,
          364.4980484940507,
          364.59054098043356,
          364.6830334668164,
          364.7755259531993,
          364.86801843958216,
          364.960510925965,
          365.0530034123479,
          365.14549589873076,
          365.2379883851136,
          365.3304808714965,
          365.42297335787936,
          365.5154658442622,
          365.6079583306451,
          365.70045081702796,
          365.7929433034108,
          365.8854357897937,
          365.97792827617656,
          366.0704207625594,
          366.1629132489423,
          366.25540573532516,
          366.347898221708,
          366.4403907080909,
          366.53288319447375,
          366.6253756808566,
          366.7178681672395,
          366.81036065362235,
          366.9028531400052,
          366.9953456263881,
          367.08783811277095,
          367.1803305991538,
          367.2728230855367,
          367.36531557191955,
          367.4578080583024,
          367.5503005446853,
          367.64279303106815,
          367.735285517451,
          367.82777800383394,
          367.9202704902168,
          368.0127629765997,
          368.10525546298254,
          368.1977479493654,
          368.2902404357483,
          368.38273292213114,
          368.475225408514,
          368.5677178948969,
          368.66021038127974,
          368.7527028676626,
          368.8451953540455,
          368.93768784042834,
          369.0301803268112,
          369.1226728131941,
          369.21516529957694,
          369.3076577859598,
          369.40015027234267,
          369.49264275872554,
          369.5851352451084,
          369.67762773149127,
          369.77012021787414,
          369.862612704257,
          369.95510519063987,
          370.04759767702274,
          370.1400901634056,
          370.23258264978847,
          370.32507513617134,
          370.4175676225542,
          370.51006010893707,
          370.60255259531993,
          370.6950450817028,
          370.78753756808567,
          370.88003005446853,
          370.9725225408514,
          371.06501502723427,
          371.15750751361713,
          371.25
         ],
         "y": [
          199.79205322265625,
          199.5305985153855,
          199.26914380811476,
          199.007689100844,
          198.74623439357327,
          198.48477968630252,
          198.22332497903176,
          197.96187027176103,
          197.70041556449027,
          197.4389608572195,
          197.17750614994878,
          196.91605144267803,
          196.6545967354073,
          196.39314202813654,
          196.13168732086578,
          195.87023261359505,
          195.6087779063243,
          195.34732319905353,
          195.0858684917828,
          194.82441378451205,
          194.56295907724132,
          194.30150436997056,
          194.0400496626998,
          193.77859495542907,
          193.5171402481583,
          193.25568554088755,
          192.99423083361683,
          192.73277612634607,
          192.47132141907534,
          192.20986671180458,
          191.94841200453382,
          191.6869572972631,
          191.42550258999233,
          191.16404788272158,
          190.90259317545085,
          190.6411384681801,
          190.37968376090936,
          190.1182290536386,
          189.85677434636784,
          189.5953196390971,
          189.33386493182635,
          189.0724102245556,
          188.81095551728487,
          188.5495008100141,
          188.28804610274338,
          188.02659139547262,
          187.76513668820186,
          187.50368198093113,
          187.24222727366038,
          186.98077256638965,
          186.7193178591189,
          186.45786315184813,
          186.1964084445774,
          185.93495373730664,
          185.67349903003588,
          185.41204432276515,
          185.1505896154944,
          184.88913490822364,
          184.6276802009529,
          184.36622549368215,
          184.10477078641142,
          183.84331607914066,
          183.5818613718699,
          183.32040666459918,
          183.05895195732842,
          182.7974972500577,
          182.53604254278693,
          182.27458783551617,
          182.01313312824544,
          181.75167842097468,
          181.49022371370393,
          181.2287690064332,
          180.96731429916244,
          180.70585959189168,
          180.44440488462095,
          180.1829501773502,
          179.92149547007946,
          179.6600407628087,
          179.39858605553795,
          179.13713134826722,
          178.87567664099646,
          178.61422193372573,
          178.35276722645497,
          178.0913125191842,
          177.82985781191348,
          177.56840310464273,
          177.30694839737197,
          177.04549369010124,
          176.78403898283048,
          176.52258427555972,
          176.261129568289,
          175.99967486101824,
          175.7382201537475,
          175.47676544647675,
          175.215310739206,
          174.95385603193526,
          174.6924013246645,
          174.43094661739377,
          174.169491910123,
          173.90803720285226,
          173.64658249558153,
          173.38512778831077,
          173.12367308104,
          172.86221837376928,
          172.60076366649852,
          172.3393089592278,
          172.07785425195704,
          171.81639954468628,
          171.55494483741555,
          171.2934901301448,
          171.03203542287406,
          170.7705807156033,
          170.50912600833254,
          170.2476713010618,
          169.98621659379106,
          169.7247618865203,
          169.46330717924957,
          169.2018524719788,
          168.94039776470805,
          168.67894305743732,
          168.41748835016656,
          168.15603364289584,
          167.89457893562508,
          167.63312422835432,
          167.3716695210836,
          167.11021481381283,
          166.8487601065421,
          166.58730539927134,
          166.32585069200059,
          166.06439598472986,
          165.8029412774591,
          165.54148657018834,
          165.2800318629176,
          165.01857715564685,
          164.7571224483761,
          164.49566774110536,
          164.2342130338346,
          163.97275832656388,
          163.71130361929312,
          163.4498489120224,
          163.18839420475163,
          162.92693949748087,
          162.66548479021014,
          162.40403008293939,
          162.14257537566863,
          161.8811206683979,
          161.61966596112714,
          161.35821125385638,
          161.09675654658565,
          160.8353018393149,
          160.57384713204414,
          160.3123924247734,
          160.05093771750265,
          159.78948301023192,
          159.52802830296116,
          159.26657359569043,
          159.00511888841967,
          158.74366418114892,
          158.48220947387819,
          158.22075476660743,
          157.95930005933667,
          157.69784535206594,
          157.43639064479518,
          157.17493593752442,
          156.9134812302537,
          156.65202652298294,
          156.39057181571218,
          156.12911710844145,
          155.8676624011707,
          155.60620769389996,
          155.3447529866292,
          155.08329827935847,
          154.82184357208772,
          154.56038886481696,
          154.29893415754623,
          154.03747945027547,
          153.7760247430047,
          153.51457003573398,
          153.25311532846322,
          152.99166062119247,
          152.73020591392174,
          152.46875120665098,
          152.20729649938022,
          151.9458417921095,
          151.68438708483873,
          151.422932377568,
          151.16147767029724,
          150.90002296302652,
          150.63856825575576,
          150.377113548485,
          150.11565884121427,
          149.8542041339435,
          149.59274942667275,
          149.33129471940202,
          149.06984001213127,
          148.8083853048605,
          148.54693059758978,
          148.28547589031902,
          148.0240211830483,
          147.76256647577753,
          147.5011117685068,
          147.23965706123604,
          146.9782023539653,
          146.71674764669456,
          146.4552929394238,
          146.19383823215304,
          145.9323835248823,
          145.67092881761155,
          145.4094741103408,
          145.14801940307007,
          144.8865646957993,
          144.62510998852855,
          144.36365528125782,
          144.10220057398706,
          143.84074586671633,
          143.57929115944557,
          143.31783645217484,
          143.0563817449041,
          142.79492703763333,
          142.5334723303626,
          142.27201762309184,
          142.01056291582108,
          141.74910820855035,
          141.4876535012796,
          141.22619879400884,
          140.9647440867381,
          140.70328937946735,
          140.4418346721966,
          140.18037996492586,
          139.9189252576551,
          139.65747055038437,
          139.39601584311362,
          139.1345611358429,
          138.87310642857213,
          138.61165172130137,
          138.35019701403064,
          138.08874230675988,
          137.82728759948913,
          137.5658328922184,
          137.30437818494764,
          137.04292347767688,
          136.78146877040615,
          136.5200140631354,
          136.25855935586463,
          135.9971046485939,
          135.73564994132317,
          135.4741952340524,
          135.21274052678166,
          134.95128581951093,
          134.68983111224017,
          134.4283764049694,
          134.16692169769868,
          133.90546699042793,
          133.64401228315717,
          133.38255757588644,
          133.12110286861568,
          132.85964816134492,
          132.5981934540742,
          132.33673874680346,
          132.07528403953268,
          131.81382933226195,
          131.55237462499122,
          131.29091991772046,
          131.0294652104497,
          130.76801050317897,
          130.5065557959082,
          130.24510108863745,
          129.98364638136673,
          129.72219167409597,
          129.4607369668252,
          129.19928225955448,
          128.93782755228372,
          128.67637284501296,
          128.41491813774223,
          128.1534634304715,
          127.89200872320073,
          127.63055401592999,
          127.36909930865924,
          127.1076446013885,
          126.84618989411774,
          126.584735186847,
          126.32328047957625,
          126.06182577230551,
          125.80037106503475,
          125.53891635776401,
          125.27746165049327,
          125.01600694322252,
          124.75455223595176,
          124.49309752868102,
          124.23164282141028,
          123.97018811413953,
          123.70873340686877,
          123.44727869959803,
          123.18582399232729,
          122.92436928505654,
          122.66291457778578,
          122.40145987051504,
          122.1400051632443,
          121.87855045597355,
          121.6170957487028,
          121.35564104143205,
          121.09418633416131,
          120.83273162689056,
          120.5712769196198,
          120.30982221234906,
          120.04836750507832,
          119.78691279780757,
          119.52545809053682,
          119.26400338326607,
          119.00254867599533,
          118.74109396872458,
          118.47963926145383,
          118.21818455418308,
          117.95672984691234,
          117.6952751396416,
          117.43382043237084,
          117.1723657251001,
          116.91091101782935,
          116.6494563105586,
          116.38800160328785,
          116.1265468960171,
          115.86509218874636,
          115.60363748147562,
          115.34218277420487,
          115.08072806693411,
          114.81927335966337,
          114.55781865239263,
          114.29636394512188,
          114.03490923785112,
          113.77345453058038,
          113.51199982330964,
          113.2505451160389,
          112.98909040876813,
          112.72763570149739,
          112.46618099422665,
          112.2047262869559,
          111.94327157968515,
          111.6818168724144,
          111.42036216514366,
          111.15890745787291,
          110.89745275060216,
          110.63599804333141,
          110.37454333606067,
          110.11308862878992,
          109.85163392151917,
          109.59017921424842,
          109.32872450697768,
          109.06726979970693,
          108.80581509243618,
          108.54436038516543,
          108.28290567789469,
          108.02145097062395,
          107.75999626335319,
          107.49854155608244,
          107.2370868488117,
          106.97563214154096,
          106.7141774342702,
          106.45272272699945,
          106.19126801972871,
          105.92981331245797,
          105.66835860518721,
          105.40690389791646,
          105.14544919064572,
          104.88399448337498,
          104.62253977610422,
          104.36108506883348,
          104.09963036156273,
          103.83817565429199,
          103.57672094702123,
          103.31526623975049,
          103.05381153247974,
          102.792356825209,
          102.53090211793824,
          102.2694474106675,
          102.00799270339675,
          101.74653799612601,
          101.48508328885525,
          101.2236285815845,
          100.96217387431376,
          100.70071916704302,
          100.43926445977226,
          100.17780975250152,
          99.91635504523077,
          99.65490033796003,
          99.39344563068929,
          99.13199092341853,
          98.87053621614778,
          98.60908150887704,
          98.3476268016063,
          98.08617209433554,
          97.8247173870648,
          97.56326267979405,
          97.3018079725233,
          97.04035326525255,
          96.7788985579818,
          96.51744385071106,
          96.25598914344032,
          95.99453443616956,
          95.73307972889882,
          95.47162502162807,
          95.21017031435733,
          94.94871560708657,
          94.68726089981583,
          94.42580619254508,
          94.16435148527434,
          93.90289677800358,
          93.64144207073284,
          93.37998736346209,
          93.11853265619135,
          92.85707794892059,
          92.59562324164985,
          92.3341685343791,
          92.07271382710836,
          91.8112591198376,
          91.54980441256686,
          91.28834970529611,
          91.02689499802537,
          90.76544029075461,
          90.50398558348387,
          90.24253087621312,
          89.98107616894238,
          89.71962146167162,
          89.45816675440088,
          89.19671204713013,
          88.93525733985939,
          88.67380263258863,
          88.41234792531789,
          88.15089321804714,
          87.8894385107764,
          87.62798380350564,
          87.3665290962349,
          87.10507438896416,
          86.84361968169341,
          86.58216497442265,
          86.32071026715191,
          86.05925555988117,
          85.79780085261042,
          85.53634614533966,
          85.27489143806892,
          85.01343673079818,
          84.75198202352743,
          84.49052731625667,
          84.22907260898593,
          83.96761790171519,
          83.70616319444444,
          83.44470848717368,
          83.18325377990294,
          82.9217990726322,
          82.66034436536145,
          82.39888965809071,
          82.13743495081995,
          81.87598024354921,
          81.61452553627846,
          81.35307082900772,
          81.09161612173696,
          80.83016141446622,
          80.56870670719547,
          80.30725199992473,
          80.04579729265397,
          79.78434258538323,
          79.52288787811248,
          79.26143317084174,
          78.99997846357098,
          78.73852375630024,
          78.4770690490295,
          78.21561434175875,
          77.954159634488,
          77.69270492721725,
          77.4312502199465,
          77.16979551267576,
          76.908340805405,
          76.64688609813426,
          76.38543139086352,
          76.12397668359277,
          75.86252197632201,
          75.60106726905127,
          75.33961256178053,
          75.07815785450978,
          74.81670314723902,
          74.55524843996828,
          74.29379373269754,
          74.0323390254268,
          73.77088431815604,
          73.50942961088529,
          73.24797490361455,
          72.9865201963438,
          72.72506548907305,
          72.4636107818023,
          72.20215607453156,
          71.94070136726081,
          71.67924665999007,
          71.41779195271931,
          71.15633724544855,
          70.89488253817782,
          70.63342783090707,
          70.37197312363634,
          70.11051841636558,
          69.84906370909482,
          69.58760900182409,
          69.32615429455333,
          69.06469958728258,
          68.80324488001185,
          68.54179017274109,
          68.28033546547036,
          68.0188807581996,
          67.75742605092884,
          67.49597134365811,
          67.23451663638735,
          66.9730619291166,
          66.71160722184587,
          66.45015251457511,
          66.18869780730438,
          65.92724310003362,
          65.66578839276286,
          65.40433368549213,
          65.14287897822138,
          64.88142427095065,
          64.61996956367989,
          64.35851485640913,
          64.0970601491384,
          63.83560544186764,
          63.574150734596884,
          63.312696027326155,
          63.0512413200554,
          62.78978661278467,
          62.52833190551391,
          62.26687719824315,
          62.00542249097242,
          61.74396778370166,
          61.482513076430905,
          61.221058369160176,
          60.95960366188942,
          60.69814895461869,
          60.43669424734793,
          60.17523954007717,
          59.91378483280644,
          59.652330125535684,
          59.390875418264926,
          59.1294207109942,
          58.86796600372344,
          58.60651129645271,
          58.34505658918195,
          58.08360188191119,
          57.82214717464046,
          57.560692467369705,
          57.29923776009895,
          57.03778305282822,
          56.77632834555746,
          56.51487363828673,
          56.25341893101597,
          55.991964223745214,
          55.730509516474484,
          55.469054809203726,
          55.20760010193297,
          54.94614539466224,
          54.68469068739148,
          54.42323598012075,
          54.16178127284999,
          53.900326565579235,
          53.638871858308505,
          53.37741715103775,
          53.11596244376699,
          52.85450773649626,
          52.5930530292255,
          52.33159832195477,
          52.070143614684014,
          51.808688907413256,
          51.547234200142526,
          51.28577949287177,
          51.02432478560101,
          50.76287007833028,
          50.50141537105952,
          50.23996066378879,
          49.978505956518035,
          49.71705124924728,
          49.45559654197655,
          49.19414183470579,
          48.93268712743506,
          48.6712324201643,
          48.40977771289354,
          48.148323005622814,
          47.886868298352056,
          47.6254135910813,
          47.36395888381057,
          47.10250417653981,
          46.84104946926908,
          46.57959476199832,
          46.318140054727564,
          46.056685347456835,
          45.79523064018608,
          45.53377593291532,
          45.27232122564459,
          45.01086651837383,
          44.7494118111031,
          44.48795710383234,
          44.226502396561585,
          43.965047689290856,
          43.7035929820201,
          43.44213827474934,
          43.18068356747861,
          42.91922886020785,
          42.65777415293712,
          42.396319445666364,
          42.134864738395606,
          41.87341003112488,
          41.61195532385412,
          41.35050061658336,
          41.08904590931263,
          40.82759120204187,
          40.56613649477114,
          40.304681787500385,
          40.04322708022963,
          39.7817723729589,
          39.52031766568814,
          39.25886295841738,
          38.99740825114665,
          38.735953543875894,
          38.474498836605164,
          38.213044129334406,
          37.95158942206365,
          37.69013471479292,
          37.42868000752216,
          37.1672253002514,
          36.90577059298067,
          36.644315885709915,
          36.382861178439185,
          36.12140647116843,
          35.85995176389767,
          35.59849705662694,
          35.33704234935618,
          35.075587642085424,
          34.814132934814694,
          34.552678227543936,
          34.291223520273206,
          34.02976881300245,
          33.76831410573169,
          33.50685939846096,
          33.2454046911902,
          32.983949983919445,
          32.722495276648715,
          32.46104056937796,
          32.19958586210723,
          31.93813115483647,
          31.67667644756571,
          31.41522174029498,
          31.153767033024224,
          30.892312325753494,
          30.630857618482736,
          30.369402911211978,
          30.10794820394125,
          29.84649349667049,
          29.585038789399732,
          29.323584082129003,
          29.062129374858245,
          28.800674667587515,
          28.539219960316757,
          28.277765253046,
          28.01631054577527,
          27.75485583850451,
          27.493401131233753,
          27.231946423963024,
          26.970491716692266,
          26.709037009421536,
          26.447582302150778,
          26.18612759488002,
          25.92467288760929,
          25.663218180338532,
          25.401763473067774,
          25.140308765797045,
          24.878854058526287,
          24.617399351255557,
          24.3559446439848,
          24.09448993671404,
          23.83303522944331,
          23.571580522172553,
          23.310125814901795,
          23.048671107631066,
          22.787216400360307,
          22.525761693089578,
          22.26430698581882,
          22.002852278548062,
          21.741397571277332,
          21.479942864006574,
          21.218488156735816,
          20.957033449465087,
          20.69557874219433,
          20.4341240349236,
          20.17266932765284,
          19.911214620382083,
          19.649759913111353,
          19.388305205840595,
          19.126850498569837,
          18.865395791299107,
          18.60394108402835,
          18.34248637675762,
          18.081031669486862,
          17.819576962216104,
          17.558122254945374,
          17.296667547674616,
          17.035212840403858,
          16.77375813313313,
          16.51230342586237,
          16.25084871859164,
          15.989394011320883,
          15.727939304050125,
          15.466484596779395,
          15.205029889508637,
          14.943575182237907,
          14.68212047496715,
          14.420665767696391,
          14.159211060425662,
          13.897756353154904,
          13.636301645884146,
          13.374846938613416,
          13.113392231342658,
          12.851937524071928,
          12.59048281680117,
          12.329028109530412,
          12.067573402259683,
          11.806118694988925,
          11.544663987718167,
          11.283209280447437,
          11.021754573176679,
          10.76029986590595,
          10.498845158635191,
          10.237390451364433,
          9.975935744093704,
          9.714481036822946,
          9.453026329552188,
          9.191571622281458,
          8.9301169150107,
          8.66866220773997,
          8.407207500469212,
          8.145752793198454,
          7.884298085927725,
          7.622843378656967,
          7.361388671386209,
          7.099933964115479,
          6.838479256844721,
          6.577024549573991,
          6.315569842303233,
          6.054115135032475,
          5.792660427761746,
          5.531205720490988,
          5.26975101322023,
          5.0082963059495,
          4.746841598678742,
          4.485386891408012,
          4.223932184137254,
          3.9624774768664963,
          3.7010227695957667,
          3.4395680623250087,
          3.1781133550542506,
          2.916658647783521,
          2.655203940512763,
          2.3937492332420334,
          2.1322945259712753,
          1.8708398187005173,
          1.6093851114297877,
          1.3479304041590296,
          1.0864756968882716,
          0.825020989617542,
          0.563566282346784,
          0.30211157507605435,
          0.040656867805296315,
          -0.22079783946546172,
          -0.48225254673619133,
          -0.7437072540069494,
          -1.005161961277679,
          -1.266616668548437,
          -1.528071375819195,
          -1.7895260830899247,
          -2.0509807903606827,
          -2.3124354976314407,
          -2.5738902049021704,
          -2.8353449121729284,
          -3.096799619443658,
          -3.358254326714416,
          -3.619709033985174,
          -3.8811637412559037,
          -4.142618448526662,
          -4.40407315579742,
          -4.665527863068149,
          -4.926982570338907,
          -5.188437277609637,
          -5.449891984880395,
          -5.711346692151153,
          -5.972801399421883,
          -6.234256106692641,
          -6.495710813963399,
          -6.757165521234128,
          -7.018620228504886,
          -7.280074935775616,
          -7.541529643046374,
          -7.802984350317132,
          -8.064439057587862,
          -8.32589376485862,
          -8.587348472129378,
          -8.848803179400107,
          -9.110257886670865,
          -9.371712593941595,
          -9.633167301212353,
          -9.894622008483111,
          -10.15607671575384,
          -10.417531423024599,
          -10.678986130295357,
          -10.940440837566086,
          -11.201895544836844,
          -11.463350252107574,
          -11.724804959378332,
          -11.98625966664909,
          -12.24771437391982,
          -12.509169081190578,
          -12.770623788461336,
          -13.032078495732065,
          -13.293533203002823,
          -13.554987910273553,
          -13.816442617544311,
          -14.07789732481507,
          -14.339352032085799,
          -14.600806739356557,
          -14.862261446627315,
          -15.123716153898044,
          -15.385170861168803,
          -15.646625568439532,
          -15.90808027571029,
          -16.169534982981048,
          -16.430989690251778,
          -16.692444397522536,
          -16.953899104793294,
          -17.215353812064023,
          -17.47680851933478,
          -17.73826322660551,
          -17.99971793387627,
          -18.261172641147027,
          -18.522627348417757,
          -18.784082055688515,
          -19.045536762959244,
          -19.306991470230003,
          -19.56844617750076,
          -19.82990088477149,
          -20.091355592042248,
          -20.352810299313006,
          -20.614265006583736,
          -20.875719713854494,
          -21.137174421125223,
          -21.39862912839598,
          -21.66008383566674,
          -21.92153854293747,
          -22.182993250208227,
          -22.444447957478985,
          -22.705902664749715,
          -22.967357372020473,
          -23.228812079291203,
          -23.49026678656196,
          -23.75172149383272,
          -24.013176201103448,
          -24.274630908374206,
          -24.536085615644964,
          -24.797540322915694,
          -25.058995030186452,
          -25.32044973745718,
          -25.58190444472794,
          -25.843359151998698,
          -26.104813859269427,
          -26.366268566540185,
          -26.627723273810943,
          -26.889177981081673,
          -27.15063268835243,
          -27.41208739562316,
          -27.67354210289392,
          -27.934996810164677,
          -28.196451517435406,
          -28.457906224706164,
          -28.719360931976922,
          -28.980815639247652,
          -29.24227034651841,
          -29.50372505378914,
          -29.765179761059898,
          -30.026634468330656,
          -30.288089175601385,
          -30.549543882872143,
          -30.8109985901429,
          -31.07245329741363,
          -31.33390800468439,
          -31.59536271195512,
          -31.856817419225877,
          -32.118272126496635,
          -32.379726833767364,
          -32.64118154103812,
          -32.90263624830888,
          -33.16409095557961,
          -33.42554566285037,
          -33.6870003701211,
          -33.948455077391856,
          -34.209909784662614,
          -34.47136449193334,
          -34.7328191992041,
          -34.99427390647483,
          -35.25572861374559,
          -35.51718332101635,
          -35.77863802828708,
          -36.040092735557835,
          -36.30154744282859,
          -36.56300215009932,
          -36.82445685737008,
          -37.08591156464081,
          -37.34736627191157,
          -37.608820979182326,
          -37.870275686453056,
          -38.131730393723814,
          -38.39318510099457,
          -38.6546398082653,
          -38.91609451553606,
          -39.17754922280679,
          -39.43900393007755,
          -39.700458637348305,
          -39.961913344619035,
          -40.22336805188979,
          -40.48482275916055,
          -40.74627746643128,
          -41.00773217370204,
          -41.26918688097277,
          -41.530641588243526,
          -41.792096295514284,
          -42.053551002785014,
          -42.31500571005577,
          -42.57646041732653,
          -42.83791512459726,
          -43.09936983186802,
          -43.36082453913875,
          -43.622279246409505,
          -43.88373395368026,
          -44.14518866095099,
          -44.40664336822175,
          -44.66809807549251,
          -44.92955278276324,
          -45.191007490033996,
          -45.452462197304726,
          -45.713916904575484,
          -45.97537161184624,
          -46.23682631911697,
          -46.49828102638773,
          -46.75973573365849,
          -47.02119044092922,
          -47.282645148199975,
          -47.544099855470705,
          -47.80555456274146,
          -48.06700927001222,
          -48.32846397728295,
          -48.58991868455371,
          -48.85137339182447,
          -49.112828099095196,
          -49.374282806365954,
          -49.635737513636684,
          -49.89719222090744,
          -50.1586469281782,
          -50.42010163544893,
          -50.68155634271969,
          -50.943011049990446,
          -51.204465757261175,
          -51.46592046453193,
          -51.72737517180266,
          -51.98882987907342,
          -52.25028458634418,
          -52.51173929361491,
          -52.77319400088567,
          -53.034648708156396,
          -53.296103415427154,
          -53.55755812269791,
          -53.81901282996864,
          -54.0804675372394,
          -54.34192224451016,
          -54.60337695178089,
          -54.864831659051646,
          -55.126286366322375,
          -55.38774107359313,
          -55.64919578086389,
          -55.91065048813462,
          -56.17210519540538,
          -56.43355990267611,
          -56.695014609946895,
          -56.956469317217625,
          -57.217924024488354,
          -57.47937873175914,
          -57.74083343902987,
          -58.0022881463006,
          -58.26374285357133,
          -58.525197560842116,
          -58.786652268112846,
          -59.048106975383575,
          -59.30956168265436,
          -59.57101638992509,
          -59.83247109719582,
          -60.09392580446661,
          -60.35538051173734,
          -60.61683521900807,
          -60.87828992627885,
          -61.13974463354958,
          -61.40119934082031
         ]
        }
       ],
       "layout": {
        "template": {
         "data": {
          "bar": [
           {
            "error_x": {
             "color": "#2a3f5f"
            },
            "error_y": {
             "color": "#2a3f5f"
            },
            "marker": {
             "line": {
              "color": "#E5ECF6",
              "width": 0.5
             },
             "pattern": {
              "fillmode": "overlay",
              "size": 10,
              "solidity": 0.2
             }
            },
            "type": "bar"
           }
          ],
          "barpolar": [
           {
            "marker": {
             "line": {
              "color": "#E5ECF6",
              "width": 0.5
             },
             "pattern": {
              "fillmode": "overlay",
              "size": 10,
              "solidity": 0.2
             }
            },
            "type": "barpolar"
           }
          ],
          "carpet": [
           {
            "aaxis": {
             "endlinecolor": "#2a3f5f",
             "gridcolor": "white",
             "linecolor": "white",
             "minorgridcolor": "white",
             "startlinecolor": "#2a3f5f"
            },
            "baxis": {
             "endlinecolor": "#2a3f5f",
             "gridcolor": "white",
             "linecolor": "white",
             "minorgridcolor": "white",
             "startlinecolor": "#2a3f5f"
            },
            "type": "carpet"
           }
          ],
          "choropleth": [
           {
            "colorbar": {
             "outlinewidth": 0,
             "ticks": ""
            },
            "type": "choropleth"
           }
          ],
          "contour": [
           {
            "colorbar": {
             "outlinewidth": 0,
             "ticks": ""
            },
            "colorscale": [
             [
              0,
              "#0d0887"
             ],
             [
              0.1111111111111111,
              "#46039f"
             ],
             [
              0.2222222222222222,
              "#7201a8"
             ],
             [
              0.3333333333333333,
              "#9c179e"
             ],
             [
              0.4444444444444444,
              "#bd3786"
             ],
             [
              0.5555555555555556,
              "#d8576b"
             ],
             [
              0.6666666666666666,
              "#ed7953"
             ],
             [
              0.7777777777777778,
              "#fb9f3a"
             ],
             [
              0.8888888888888888,
              "#fdca26"
             ],
             [
              1,
              "#f0f921"
             ]
            ],
            "type": "contour"
           }
          ],
          "contourcarpet": [
           {
            "colorbar": {
             "outlinewidth": 0,
             "ticks": ""
            },
            "type": "contourcarpet"
           }
          ],
          "heatmap": [
           {
            "colorbar": {
             "outlinewidth": 0,
             "ticks": ""
            },
            "colorscale": [
             [
              0,
              "#0d0887"
             ],
             [
              0.1111111111111111,
              "#46039f"
             ],
             [
              0.2222222222222222,
              "#7201a8"
             ],
             [
              0.3333333333333333,
              "#9c179e"
             ],
             [
              0.4444444444444444,
              "#bd3786"
             ],
             [
              0.5555555555555556,
              "#d8576b"
             ],
             [
              0.6666666666666666,
              "#ed7953"
             ],
             [
              0.7777777777777778,
              "#fb9f3a"
             ],
             [
              0.8888888888888888,
              "#fdca26"
             ],
             [
              1,
              "#f0f921"
             ]
            ],
            "type": "heatmap"
           }
          ],
          "heatmapgl": [
           {
            "colorbar": {
             "outlinewidth": 0,
             "ticks": ""
            },
            "colorscale": [
             [
              0,
              "#0d0887"
             ],
             [
              0.1111111111111111,
              "#46039f"
             ],
             [
              0.2222222222222222,
              "#7201a8"
             ],
             [
              0.3333333333333333,
              "#9c179e"
             ],
             [
              0.4444444444444444,
              "#bd3786"
             ],
             [
              0.5555555555555556,
              "#d8576b"
             ],
             [
              0.6666666666666666,
              "#ed7953"
             ],
             [
              0.7777777777777778,
              "#fb9f3a"
             ],
             [
              0.8888888888888888,
              "#fdca26"
             ],
             [
              1,
              "#f0f921"
             ]
            ],
            "type": "heatmapgl"
           }
          ],
          "histogram": [
           {
            "marker": {
             "pattern": {
              "fillmode": "overlay",
              "size": 10,
              "solidity": 0.2
             }
            },
            "type": "histogram"
           }
          ],
          "histogram2d": [
           {
            "colorbar": {
             "outlinewidth": 0,
             "ticks": ""
            },
            "colorscale": [
             [
              0,
              "#0d0887"
             ],
             [
              0.1111111111111111,
              "#46039f"
             ],
             [
              0.2222222222222222,
              "#7201a8"
             ],
             [
              0.3333333333333333,
              "#9c179e"
             ],
             [
              0.4444444444444444,
              "#bd3786"
             ],
             [
              0.5555555555555556,
              "#d8576b"
             ],
             [
              0.6666666666666666,
              "#ed7953"
             ],
             [
              0.7777777777777778,
              "#fb9f3a"
             ],
             [
              0.8888888888888888,
              "#fdca26"
             ],
             [
              1,
              "#f0f921"
             ]
            ],
            "type": "histogram2d"
           }
          ],
          "histogram2dcontour": [
           {
            "colorbar": {
             "outlinewidth": 0,
             "ticks": ""
            },
            "colorscale": [
             [
              0,
              "#0d0887"
             ],
             [
              0.1111111111111111,
              "#46039f"
             ],
             [
              0.2222222222222222,
              "#7201a8"
             ],
             [
              0.3333333333333333,
              "#9c179e"
             ],
             [
              0.4444444444444444,
              "#bd3786"
             ],
             [
              0.5555555555555556,
              "#d8576b"
             ],
             [
              0.6666666666666666,
              "#ed7953"
             ],
             [
              0.7777777777777778,
              "#fb9f3a"
             ],
             [
              0.8888888888888888,
              "#fdca26"
             ],
             [
              1,
              "#f0f921"
             ]
            ],
            "type": "histogram2dcontour"
           }
          ],
          "mesh3d": [
           {
            "colorbar": {
             "outlinewidth": 0,
             "ticks": ""
            },
            "type": "mesh3d"
           }
          ],
          "parcoords": [
           {
            "line": {
             "colorbar": {
              "outlinewidth": 0,
              "ticks": ""
             }
            },
            "type": "parcoords"
           }
          ],
          "pie": [
           {
            "automargin": true,
            "type": "pie"
           }
          ],
          "scatter": [
           {
            "fillpattern": {
             "fillmode": "overlay",
             "size": 10,
             "solidity": 0.2
            },
            "type": "scatter"
           }
          ],
          "scatter3d": [
           {
            "line": {
             "colorbar": {
              "outlinewidth": 0,
              "ticks": ""
             }
            },
            "marker": {
             "colorbar": {
              "outlinewidth": 0,
              "ticks": ""
             }
            },
            "type": "scatter3d"
           }
          ],
          "scattercarpet": [
           {
            "marker": {
             "colorbar": {
              "outlinewidth": 0,
              "ticks": ""
             }
            },
            "type": "scattercarpet"
           }
          ],
          "scattergeo": [
           {
            "marker": {
             "colorbar": {
              "outlinewidth": 0,
              "ticks": ""
             }
            },
            "type": "scattergeo"
           }
          ],
          "scattergl": [
           {
            "marker": {
             "colorbar": {
              "outlinewidth": 0,
              "ticks": ""
             }
            },
            "type": "scattergl"
           }
          ],
          "scattermapbox": [
           {
            "marker": {
             "colorbar": {
              "outlinewidth": 0,
              "ticks": ""
             }
            },
            "type": "scattermapbox"
           }
          ],
          "scatterpolar": [
           {
            "marker": {
             "colorbar": {
              "outlinewidth": 0,
              "ticks": ""
             }
            },
            "type": "scatterpolar"
           }
          ],
          "scatterpolargl": [
           {
            "marker": {
             "colorbar": {
              "outlinewidth": 0,
              "ticks": ""
             }
            },
            "type": "scatterpolargl"
           }
          ],
          "scatterternary": [
           {
            "marker": {
             "colorbar": {
              "outlinewidth": 0,
              "ticks": ""
             }
            },
            "type": "scatterternary"
           }
          ],
          "surface": [
           {
            "colorbar": {
             "outlinewidth": 0,
             "ticks": ""
            },
            "colorscale": [
             [
              0,
              "#0d0887"
             ],
             [
              0.1111111111111111,
              "#46039f"
             ],
             [
              0.2222222222222222,
              "#7201a8"
             ],
             [
              0.3333333333333333,
              "#9c179e"
             ],
             [
              0.4444444444444444,
              "#bd3786"
             ],
             [
              0.5555555555555556,
              "#d8576b"
             ],
             [
              0.6666666666666666,
              "#ed7953"
             ],
             [
              0.7777777777777778,
              "#fb9f3a"
             ],
             [
              0.8888888888888888,
              "#fdca26"
             ],
             [
              1,
              "#f0f921"
             ]
            ],
            "type": "surface"
           }
          ],
          "table": [
           {
            "cells": {
             "fill": {
              "color": "#EBF0F8"
             },
             "line": {
              "color": "white"
             }
            },
            "header": {
             "fill": {
              "color": "#C8D4E3"
             },
             "line": {
              "color": "white"
             }
            },
            "type": "table"
           }
          ]
         },
         "layout": {
          "annotationdefaults": {
           "arrowcolor": "#2a3f5f",
           "arrowhead": 0,
           "arrowwidth": 1
          },
          "autotypenumbers": "strict",
          "coloraxis": {
           "colorbar": {
            "outlinewidth": 0,
            "ticks": ""
           }
          },
          "colorscale": {
           "diverging": [
            [
             0,
             "#8e0152"
            ],
            [
             0.1,
             "#c51b7d"
            ],
            [
             0.2,
             "#de77ae"
            ],
            [
             0.3,
             "#f1b6da"
            ],
            [
             0.4,
             "#fde0ef"
            ],
            [
             0.5,
             "#f7f7f7"
            ],
            [
             0.6,
             "#e6f5d0"
            ],
            [
             0.7,
             "#b8e186"
            ],
            [
             0.8,
             "#7fbc41"
            ],
            [
             0.9,
             "#4d9221"
            ],
            [
             1,
             "#276419"
            ]
           ],
           "sequential": [
            [
             0,
             "#0d0887"
            ],
            [
             0.1111111111111111,
             "#46039f"
            ],
            [
             0.2222222222222222,
             "#7201a8"
            ],
            [
             0.3333333333333333,
             "#9c179e"
            ],
            [
             0.4444444444444444,
             "#bd3786"
            ],
            [
             0.5555555555555556,
             "#d8576b"
            ],
            [
             0.6666666666666666,
             "#ed7953"
            ],
            [
             0.7777777777777778,
             "#fb9f3a"
            ],
            [
             0.8888888888888888,
             "#fdca26"
            ],
            [
             1,
             "#f0f921"
            ]
           ],
           "sequentialminus": [
            [
             0,
             "#0d0887"
            ],
            [
             0.1111111111111111,
             "#46039f"
            ],
            [
             0.2222222222222222,
             "#7201a8"
            ],
            [
             0.3333333333333333,
             "#9c179e"
            ],
            [
             0.4444444444444444,
             "#bd3786"
            ],
            [
             0.5555555555555556,
             "#d8576b"
            ],
            [
             0.6666666666666666,
             "#ed7953"
            ],
            [
             0.7777777777777778,
             "#fb9f3a"
            ],
            [
             0.8888888888888888,
             "#fdca26"
            ],
            [
             1,
             "#f0f921"
            ]
           ]
          },
          "colorway": [
           "#636efa",
           "#EF553B",
           "#00cc96",
           "#ab63fa",
           "#FFA15A",
           "#19d3f3",
           "#FF6692",
           "#B6E880",
           "#FF97FF",
           "#FECB52"
          ],
          "font": {
           "color": "#2a3f5f"
          },
          "geo": {
           "bgcolor": "white",
           "lakecolor": "white",
           "landcolor": "#E5ECF6",
           "showlakes": true,
           "showland": true,
           "subunitcolor": "white"
          },
          "hoverlabel": {
           "align": "left"
          },
          "hovermode": "closest",
          "mapbox": {
           "style": "light"
          },
          "paper_bgcolor": "white",
          "plot_bgcolor": "#E5ECF6",
          "polar": {
           "angularaxis": {
            "gridcolor": "white",
            "linecolor": "white",
            "ticks": ""
           },
           "bgcolor": "#E5ECF6",
           "radialaxis": {
            "gridcolor": "white",
            "linecolor": "white",
            "ticks": ""
           }
          },
          "scene": {
           "xaxis": {
            "backgroundcolor": "#E5ECF6",
            "gridcolor": "white",
            "gridwidth": 2,
            "linecolor": "white",
            "showbackground": true,
            "ticks": "",
            "zerolinecolor": "white"
           },
           "yaxis": {
            "backgroundcolor": "#E5ECF6",
            "gridcolor": "white",
            "gridwidth": 2,
            "linecolor": "white",
            "showbackground": true,
            "ticks": "",
            "zerolinecolor": "white"
           },
           "zaxis": {
            "backgroundcolor": "#E5ECF6",
            "gridcolor": "white",
            "gridwidth": 2,
            "linecolor": "white",
            "showbackground": true,
            "ticks": "",
            "zerolinecolor": "white"
           }
          },
          "shapedefaults": {
           "line": {
            "color": "#2a3f5f"
           }
          },
          "ternary": {
           "aaxis": {
            "gridcolor": "white",
            "linecolor": "white",
            "ticks": ""
           },
           "baxis": {
            "gridcolor": "white",
            "linecolor": "white",
            "ticks": ""
           },
           "bgcolor": "#E5ECF6",
           "caxis": {
            "gridcolor": "white",
            "linecolor": "white",
            "ticks": ""
           }
          },
          "title": {
           "x": 0.05
          },
          "xaxis": {
           "automargin": true,
           "gridcolor": "white",
           "linecolor": "white",
           "ticks": "",
           "title": {
            "standoff": 15
           },
           "zerolinecolor": "white",
           "zerolinewidth": 2
          },
          "yaxis": {
           "automargin": true,
           "gridcolor": "white",
           "linecolor": "white",
           "ticks": "",
           "title": {
            "standoff": 15
           },
           "zerolinecolor": "white",
           "zerolinewidth": 2
          }
         }
        }
       }
      },
      "text/html": [
       "<div>                            <div id=\"37e0f2d0-f412-4c84-a018-a415f4dff8c9\" class=\"plotly-graph-div\" style=\"height:525px; width:100%;\"></div>            <script type=\"text/javascript\">                require([\"plotly\"], function(Plotly) {                    window.PLOTLYENV=window.PLOTLYENV || {};                                    if (document.getElementById(\"37e0f2d0-f412-4c84-a018-a415f4dff8c9\")) {                    Plotly.newPlot(                        \"37e0f2d0-f412-4c84-a018-a415f4dff8c9\",                        [{\"hoverinfo\":\"text+name\",\"mode\":\"lines\",\"name\":\"Muon 0\",\"text\":\"Type : 0.0<br>x1 : -202.05<br>y1 : 199.79<br>z1 : 278.85<br>x2 : 0.00<br>y2 : -61.40<br>z2 : 371.25<br>theta_xz : 65.68<br>theta_yz : -70.52<br>\",\"x\":[278.8500061035156,278.9424985898985,279.03499107628136,279.1274835626642,279.2199760490471,279.31246853542996,279.4049610218128,279.4974535081957,279.58994599457856,279.6824384809614,279.7749309673443,279.86742345372716,279.95991594011,280.0524084264929,280.14490091287576,280.2373933992586,280.3298858856415,280.42237837202435,280.5148708584072,280.6073633447901,280.69985583117295,280.7923483175558,280.8848408039387,280.97733329032155,281.0698257767044,281.1623182630873,281.25481074947015,281.347303235853,281.4397957222359,281.53228820861875,281.6247806950016,281.7172731813845,281.80976566776735,281.9022581541502,281.9947506405331,282.08724312691595,282.1797356132988,282.27222809968174,282.3647205860646,282.4572130724475,282.54970555883034,282.6421980452132,282.7346905315961,282.82718301797894,282.9196755043618,283.0121679907447,283.10466047712754,283.1971529635104,283.28964544989327,283.38213793627614,283.474630422659,283.56712290904187,283.65961539542474,283.7521078818076,283.84460036819047,283.93709285457334,284.0295853409562,284.12207782733907,284.21457031372194,284.3070628001048,284.39955528648767,284.49204777287054,284.5845402592534,284.67703274563627,284.76952523201913,284.862017718402,284.95451020478487,285.04700269116773,285.1394951775506,285.23198766393347,285.32448015031633,285.4169726366992,285.50946512308207,285.60195760946493,285.6944500958478,285.78694258223067,285.87943506861353,285.9719275549964,286.06442004137926,286.15691252776213,286.249405014145,286.34189750052786,286.43438998691073,286.5268824732936,286.61937495967646,286.71186744605933,286.8043599324422,286.89685241882506,286.98934490520793,287.0818373915908,287.17432987797366,287.2668223643565,287.3593148507394,287.45180733712226,287.5442998235051,287.636792309888,287.72928479627086,287.8217772826537,287.9142697690366,288.00676225541946,288.0992547418023,288.1917472281852,288.28423971456806,288.3767322009509,288.4692246873338,288.56171717371666,288.6542096600995,288.74670214648245,288.8391946328653,288.9316871192482,289.02417960563105,289.1166720920139,289.2091645783968,289.30165706477965,289.3941495511625,289.4866420375454,289.57913452392825,289.6716270103111,289.764119496694,289.85661198307685,289.9491044694597,290.0415969558426,290.13408944222545,290.2265819286083,290.3190744149912,290.41156690137404,290.5040593877569,290.5965518741398,290.68904436052264,290.7815368469055,290.8740293332884,290.96652181967124,291.0590143060541,291.151506792437,291.24399927881984,291.3364917652027,291.4289842515856,291.52147673796844,291.6139692243513,291.7064617107342,291.79895419711704,291.8914466834999,291.9839391698828,292.07643165626564,292.1689241426485,292.2614166290314,292.35390911541424,292.4464016017971,292.53889408818,292.63138657456284,292.7238790609457,292.8163715473286,292.90886403371144,293.0013565200943,293.09384900647717,293.18634149286004,293.2788339792429,293.37132646562577,293.46381895200864,293.5563114383915,293.64880392477437,293.74129641115724,293.8337888975401,293.92628138392297,294.01877387030584,294.1112663566887,294.20375884307157,294.29625132945444,294.3887438158373,294.48123630222017,294.57372878860303,294.6662212749859,294.75871376136877,294.85120624775163,294.9436987341345,295.03619122051737,295.12868370690023,295.2211761932831,295.31366867966597,295.40616116604883,295.4986536524317,295.59114613881457,295.6836386251975,295.77613111158036,295.8686235979632,295.9611160843461,296.05360857072895,296.1461010571118,296.2385935434947,296.33108602987755,296.4235785162604,296.5160710026433,296.60856348902615,296.701055975409,296.7935484617919,296.88604094817475,296.9785334345576,297.0710259209405,297.16351840732335,297.2560108937062,297.3485033800891,297.44099586647195,297.5334883528548,297.6259808392377,297.71847332562055,297.8109658120034,297.9034582983863,297.99595078476915,298.088443271152,298.1809357575349,298.27342824391775,298.3659207303006,298.4584132166835,298.55090570306635,298.6433981894492,298.7358906758321,298.82838316221495,298.9208756485978,299.0133681349807,299.10586062136355,299.1983531077464,299.2908455941293,299.38333808051215,299.475830566895,299.5683230532779,299.66081553966075,299.7533080260436,299.8458005124265,299.93829299880935,300.0307854851922,300.1232779715751,300.21577045795794,300.3082629443408,300.4007554307237,300.49324791710654,300.5857404034894,300.6782328898723,300.77072537625514,300.863217862638,300.9557103490209,301.04820283540374,301.1406953217866,301.2331878081695,301.32568029455234,301.4181727809352,301.5106652673181,301.60315775370094,301.6956502400838,301.7881427264667,301.88063521284954,301.97312769923246,302.06562018561533,302.1581126719982,302.25060515838106,302.34309764476393,302.4355901311468,302.52808261752966,302.62057510391253,302.7130675902954,302.80556007667826,302.8980525630611,302.990545049444,303.08303753582686,303.1755300222097,303.2680225085926,303.36051499497546,303.4530074813583,303.5454999677412,303.63799245412406,303.7304849405069,303.8229774268898,303.91546991327266,304.0079623996555,304.1004548860384,304.19294737242126,304.2854398588041,304.377932345187,304.47042483156986,304.5629173179527,304.6554098043356,304.74790229071846,304.8403947771013,304.9328872634842,305.02537974986706,305.1178722362499,305.2103647226328,305.30285720901566,305.3953496953985,305.4878421817814,305.58033466816426,305.6728271545471,305.76531964093,305.85781212731285,305.9503046136957,306.0427971000786,306.13528958646145,306.2277820728443,306.3202745592272,306.41276704561005,306.5052595319929,306.5977520183758,306.69024450475865,306.7827369911415,306.8752294775244,306.96772196390725,307.0602144502901,307.152706936673,307.24519942305585,307.3376919094387,307.4301843958216,307.52267688220445,307.6151693685873,307.7076618549702,307.80015434135305,307.8926468277359,307.9851393141188,308.07763180050165,308.1701242868845,308.2626167732674,308.35510925965025,308.4476017460331,308.540094232416,308.63258671879885,308.7250792051817,308.8175716915646,308.91006417794745,309.00255666433037,309.09504915071324,309.1875416370961,309.28003412347897,309.37252660986184,309.4650190962447,309.55751158262757,309.65000406901044,309.7424965553933,309.83498904177617,309.92748152815903,310.0199740145419,310.11246650092477,310.20495898730763,310.2974514736905,310.38994396007337,310.48243644645623,310.5749289328391,310.66742141922197,310.75991390560483,310.8524063919877,310.94489887837057,311.03739136475343,311.1298838511363,311.22237633751917,311.31486882390203,311.4073613102849,311.49985379666776,311.59234628305063,311.6848387694335,311.77733125581636,311.86982374219923,311.9623162285821,312.05480871496496,312.14730120134783,312.2397936877307,312.33228617411356,312.42477866049643,312.5172711468793,312.60976363326216,312.702256119645,312.7947486060279,312.88724109241076,312.9797335787936,313.0722260651765,313.16471855155936,313.2572110379422,313.3497035243251,313.44219601070796,313.5346884970908,313.6271809834737,313.71967346985656,313.8121659562394,313.9046584426223,313.99715092900516,314.089643415388,314.1821359017709,314.27462838815376,314.3671208745366,314.4596133609195,314.55210584730236,314.6445983336852,314.7370908200681,314.82958330645096,314.9220757928338,315.01456827921675,315.1070607655996,315.1995532519825,315.29204573836535,315.3845382247482,315.4770307111311,315.56952319751394,315.6620156838968,315.7545081702797,315.84700065666254,315.9394931430454,316.0319856294283,316.12447811581114,316.216970602194,316.3094630885769,316.40195557495974,316.4944480613426,316.5869405477255,316.67943303410834,316.7719255204912,316.8644180068741,316.95691049325694,317.0494029796398,317.1418954660227,317.23438795240554,317.3268804387884,317.4193729251713,317.51186541155414,317.604357897937,317.6968503843199,317.78934287070274,317.8818353570856,317.9743278434685,318.06682032985134,318.1593128162342,318.2518053026171,318.34429778899994,318.4367902753828,318.52928276176567,318.62177524814854,318.7142677345314,318.80676022091427,318.89925270729714,318.99174519368,319.08423768006287,319.17673016644574,319.2692226528286,319.36171513921147,319.45420762559434,319.5467001119772,319.63919259836007,319.73168508474294,319.8241775711258,319.91667005750867,320.00916254389153,320.1016550302744,320.19414751665727,320.28664000304013,320.379132489423,320.47162497580587,320.56411746218873,320.6566099485716,320.74910243495447,320.84159492133733,320.9340874077202,321.02657989410307,321.11907238048593,321.2115648668688,321.30405735325166,321.39654983963453,321.4890423260174,321.58153481240026,321.67402729878313,321.766519785166,321.85901227154886,321.95150475793173,322.0439972443146,322.13648973069746,322.22898221708033,322.3214747034632,322.41396718984606,322.506459676229,322.59895216261185,322.6914446489947,322.7839371353776,322.87642962176045,322.9689221081433,323.0614145945262,323.15390708090905,323.2463995672919,323.3388920536748,323.43138454005765,323.5238770264405,323.6163695128234,323.70886199920625,323.8013544855891,323.893846971972,323.98633945835485,324.0788319447377,324.1713244311206,324.26381691750345,324.3563094038863,324.4488018902692,324.54129437665205,324.6337868630349,324.7262793494178,324.81877183580065,324.9112643221835,325.0037568085664,325.09624929494925,325.1887417813321,325.281234267715,325.37372675409785,325.4662192404807,325.5587117268636,325.65120421324644,325.7436966996293,325.8361891860122,325.92868167239504,326.0211741587779,326.1136666451608,326.20615913154364,326.2986516179265,326.3911441043094,326.48363659069224,326.5761290770751,326.668621563458,326.76111404984084,326.8536065362237,326.9460990226066,327.03859150898944,327.1310839953723,327.2235764817552,327.31606896813804,327.4085614545209,327.5010539409038,327.59354642728664,327.6860389136695,327.7785314000524,327.87102388643524,327.9635163728181,328.056008859201,328.14850134558384,328.2409938319667,328.3334863183496,328.4259788047325,328.51847129111536,328.6109637774982,328.7034562638811,328.79594875026396,328.8884412366468,328.9809337230297,329.07342620941256,329.1659186957954,329.2584111821783,329.35090366856116,329.443396154944,329.5358886413269,329.62838112770976,329.7208736140926,329.8133661004755,329.90585858685836,329.9983510732412,330.0908435596241,330.18333604600696,330.2758285323898,330.3683210187727,330.46081350515556,330.5533059915384,330.6457984779213,330.73829096430416,330.830783450687,330.9232759370699,331.01576842345276,331.1082609098356,331.2007533962185,331.29324588260135,331.3857383689842,331.4782308553671,331.57072334174995,331.6632158281328,331.7557083145157,331.84820080089855,331.9406932872814,332.0331857736643,332.12567826004715,332.21817074643,332.3106632328129,332.40315571919575,332.4956482055786,332.5881406919615,332.68063317834435,332.7731256647272,332.8656181511101,332.95811063749295,333.0506031238758,333.1430956102587,333.23558809664155,333.3280805830244,333.4205730694073,333.51306555579015,333.605558042173,333.6980505285559,333.79054301493875,333.8830355013216,333.9755279877045,334.06802047408735,334.1605129604702,334.2530054468531,334.34549793323595,334.4379904196188,334.5304829060017,334.62297539238455,334.7154678787674,334.8079603651503,334.90045285153315,334.992945337916,335.0854378242989,335.17793031068175,335.2704227970646,335.3629152834475,335.45540776983034,335.5479002562132,335.6403927425961,335.73288522897894,335.82537771536187,335.91787020174473,336.0103626881276,336.10285517451047,336.19534766089333,336.2878401472762,336.38033263365907,336.47282512004193,336.5653176064248,336.65781009280767,336.75030257919053,336.8427950655734,336.93528755195626,337.02778003833913,337.120272524722,337.21276501110486,337.30525749748773,337.3977499838706,337.49024247025346,337.58273495663633,337.6752274430192,337.76771992940206,337.86021241578493,337.9527049021678,338.04519738855066,338.1376898749335,338.2301823613164,338.32267484769926,338.4151673340821,338.507659820465,338.60015230684786,338.6926447932307,338.7851372796136,338.87762976599646,338.9701222523793,339.0626147387622,339.15510722514506,339.2475997115279,339.3400921979108,339.43258468429366,339.5250771706765,339.6175696570594,339.71006214344226,339.8025546298251,339.895047116208,339.98753960259086,340.0800320889737,340.1725245753566,340.26501706173946,340.3575095481223,340.4500020345052,340.54249452088806,340.6349870072709,340.7274794936538,340.81997198003666,340.9124644664195,341.0049569528024,341.09744943918525,341.1899419255681,341.282434411951,341.37492689833385,341.4674193847167,341.5599118710996,341.6524043574825,341.7448968438654,341.83738933024824,341.9298818166311,342.022374303014,342.11486678939684,342.2073592757797,342.2998517621626,342.39234424854544,342.4848367349283,342.5773292213112,342.66982170769404,342.7623141940769,342.8548066804598,342.94729916684264,343.0397916532255,343.1322841396084,343.22477662599124,343.3172691123741,343.409761598757,343.50225408513984,343.5947465715227,343.6872390579056,343.77973154428844,343.8722240306713,343.96471651705417,344.05720900343704,344.1497014898199,344.24219397620277,344.33468646258564,344.4271789489685,344.51967143535137,344.61216392173424,344.7046564081171,344.79714889449997,344.88964138088284,344.9821338672657,345.07462635364857,345.16711884003143,345.2596113264143,345.35210381279717,345.44459629918003,345.5370887855629,345.62958127194577,345.72207375832863,345.8145662447115,345.90705873109437,345.99955121747723,346.0920437038601,346.18453619024297,346.27702867662583,346.3695211630087,346.46201364939157,346.55450613577443,346.6469986221573,346.73949110854016,346.83198359492303,346.9244760813059,347.01696856768876,347.10946105407163,347.2019535404545,347.29444602683736,347.38693851322023,347.4794309996031,347.57192348598596,347.66441597236883,347.7569084587517,347.84940094513456,347.9418934315174,348.0343859179003,348.12687840428316,348.219370890666,348.3118633770489,348.40435586343176,348.4968483498146,348.5893408361975,348.68183332258036,348.7743258089632,348.8668182953461,348.95931078172896,349.0518032681118,349.1442957544947,349.23678824087756,349.3292807272604,349.4217732136433,349.5142657000262,349.6067581864091,349.69925067279195,349.7917431591748,349.8842356455577,349.97672813194055,350.0692206183234,350.1617131047063,350.25420559108915,350.346698077472,350.4391905638549,350.53168305023775,350.6241755366206,350.7166680230035,350.80916050938634,350.9016529957692,350.9941454821521,351.08663796853494,351.1791304549178,351.2716229413007,351.36411542768354,351.4566079140664,351.5491004004493,351.64159288683214,351.734085373215,351.8265778595979,351.91907034598074,352.0115628323636,352.1040553187465,352.19654780512934,352.2890402915122,352.3815327778951,352.47402526427794,352.5665177506608,352.6590102370437,352.75150272342654,352.8439952098094,352.9364876961923,353.02898018257514,353.121472668958,353.2139651553409,353.30645764172374,353.3989501281066,353.4914426144895,353.58393510087234,353.6764275872552,353.76892007363807,353.86141256002094,353.9539050464038,354.04639753278667,354.13889001916954,354.2313825055524,354.32387499193527,354.41636747831814,354.50885996470106,354.6013524510839,354.6938449374668,354.78633742384966,354.8788299102325,354.9713223966154,355.06381488299826,355.1563073693811,355.248799855764,355.34129234214686,355.4337848285297,355.5262773149126,355.61876980129546,355.7112622876783,355.8037547740612,355.89624726044406,355.9887397468269,356.0812322332098,356.17372471959266,356.2662172059755,356.3587096923584,356.45120217874126,356.5436946651241,356.636187151507,356.72867963788985,356.8211721242727,356.9136646106556,357.00615709703845,357.0986495834213,357.1911420698042,357.28363455618705,357.3761270425699,357.4686195289528,357.56111201533565,357.6536045017185,357.7460969881014,357.83858947448425,357.9310819608671,358.02357444725,358.11606693363285,358.2085594200157,358.3010519063986,358.39354439278145,358.4860368791643,358.5785293655472,358.67102185193005,358.7635143383129,358.8560068246958,358.94849931107865,359.0409917974615,359.1334842838444,359.22597677022725,359.3184692566101,359.410961742993,359.50345422937585,359.5959467157587,359.6884392021416,359.78093168852445,359.8734241749073,359.9659166612902,360.05840914767305,360.1509016340559,360.2433941204388,360.33588660682165,360.4283790932045,360.5208715795874,360.61336406597025,360.7058565523531,360.798349038736,360.89084152511884,360.9833340115017,361.0758264978846,361.16831898426744,361.2608114706503,361.3533039570332,361.44579644341604,361.5382889297989,361.6307814161818,361.72327390256464,361.8157663889475,361.9082588753304,362.00075136171324,362.0932438480961,362.185736334479,362.27822882086184,362.3707213072447,362.4632137936276,362.55570628001044,362.6481987663933,362.7406912527762,362.8331837391591,362.92567622554196,363.01816871192483,363.1106611983077,363.20315368469056,363.29564617107343,363.3881386574563,363.48063114383916,363.573123630222,363.6656161166049,363.75810860298776,363.8506010893706,363.9430935757535,364.03558606213636,364.1280785485192,364.2205710349021,364.31306352128496,364.4055560076678,364.4980484940507,364.59054098043356,364.6830334668164,364.7755259531993,364.86801843958216,364.960510925965,365.0530034123479,365.14549589873076,365.2379883851136,365.3304808714965,365.42297335787936,365.5154658442622,365.6079583306451,365.70045081702796,365.7929433034108,365.8854357897937,365.97792827617656,366.0704207625594,366.1629132489423,366.25540573532516,366.347898221708,366.4403907080909,366.53288319447375,366.6253756808566,366.7178681672395,366.81036065362235,366.9028531400052,366.9953456263881,367.08783811277095,367.1803305991538,367.2728230855367,367.36531557191955,367.4578080583024,367.5503005446853,367.64279303106815,367.735285517451,367.82777800383394,367.9202704902168,368.0127629765997,368.10525546298254,368.1977479493654,368.2902404357483,368.38273292213114,368.475225408514,368.5677178948969,368.66021038127974,368.7527028676626,368.8451953540455,368.93768784042834,369.0301803268112,369.1226728131941,369.21516529957694,369.3076577859598,369.40015027234267,369.49264275872554,369.5851352451084,369.67762773149127,369.77012021787414,369.862612704257,369.95510519063987,370.04759767702274,370.1400901634056,370.23258264978847,370.32507513617134,370.4175676225542,370.51006010893707,370.60255259531993,370.6950450817028,370.78753756808567,370.88003005446853,370.9725225408514,371.06501502723427,371.15750751361713,371.25],\"y\":[199.79205322265625,199.5305985153855,199.26914380811476,199.007689100844,198.74623439357327,198.48477968630252,198.22332497903176,197.96187027176103,197.70041556449027,197.4389608572195,197.17750614994878,196.91605144267803,196.6545967354073,196.39314202813654,196.13168732086578,195.87023261359505,195.6087779063243,195.34732319905353,195.0858684917828,194.82441378451205,194.56295907724132,194.30150436997056,194.0400496626998,193.77859495542907,193.5171402481583,193.25568554088755,192.99423083361683,192.73277612634607,192.47132141907534,192.20986671180458,191.94841200453382,191.6869572972631,191.42550258999233,191.16404788272158,190.90259317545085,190.6411384681801,190.37968376090936,190.1182290536386,189.85677434636784,189.5953196390971,189.33386493182635,189.0724102245556,188.81095551728487,188.5495008100141,188.28804610274338,188.02659139547262,187.76513668820186,187.50368198093113,187.24222727366038,186.98077256638965,186.7193178591189,186.45786315184813,186.1964084445774,185.93495373730664,185.67349903003588,185.41204432276515,185.1505896154944,184.88913490822364,184.6276802009529,184.36622549368215,184.10477078641142,183.84331607914066,183.5818613718699,183.32040666459918,183.05895195732842,182.7974972500577,182.53604254278693,182.27458783551617,182.01313312824544,181.75167842097468,181.49022371370393,181.2287690064332,180.96731429916244,180.70585959189168,180.44440488462095,180.1829501773502,179.92149547007946,179.6600407628087,179.39858605553795,179.13713134826722,178.87567664099646,178.61422193372573,178.35276722645497,178.0913125191842,177.82985781191348,177.56840310464273,177.30694839737197,177.04549369010124,176.78403898283048,176.52258427555972,176.261129568289,175.99967486101824,175.7382201537475,175.47676544647675,175.215310739206,174.95385603193526,174.6924013246645,174.43094661739377,174.169491910123,173.90803720285226,173.64658249558153,173.38512778831077,173.12367308104,172.86221837376928,172.60076366649852,172.3393089592278,172.07785425195704,171.81639954468628,171.55494483741555,171.2934901301448,171.03203542287406,170.7705807156033,170.50912600833254,170.2476713010618,169.98621659379106,169.7247618865203,169.46330717924957,169.2018524719788,168.94039776470805,168.67894305743732,168.41748835016656,168.15603364289584,167.89457893562508,167.63312422835432,167.3716695210836,167.11021481381283,166.8487601065421,166.58730539927134,166.32585069200059,166.06439598472986,165.8029412774591,165.54148657018834,165.2800318629176,165.01857715564685,164.7571224483761,164.49566774110536,164.2342130338346,163.97275832656388,163.71130361929312,163.4498489120224,163.18839420475163,162.92693949748087,162.66548479021014,162.40403008293939,162.14257537566863,161.8811206683979,161.61966596112714,161.35821125385638,161.09675654658565,160.8353018393149,160.57384713204414,160.3123924247734,160.05093771750265,159.78948301023192,159.52802830296116,159.26657359569043,159.00511888841967,158.74366418114892,158.48220947387819,158.22075476660743,157.95930005933667,157.69784535206594,157.43639064479518,157.17493593752442,156.9134812302537,156.65202652298294,156.39057181571218,156.12911710844145,155.8676624011707,155.60620769389996,155.3447529866292,155.08329827935847,154.82184357208772,154.56038886481696,154.29893415754623,154.03747945027547,153.7760247430047,153.51457003573398,153.25311532846322,152.99166062119247,152.73020591392174,152.46875120665098,152.20729649938022,151.9458417921095,151.68438708483873,151.422932377568,151.16147767029724,150.90002296302652,150.63856825575576,150.377113548485,150.11565884121427,149.8542041339435,149.59274942667275,149.33129471940202,149.06984001213127,148.8083853048605,148.54693059758978,148.28547589031902,148.0240211830483,147.76256647577753,147.5011117685068,147.23965706123604,146.9782023539653,146.71674764669456,146.4552929394238,146.19383823215304,145.9323835248823,145.67092881761155,145.4094741103408,145.14801940307007,144.8865646957993,144.62510998852855,144.36365528125782,144.10220057398706,143.84074586671633,143.57929115944557,143.31783645217484,143.0563817449041,142.79492703763333,142.5334723303626,142.27201762309184,142.01056291582108,141.74910820855035,141.4876535012796,141.22619879400884,140.9647440867381,140.70328937946735,140.4418346721966,140.18037996492586,139.9189252576551,139.65747055038437,139.39601584311362,139.1345611358429,138.87310642857213,138.61165172130137,138.35019701403064,138.08874230675988,137.82728759948913,137.5658328922184,137.30437818494764,137.04292347767688,136.78146877040615,136.5200140631354,136.25855935586463,135.9971046485939,135.73564994132317,135.4741952340524,135.21274052678166,134.95128581951093,134.68983111224017,134.4283764049694,134.16692169769868,133.90546699042793,133.64401228315717,133.38255757588644,133.12110286861568,132.85964816134492,132.5981934540742,132.33673874680346,132.07528403953268,131.81382933226195,131.55237462499122,131.29091991772046,131.0294652104497,130.76801050317897,130.5065557959082,130.24510108863745,129.98364638136673,129.72219167409597,129.4607369668252,129.19928225955448,128.93782755228372,128.67637284501296,128.41491813774223,128.1534634304715,127.89200872320073,127.63055401592999,127.36909930865924,127.1076446013885,126.84618989411774,126.584735186847,126.32328047957625,126.06182577230551,125.80037106503475,125.53891635776401,125.27746165049327,125.01600694322252,124.75455223595176,124.49309752868102,124.23164282141028,123.97018811413953,123.70873340686877,123.44727869959803,123.18582399232729,122.92436928505654,122.66291457778578,122.40145987051504,122.1400051632443,121.87855045597355,121.6170957487028,121.35564104143205,121.09418633416131,120.83273162689056,120.5712769196198,120.30982221234906,120.04836750507832,119.78691279780757,119.52545809053682,119.26400338326607,119.00254867599533,118.74109396872458,118.47963926145383,118.21818455418308,117.95672984691234,117.6952751396416,117.43382043237084,117.1723657251001,116.91091101782935,116.6494563105586,116.38800160328785,116.1265468960171,115.86509218874636,115.60363748147562,115.34218277420487,115.08072806693411,114.81927335966337,114.55781865239263,114.29636394512188,114.03490923785112,113.77345453058038,113.51199982330964,113.2505451160389,112.98909040876813,112.72763570149739,112.46618099422665,112.2047262869559,111.94327157968515,111.6818168724144,111.42036216514366,111.15890745787291,110.89745275060216,110.63599804333141,110.37454333606067,110.11308862878992,109.85163392151917,109.59017921424842,109.32872450697768,109.06726979970693,108.80581509243618,108.54436038516543,108.28290567789469,108.02145097062395,107.75999626335319,107.49854155608244,107.2370868488117,106.97563214154096,106.7141774342702,106.45272272699945,106.19126801972871,105.92981331245797,105.66835860518721,105.40690389791646,105.14544919064572,104.88399448337498,104.62253977610422,104.36108506883348,104.09963036156273,103.83817565429199,103.57672094702123,103.31526623975049,103.05381153247974,102.792356825209,102.53090211793824,102.2694474106675,102.00799270339675,101.74653799612601,101.48508328885525,101.2236285815845,100.96217387431376,100.70071916704302,100.43926445977226,100.17780975250152,99.91635504523077,99.65490033796003,99.39344563068929,99.13199092341853,98.87053621614778,98.60908150887704,98.3476268016063,98.08617209433554,97.8247173870648,97.56326267979405,97.3018079725233,97.04035326525255,96.7788985579818,96.51744385071106,96.25598914344032,95.99453443616956,95.73307972889882,95.47162502162807,95.21017031435733,94.94871560708657,94.68726089981583,94.42580619254508,94.16435148527434,93.90289677800358,93.64144207073284,93.37998736346209,93.11853265619135,92.85707794892059,92.59562324164985,92.3341685343791,92.07271382710836,91.8112591198376,91.54980441256686,91.28834970529611,91.02689499802537,90.76544029075461,90.50398558348387,90.24253087621312,89.98107616894238,89.71962146167162,89.45816675440088,89.19671204713013,88.93525733985939,88.67380263258863,88.41234792531789,88.15089321804714,87.8894385107764,87.62798380350564,87.3665290962349,87.10507438896416,86.84361968169341,86.58216497442265,86.32071026715191,86.05925555988117,85.79780085261042,85.53634614533966,85.27489143806892,85.01343673079818,84.75198202352743,84.49052731625667,84.22907260898593,83.96761790171519,83.70616319444444,83.44470848717368,83.18325377990294,82.9217990726322,82.66034436536145,82.39888965809071,82.13743495081995,81.87598024354921,81.61452553627846,81.35307082900772,81.09161612173696,80.83016141446622,80.56870670719547,80.30725199992473,80.04579729265397,79.78434258538323,79.52288787811248,79.26143317084174,78.99997846357098,78.73852375630024,78.4770690490295,78.21561434175875,77.954159634488,77.69270492721725,77.4312502199465,77.16979551267576,76.908340805405,76.64688609813426,76.38543139086352,76.12397668359277,75.86252197632201,75.60106726905127,75.33961256178053,75.07815785450978,74.81670314723902,74.55524843996828,74.29379373269754,74.0323390254268,73.77088431815604,73.50942961088529,73.24797490361455,72.9865201963438,72.72506548907305,72.4636107818023,72.20215607453156,71.94070136726081,71.67924665999007,71.41779195271931,71.15633724544855,70.89488253817782,70.63342783090707,70.37197312363634,70.11051841636558,69.84906370909482,69.58760900182409,69.32615429455333,69.06469958728258,68.80324488001185,68.54179017274109,68.28033546547036,68.0188807581996,67.75742605092884,67.49597134365811,67.23451663638735,66.9730619291166,66.71160722184587,66.45015251457511,66.18869780730438,65.92724310003362,65.66578839276286,65.40433368549213,65.14287897822138,64.88142427095065,64.61996956367989,64.35851485640913,64.0970601491384,63.83560544186764,63.574150734596884,63.312696027326155,63.0512413200554,62.78978661278467,62.52833190551391,62.26687719824315,62.00542249097242,61.74396778370166,61.482513076430905,61.221058369160176,60.95960366188942,60.69814895461869,60.43669424734793,60.17523954007717,59.91378483280644,59.652330125535684,59.390875418264926,59.1294207109942,58.86796600372344,58.60651129645271,58.34505658918195,58.08360188191119,57.82214717464046,57.560692467369705,57.29923776009895,57.03778305282822,56.77632834555746,56.51487363828673,56.25341893101597,55.991964223745214,55.730509516474484,55.469054809203726,55.20760010193297,54.94614539466224,54.68469068739148,54.42323598012075,54.16178127284999,53.900326565579235,53.638871858308505,53.37741715103775,53.11596244376699,52.85450773649626,52.5930530292255,52.33159832195477,52.070143614684014,51.808688907413256,51.547234200142526,51.28577949287177,51.02432478560101,50.76287007833028,50.50141537105952,50.23996066378879,49.978505956518035,49.71705124924728,49.45559654197655,49.19414183470579,48.93268712743506,48.6712324201643,48.40977771289354,48.148323005622814,47.886868298352056,47.6254135910813,47.36395888381057,47.10250417653981,46.84104946926908,46.57959476199832,46.318140054727564,46.056685347456835,45.79523064018608,45.53377593291532,45.27232122564459,45.01086651837383,44.7494118111031,44.48795710383234,44.226502396561585,43.965047689290856,43.7035929820201,43.44213827474934,43.18068356747861,42.91922886020785,42.65777415293712,42.396319445666364,42.134864738395606,41.87341003112488,41.61195532385412,41.35050061658336,41.08904590931263,40.82759120204187,40.56613649477114,40.304681787500385,40.04322708022963,39.7817723729589,39.52031766568814,39.25886295841738,38.99740825114665,38.735953543875894,38.474498836605164,38.213044129334406,37.95158942206365,37.69013471479292,37.42868000752216,37.1672253002514,36.90577059298067,36.644315885709915,36.382861178439185,36.12140647116843,35.85995176389767,35.59849705662694,35.33704234935618,35.075587642085424,34.814132934814694,34.552678227543936,34.291223520273206,34.02976881300245,33.76831410573169,33.50685939846096,33.2454046911902,32.983949983919445,32.722495276648715,32.46104056937796,32.19958586210723,31.93813115483647,31.67667644756571,31.41522174029498,31.153767033024224,30.892312325753494,30.630857618482736,30.369402911211978,30.10794820394125,29.84649349667049,29.585038789399732,29.323584082129003,29.062129374858245,28.800674667587515,28.539219960316757,28.277765253046,28.01631054577527,27.75485583850451,27.493401131233753,27.231946423963024,26.970491716692266,26.709037009421536,26.447582302150778,26.18612759488002,25.92467288760929,25.663218180338532,25.401763473067774,25.140308765797045,24.878854058526287,24.617399351255557,24.3559446439848,24.09448993671404,23.83303522944331,23.571580522172553,23.310125814901795,23.048671107631066,22.787216400360307,22.525761693089578,22.26430698581882,22.002852278548062,21.741397571277332,21.479942864006574,21.218488156735816,20.957033449465087,20.69557874219433,20.4341240349236,20.17266932765284,19.911214620382083,19.649759913111353,19.388305205840595,19.126850498569837,18.865395791299107,18.60394108402835,18.34248637675762,18.081031669486862,17.819576962216104,17.558122254945374,17.296667547674616,17.035212840403858,16.77375813313313,16.51230342586237,16.25084871859164,15.989394011320883,15.727939304050125,15.466484596779395,15.205029889508637,14.943575182237907,14.68212047496715,14.420665767696391,14.159211060425662,13.897756353154904,13.636301645884146,13.374846938613416,13.113392231342658,12.851937524071928,12.59048281680117,12.329028109530412,12.067573402259683,11.806118694988925,11.544663987718167,11.283209280447437,11.021754573176679,10.76029986590595,10.498845158635191,10.237390451364433,9.975935744093704,9.714481036822946,9.453026329552188,9.191571622281458,8.9301169150107,8.66866220773997,8.407207500469212,8.145752793198454,7.884298085927725,7.622843378656967,7.361388671386209,7.099933964115479,6.838479256844721,6.577024549573991,6.315569842303233,6.054115135032475,5.792660427761746,5.531205720490988,5.26975101322023,5.0082963059495,4.746841598678742,4.485386891408012,4.223932184137254,3.9624774768664963,3.7010227695957667,3.4395680623250087,3.1781133550542506,2.916658647783521,2.655203940512763,2.3937492332420334,2.1322945259712753,1.8708398187005173,1.6093851114297877,1.3479304041590296,1.0864756968882716,0.825020989617542,0.563566282346784,0.30211157507605435,0.040656867805296315,-0.22079783946546172,-0.48225254673619133,-0.7437072540069494,-1.005161961277679,-1.266616668548437,-1.528071375819195,-1.7895260830899247,-2.0509807903606827,-2.3124354976314407,-2.5738902049021704,-2.8353449121729284,-3.096799619443658,-3.358254326714416,-3.619709033985174,-3.8811637412559037,-4.142618448526662,-4.40407315579742,-4.665527863068149,-4.926982570338907,-5.188437277609637,-5.449891984880395,-5.711346692151153,-5.972801399421883,-6.234256106692641,-6.495710813963399,-6.757165521234128,-7.018620228504886,-7.280074935775616,-7.541529643046374,-7.802984350317132,-8.064439057587862,-8.32589376485862,-8.587348472129378,-8.848803179400107,-9.110257886670865,-9.371712593941595,-9.633167301212353,-9.894622008483111,-10.15607671575384,-10.417531423024599,-10.678986130295357,-10.940440837566086,-11.201895544836844,-11.463350252107574,-11.724804959378332,-11.98625966664909,-12.24771437391982,-12.509169081190578,-12.770623788461336,-13.032078495732065,-13.293533203002823,-13.554987910273553,-13.816442617544311,-14.07789732481507,-14.339352032085799,-14.600806739356557,-14.862261446627315,-15.123716153898044,-15.385170861168803,-15.646625568439532,-15.90808027571029,-16.169534982981048,-16.430989690251778,-16.692444397522536,-16.953899104793294,-17.215353812064023,-17.47680851933478,-17.73826322660551,-17.99971793387627,-18.261172641147027,-18.522627348417757,-18.784082055688515,-19.045536762959244,-19.306991470230003,-19.56844617750076,-19.82990088477149,-20.091355592042248,-20.352810299313006,-20.614265006583736,-20.875719713854494,-21.137174421125223,-21.39862912839598,-21.66008383566674,-21.92153854293747,-22.182993250208227,-22.444447957478985,-22.705902664749715,-22.967357372020473,-23.228812079291203,-23.49026678656196,-23.75172149383272,-24.013176201103448,-24.274630908374206,-24.536085615644964,-24.797540322915694,-25.058995030186452,-25.32044973745718,-25.58190444472794,-25.843359151998698,-26.104813859269427,-26.366268566540185,-26.627723273810943,-26.889177981081673,-27.15063268835243,-27.41208739562316,-27.67354210289392,-27.934996810164677,-28.196451517435406,-28.457906224706164,-28.719360931976922,-28.980815639247652,-29.24227034651841,-29.50372505378914,-29.765179761059898,-30.026634468330656,-30.288089175601385,-30.549543882872143,-30.8109985901429,-31.07245329741363,-31.33390800468439,-31.59536271195512,-31.856817419225877,-32.118272126496635,-32.379726833767364,-32.64118154103812,-32.90263624830888,-33.16409095557961,-33.42554566285037,-33.6870003701211,-33.948455077391856,-34.209909784662614,-34.47136449193334,-34.7328191992041,-34.99427390647483,-35.25572861374559,-35.51718332101635,-35.77863802828708,-36.040092735557835,-36.30154744282859,-36.56300215009932,-36.82445685737008,-37.08591156464081,-37.34736627191157,-37.608820979182326,-37.870275686453056,-38.131730393723814,-38.39318510099457,-38.6546398082653,-38.91609451553606,-39.17754922280679,-39.43900393007755,-39.700458637348305,-39.961913344619035,-40.22336805188979,-40.48482275916055,-40.74627746643128,-41.00773217370204,-41.26918688097277,-41.530641588243526,-41.792096295514284,-42.053551002785014,-42.31500571005577,-42.57646041732653,-42.83791512459726,-43.09936983186802,-43.36082453913875,-43.622279246409505,-43.88373395368026,-44.14518866095099,-44.40664336822175,-44.66809807549251,-44.92955278276324,-45.191007490033996,-45.452462197304726,-45.713916904575484,-45.97537161184624,-46.23682631911697,-46.49828102638773,-46.75973573365849,-47.02119044092922,-47.282645148199975,-47.544099855470705,-47.80555456274146,-48.06700927001222,-48.32846397728295,-48.58991868455371,-48.85137339182447,-49.112828099095196,-49.374282806365954,-49.635737513636684,-49.89719222090744,-50.1586469281782,-50.42010163544893,-50.68155634271969,-50.943011049990446,-51.204465757261175,-51.46592046453193,-51.72737517180266,-51.98882987907342,-52.25028458634418,-52.51173929361491,-52.77319400088567,-53.034648708156396,-53.296103415427154,-53.55755812269791,-53.81901282996864,-54.0804675372394,-54.34192224451016,-54.60337695178089,-54.864831659051646,-55.126286366322375,-55.38774107359313,-55.64919578086389,-55.91065048813462,-56.17210519540538,-56.43355990267611,-56.695014609946895,-56.956469317217625,-57.217924024488354,-57.47937873175914,-57.74083343902987,-58.0022881463006,-58.26374285357133,-58.525197560842116,-58.786652268112846,-59.048106975383575,-59.30956168265436,-59.57101638992509,-59.83247109719582,-60.09392580446661,-60.35538051173734,-60.61683521900807,-60.87828992627885,-61.13974463354958,-61.40119934082031],\"type\":\"scatter\"}],                        {\"template\":{\"data\":{\"histogram2dcontour\":[{\"type\":\"histogram2dcontour\",\"colorbar\":{\"outlinewidth\":0,\"ticks\":\"\"},\"colorscale\":[[0.0,\"#0d0887\"],[0.1111111111111111,\"#46039f\"],[0.2222222222222222,\"#7201a8\"],[0.3333333333333333,\"#9c179e\"],[0.4444444444444444,\"#bd3786\"],[0.5555555555555556,\"#d8576b\"],[0.6666666666666666,\"#ed7953\"],[0.7777777777777778,\"#fb9f3a\"],[0.8888888888888888,\"#fdca26\"],[1.0,\"#f0f921\"]]}],\"choropleth\":[{\"type\":\"choropleth\",\"colorbar\":{\"outlinewidth\":0,\"ticks\":\"\"}}],\"histogram2d\":[{\"type\":\"histogram2d\",\"colorbar\":{\"outlinewidth\":0,\"ticks\":\"\"},\"colorscale\":[[0.0,\"#0d0887\"],[0.1111111111111111,\"#46039f\"],[0.2222222222222222,\"#7201a8\"],[0.3333333333333333,\"#9c179e\"],[0.4444444444444444,\"#bd3786\"],[0.5555555555555556,\"#d8576b\"],[0.6666666666666666,\"#ed7953\"],[0.7777777777777778,\"#fb9f3a\"],[0.8888888888888888,\"#fdca26\"],[1.0,\"#f0f921\"]]}],\"heatmap\":[{\"type\":\"heatmap\",\"colorbar\":{\"outlinewidth\":0,\"ticks\":\"\"},\"colorscale\":[[0.0,\"#0d0887\"],[0.1111111111111111,\"#46039f\"],[0.2222222222222222,\"#7201a8\"],[0.3333333333333333,\"#9c179e\"],[0.4444444444444444,\"#bd3786\"],[0.5555555555555556,\"#d8576b\"],[0.6666666666666666,\"#ed7953\"],[0.7777777777777778,\"#fb9f3a\"],[0.8888888888888888,\"#fdca26\"],[1.0,\"#f0f921\"]]}],\"heatmapgl\":[{\"type\":\"heatmapgl\",\"colorbar\":{\"outlinewidth\":0,\"ticks\":\"\"},\"colorscale\":[[0.0,\"#0d0887\"],[0.1111111111111111,\"#46039f\"],[0.2222222222222222,\"#7201a8\"],[0.3333333333333333,\"#9c179e\"],[0.4444444444444444,\"#bd3786\"],[0.5555555555555556,\"#d8576b\"],[0.6666666666666666,\"#ed7953\"],[0.7777777777777778,\"#fb9f3a\"],[0.8888888888888888,\"#fdca26\"],[1.0,\"#f0f921\"]]}],\"contourcarpet\":[{\"type\":\"contourcarpet\",\"colorbar\":{\"outlinewidth\":0,\"ticks\":\"\"}}],\"contour\":[{\"type\":\"contour\",\"colorbar\":{\"outlinewidth\":0,\"ticks\":\"\"},\"colorscale\":[[0.0,\"#0d0887\"],[0.1111111111111111,\"#46039f\"],[0.2222222222222222,\"#7201a8\"],[0.3333333333333333,\"#9c179e\"],[0.4444444444444444,\"#bd3786\"],[0.5555555555555556,\"#d8576b\"],[0.6666666666666666,\"#ed7953\"],[0.7777777777777778,\"#fb9f3a\"],[0.8888888888888888,\"#fdca26\"],[1.0,\"#f0f921\"]]}],\"surface\":[{\"type\":\"surface\",\"colorbar\":{\"outlinewidth\":0,\"ticks\":\"\"},\"colorscale\":[[0.0,\"#0d0887\"],[0.1111111111111111,\"#46039f\"],[0.2222222222222222,\"#7201a8\"],[0.3333333333333333,\"#9c179e\"],[0.4444444444444444,\"#bd3786\"],[0.5555555555555556,\"#d8576b\"],[0.6666666666666666,\"#ed7953\"],[0.7777777777777778,\"#fb9f3a\"],[0.8888888888888888,\"#fdca26\"],[1.0,\"#f0f921\"]]}],\"mesh3d\":[{\"type\":\"mesh3d\",\"colorbar\":{\"outlinewidth\":0,\"ticks\":\"\"}}],\"scatter\":[{\"fillpattern\":{\"fillmode\":\"overlay\",\"size\":10,\"solidity\":0.2},\"type\":\"scatter\"}],\"parcoords\":[{\"type\":\"parcoords\",\"line\":{\"colorbar\":{\"outlinewidth\":0,\"ticks\":\"\"}}}],\"scatterpolargl\":[{\"type\":\"scatterpolargl\",\"marker\":{\"colorbar\":{\"outlinewidth\":0,\"ticks\":\"\"}}}],\"bar\":[{\"error_x\":{\"color\":\"#2a3f5f\"},\"error_y\":{\"color\":\"#2a3f5f\"},\"marker\":{\"line\":{\"color\":\"#E5ECF6\",\"width\":0.5},\"pattern\":{\"fillmode\":\"overlay\",\"size\":10,\"solidity\":0.2}},\"type\":\"bar\"}],\"scattergeo\":[{\"type\":\"scattergeo\",\"marker\":{\"colorbar\":{\"outlinewidth\":0,\"ticks\":\"\"}}}],\"scatterpolar\":[{\"type\":\"scatterpolar\",\"marker\":{\"colorbar\":{\"outlinewidth\":0,\"ticks\":\"\"}}}],\"histogram\":[{\"marker\":{\"pattern\":{\"fillmode\":\"overlay\",\"size\":10,\"solidity\":0.2}},\"type\":\"histogram\"}],\"scattergl\":[{\"type\":\"scattergl\",\"marker\":{\"colorbar\":{\"outlinewidth\":0,\"ticks\":\"\"}}}],\"scatter3d\":[{\"type\":\"scatter3d\",\"line\":{\"colorbar\":{\"outlinewidth\":0,\"ticks\":\"\"}},\"marker\":{\"colorbar\":{\"outlinewidth\":0,\"ticks\":\"\"}}}],\"scattermapbox\":[{\"type\":\"scattermapbox\",\"marker\":{\"colorbar\":{\"outlinewidth\":0,\"ticks\":\"\"}}}],\"scatterternary\":[{\"type\":\"scatterternary\",\"marker\":{\"colorbar\":{\"outlinewidth\":0,\"ticks\":\"\"}}}],\"scattercarpet\":[{\"type\":\"scattercarpet\",\"marker\":{\"colorbar\":{\"outlinewidth\":0,\"ticks\":\"\"}}}],\"carpet\":[{\"aaxis\":{\"endlinecolor\":\"#2a3f5f\",\"gridcolor\":\"white\",\"linecolor\":\"white\",\"minorgridcolor\":\"white\",\"startlinecolor\":\"#2a3f5f\"},\"baxis\":{\"endlinecolor\":\"#2a3f5f\",\"gridcolor\":\"white\",\"linecolor\":\"white\",\"minorgridcolor\":\"white\",\"startlinecolor\":\"#2a3f5f\"},\"type\":\"carpet\"}],\"table\":[{\"cells\":{\"fill\":{\"color\":\"#EBF0F8\"},\"line\":{\"color\":\"white\"}},\"header\":{\"fill\":{\"color\":\"#C8D4E3\"},\"line\":{\"color\":\"white\"}},\"type\":\"table\"}],\"barpolar\":[{\"marker\":{\"line\":{\"color\":\"#E5ECF6\",\"width\":0.5},\"pattern\":{\"fillmode\":\"overlay\",\"size\":10,\"solidity\":0.2}},\"type\":\"barpolar\"}],\"pie\":[{\"automargin\":true,\"type\":\"pie\"}]},\"layout\":{\"autotypenumbers\":\"strict\",\"colorway\":[\"#636efa\",\"#EF553B\",\"#00cc96\",\"#ab63fa\",\"#FFA15A\",\"#19d3f3\",\"#FF6692\",\"#B6E880\",\"#FF97FF\",\"#FECB52\"],\"font\":{\"color\":\"#2a3f5f\"},\"hovermode\":\"closest\",\"hoverlabel\":{\"align\":\"left\"},\"paper_bgcolor\":\"white\",\"plot_bgcolor\":\"#E5ECF6\",\"polar\":{\"bgcolor\":\"#E5ECF6\",\"angularaxis\":{\"gridcolor\":\"white\",\"linecolor\":\"white\",\"ticks\":\"\"},\"radialaxis\":{\"gridcolor\":\"white\",\"linecolor\":\"white\",\"ticks\":\"\"}},\"ternary\":{\"bgcolor\":\"#E5ECF6\",\"aaxis\":{\"gridcolor\":\"white\",\"linecolor\":\"white\",\"ticks\":\"\"},\"baxis\":{\"gridcolor\":\"white\",\"linecolor\":\"white\",\"ticks\":\"\"},\"caxis\":{\"gridcolor\":\"white\",\"linecolor\":\"white\",\"ticks\":\"\"}},\"coloraxis\":{\"colorbar\":{\"outlinewidth\":0,\"ticks\":\"\"}},\"colorscale\":{\"sequential\":[[0.0,\"#0d0887\"],[0.1111111111111111,\"#46039f\"],[0.2222222222222222,\"#7201a8\"],[0.3333333333333333,\"#9c179e\"],[0.4444444444444444,\"#bd3786\"],[0.5555555555555556,\"#d8576b\"],[0.6666666666666666,\"#ed7953\"],[0.7777777777777778,\"#fb9f3a\"],[0.8888888888888888,\"#fdca26\"],[1.0,\"#f0f921\"]],\"sequentialminus\":[[0.0,\"#0d0887\"],[0.1111111111111111,\"#46039f\"],[0.2222222222222222,\"#7201a8\"],[0.3333333333333333,\"#9c179e\"],[0.4444444444444444,\"#bd3786\"],[0.5555555555555556,\"#d8576b\"],[0.6666666666666666,\"#ed7953\"],[0.7777777777777778,\"#fb9f3a\"],[0.8888888888888888,\"#fdca26\"],[1.0,\"#f0f921\"]],\"diverging\":[[0,\"#8e0152\"],[0.1,\"#c51b7d\"],[0.2,\"#de77ae\"],[0.3,\"#f1b6da\"],[0.4,\"#fde0ef\"],[0.5,\"#f7f7f7\"],[0.6,\"#e6f5d0\"],[0.7,\"#b8e186\"],[0.8,\"#7fbc41\"],[0.9,\"#4d9221\"],[1,\"#276419\"]]},\"xaxis\":{\"gridcolor\":\"white\",\"linecolor\":\"white\",\"ticks\":\"\",\"title\":{\"standoff\":15},\"zerolinecolor\":\"white\",\"automargin\":true,\"zerolinewidth\":2},\"yaxis\":{\"gridcolor\":\"white\",\"linecolor\":\"white\",\"ticks\":\"\",\"title\":{\"standoff\":15},\"zerolinecolor\":\"white\",\"automargin\":true,\"zerolinewidth\":2},\"scene\":{\"xaxis\":{\"backgroundcolor\":\"#E5ECF6\",\"gridcolor\":\"white\",\"linecolor\":\"white\",\"showbackground\":true,\"ticks\":\"\",\"zerolinecolor\":\"white\",\"gridwidth\":2},\"yaxis\":{\"backgroundcolor\":\"#E5ECF6\",\"gridcolor\":\"white\",\"linecolor\":\"white\",\"showbackground\":true,\"ticks\":\"\",\"zerolinecolor\":\"white\",\"gridwidth\":2},\"zaxis\":{\"backgroundcolor\":\"#E5ECF6\",\"gridcolor\":\"white\",\"linecolor\":\"white\",\"showbackground\":true,\"ticks\":\"\",\"zerolinecolor\":\"white\",\"gridwidth\":2}},\"shapedefaults\":{\"line\":{\"color\":\"#2a3f5f\"}},\"annotationdefaults\":{\"arrowcolor\":\"#2a3f5f\",\"arrowhead\":0,\"arrowwidth\":1},\"geo\":{\"bgcolor\":\"white\",\"landcolor\":\"#E5ECF6\",\"subunitcolor\":\"white\",\"showland\":true,\"showlakes\":true,\"lakecolor\":\"white\"},\"title\":{\"x\":0.05},\"mapbox\":{\"style\":\"light\"}}}},                        {\"responsive\": true}                    ).then(function(){\n",
       "                            \n",
       "var gd = document.getElementById('37e0f2d0-f412-4c84-a018-a415f4dff8c9');\n",
       "var x = new MutationObserver(function (mutations, observer) {{\n",
       "        var display = window.getComputedStyle(gd).display;\n",
       "        if (!display || display === 'none') {{\n",
       "            console.log([gd, 'removed!']);\n",
       "            Plotly.purge(gd);\n",
       "            observer.disconnect();\n",
       "        }}\n",
       "}});\n",
       "\n",
       "// Listen for the removal of the full notebook cells\n",
       "var notebookContainer = gd.closest('#notebook-container');\n",
       "if (notebookContainer) {{\n",
       "    x.observe(notebookContainer, {childList: true});\n",
       "}}\n",
       "\n",
       "// Listen for the clearing of the current output cell\n",
       "var outputEl = gd.closest('.output');\n",
       "if (outputEl) {{\n",
       "    x.observe(outputEl, {childList: true});\n",
       "}}\n",
       "\n",
       "                        })                };                });            </script>        </div>"
      ]
     },
     "metadata": {},
     "output_type": "display_data"
    }
   ],
   "source": [
    "from Muon import Muon\n",
    "import plotly.graph_objects as go\n",
    "m = Muon(trk_type, tpc, x1, y1, z1, x2, y2, z2, theta_xz, theta_yz)\n",
    "sc = m.plot_line(0,0)\n",
    "fig = go.Figure(data=sc)\n",
    "fig.show()"
   ]
  },
  {
   "cell_type": "code",
   "execution_count": 41,
   "metadata": {},
   "outputs": [],
   "source": [
    "hit_keys = [key for key in tree.keys() if 'hit' in key]\n",
    "hdr_keys = ['run','subrun','event']\n",
    "hit_df = tree.arrays(hdr_keys+hit_keys,library='pd')[0]"
   ]
  },
  {
   "cell_type": "code",
   "execution_count": 47,
   "metadata": {},
   "outputs": [],
   "source": [
    "hit_evt_tpc0 = hit_df.query('run == 1 and subrun == 0 and event == 1 and hit_tpc == 1')"
   ]
  },
  {
   "cell_type": "code",
   "execution_count": 48,
   "metadata": {},
   "outputs": [
    {
     "data": {
      "text/plain": [
       "<matplotlib.collections.PathCollection at 0x7f0a268ddf10>"
      ]
     },
     "execution_count": 48,
     "metadata": {},
     "output_type": "execute_result"
    },
    {
     "data": {
      "image/png": "[encoded data removed]",
      "text/plain": [
       "<Figure size 432x288 with 1 Axes>"
      ]
     },
     "metadata": {
      "needs_background": "light"
     },
     "output_type": "display_data"
    }
   ],
   "source": [
    "x = hit_evt_tpc0.hit_peakT.values\n",
    "y = hit_evt_tpc0.hit_wire.values\n",
    "plt.scatter(x,y,s=2)"
   ]
  },
  {
   "cell_type": "code",
   "execution_count": 36,
   "metadata": {},
   "outputs": [
    {
     "data": {
      "text/html": [
       "<div>\n",
       "<style scoped>\n",
       "    .dataframe tbody tr th:only-of-type {\n",
       "        vertical-align: middle;\n",
       "    }\n",
       "\n",
       "    .dataframe tbody tr th {\n",
       "        vertical-align: top;\n",
       "    }\n",
       "\n",
       "    .dataframe thead th {\n",
       "        text-align: right;\n",
       "    }\n",
       "</style>\n",
       "<table border=\"1\" class=\"dataframe\">\n",
       "  <thead>\n",
       "    <tr style=\"text-align: right;\">\n",
       "      <th></th>\n",
       "      <th></th>\n",
       "      <th>run</th>\n",
       "      <th>subrun</th>\n",
       "      <th>event</th>\n",
       "      <th>nmuontrks</th>\n",
       "      <th>muontrk_t0</th>\n",
       "      <th>muontrk_x1</th>\n",
       "      <th>muontrk_y1</th>\n",
       "      <th>muontrk_z1</th>\n",
       "      <th>muontrk_x2</th>\n",
       "      <th>muontrk_y2</th>\n",
       "      <th>muontrk_z2</th>\n",
       "      <th>muontrk_theta_xz</th>\n",
       "      <th>muontrk_theta_yz</th>\n",
       "      <th>muontrk_tpc</th>\n",
       "      <th>muontrk_type</th>\n",
       "    </tr>\n",
       "    <tr>\n",
       "      <th>entry</th>\n",
       "      <th>subentry</th>\n",
       "      <th></th>\n",
       "      <th></th>\n",
       "      <th></th>\n",
       "      <th></th>\n",
       "      <th></th>\n",
       "      <th></th>\n",
       "      <th></th>\n",
       "      <th></th>\n",
       "      <th></th>\n",
       "      <th></th>\n",
       "      <th></th>\n",
       "      <th></th>\n",
       "      <th></th>\n",
       "      <th></th>\n",
       "      <th></th>\n",
       "    </tr>\n",
       "  </thead>\n",
       "  <tbody>\n",
       "  </tbody>\n",
       "</table>\n",
       "</div>"
      ],
      "text/plain": [
       "Empty DataFrame\n",
       "Columns: [run, subrun, event, nmuontrks, muontrk_t0, muontrk_x1, muontrk_y1, muontrk_z1, muontrk_x2, muontrk_y2, muontrk_z2, muontrk_theta_xz, muontrk_theta_yz, muontrk_tpc, muontrk_type]\n",
       "Index: []"
      ]
     },
     "execution_count": 36,
     "metadata": {},
     "output_type": "execute_result"
    }
   ],
   "source": [
    "muon_df"
   ]
  },
  {
   "cell_type": "code",
   "execution_count": 51,
   "metadata": {},
   "outputs": [],
   "source": [
    "crt_keys = [key for key in tree.keys() if 'crt' in key]\n",
    "hdr_keys = ['run','subrun','event']\n",
    "crt_df = tree.arrays(hdr_keys+crt_keys,library='pd')"
   ]
  },
  {
   "cell_type": "code",
   "execution_count": 52,
   "metadata": {},
   "outputs": [
    {
     "data": {
      "text/html": [
       "<div>\n",
       "<style scoped>\n",
       "    .dataframe tbody tr th:only-of-type {\n",
       "        vertical-align: middle;\n",
       "    }\n",
       "\n",
       "    .dataframe tbody tr th {\n",
       "        vertical-align: top;\n",
       "    }\n",
       "\n",
       "    .dataframe thead th {\n",
       "        text-align: right;\n",
       "    }\n",
       "</style>\n",
       "<table border=\"1\" class=\"dataframe\">\n",
       "  <thead>\n",
       "    <tr style=\"text-align: right;\">\n",
       "      <th></th>\n",
       "      <th></th>\n",
       "      <th>run</th>\n",
       "      <th>subrun</th>\n",
       "      <th>event</th>\n",
       "      <th>crt_plane</th>\n",
       "      <th>crt_module</th>\n",
       "      <th>crt_strip</th>\n",
       "      <th>crt_orient</th>\n",
       "      <th>crt_time</th>\n",
       "      <th>crt_adc</th>\n",
       "      <th>crt_pos_x</th>\n",
       "      <th>crt_pos_y</th>\n",
       "      <th>crt_pos_z</th>\n",
       "    </tr>\n",
       "    <tr>\n",
       "      <th>entry</th>\n",
       "      <th>subentry</th>\n",
       "      <th></th>\n",
       "      <th></th>\n",
       "      <th></th>\n",
       "      <th></th>\n",
       "      <th></th>\n",
       "      <th></th>\n",
       "      <th></th>\n",
       "      <th></th>\n",
       "      <th></th>\n",
       "      <th></th>\n",
       "      <th></th>\n",
       "      <th></th>\n",
       "    </tr>\n",
       "  </thead>\n",
       "  <tbody>\n",
       "  </tbody>\n",
       "</table>\n",
       "</div>"
      ],
      "text/plain": [
       "Empty DataFrame\n",
       "Columns: [run, subrun, event, crt_plane, crt_module, crt_strip, crt_orient, crt_time, crt_adc, crt_pos_x, crt_pos_y, crt_pos_z]\n",
       "Index: []"
      ]
     },
     "execution_count": 52,
     "metadata": {},
     "output_type": "execute_result"
    }
   ],
   "source": [
    "crt_df"
   ]
  },
  {
   "cell_type": "code",
   "execution_count": 2,
   "metadata": {},
   "outputs": [
    {
     "name": "stdout",
     "output_type": "stream",
     "text": [
      "************************************************************************************************************************\n",
      "Load PMT/XA channel info : 0.01 s\n",
      "Load commissioning tree : 6.34 s\n",
      "Load waveforms : 0.00 s\n",
      "************************************************************************************************************************\n"
     ]
    }
   ],
   "source": [
    "l = Loader(DATA_DIR,PAD_DIR,HDUMP_NAME,WFM_NAME)"
   ]
  },
  {
   "cell_type": "code",
   "execution_count": 19,
   "metadata": {},
   "outputs": [
    {
     "name": "stdout",
     "output_type": "stream",
     "text": [
      "Got run 1 subrun 445 event 9\n"
     ]
    },
    {
     "data": {
      "text/plain": [
       "array([[  1, 445,   9],\n",
       "       [  1, 445,  14],\n",
       "       [  1, 445,  19],\n",
       "       [  1, 445,  20],\n",
       "       [  1, 445,  25],\n",
       "       [  1, 445,  28],\n",
       "       [  1, 445,  31],\n",
       "       [  1, 445,  37],\n",
       "       [  1, 445,  41],\n",
       "       [  1, 445,  43],\n",
       "       [  1, 445,  44],\n",
       "       [  1, 445,  50],\n",
       "       [  1, 445,  52],\n",
       "       [  1, 445,  55],\n",
       "       [  1, 445,  59],\n",
       "       [  1, 445,  62],\n",
       "       [  1, 445,  68],\n",
       "       [  1, 445,  77],\n",
       "       [  1, 445,  78],\n",
       "       [  1, 445,  80],\n",
       "       [  1, 445, 107],\n",
       "       [  1, 445, 113],\n",
       "       [  1, 445, 115],\n",
       "       [  1, 445, 117],\n",
       "       [  1, 445, 118],\n",
       "       [  1, 445, 119],\n",
       "       [  1, 445, 123],\n",
       "       [  1, 445, 127],\n",
       "       [  1, 445, 128],\n",
       "       [  1, 445, 129],\n",
       "       [  1, 445, 131],\n",
       "       [  1, 445, 134],\n",
       "       [  1, 445, 142],\n",
       "       [  1, 445, 143],\n",
       "       [  1, 445, 144],\n",
       "       [  1, 445, 147],\n",
       "       [  1, 445, 148],\n",
       "       [  1, 445, 156],\n",
       "       [  1, 445, 157],\n",
       "       [  1, 445, 158],\n",
       "       [  1, 445, 160],\n",
       "       [  1, 445, 163],\n",
       "       [  1, 445, 166],\n",
       "       [  1, 445, 171],\n",
       "       [  1, 445, 172],\n",
       "       [  1, 445, 176],\n",
       "       [  1, 445, 186],\n",
       "       [  1, 445, 187],\n",
       "       [  1, 445, 195],\n",
       "       [  1, 445, 201],\n",
       "       [  1, 445, 204],\n",
       "       [  1, 445, 207],\n",
       "       [  1, 445, 216],\n",
       "       [  1, 445, 217],\n",
       "       [  1, 445, 220],\n",
       "       [  1, 445, 233],\n",
       "       [  1, 445, 234],\n",
       "       [  1, 445, 241],\n",
       "       [  1, 445, 242],\n",
       "       [  1, 445, 243],\n",
       "       [  1, 445, 244],\n",
       "       [  1, 445, 247],\n",
       "       [  1, 445, 254],\n",
       "       [  1, 445, 258],\n",
       "       [  1, 445, 277],\n",
       "       [  1, 445, 283],\n",
       "       [  1, 445, 284],\n",
       "       [  1, 445, 285],\n",
       "       [  1, 445, 296],\n",
       "       [  1, 445, 300],\n",
       "       [  1, 445, 305],\n",
       "       [  1, 445, 307],\n",
       "       [  1, 445, 308],\n",
       "       [  1, 445, 309],\n",
       "       [  1, 445, 315],\n",
       "       [  1, 445, 317],\n",
       "       [  1, 445, 321],\n",
       "       [  1, 445, 322],\n",
       "       [  1, 445, 324],\n",
       "       [  1, 445, 328],\n",
       "       [  1, 445, 332],\n",
       "       [  1, 445, 336],\n",
       "       [  1, 445, 344],\n",
       "       [  1, 445, 349],\n",
       "       [  1, 445, 356],\n",
       "       [  1, 445, 365],\n",
       "       [  1, 445, 366],\n",
       "       [  1, 445, 372],\n",
       "       [  1, 445, 374],\n",
       "       [  1, 445, 376],\n",
       "       [  1, 445, 377],\n",
       "       [  1, 445, 380],\n",
       "       [  1, 445, 383],\n",
       "       [  1, 445, 384],\n",
       "       [  1, 445, 388],\n",
       "       [  1, 445, 393],\n",
       "       [  1, 445, 407],\n",
       "       [  1, 445, 418],\n",
       "       [  1, 445, 422],\n",
       "       [  1, 445, 423],\n",
       "       [  1, 445, 424],\n",
       "       [  1, 445, 429],\n",
       "       [  1, 445, 430],\n",
       "       [  1, 445, 441],\n",
       "       [  1, 445, 445],\n",
       "       [  1, 445, 453],\n",
       "       [  1, 445, 460],\n",
       "       [  1, 445, 462],\n",
       "       [  1, 445, 464],\n",
       "       [  1, 445, 467],\n",
       "       [  1, 445, 479],\n",
       "       [  1, 445, 481],\n",
       "       [  1, 445, 483],\n",
       "       [  1, 445, 485],\n",
       "       [  1, 445, 486],\n",
       "       [  1, 445, 487],\n",
       "       [  1, 445, 491],\n",
       "       [  1, 445, 495],\n",
       "       [  1, 445, 496],\n",
       "       [  1, 445, 498],\n",
       "       [  1, 445, 499],\n",
       "       [  1, 445, 501],\n",
       "       [  1, 445, 505],\n",
       "       [  1, 445, 514],\n",
       "       [  1, 445, 515],\n",
       "       [  1, 445, 520],\n",
       "       [  1, 445, 531],\n",
       "       [  1, 445, 533],\n",
       "       [  1, 445, 538],\n",
       "       [  1, 445, 543],\n",
       "       [  1, 445, 550],\n",
       "       [  1, 445, 554],\n",
       "       [  1, 445, 562],\n",
       "       [  1, 445, 569],\n",
       "       [  1, 445, 582],\n",
       "       [  1, 445, 585],\n",
       "       [  1, 445, 588],\n",
       "       [  1, 445, 589],\n",
       "       [  1, 445, 592],\n",
       "       [  1, 445, 593],\n",
       "       [  1, 445, 595],\n",
       "       [  1, 445, 599]], dtype=int32)"
      ]
     },
     "execution_count": 19,
     "metadata": {},
     "output_type": "execute_result"
    }
   ],
   "source": [
    "#Select event\n",
    "run,subrun,event = l.run_list[0]\n",
    "l.get_event(run,subrun,event)\n",
    "l.run_list"
   ]
  },
  {
   "cell_type": "code",
   "execution_count": 4,
   "metadata": {},
   "outputs": [
    {
     "name": "stdout",
     "output_type": "stream",
     "text": [
      "Get PDS objs : 5.80 s\n"
     ]
    }
   ],
   "source": [
    "pmts = l.get_pmt_list(tpc=0)"
   ]
  },
  {
   "cell_type": "code",
   "execution_count": 30,
   "metadata": {},
   "outputs": [
    {
     "data": {
      "text/plain": [
       "2072.7120209302498"
      ]
     },
     "execution_count": 30,
     "metadata": {},
     "output_type": "execute_result"
    }
   ],
   "source": [
    "import numpy as np\n",
    "np.max([pmt.op_pe.op_pe.sum() for pmt in pmts])\n",
    "#pmts[-1].id"
   ]
  },
  {
   "cell_type": "code",
   "execution_count": 77,
   "metadata": {},
   "outputs": [
    {
     "name": "stdout",
     "output_type": "stream",
     "text": [
      "Get PDS objs : 2.75 s\n"
     ]
    }
   ],
   "source": [
    "l.get_event(run,subrun,event)\n",
    "l.op_evt\n",
    "pds_objs = l.get_pmt_list(tpc=0)"
   ]
  },
  {
   "cell_type": "code",
   "execution_count": 78,
   "metadata": {},
   "outputs": [
    {
     "name": "stdout",
     "output_type": "stream",
     "text": [
      "60 0 2.0\n",
      "61 2 2.0\n",
      "62 4 2.0\n",
      "63 18 3.0\n",
      "64 20 3.0\n",
      "65 22 3.0\n",
      "66 24 2.0\n",
      "67 26 2.0\n",
      "68 28 2.0\n",
      "69 30 2.0\n",
      "70 32 2.0\n",
      "71 34 2.0\n",
      "72 42 3.0\n",
      "73 44 3.0\n",
      "74 46 3.0\n",
      "75 48 3.0\n",
      "76 50 3.0\n",
      "77 52 3.0\n",
      "78 54 2.0\n",
      "79 58 2.0\n",
      "80 72 3.0\n",
      "81 74 3.0\n",
      "82 76 3.0\n",
      "83 78 2.0\n",
      "84 80 2.0\n",
      "85 96 3.0\n",
      "86 98 3.0\n",
      "87 100 3.0\n",
      "88 102 2.0\n",
      "89 104 2.0\n",
      "90 106 2.0\n",
      "91 108 2.0\n",
      "92 110 2.0\n",
      "93 112 2.0\n",
      "94 120 3.0\n",
      "95 122 3.0\n",
      "96 124 3.0\n",
      "97 126 3.0\n",
      "98 128 3.0\n",
      "99 130 3.0\n",
      "100 132 2.0\n",
      "101 136 2.0\n",
      "102 174 3.0\n",
      "103 178 3.0\n",
      "104 180 2.0\n",
      "105 182 2.0\n",
      "106 184 2.0\n",
      "107 186 2.0\n",
      "108 188 2.0\n",
      "109 190 2.0\n",
      "110 198 3.0\n",
      "111 200 3.0\n",
      "112 202 3.0\n",
      "113 204 3.0\n",
      "114 206 3.0\n",
      "115 208 3.0\n",
      "116 210 2.0\n",
      "117 212 2.0\n",
      "118 214 2.0\n",
      "119 228 3.0\n",
      "120 230 3.0\n",
      "121 232 3.0\n",
      "122 234 2.0\n",
      "123 236 2.0\n",
      "124 238 2.0\n",
      "125 252 3.0\n",
      "126 254 3.0\n",
      "127 256 3.0\n",
      "128 260 2.0\n",
      "129 262 2.0\n",
      "130 264 2.0\n",
      "131 266 2.0\n",
      "132 268 2.0\n",
      "133 276 3.0\n",
      "134 278 3.0\n",
      "135 280 3.0\n",
      "136 282 3.0\n",
      "137 284 3.0\n",
      "138 286 3.0\n",
      "139 288 2.0\n",
      "140 290 2.0\n",
      "141 292 2.0\n",
      "142 306 3.0\n",
      "143 308 3.0\n",
      "144 310 3.0\n",
      "145 56 2.0\n",
      "146 82 2.0\n",
      "147 258 2.0\n"
     ]
    },
    {
     "data": {
      "text/plain": [
       "[None,\n",
       " None,\n",
       " None,\n",
       " None,\n",
       " None,\n",
       " None,\n",
       " None,\n",
       " None,\n",
       " None,\n",
       " None,\n",
       " None,\n",
       " None,\n",
       " None,\n",
       " None,\n",
       " None,\n",
       " None,\n",
       " None,\n",
       " None,\n",
       " None,\n",
       " None,\n",
       " None,\n",
       " None,\n",
       " None,\n",
       " None,\n",
       " None,\n",
       " None,\n",
       " None,\n",
       " None,\n",
       " None,\n",
       " None,\n",
       " None,\n",
       " None,\n",
       " None,\n",
       " None,\n",
       " None,\n",
       " None,\n",
       " None,\n",
       " None,\n",
       " None,\n",
       " None,\n",
       " None,\n",
       " None,\n",
       " None,\n",
       " None,\n",
       " None,\n",
       " None,\n",
       " None,\n",
       " None,\n",
       " None,\n",
       " None,\n",
       " None,\n",
       " None,\n",
       " None,\n",
       " None,\n",
       " None,\n",
       " None,\n",
       " None,\n",
       " None,\n",
       " None,\n",
       " None,\n",
       " None,\n",
       " None,\n",
       " None,\n",
       " None,\n",
       " None,\n",
       " None,\n",
       " None,\n",
       " None,\n",
       " None,\n",
       " None,\n",
       " None,\n",
       " None,\n",
       " None,\n",
       " None,\n",
       " None,\n",
       " None,\n",
       " None,\n",
       " None,\n",
       " None,\n",
       " None,\n",
       " None,\n",
       " None,\n",
       " None,\n",
       " None,\n",
       " None,\n",
       " None,\n",
       " None,\n",
       " None]"
      ]
     },
     "execution_count": 78,
     "metadata": {},
     "output_type": "execute_result"
    }
   ],
   "source": [
    "#[print(i,pds.id) for i,pds in enumerate(pds_objs) if (pds.coating in [0,1] and pds.waveform is None)]\n",
    "[print(i,pds.id,pds.coating) for i,pds in enumerate(pds_objs) if (pds.waveform is None)]"
   ]
  },
  {
   "cell_type": "code",
   "execution_count": 79,
   "metadata": {},
   "outputs": [
    {
     "data": {
      "text/plain": [
       "1"
      ]
     },
     "execution_count": 79,
     "metadata": {},
     "output_type": "execute_result"
    }
   ],
   "source": [
    "l.op_evt.ophit_peakT.max()\n",
    "5%2"
   ]
  },
  {
   "cell_type": "code",
   "execution_count": 85,
   "metadata": {},
   "outputs": [
    {
     "data": {
      "text/plain": [
       "entry  subentry\n",
       "0      0            True\n",
       "       1            True\n",
       "       2            True\n",
       "       3            True\n",
       "       4            True\n",
       "                   ...  \n",
       "       4701        False\n",
       "       4702        False\n",
       "       4703        False\n",
       "       4704        False\n",
       "       4705        False\n",
       "Name: ophit_opch, Length: 4706, dtype: bool"
      ]
     },
     "execution_count": 85,
     "metadata": {},
     "output_type": "execute_result"
    }
   ],
   "source": [
    "l.op_evt.ophit_opch == 6"
   ]
  },
  {
   "cell_type": "code",
   "execution_count": 82,
   "metadata": {},
   "outputs": [
    {
     "data": {
      "text/plain": [
       "(             time_bin         op_pe\n",
       " 0       (-0.001, 2.0]  33903.768607\n",
       " 1          (2.0, 4.0]  12861.137012\n",
       " 2          (4.0, 6.0]   7378.579423\n",
       " 3          (6.0, 8.0]   1722.672139\n",
       " 4         (8.0, 10.0]    324.774833\n",
       " ..                ...           ...\n",
       " 795  (1590.0, 1592.0]      0.000000\n",
       " 796  (1592.0, 1594.0]      0.000000\n",
       " 797  (1594.0, 1596.0]      0.000000\n",
       " 798  (1596.0, 1598.0]      0.000000\n",
       " 799  (1598.0, 1600.0]      0.000000\n",
       " \n",
       " [800 rows x 2 columns],\n",
       "              time_bin         op_pe\n",
       " 0       (-0.001, 2.0]  33903.768607\n",
       " 1          (2.0, 4.0]  12861.137012\n",
       " 2          (4.0, 6.0]   7378.579423\n",
       " 3          (6.0, 8.0]   1722.672139\n",
       " 4         (8.0, 10.0]    324.774833\n",
       " ..                ...           ...\n",
       " 795  (1590.0, 1592.0]      0.000000\n",
       " 796  (1592.0, 1594.0]      0.000000\n",
       " 797  (1594.0, 1596.0]      0.000000\n",
       " 798  (1596.0, 1598.0]      0.000000\n",
       " 799  (1598.0, 1600.0]      0.000000\n",
       " \n",
       " [800 rows x 2 columns])"
      ]
     },
     "execution_count": 82,
     "metadata": {},
     "output_type": "execute_result"
    }
   ],
   "source": [
    "pds_objs[0].op_pe,pds_objs[1].op_pe,"
   ]
  },
  {
   "cell_type": "code",
   "execution_count": 70,
   "metadata": {},
   "outputs": [
    {
     "name": "stdout",
     "output_type": "stream",
     "text": [
      "-- start :  0\n",
      "-- end :  5\n",
      "-- start int :  (-0.001, 2.0]\n",
      "-- end int :  (4, 6]\n"
     ]
    },
    {
     "data": {
      "application/vnd.plotly.v1+json": {
       "config": {
        "plotlyServerURL": "https://plot.ly"
       },
       "data": [
        {
         "customdata": [
          250
         ],
         "hoverinfo": "text+name",
         "marker": {
          "cmax": 100000,
          "cmin": 0,
          "color": "#1f9a8a",
          "colorscale": [
           [
            0,
            "#440154"
           ],
           [
            0.1111111111111111,
            "#482878"
           ],
           [
            0.2222222222222222,
            "#3e4989"
           ],
           [
            0.3333333333333333,
            "#31688e"
           ],
           [
            0.4444444444444444,
            "#26828e"
           ],
           [
            0.5555555555555556,
            "#1f9e89"
           ],
           [
            0.6666666666666666,
            "#35b779"
           ],
           [
            0.7777777777777778,
            "#6ece58"
           ],
           [
            0.8888888888888888,
            "#b5de2b"
           ],
           [
            1,
            "#fde725"
           ]
          ],
          "size": 18
         },
         "mode": "markers",
         "name": "PMT 250",
         "text": "ID : 250<br>Coating : 0.00<br>Cum. PE : 54143.49",
         "type": "scatter",
         "x": [
          421.52577500000007
         ],
         "y": [
          175
         ]
        }
       ],
       "layout": {
        "template": {
         "data": {
          "bar": [
           {
            "error_x": {
             "color": "#2a3f5f"
            },
            "error_y": {
             "color": "#2a3f5f"
            },
            "marker": {
             "line": {
              "color": "#E5ECF6",
              "width": 0.5
             },
             "pattern": {
              "fillmode": "overlay",
              "size": 10,
              "solidity": 0.2
             }
            },
            "type": "bar"
           }
          ],
          "barpolar": [
           {
            "marker": {
             "line": {
              "color": "#E5ECF6",
              "width": 0.5
             },
             "pattern": {
              "fillmode": "overlay",
              "size": 10,
              "solidity": 0.2
             }
            },
            "type": "barpolar"
           }
          ],
          "carpet": [
           {
            "aaxis": {
             "endlinecolor": "#2a3f5f",
             "gridcolor": "white",
             "linecolor": "white",
             "minorgridcolor": "white",
             "startlinecolor": "#2a3f5f"
            },
            "baxis": {
             "endlinecolor": "#2a3f5f",
             "gridcolor": "white",
             "linecolor": "white",
             "minorgridcolor": "white",
             "startlinecolor": "#2a3f5f"
            },
            "type": "carpet"
           }
          ],
          "choropleth": [
           {
            "colorbar": {
             "outlinewidth": 0,
             "ticks": ""
            },
            "type": "choropleth"
           }
          ],
          "contour": [
           {
            "colorbar": {
             "outlinewidth": 0,
             "ticks": ""
            },
            "colorscale": [
             [
              0,
              "#0d0887"
             ],
             [
              0.1111111111111111,
              "#46039f"
             ],
             [
              0.2222222222222222,
              "#7201a8"
             ],
             [
              0.3333333333333333,
              "#9c179e"
             ],
             [
              0.4444444444444444,
              "#bd3786"
             ],
             [
              0.5555555555555556,
              "#d8576b"
             ],
             [
              0.6666666666666666,
              "#ed7953"
             ],
             [
              0.7777777777777778,
              "#fb9f3a"
             ],
             [
              0.8888888888888888,
              "#fdca26"
             ],
             [
              1,
              "#f0f921"
             ]
            ],
            "type": "contour"
           }
          ],
          "contourcarpet": [
           {
            "colorbar": {
             "outlinewidth": 0,
             "ticks": ""
            },
            "type": "contourcarpet"
           }
          ],
          "heatmap": [
           {
            "colorbar": {
             "outlinewidth": 0,
             "ticks": ""
            },
            "colorscale": [
             [
              0,
              "#0d0887"
             ],
             [
              0.1111111111111111,
              "#46039f"
             ],
             [
              0.2222222222222222,
              "#7201a8"
             ],
             [
              0.3333333333333333,
              "#9c179e"
             ],
             [
              0.4444444444444444,
              "#bd3786"
             ],
             [
              0.5555555555555556,
              "#d8576b"
             ],
             [
              0.6666666666666666,
              "#ed7953"
             ],
             [
              0.7777777777777778,
              "#fb9f3a"
             ],
             [
              0.8888888888888888,
              "#fdca26"
             ],
             [
              1,
              "#f0f921"
             ]
            ],
            "type": "heatmap"
           }
          ],
          "heatmapgl": [
           {
            "colorbar": {
             "outlinewidth": 0,
             "ticks": ""
            },
            "colorscale": [
             [
              0,
              "#0d0887"
             ],
             [
              0.1111111111111111,
              "#46039f"
             ],
             [
              0.2222222222222222,
              "#7201a8"
             ],
             [
              0.3333333333333333,
              "#9c179e"
             ],
             [
              0.4444444444444444,
              "#bd3786"
             ],
             [
              0.5555555555555556,
              "#d8576b"
             ],
             [
              0.6666666666666666,
              "#ed7953"
             ],
             [
              0.7777777777777778,
              "#fb9f3a"
             ],
             [
              0.8888888888888888,
              "#fdca26"
             ],
             [
              1,
              "#f0f921"
             ]
            ],
            "type": "heatmapgl"
           }
          ],
          "histogram": [
           {
            "marker": {
             "pattern": {
              "fillmode": "overlay",
              "size": 10,
              "solidity": 0.2
             }
            },
            "type": "histogram"
           }
          ],
          "histogram2d": [
           {
            "colorbar": {
             "outlinewidth": 0,
             "ticks": ""
            },
            "colorscale": [
             [
              0,
              "#0d0887"
             ],
             [
              0.1111111111111111,
              "#46039f"
             ],
             [
              0.2222222222222222,
              "#7201a8"
             ],
             [
              0.3333333333333333,
              "#9c179e"
             ],
             [
              0.4444444444444444,
              "#bd3786"
             ],
             [
              0.5555555555555556,
              "#d8576b"
             ],
             [
              0.6666666666666666,
              "#ed7953"
             ],
             [
              0.7777777777777778,
              "#fb9f3a"
             ],
             [
              0.8888888888888888,
              "#fdca26"
             ],
             [
              1,
              "#f0f921"
             ]
            ],
            "type": "histogram2d"
           }
          ],
          "histogram2dcontour": [
           {
            "colorbar": {
             "outlinewidth": 0,
             "ticks": ""
            },
            "colorscale": [
             [
              0,
              "#0d0887"
             ],
             [
              0.1111111111111111,
              "#46039f"
             ],
             [
              0.2222222222222222,
              "#7201a8"
             ],
             [
              0.3333333333333333,
              "#9c179e"
             ],
             [
              0.4444444444444444,
              "#bd3786"
             ],
             [
              0.5555555555555556,
              "#d8576b"
             ],
             [
              0.6666666666666666,
              "#ed7953"
             ],
             [
              0.7777777777777778,
              "#fb9f3a"
             ],
             [
              0.8888888888888888,
              "#fdca26"
             ],
             [
              1,
              "#f0f921"
             ]
            ],
            "type": "histogram2dcontour"
           }
          ],
          "mesh3d": [
           {
            "colorbar": {
             "outlinewidth": 0,
             "ticks": ""
            },
            "type": "mesh3d"
           }
          ],
          "parcoords": [
           {
            "line": {
             "colorbar": {
              "outlinewidth": 0,
              "ticks": ""
             }
            },
            "type": "parcoords"
           }
          ],
          "pie": [
           {
            "automargin": true,
            "type": "pie"
           }
          ],
          "scatter": [
           {
            "fillpattern": {
             "fillmode": "overlay",
             "size": 10,
             "solidity": 0.2
            },
            "type": "scatter"
           }
          ],
          "scatter3d": [
           {
            "line": {
             "colorbar": {
              "outlinewidth": 0,
              "ticks": ""
             }
            },
            "marker": {
             "colorbar": {
              "outlinewidth": 0,
              "ticks": ""
             }
            },
            "type": "scatter3d"
           }
          ],
          "scattercarpet": [
           {
            "marker": {
             "colorbar": {
              "outlinewidth": 0,
              "ticks": ""
             }
            },
            "type": "scattercarpet"
           }
          ],
          "scattergeo": [
           {
            "marker": {
             "colorbar": {
              "outlinewidth": 0,
              "ticks": ""
             }
            },
            "type": "scattergeo"
           }
          ],
          "scattergl": [
           {
            "marker": {
             "colorbar": {
              "outlinewidth": 0,
              "ticks": ""
             }
            },
            "type": "scattergl"
           }
          ],
          "scattermapbox": [
           {
            "marker": {
             "colorbar": {
              "outlinewidth": 0,
              "ticks": ""
             }
            },
            "type": "scattermapbox"
           }
          ],
          "scatterpolar": [
           {
            "marker": {
             "colorbar": {
              "outlinewidth": 0,
              "ticks": ""
             }
            },
            "type": "scatterpolar"
           }
          ],
          "scatterpolargl": [
           {
            "marker": {
             "colorbar": {
              "outlinewidth": 0,
              "ticks": ""
             }
            },
            "type": "scatterpolargl"
           }
          ],
          "scatterternary": [
           {
            "marker": {
             "colorbar": {
              "outlinewidth": 0,
              "ticks": ""
             }
            },
            "type": "scatterternary"
           }
          ],
          "surface": [
           {
            "colorbar": {
             "outlinewidth": 0,
             "ticks": ""
            },
            "colorscale": [
             [
              0,
              "#0d0887"
             ],
             [
              0.1111111111111111,
              "#46039f"
             ],
             [
              0.2222222222222222,
              "#7201a8"
             ],
             [
              0.3333333333333333,
              "#9c179e"
             ],
             [
              0.4444444444444444,
              "#bd3786"
             ],
             [
              0.5555555555555556,
              "#d8576b"
             ],
             [
              0.6666666666666666,
              "#ed7953"
             ],
             [
              0.7777777777777778,
              "#fb9f3a"
             ],
             [
              0.8888888888888888,
              "#fdca26"
             ],
             [
              1,
              "#f0f921"
             ]
            ],
            "type": "surface"
           }
          ],
          "table": [
           {
            "cells": {
             "fill": {
              "color": "#EBF0F8"
             },
             "line": {
              "color": "white"
             }
            },
            "header": {
             "fill": {
              "color": "#C8D4E3"
             },
             "line": {
              "color": "white"
             }
            },
            "type": "table"
           }
          ]
         },
         "layout": {
          "annotationdefaults": {
           "arrowcolor": "#2a3f5f",
           "arrowhead": 0,
           "arrowwidth": 1
          },
          "autotypenumbers": "strict",
          "coloraxis": {
           "colorbar": {
            "outlinewidth": 0,
            "ticks": ""
           }
          },
          "colorscale": {
           "diverging": [
            [
             0,
             "#8e0152"
            ],
            [
             0.1,
             "#c51b7d"
            ],
            [
             0.2,
             "#de77ae"
            ],
            [
             0.3,
             "#f1b6da"
            ],
            [
             0.4,
             "#fde0ef"
            ],
            [
             0.5,
             "#f7f7f7"
            ],
            [
             0.6,
             "#e6f5d0"
            ],
            [
             0.7,
             "#b8e186"
            ],
            [
             0.8,
             "#7fbc41"
            ],
            [
             0.9,
             "#4d9221"
            ],
            [
             1,
             "#276419"
            ]
           ],
           "sequential": [
            [
             0,
             "#0d0887"
            ],
            [
             0.1111111111111111,
             "#46039f"
            ],
            [
             0.2222222222222222,
             "#7201a8"
            ],
            [
             0.3333333333333333,
             "#9c179e"
            ],
            [
             0.4444444444444444,
             "#bd3786"
            ],
            [
             0.5555555555555556,
             "#d8576b"
            ],
            [
             0.6666666666666666,
             "#ed7953"
            ],
            [
             0.7777777777777778,
             "#fb9f3a"
            ],
            [
             0.8888888888888888,
             "#fdca26"
            ],
            [
             1,
             "#f0f921"
            ]
           ],
           "sequentialminus": [
            [
             0,
             "#0d0887"
            ],
            [
             0.1111111111111111,
             "#46039f"
            ],
            [
             0.2222222222222222,
             "#7201a8"
            ],
            [
             0.3333333333333333,
             "#9c179e"
            ],
            [
             0.4444444444444444,
             "#bd3786"
            ],
            [
             0.5555555555555556,
             "#d8576b"
            ],
            [
             0.6666666666666666,
             "#ed7953"
            ],
            [
             0.7777777777777778,
             "#fb9f3a"
            ],
            [
             0.8888888888888888,
             "#fdca26"
            ],
            [
             1,
             "#f0f921"
            ]
           ]
          },
          "colorway": [
           "#636efa",
           "#EF553B",
           "#00cc96",
           "#ab63fa",
           "#FFA15A",
           "#19d3f3",
           "#FF6692",
           "#B6E880",
           "#FF97FF",
           "#FECB52"
          ],
          "font": {
           "color": "#2a3f5f"
          },
          "geo": {
           "bgcolor": "white",
           "lakecolor": "white",
           "landcolor": "#E5ECF6",
           "showlakes": true,
           "showland": true,
           "subunitcolor": "white"
          },
          "hoverlabel": {
           "align": "left"
          },
          "hovermode": "closest",
          "mapbox": {
           "style": "light"
          },
          "paper_bgcolor": "white",
          "plot_bgcolor": "#E5ECF6",
          "polar": {
           "angularaxis": {
            "gridcolor": "white",
            "linecolor": "white",
            "ticks": ""
           },
           "bgcolor": "#E5ECF6",
           "radialaxis": {
            "gridcolor": "white",
            "linecolor": "white",
            "ticks": ""
           }
          },
          "scene": {
           "xaxis": {
            "backgroundcolor": "#E5ECF6",
            "gridcolor": "white",
            "gridwidth": 2,
            "linecolor": "white",
            "showbackground": true,
            "ticks": "",
            "zerolinecolor": "white"
           },
           "yaxis": {
            "backgroundcolor": "#E5ECF6",
            "gridcolor": "white",
            "gridwidth": 2,
            "linecolor": "white",
            "showbackground": true,
            "ticks": "",
            "zerolinecolor": "white"
           },
           "zaxis": {
            "backgroundcolor": "#E5ECF6",
            "gridcolor": "white",
            "gridwidth": 2,
            "linecolor": "white",
            "showbackground": true,
            "ticks": "",
            "zerolinecolor": "white"
           }
          },
          "shapedefaults": {
           "line": {
            "color": "#2a3f5f"
           }
          },
          "ternary": {
           "aaxis": {
            "gridcolor": "white",
            "linecolor": "white",
            "ticks": ""
           },
           "baxis": {
            "gridcolor": "white",
            "linecolor": "white",
            "ticks": ""
           },
           "bgcolor": "#E5ECF6",
           "caxis": {
            "gridcolor": "white",
            "linecolor": "white",
            "ticks": ""
           }
          },
          "title": {
           "x": 0.05
          },
          "xaxis": {
           "automargin": true,
           "gridcolor": "white",
           "linecolor": "white",
           "ticks": "",
           "title": {
            "standoff": 15
           },
           "zerolinecolor": "white",
           "zerolinewidth": 2
          },
          "yaxis": {
           "automargin": true,
           "gridcolor": "white",
           "linecolor": "white",
           "ticks": "",
           "title": {
            "standoff": 15
           },
           "zerolinecolor": "white",
           "zerolinewidth": 2
          }
         }
        }
       }
      },
      "text/html": [
       "<div>                            <div id=\"cb49a828-2eaa-494e-a9be-21512fbf8657\" class=\"plotly-graph-div\" style=\"height:525px; width:100%;\"></div>            <script type=\"text/javascript\">                require([\"plotly\"], function(Plotly) {                    window.PLOTLYENV=window.PLOTLYENV || {};                                    if (document.getElementById(\"cb49a828-2eaa-494e-a9be-21512fbf8657\")) {                    Plotly.newPlot(                        \"cb49a828-2eaa-494e-a9be-21512fbf8657\",                        [{\"customdata\":[250],\"hoverinfo\":\"text+name\",\"marker\":{\"cmax\":100000,\"cmin\":0,\"color\":\"#1f9a8a\",\"colorscale\":[[0.0,\"#440154\"],[0.1111111111111111,\"#482878\"],[0.2222222222222222,\"#3e4989\"],[0.3333333333333333,\"#31688e\"],[0.4444444444444444,\"#26828e\"],[0.5555555555555556,\"#1f9e89\"],[0.6666666666666666,\"#35b779\"],[0.7777777777777778,\"#6ece58\"],[0.8888888888888888,\"#b5de2b\"],[1.0,\"#fde725\"]],\"size\":18},\"mode\":\"markers\",\"name\":\"PMT 250\",\"text\":\"ID : 250<br>Coating : 0.00<br>Cum. PE : 54143.49\",\"x\":[421.52577500000007],\"y\":[175.0],\"type\":\"scatter\"}],                        {\"template\":{\"data\":{\"histogram2dcontour\":[{\"type\":\"histogram2dcontour\",\"colorbar\":{\"outlinewidth\":0,\"ticks\":\"\"},\"colorscale\":[[0.0,\"#0d0887\"],[0.1111111111111111,\"#46039f\"],[0.2222222222222222,\"#7201a8\"],[0.3333333333333333,\"#9c179e\"],[0.4444444444444444,\"#bd3786\"],[0.5555555555555556,\"#d8576b\"],[0.6666666666666666,\"#ed7953\"],[0.7777777777777778,\"#fb9f3a\"],[0.8888888888888888,\"#fdca26\"],[1.0,\"#f0f921\"]]}],\"choropleth\":[{\"type\":\"choropleth\",\"colorbar\":{\"outlinewidth\":0,\"ticks\":\"\"}}],\"histogram2d\":[{\"type\":\"histogram2d\",\"colorbar\":{\"outlinewidth\":0,\"ticks\":\"\"},\"colorscale\":[[0.0,\"#0d0887\"],[0.1111111111111111,\"#46039f\"],[0.2222222222222222,\"#7201a8\"],[0.3333333333333333,\"#9c179e\"],[0.4444444444444444,\"#bd3786\"],[0.5555555555555556,\"#d8576b\"],[0.6666666666666666,\"#ed7953\"],[0.7777777777777778,\"#fb9f3a\"],[0.8888888888888888,\"#fdca26\"],[1.0,\"#f0f921\"]]}],\"heatmap\":[{\"type\":\"heatmap\",\"colorbar\":{\"outlinewidth\":0,\"ticks\":\"\"},\"colorscale\":[[0.0,\"#0d0887\"],[0.1111111111111111,\"#46039f\"],[0.2222222222222222,\"#7201a8\"],[0.3333333333333333,\"#9c179e\"],[0.4444444444444444,\"#bd3786\"],[0.5555555555555556,\"#d8576b\"],[0.6666666666666666,\"#ed7953\"],[0.7777777777777778,\"#fb9f3a\"],[0.8888888888888888,\"#fdca26\"],[1.0,\"#f0f921\"]]}],\"heatmapgl\":[{\"type\":\"heatmapgl\",\"colorbar\":{\"outlinewidth\":0,\"ticks\":\"\"},\"colorscale\":[[0.0,\"#0d0887\"],[0.1111111111111111,\"#46039f\"],[0.2222222222222222,\"#7201a8\"],[0.3333333333333333,\"#9c179e\"],[0.4444444444444444,\"#bd3786\"],[0.5555555555555556,\"#d8576b\"],[0.6666666666666666,\"#ed7953\"],[0.7777777777777778,\"#fb9f3a\"],[0.8888888888888888,\"#fdca26\"],[1.0,\"#f0f921\"]]}],\"contourcarpet\":[{\"type\":\"contourcarpet\",\"colorbar\":{\"outlinewidth\":0,\"ticks\":\"\"}}],\"contour\":[{\"type\":\"contour\",\"colorbar\":{\"outlinewidth\":0,\"ticks\":\"\"},\"colorscale\":[[0.0,\"#0d0887\"],[0.1111111111111111,\"#46039f\"],[0.2222222222222222,\"#7201a8\"],[0.3333333333333333,\"#9c179e\"],[0.4444444444444444,\"#bd3786\"],[0.5555555555555556,\"#d8576b\"],[0.6666666666666666,\"#ed7953\"],[0.7777777777777778,\"#fb9f3a\"],[0.8888888888888888,\"#fdca26\"],[1.0,\"#f0f921\"]]}],\"surface\":[{\"type\":\"surface\",\"colorbar\":{\"outlinewidth\":0,\"ticks\":\"\"},\"colorscale\":[[0.0,\"#0d0887\"],[0.1111111111111111,\"#46039f\"],[0.2222222222222222,\"#7201a8\"],[0.3333333333333333,\"#9c179e\"],[0.4444444444444444,\"#bd3786\"],[0.5555555555555556,\"#d8576b\"],[0.6666666666666666,\"#ed7953\"],[0.7777777777777778,\"#fb9f3a\"],[0.8888888888888888,\"#fdca26\"],[1.0,\"#f0f921\"]]}],\"mesh3d\":[{\"type\":\"mesh3d\",\"colorbar\":{\"outlinewidth\":0,\"ticks\":\"\"}}],\"scatter\":[{\"fillpattern\":{\"fillmode\":\"overlay\",\"size\":10,\"solidity\":0.2},\"type\":\"scatter\"}],\"parcoords\":[{\"type\":\"parcoords\",\"line\":{\"colorbar\":{\"outlinewidth\":0,\"ticks\":\"\"}}}],\"scatterpolargl\":[{\"type\":\"scatterpolargl\",\"marker\":{\"colorbar\":{\"outlinewidth\":0,\"ticks\":\"\"}}}],\"bar\":[{\"error_x\":{\"color\":\"#2a3f5f\"},\"error_y\":{\"color\":\"#2a3f5f\"},\"marker\":{\"line\":{\"color\":\"#E5ECF6\",\"width\":0.5},\"pattern\":{\"fillmode\":\"overlay\",\"size\":10,\"solidity\":0.2}},\"type\":\"bar\"}],\"scattergeo\":[{\"type\":\"scattergeo\",\"marker\":{\"colorbar\":{\"outlinewidth\":0,\"ticks\":\"\"}}}],\"scatterpolar\":[{\"type\":\"scatterpolar\",\"marker\":{\"colorbar\":{\"outlinewidth\":0,\"ticks\":\"\"}}}],\"histogram\":[{\"marker\":{\"pattern\":{\"fillmode\":\"overlay\",\"size\":10,\"solidity\":0.2}},\"type\":\"histogram\"}],\"scattergl\":[{\"type\":\"scattergl\",\"marker\":{\"colorbar\":{\"outlinewidth\":0,\"ticks\":\"\"}}}],\"scatter3d\":[{\"type\":\"scatter3d\",\"line\":{\"colorbar\":{\"outlinewidth\":0,\"ticks\":\"\"}},\"marker\":{\"colorbar\":{\"outlinewidth\":0,\"ticks\":\"\"}}}],\"scattermapbox\":[{\"type\":\"scattermapbox\",\"marker\":{\"colorbar\":{\"outlinewidth\":0,\"ticks\":\"\"}}}],\"scatterternary\":[{\"type\":\"scatterternary\",\"marker\":{\"colorbar\":{\"outlinewidth\":0,\"ticks\":\"\"}}}],\"scattercarpet\":[{\"type\":\"scattercarpet\",\"marker\":{\"colorbar\":{\"outlinewidth\":0,\"ticks\":\"\"}}}],\"carpet\":[{\"aaxis\":{\"endlinecolor\":\"#2a3f5f\",\"gridcolor\":\"white\",\"linecolor\":\"white\",\"minorgridcolor\":\"white\",\"startlinecolor\":\"#2a3f5f\"},\"baxis\":{\"endlinecolor\":\"#2a3f5f\",\"gridcolor\":\"white\",\"linecolor\":\"white\",\"minorgridcolor\":\"white\",\"startlinecolor\":\"#2a3f5f\"},\"type\":\"carpet\"}],\"table\":[{\"cells\":{\"fill\":{\"color\":\"#EBF0F8\"},\"line\":{\"color\":\"white\"}},\"header\":{\"fill\":{\"color\":\"#C8D4E3\"},\"line\":{\"color\":\"white\"}},\"type\":\"table\"}],\"barpolar\":[{\"marker\":{\"line\":{\"color\":\"#E5ECF6\",\"width\":0.5},\"pattern\":{\"fillmode\":\"overlay\",\"size\":10,\"solidity\":0.2}},\"type\":\"barpolar\"}],\"pie\":[{\"automargin\":true,\"type\":\"pie\"}]},\"layout\":{\"autotypenumbers\":\"strict\",\"colorway\":[\"#636efa\",\"#EF553B\",\"#00cc96\",\"#ab63fa\",\"#FFA15A\",\"#19d3f3\",\"#FF6692\",\"#B6E880\",\"#FF97FF\",\"#FECB52\"],\"font\":{\"color\":\"#2a3f5f\"},\"hovermode\":\"closest\",\"hoverlabel\":{\"align\":\"left\"},\"paper_bgcolor\":\"white\",\"plot_bgcolor\":\"#E5ECF6\",\"polar\":{\"bgcolor\":\"#E5ECF6\",\"angularaxis\":{\"gridcolor\":\"white\",\"linecolor\":\"white\",\"ticks\":\"\"},\"radialaxis\":{\"gridcolor\":\"white\",\"linecolor\":\"white\",\"ticks\":\"\"}},\"ternary\":{\"bgcolor\":\"#E5ECF6\",\"aaxis\":{\"gridcolor\":\"white\",\"linecolor\":\"white\",\"ticks\":\"\"},\"baxis\":{\"gridcolor\":\"white\",\"linecolor\":\"white\",\"ticks\":\"\"},\"caxis\":{\"gridcolor\":\"white\",\"linecolor\":\"white\",\"ticks\":\"\"}},\"coloraxis\":{\"colorbar\":{\"outlinewidth\":0,\"ticks\":\"\"}},\"colorscale\":{\"sequential\":[[0.0,\"#0d0887\"],[0.1111111111111111,\"#46039f\"],[0.2222222222222222,\"#7201a8\"],[0.3333333333333333,\"#9c179e\"],[0.4444444444444444,\"#bd3786\"],[0.5555555555555556,\"#d8576b\"],[0.6666666666666666,\"#ed7953\"],[0.7777777777777778,\"#fb9f3a\"],[0.8888888888888888,\"#fdca26\"],[1.0,\"#f0f921\"]],\"sequentialminus\":[[0.0,\"#0d0887\"],[0.1111111111111111,\"#46039f\"],[0.2222222222222222,\"#7201a8\"],[0.3333333333333333,\"#9c179e\"],[0.4444444444444444,\"#bd3786\"],[0.5555555555555556,\"#d8576b\"],[0.6666666666666666,\"#ed7953\"],[0.7777777777777778,\"#fb9f3a\"],[0.8888888888888888,\"#fdca26\"],[1.0,\"#f0f921\"]],\"diverging\":[[0,\"#8e0152\"],[0.1,\"#c51b7d\"],[0.2,\"#de77ae\"],[0.3,\"#f1b6da\"],[0.4,\"#fde0ef\"],[0.5,\"#f7f7f7\"],[0.6,\"#e6f5d0\"],[0.7,\"#b8e186\"],[0.8,\"#7fbc41\"],[0.9,\"#4d9221\"],[1,\"#276419\"]]},\"xaxis\":{\"gridcolor\":\"white\",\"linecolor\":\"white\",\"ticks\":\"\",\"title\":{\"standoff\":15},\"zerolinecolor\":\"white\",\"automargin\":true,\"zerolinewidth\":2},\"yaxis\":{\"gridcolor\":\"white\",\"linecolor\":\"white\",\"ticks\":\"\",\"title\":{\"standoff\":15},\"zerolinecolor\":\"white\",\"automargin\":true,\"zerolinewidth\":2},\"scene\":{\"xaxis\":{\"backgroundcolor\":\"#E5ECF6\",\"gridcolor\":\"white\",\"linecolor\":\"white\",\"showbackground\":true,\"ticks\":\"\",\"zerolinecolor\":\"white\",\"gridwidth\":2},\"yaxis\":{\"backgroundcolor\":\"#E5ECF6\",\"gridcolor\":\"white\",\"linecolor\":\"white\",\"showbackground\":true,\"ticks\":\"\",\"zerolinecolor\":\"white\",\"gridwidth\":2},\"zaxis\":{\"backgroundcolor\":\"#E5ECF6\",\"gridcolor\":\"white\",\"linecolor\":\"white\",\"showbackground\":true,\"ticks\":\"\",\"zerolinecolor\":\"white\",\"gridwidth\":2}},\"shapedefaults\":{\"line\":{\"color\":\"#2a3f5f\"}},\"annotationdefaults\":{\"arrowcolor\":\"#2a3f5f\",\"arrowhead\":0,\"arrowwidth\":1},\"geo\":{\"bgcolor\":\"white\",\"landcolor\":\"#E5ECF6\",\"subunitcolor\":\"white\",\"showland\":true,\"showlakes\":true,\"lakecolor\":\"white\"},\"title\":{\"x\":0.05},\"mapbox\":{\"style\":\"light\"}}}},                        {\"responsive\": true}                    ).then(function(){\n",
       "                            \n",
       "var gd = document.getElementById('cb49a828-2eaa-494e-a9be-21512fbf8657');\n",
       "var x = new MutationObserver(function (mutations, observer) {{\n",
       "        var display = window.getComputedStyle(gd).display;\n",
       "        if (!display || display === 'none') {{\n",
       "            console.log([gd, 'removed!']);\n",
       "            Plotly.purge(gd);\n",
       "            observer.disconnect();\n",
       "        }}\n",
       "}});\n",
       "\n",
       "// Listen for the removal of the full notebook cells\n",
       "var notebookContainer = gd.closest('#notebook-container');\n",
       "if (notebookContainer) {{\n",
       "    x.observe(notebookContainer, {childList: true});\n",
       "}}\n",
       "\n",
       "// Listen for the clearing of the current output cell\n",
       "var outputEl = gd.closest('.output');\n",
       "if (outputEl) {{\n",
       "    x.observe(outputEl, {childList: true});\n",
       "}}\n",
       "\n",
       "                        })                };                });            </script>        </div>"
      ]
     },
     "metadata": {},
     "output_type": "display_data"
    },
    {
     "name": "stdout",
     "output_type": "stream",
     "text": [
      "250\n"
     ]
    }
   ],
   "source": [
    "import plotly.graph_objects as go\n",
    "idx=50\n",
    "sc = pds_objs[idx].plot_coordinates(0,5)\n",
    "fig = go.Figure(data=sc)\n",
    "fig.show()\n",
    "print(pds_objs[idx].id)"
   ]
  },
  {
   "cell_type": "code",
   "execution_count": 2,
   "metadata": {},
   "outputs": [],
   "source": [
    "tree = uproot.open(f'{DATA_DIR}/hitdumper_waveforms.root:hitdumper;1/hitdumpertree;1')"
   ]
  },
  {
   "cell_type": "code",
   "execution_count": 4,
   "metadata": {},
   "outputs": [
    {
     "data": {
      "text/plain": [
       "array([[  1, 445,   9],\n",
       "       [  1, 445,  14],\n",
       "       [  1, 445,  19],\n",
       "       [  1, 445,  20],\n",
       "       [  1, 445,  25],\n",
       "       [  1, 445,  28],\n",
       "       [  1, 445,  31],\n",
       "       [  1, 445,  37],\n",
       "       [  1, 445,  41],\n",
       "       [  1, 445,  43],\n",
       "       [  1, 445,  44],\n",
       "       [  1, 445,  50],\n",
       "       [  1, 445,  52],\n",
       "       [  1, 445,  55],\n",
       "       [  1, 445,  59],\n",
       "       [  1, 445,  62],\n",
       "       [  1, 445,  68],\n",
       "       [  1, 445,  77],\n",
       "       [  1, 445,  78],\n",
       "       [  1, 445,  80],\n",
       "       [  1, 445, 107],\n",
       "       [  1, 445, 113],\n",
       "       [  1, 445, 115],\n",
       "       [  1, 445, 117],\n",
       "       [  1, 445, 118],\n",
       "       [  1, 445, 119],\n",
       "       [  1, 445, 123],\n",
       "       [  1, 445, 127],\n",
       "       [  1, 445, 128],\n",
       "       [  1, 445, 129],\n",
       "       [  1, 445, 131],\n",
       "       [  1, 445, 134],\n",
       "       [  1, 445, 142],\n",
       "       [  1, 445, 143],\n",
       "       [  1, 445, 144],\n",
       "       [  1, 445, 147],\n",
       "       [  1, 445, 148],\n",
       "       [  1, 445, 156],\n",
       "       [  1, 445, 157],\n",
       "       [  1, 445, 158],\n",
       "       [  1, 445, 160],\n",
       "       [  1, 445, 163],\n",
       "       [  1, 445, 166],\n",
       "       [  1, 445, 171],\n",
       "       [  1, 445, 172],\n",
       "       [  1, 445, 176],\n",
       "       [  1, 445, 186],\n",
       "       [  1, 445, 187],\n",
       "       [  1, 445, 195],\n",
       "       [  1, 445, 201],\n",
       "       [  1, 445, 204],\n",
       "       [  1, 445, 207],\n",
       "       [  1, 445, 216],\n",
       "       [  1, 445, 217],\n",
       "       [  1, 445, 220],\n",
       "       [  1, 445, 233],\n",
       "       [  1, 445, 234],\n",
       "       [  1, 445, 241],\n",
       "       [  1, 445, 242],\n",
       "       [  1, 445, 243],\n",
       "       [  1, 445, 244],\n",
       "       [  1, 445, 247],\n",
       "       [  1, 445, 254],\n",
       "       [  1, 445, 258],\n",
       "       [  1, 445, 277],\n",
       "       [  1, 445, 283],\n",
       "       [  1, 445, 284],\n",
       "       [  1, 445, 285],\n",
       "       [  1, 445, 296],\n",
       "       [  1, 445, 300],\n",
       "       [  1, 445, 305],\n",
       "       [  1, 445, 307],\n",
       "       [  1, 445, 308],\n",
       "       [  1, 445, 309],\n",
       "       [  1, 445, 315],\n",
       "       [  1, 445, 317],\n",
       "       [  1, 445, 321],\n",
       "       [  1, 445, 322],\n",
       "       [  1, 445, 324],\n",
       "       [  1, 445, 328],\n",
       "       [  1, 445, 332],\n",
       "       [  1, 445, 336],\n",
       "       [  1, 445, 344],\n",
       "       [  1, 445, 349],\n",
       "       [  1, 445, 356],\n",
       "       [  1, 445, 365],\n",
       "       [  1, 445, 366],\n",
       "       [  1, 445, 372],\n",
       "       [  1, 445, 374],\n",
       "       [  1, 445, 376],\n",
       "       [  1, 445, 377],\n",
       "       [  1, 445, 380],\n",
       "       [  1, 445, 383],\n",
       "       [  1, 445, 384],\n",
       "       [  1, 445, 388],\n",
       "       [  1, 445, 393],\n",
       "       [  1, 445, 407],\n",
       "       [  1, 445, 418],\n",
       "       [  1, 445, 422],\n",
       "       [  1, 445, 423],\n",
       "       [  1, 445, 424],\n",
       "       [  1, 445, 429],\n",
       "       [  1, 445, 430],\n",
       "       [  1, 445, 441],\n",
       "       [  1, 445, 445],\n",
       "       [  1, 445, 453],\n",
       "       [  1, 445, 460],\n",
       "       [  1, 445, 462],\n",
       "       [  1, 445, 464],\n",
       "       [  1, 445, 467],\n",
       "       [  1, 445, 479],\n",
       "       [  1, 445, 481],\n",
       "       [  1, 445, 483],\n",
       "       [  1, 445, 485],\n",
       "       [  1, 445, 486],\n",
       "       [  1, 445, 487],\n",
       "       [  1, 445, 491],\n",
       "       [  1, 445, 495],\n",
       "       [  1, 445, 496],\n",
       "       [  1, 445, 498],\n",
       "       [  1, 445, 499],\n",
       "       [  1, 445, 501],\n",
       "       [  1, 445, 505],\n",
       "       [  1, 445, 514],\n",
       "       [  1, 445, 515],\n",
       "       [  1, 445, 520],\n",
       "       [  1, 445, 531],\n",
       "       [  1, 445, 533],\n",
       "       [  1, 445, 538],\n",
       "       [  1, 445, 543],\n",
       "       [  1, 445, 550],\n",
       "       [  1, 445, 554],\n",
       "       [  1, 445, 562],\n",
       "       [  1, 445, 569],\n",
       "       [  1, 445, 582],\n",
       "       [  1, 445, 585],\n",
       "       [  1, 445, 588],\n",
       "       [  1, 445, 589],\n",
       "       [  1, 445, 592],\n",
       "       [  1, 445, 593],\n",
       "       [  1, 445, 595],\n",
       "       [  1, 445, 599]], dtype=int32)"
      ]
     },
     "execution_count": 4,
     "metadata": {},
     "output_type": "execute_result"
    }
   ],
   "source": [
    "runs = tree.arrays(['run','subrun','event'],library='pd')\n",
    "runs.values"
   ]
  },
  {
   "cell_type": "code",
   "execution_count": 5,
   "metadata": {},
   "outputs": [
    {
     "ename": "ValueError",
     "evalue": "The truth value of a DataFrame is ambiguous. Use a.empty, a.bool(), a.item(), a.any() or a.all().",
     "output_type": "error",
     "traceback": [
      "\u001b[0;31m---------------------------------------------------------------------------\u001b[0m",
      "\u001b[0;31mValueError\u001b[0m                                Traceback (most recent call last)",
      "\u001b[1;32m/sbnd/app/users/brindenc/PAD/testing.ipynb Cell 4\u001b[0m in \u001b[0;36m<cell line: 1>\u001b[0;34m()\u001b[0m\n\u001b[0;32m----> <a href='vscode-notebook-cell://ssh-remote%2Bsbnd_gpvm_3/sbnd/app/users/brindenc/PAD/testing.ipynb#X16sdnNjb2RlLXJlbW90ZQ%3D%3D?line=0'>1</a>\u001b[0m \u001b[39mif\u001b[39;00m runs:\n\u001b[1;32m      <a href='vscode-notebook-cell://ssh-remote%2Bsbnd_gpvm_3/sbnd/app/users/brindenc/PAD/testing.ipynb#X16sdnNjb2RlLXJlbW90ZQ%3D%3D?line=1'>2</a>\u001b[0m   \u001b[39mprint\u001b[39m(\u001b[39m'\u001b[39m\u001b[39mq\u001b[39m\u001b[39m'\u001b[39m)\n",
      "File \u001b[0;32m/sbnd/data/users/brindenc/.local/lib/python3.9/site-packages/pandas/core/generic.py:1537\u001b[0m, in \u001b[0;36mNDFrame.__nonzero__\u001b[0;34m(self)\u001b[0m\n\u001b[1;32m   1535\u001b[0m \u001b[39m@final\u001b[39m\n\u001b[1;32m   1536\u001b[0m \u001b[39mdef\u001b[39;00m \u001b[39m__nonzero__\u001b[39m(\u001b[39mself\u001b[39m):\n\u001b[0;32m-> 1537\u001b[0m     \u001b[39mraise\u001b[39;00m \u001b[39mValueError\u001b[39;00m(\n\u001b[1;32m   1538\u001b[0m         \u001b[39mf\u001b[39m\u001b[39m\"\u001b[39m\u001b[39mThe truth value of a \u001b[39m\u001b[39m{\u001b[39;00m\u001b[39mtype\u001b[39m(\u001b[39mself\u001b[39m)\u001b[39m.\u001b[39m\u001b[39m__name__\u001b[39m\u001b[39m}\u001b[39;00m\u001b[39m is ambiguous. \u001b[39m\u001b[39m\"\u001b[39m\n\u001b[1;32m   1539\u001b[0m         \u001b[39m\"\u001b[39m\u001b[39mUse a.empty, a.bool(), a.item(), a.any() or a.all().\u001b[39m\u001b[39m\"\u001b[39m\n\u001b[1;32m   1540\u001b[0m     )\n",
      "\u001b[0;31mValueError\u001b[0m: The truth value of a DataFrame is ambiguous. Use a.empty, a.bool(), a.item(), a.any() or a.all()."
     ]
    }
   ],
   "source": [
    "if runs:\n",
    "  print('q')"
   ]
  },
  {
   "cell_type": "code",
   "execution_count": 12,
   "metadata": {},
   "outputs": [
    {
     "data": {
      "text/html": [
       "<div>\n",
       "<style scoped>\n",
       "    .dataframe tbody tr th:only-of-type {\n",
       "        vertical-align: middle;\n",
       "    }\n",
       "\n",
       "    .dataframe tbody tr th {\n",
       "        vertical-align: top;\n",
       "    }\n",
       "\n",
       "    .dataframe thead th {\n",
       "        text-align: right;\n",
       "    }\n",
       "</style>\n",
       "<table border=\"1\" class=\"dataframe\">\n",
       "  <thead>\n",
       "    <tr style=\"text-align: right;\">\n",
       "      <th></th>\n",
       "      <th>ophit_opdet_x</th>\n",
       "      <th>ophit_opdet_y</th>\n",
       "      <th>ophit_opdet_z</th>\n",
       "      <th>ophit_opdet_type</th>\n",
       "      <th>opdet_tpc</th>\n",
       "      <th>ophit_opdet</th>\n",
       "    </tr>\n",
       "    <tr>\n",
       "      <th>ophit_opch</th>\n",
       "      <th></th>\n",
       "      <th></th>\n",
       "      <th></th>\n",
       "      <th></th>\n",
       "      <th></th>\n",
       "      <th></th>\n",
       "    </tr>\n",
       "  </thead>\n",
       "  <tbody>\n",
       "    <tr>\n",
       "      <th>6</th>\n",
       "      <td>-213.40</td>\n",
       "      <td>-175.0</td>\n",
       "      <td>27.874225</td>\n",
       "      <td>0</td>\n",
       "      <td>0</td>\n",
       "      <td>6</td>\n",
       "    </tr>\n",
       "    <tr>\n",
       "      <th>7</th>\n",
       "      <td>213.40</td>\n",
       "      <td>-175.0</td>\n",
       "      <td>27.874225</td>\n",
       "      <td>0</td>\n",
       "      <td>1</td>\n",
       "      <td>7</td>\n",
       "    </tr>\n",
       "    <tr>\n",
       "      <th>8</th>\n",
       "      <td>-213.40</td>\n",
       "      <td>-95.0</td>\n",
       "      <td>27.874225</td>\n",
       "      <td>0</td>\n",
       "      <td>0</td>\n",
       "      <td>8</td>\n",
       "    </tr>\n",
       "    <tr>\n",
       "      <th>9</th>\n",
       "      <td>213.40</td>\n",
       "      <td>-95.0</td>\n",
       "      <td>27.874225</td>\n",
       "      <td>0</td>\n",
       "      <td>1</td>\n",
       "      <td>9</td>\n",
       "    </tr>\n",
       "    <tr>\n",
       "      <th>10</th>\n",
       "      <td>-213.40</td>\n",
       "      <td>-40.0</td>\n",
       "      <td>27.874225</td>\n",
       "      <td>0</td>\n",
       "      <td>0</td>\n",
       "      <td>10</td>\n",
       "    </tr>\n",
       "    <tr>\n",
       "      <th>...</th>\n",
       "      <td>...</td>\n",
       "      <td>...</td>\n",
       "      <td>...</td>\n",
       "      <td>...</td>\n",
       "      <td>...</td>\n",
       "      <td>...</td>\n",
       "    </tr>\n",
       "    <tr>\n",
       "      <th>310</th>\n",
       "      <td>-213.75</td>\n",
       "      <td>135.0</td>\n",
       "      <td>489.145775</td>\n",
       "      <td>3</td>\n",
       "      <td>0</td>\n",
       "      <td>310</td>\n",
       "    </tr>\n",
       "    <tr>\n",
       "      <th>311</th>\n",
       "      <td>213.75</td>\n",
       "      <td>135.0</td>\n",
       "      <td>489.145775</td>\n",
       "      <td>3</td>\n",
       "      <td>1</td>\n",
       "      <td>311</td>\n",
       "    </tr>\n",
       "    <tr>\n",
       "      <th>56</th>\n",
       "      <td>-213.75</td>\n",
       "      <td>0.0</td>\n",
       "      <td>80.254225</td>\n",
       "      <td>2</td>\n",
       "      <td>0</td>\n",
       "      <td>56</td>\n",
       "    </tr>\n",
       "    <tr>\n",
       "      <th>82</th>\n",
       "      <td>-213.75</td>\n",
       "      <td>135.0</td>\n",
       "      <td>153.538075</td>\n",
       "      <td>2</td>\n",
       "      <td>0</td>\n",
       "      <td>82</td>\n",
       "    </tr>\n",
       "    <tr>\n",
       "      <th>258</th>\n",
       "      <td>-213.75</td>\n",
       "      <td>-175.0</td>\n",
       "      <td>443.905775</td>\n",
       "      <td>2</td>\n",
       "      <td>0</td>\n",
       "      <td>258</td>\n",
       "    </tr>\n",
       "  </tbody>\n",
       "</table>\n",
       "<p>296 rows × 6 columns</p>\n",
       "</div>"
      ],
      "text/plain": [
       "            ophit_opdet_x  ophit_opdet_y  ophit_opdet_z  ophit_opdet_type  \\\n",
       "ophit_opch                                                                  \n",
       "6                 -213.40         -175.0      27.874225                 0   \n",
       "7                  213.40         -175.0      27.874225                 0   \n",
       "8                 -213.40          -95.0      27.874225                 0   \n",
       "9                  213.40          -95.0      27.874225                 0   \n",
       "10                -213.40          -40.0      27.874225                 0   \n",
       "...                   ...            ...            ...               ...   \n",
       "310               -213.75          135.0     489.145775                 3   \n",
       "311                213.75          135.0     489.145775                 3   \n",
       "56                -213.75            0.0      80.254225                 2   \n",
       "82                -213.75          135.0     153.538075                 2   \n",
       "258               -213.75         -175.0     443.905775                 2   \n",
       "\n",
       "            opdet_tpc  ophit_opdet  \n",
       "ophit_opch                          \n",
       "6                   0            6  \n",
       "7                   1            7  \n",
       "8                   0            8  \n",
       "9                   1            9  \n",
       "10                  0           10  \n",
       "...               ...          ...  \n",
       "310                 0          310  \n",
       "311                 1          311  \n",
       "56                  0           56  \n",
       "82                  0           82  \n",
       "258                 0          258  \n",
       "\n",
       "[296 rows x 6 columns]"
      ]
     },
     "execution_count": 12,
     "metadata": {},
     "output_type": "execute_result"
    }
   ],
   "source": [
    "pmt_arapuca_info = pd.read_pickle(f'{DATA_DIR}/PMT_ARAPUCA_info.pkl')\n",
    "pmt_arapuca_info"
   ]
  },
  {
   "cell_type": "code",
   "execution_count": 13,
   "metadata": {},
   "outputs": [],
   "source": [
    "def convert_edges_to_centers(edges):\n",
    "  \"\"\"_summary_\n",
    "\n",
    "  Args:\n",
    "      edges (_type_): _description_\n",
    "\n",
    "  Returns:\n",
    "      _type_: _description_\n",
    "  \"\"\"\n",
    "  de = edges[1]-edges[0]\n",
    "  return [e+de/2 for e in edges[:-1]]"
   ]
  },
  {
   "cell_type": "code",
   "execution_count": 14,
   "metadata": {},
   "outputs": [
    {
     "data": {
      "text/plain": [
       "[<matplotlib.lines.Line2D at 0x7f61857a4670>]"
      ]
     },
     "execution_count": 14,
     "metadata": {},
     "output_type": "execute_result"
    },
    {
     "data": {
      "image/png": "[encoded data removed]",
      "text/plain": [
       "<Figure size 432x288 with 1 Axes>"
      ]
     },
     "metadata": {
      "needs_background": "light"
     },
     "output_type": "display_data"
    }
   ],
   "source": [
    "run,subrun,event = 1,445,9\n",
    "pmt_id = 6\n",
    "wtree = uproot.open(f'{DATA_DIR}/waveforms.root')\n",
    "hist_name = f'pmtSoftwareTrigger/run_{run}subrun_{subrun}event_{event}_pmtnum_{pmt_id};1'\n",
    "hist = wtree[hist_name]\n",
    "#help(hist.axis())\n",
    "times = convert_edges_to_centers(hist.to_numpy()[1])\n",
    "voltages = hist.to_numpy()[0]\n",
    "plt.plot(times,voltages)\n",
    "#wtree.keys()\n",
    "#hist.to_numpy()[1][:][-1]\n"
   ]
  },
  {
   "cell_type": "code",
   "execution_count": 15,
   "metadata": {},
   "outputs": [],
   "source": [
    "hdrkeys = ['run','subrun','event']\n",
    "opkeys = [key for key in tree.keys() if 'op' == key[:2]]\n",
    "pmtsoftkeys = [key for key in tree.keys() if 'pmtSoftTrigger' in key]\n",
    "df = tree.arrays(hdrkeys+opkeys,library='pd')\n",
    "#df\n",
    "#opkeys"
   ]
  },
  {
   "cell_type": "code",
   "execution_count": 16,
   "metadata": {},
   "outputs": [],
   "source": [
    "op_evt = df.query(f'run == {run} and subrun == {subrun} and event == {event}')"
   ]
  },
  {
   "cell_type": "code",
   "execution_count": 17,
   "metadata": {},
   "outputs": [
    {
     "data": {
      "text/plain": [
       "Index(['run', 'subrun', 'event', 'ophit_opch', 'ophit_opdet', 'ophit_peakT',\n",
       "       'ophit_width', 'ophit_area', 'ophit_amplitude', 'ophit_pe',\n",
       "       'ophit_opdet_x', 'ophit_opdet_y', 'ophit_opdet_z', 'ophit_opdet_type'],\n",
       "      dtype='object')"
      ]
     },
     "execution_count": 17,
     "metadata": {},
     "output_type": "execute_result"
    }
   ],
   "source": [
    "op_evt.keys()"
   ]
  },
  {
   "cell_type": "code",
   "execution_count": 18,
   "metadata": {},
   "outputs": [],
   "source": [
    "pmt_ids = list(pmt_arapuca_info.query('ophit_opdet_type == 0 or ophit_opdet_type == 1').index)\n",
    "xa_ids = list(pmt_arapuca_info.query('ophit_opdet_type == 2 or ophit_opdet_type == 3').index)\n",
    "pds_ids = list(pmt_arapuca_info.index)"
   ]
  },
  {
   "cell_type": "code",
   "execution_count": 19,
   "metadata": {},
   "outputs": [
    {
     "data": {
      "text/plain": [
       "ophit_opdet_x      -213.400000\n",
       "ophit_opdet_y      -175.000000\n",
       "ophit_opdet_z        27.874225\n",
       "ophit_opdet_type      0.000000\n",
       "opdet_tpc             0.000000\n",
       "ophit_opdet           6.000000\n",
       "Name: 6, dtype: float64"
      ]
     },
     "execution_count": 19,
     "metadata": {},
     "output_type": "execute_result"
    }
   ],
   "source": [
    "pmt_arapuca_info.loc[6]"
   ]
  },
  {
   "cell_type": "code",
   "execution_count": 22,
   "metadata": {},
   "outputs": [
    {
     "name": "stdout",
     "output_type": "stream",
     "text": [
      "pds :  6\n",
      "pds :  7\n",
      "pds :  8\n",
      "pds :  9\n",
      "pds :  10\n",
      "pds :  11\n",
      "pds :  12\n",
      "pds :  13\n",
      "pds :  14\n",
      "pds :  15\n",
      "pds :  16\n",
      "pds :  17\n",
      "pds :  36\n",
      "pds :  37\n",
      "pds :  38\n",
      "pds :  39\n",
      "pds :  40\n",
      "pds :  41\n",
      "pds :  60\n",
      "pds :  61\n",
      "pds :  62\n",
      "pds :  63\n",
      "pds :  64\n",
      "pds :  65\n",
      "pds :  66\n",
      "pds :  67\n",
      "pds :  68\n",
      "pds :  69\n",
      "pds :  70\n",
      "pds :  71\n",
      "pds :  84\n",
      "pds :  85\n",
      "pds :  86\n",
      "pds :  87\n",
      "pds :  88\n",
      "pds :  89\n",
      "pds :  90\n",
      "pds :  91\n",
      "pds :  92\n",
      "pds :  93\n",
      "pds :  94\n",
      "pds :  95\n",
      "pds :  114\n",
      "pds :  115\n",
      "pds :  116\n",
      "pds :  117\n",
      "pds :  118\n",
      "pds :  119\n",
      "pds :  138\n",
      "pds :  139\n",
      "pds :  140\n",
      "pds :  141\n",
      "pds :  142\n",
      "pds :  143\n",
      "pds :  144\n",
      "pds :  145\n",
      "pds :  146\n",
      "pds :  147\n",
      "pds :  148\n",
      "pds :  149\n",
      "pds :  162\n",
      "pds :  163\n",
      "pds :  164\n",
      "pds :  165\n",
      "pds :  166\n",
      "pds :  167\n",
      "pds :  168\n",
      "pds :  169\n",
      "pds :  170\n",
      "pds :  171\n",
      "pds :  172\n",
      "pds :  173\n",
      "pds :  192\n",
      "pds :  193\n",
      "pds :  194\n",
      "pds :  195\n",
      "pds :  196\n",
      "pds :  197\n",
      "pds :  216\n",
      "pds :  217\n",
      "pds :  218\n",
      "pds :  219\n",
      "pds :  220\n",
      "pds :  221\n",
      "pds :  222\n",
      "pds :  223\n",
      "pds :  224\n",
      "pds :  225\n",
      "pds :  226\n",
      "pds :  227\n",
      "pds :  240\n",
      "pds :  241\n",
      "pds :  242\n",
      "pds :  243\n",
      "pds :  244\n",
      "pds :  245\n",
      "pds :  246\n",
      "pds :  247\n",
      "pds :  248\n",
      "pds :  249\n",
      "pds :  250\n",
      "pds :  251\n",
      "pds :  270\n",
      "pds :  271\n",
      "pds :  272\n",
      "pds :  273\n",
      "pds :  274\n",
      "pds :  275\n",
      "pds :  294\n",
      "pds :  295\n",
      "pds :  296\n",
      "pds :  297\n",
      "pds :  298\n",
      "pds :  299\n",
      "pds :  300\n",
      "pds :  301\n",
      "pds :  302\n",
      "pds :  303\n",
      "pds :  304\n",
      "pds :  305\n",
      "pds :  0\n",
      "pds :  1\n",
      "pds :  2\n",
      "pds :  3\n",
      "pds :  4\n",
      "pds :  5\n",
      "pds :  18\n",
      "pds :  19\n",
      "pds :  20\n",
      "pds :  21\n",
      "pds :  22\n",
      "pds :  23\n",
      "pds :  24\n",
      "pds :  25\n",
      "pds :  26\n",
      "pds :  27\n",
      "pds :  28\n",
      "pds :  29\n",
      "pds :  30\n",
      "pds :  31\n",
      "pds :  32\n",
      "pds :  33\n",
      "pds :  34\n",
      "pds :  35\n",
      "pds :  42\n",
      "pds :  43\n",
      "pds :  44\n",
      "pds :  45\n",
      "pds :  46\n",
      "pds :  47\n",
      "pds :  48\n",
      "pds :  49\n",
      "pds :  50\n",
      "pds :  51\n",
      "pds :  52\n",
      "pds :  53\n",
      "pds :  54\n",
      "pds :  55\n",
      "pds :  57\n",
      "pds :  58\n",
      "pds :  59\n",
      "pds :  72\n",
      "pds :  73\n",
      "pds :  74\n",
      "pds :  75\n",
      "pds :  76\n",
      "pds :  77\n",
      "pds :  78\n",
      "pds :  79\n",
      "pds :  80\n",
      "pds :  81\n",
      "pds :  83\n",
      "pds :  96\n",
      "pds :  97\n",
      "pds :  98\n",
      "pds :  99\n",
      "pds :  100\n",
      "pds :  101\n",
      "pds :  102\n",
      "pds :  103\n",
      "pds :  104\n",
      "pds :  105\n",
      "pds :  106\n",
      "pds :  107\n",
      "pds :  108\n",
      "pds :  109\n",
      "pds :  110\n",
      "pds :  111\n",
      "pds :  112\n",
      "pds :  113\n",
      "pds :  120\n",
      "pds :  121\n",
      "pds :  122\n",
      "pds :  123\n",
      "pds :  124\n",
      "pds :  125\n",
      "pds :  126\n",
      "pds :  127\n",
      "pds :  128\n",
      "pds :  129\n",
      "pds :  130\n",
      "pds :  131\n",
      "pds :  132\n",
      "pds :  133\n",
      "pds :  136\n",
      "pds :  137\n",
      "pds :  174\n",
      "pds :  175\n",
      "pds :  178\n",
      "pds :  179\n",
      "pds :  180\n",
      "pds :  181\n",
      "pds :  182\n",
      "pds :  183\n",
      "pds :  184\n",
      "pds :  185\n",
      "pds :  186\n",
      "pds :  187\n",
      "pds :  188\n",
      "pds :  189\n",
      "pds :  190\n",
      "pds :  191\n",
      "pds :  198\n",
      "pds :  199\n",
      "pds :  200\n",
      "pds :  201\n",
      "pds :  202\n",
      "pds :  203\n",
      "pds :  204\n",
      "pds :  205\n",
      "pds :  206\n",
      "pds :  207\n",
      "pds :  208\n",
      "pds :  209\n",
      "pds :  210\n",
      "pds :  211\n",
      "pds :  212\n",
      "pds :  213\n",
      "pds :  214\n",
      "pds :  215\n",
      "pds :  228\n",
      "pds :  229\n",
      "pds :  230\n",
      "pds :  231\n",
      "pds :  232\n",
      "pds :  233\n",
      "pds :  234\n",
      "pds :  235\n",
      "pds :  236\n",
      "pds :  237\n",
      "pds :  238\n",
      "pds :  239\n",
      "pds :  252\n",
      "pds :  253\n",
      "pds :  254\n",
      "pds :  255\n",
      "pds :  256\n",
      "pds :  257\n",
      "pds :  259\n",
      "pds :  260\n",
      "pds :  261\n",
      "pds :  262\n",
      "pds :  263\n",
      "pds :  264\n",
      "pds :  265\n",
      "pds :  266\n",
      "pds :  267\n",
      "pds :  268\n",
      "pds :  269\n",
      "pds :  276\n",
      "pds :  277\n",
      "pds :  278\n",
      "pds :  279\n",
      "pds :  280\n",
      "pds :  281\n",
      "pds :  282\n",
      "pds :  283\n",
      "pds :  284\n",
      "pds :  285\n",
      "pds :  286\n",
      "pds :  287\n",
      "pds :  288\n",
      "pds :  289\n",
      "pds :  290\n",
      "pds :  291\n",
      "pds :  292\n",
      "pds :  293\n",
      "pds :  306\n",
      "pds :  307\n",
      "pds :  308\n",
      "pds :  309\n",
      "pds :  310\n",
      "pds :  311\n",
      "pds :  56\n",
      "pds :  82\n",
      "pds :  258\n"
     ]
    }
   ],
   "source": [
    "from PMT import PMT\n",
    "import numpy as np\n",
    "pmts = [PMT] * (120+192) #120 pmts, 192 X-ARAPUCAs\n",
    "wtree = uproot.open(f'{DATA_DIR}/waveforms.root')\n",
    "\n",
    "for ind,i in enumerate(pds_ids):\n",
    "    print('pds : ',i)\n",
    "    #Meta data\n",
    "    meta = pmt_arapuca_info.loc[i]\n",
    "    pds_location = np.array([meta.ophit_opdet_x,\n",
    "                             meta.ophit_opdet_y,\n",
    "                             meta.ophit_opdet_z])\n",
    "    pds_coating = meta.ophit_opdet_type\n",
    "    pds_tpc = meta.opdet_tpc\n",
    "    \n",
    "    #Get op info\n",
    "    op_df = op_evt[op_evt.ophit_opch == i]\n",
    "    op_times = op_df.ophit_peakT.values\n",
    "    op_pes = op_df.ophit_pe.values\n",
    "    pds_op_pe = {'op_time': op_times, 'op_pe': op_pes}\n",
    "    pds_location\n",
    "    \n",
    "    if i in pmt_ids:\n",
    "        #Get waveform info\n",
    "        hist_name = f'pmtSoftwareTrigger/run_{run}subrun_{subrun}event_{event}_pmtnum_{pmt_id};1'\n",
    "        hist = wtree[hist_name]\n",
    "        times = convert_edges_to_centers(hist.to_numpy()[1])\n",
    "        voltages = hist.to_numpy()[0]\n",
    "        pmt_waveform = {'time': times, 'voltage': voltages}\n",
    "    else:\n",
    "        pmt_waveform = None\n",
    "    \n",
    "    pmts[ind] = PMT(i, pds_coating, pds_tpc, pds_location, pmt_waveform, pds_op_pe)"
   ]
  },
  {
   "cell_type": "code",
   "execution_count": null,
   "metadata": {},
   "outputs": [],
   "source": []
  }
 ],
 "metadata": {
  "kernelspec": {
   "display_name": "Python 3",
   "language": "python",
   "name": "python3"
  },
  "language_info": {
   "codemirror_mode": {
    "name": "ipython",
    "version": 3
   },
   "file_extension": ".py",
   "mimetype": "text/x-python",
   "name": "python",
   "nbconvert_exporter": "python",
   "pygments_lexer": "ipython3",
   "version": "3.9.10"
  },
  "orig_nbformat": 4
 },
 "nbformat": 4,
 "nbformat_minor": 2
}
